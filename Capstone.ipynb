{
  "cells": [
    {
      "cell_type": "markdown",
      "metadata": {
        "id": "view-in-github",
        "colab_type": "text"
      },
      "source": [
        "<a href=\"https://colab.research.google.com/github/talathkhaleel1/learning/blob/main/Capstone.ipynb\" target=\"_parent\"><img src=\"https://colab.research.google.com/assets/colab-badge.svg\" alt=\"Open In Colab\"/></a>"
      ]
    },
    {
      "cell_type": "markdown",
      "metadata": {
        "id": "6aLbkKYASzF1"
      },
      "source": [
        "#Introduction\n",
        "\n",
        "Soil Moisture, which indicates the amount of water in the soil, is one of the most important crop irrigation parameters. In terms of water usage optimization and crop yield, estimating future soil moisture is an essentially valuable for crop irrigation. As a result, farmers can base crop irrigation decisions on this parameter. Sensors can be used to estimate this value in real time, which may assist farmers in deciding whether or not to irrigate the land. The soil moisture value provided by the sensors, on the other hand, is instantaneous and cannot be used to directly decide the best timing of irrigation or the water quantity required to irrigate.\n",
        "\n",
        "The soil moisture value can, in fact, vary greatly depending on multiple factors such as humidity, weather conditions, temperature and even the duration of the day. Using machine learning methods, these parameters can be used to predict soil moisture levels in the near future. Also this may help to develop an automated water irrigation management system that uses a variety of technologies and tools to aid farmers’ decision-making and automate the water management process.\n",
        "\n",
        "The massive amounts of data that are frequently generated and saved via devices must be efficiently analyzed to help as a decision support mechanism. Machine learning methods such as Artificial Neural Networks (ANN), Recurrent Neural Networks(RNN) and Convolutional Neural Networks(CNN) can be used for this purpose and to allow for automation techniques in the agricultural domain.\n",
        "\n",
        "The following project is a predictive analysis report of moisture level adopting RNN method of Long-Short Term Memory (LSTM) to build a model to forecast soil moisture values as a potential solution. This forecast is based on the data shared by the university on soil and weather conditions and variables in the German city of Munster. Data for 20 years (from 1 January 1991 - 31 December 2021) has been shared. We are following the steps stated below in building this model:\n",
        "\n",
        "- We would begin by reading data and exploring the same. We shall look into some basic and statistical descriptives of the data as well.\n",
        "- We then proceed to pre-process data and make it compatible in accordance with the objective of the project.\n",
        "- Once data is pre-processed we would prepare the data my managing the trends and seasonality in data. Post this, we would divide data into training dataset, validation dataset and test dataset. We would also standardise data so that it is on a uniform scale of measurement, thus making things simpler.\n",
        "- Once all the above steps are done we proceed building the model. We shall look into one classical machine learning model of ARIMA succeeded by neural network models of RNN(SimpleRNN) and model will ultimately be built and executed on LSTM method of RNN.\n"
      ]
    },
    {
      "cell_type": "markdown",
      "metadata": {
        "id": "liRHktqCXrat"
      },
      "source": [
        "# 1. Getting and comprehending data"
      ]
    },
    {
      "cell_type": "code",
      "execution_count": null,
      "metadata": {
        "colab": {
          "base_uri": "https://localhost:8080/"
        },
        "id": "lVicGSa3vY0N",
        "outputId": "735c2cd2-c0cc-4255-badc-a1fbee195572"
      },
      "outputs": [
        {
          "output_type": "stream",
          "name": "stdout",
          "text": [
            "--2022-05-18 17:02:39--  https://drive.google.com/uc?export=download&id=173tvWt-qPyAqZJc1KoBiUHgoSg6nLUtT\n",
            "Resolving drive.google.com (drive.google.com)... 142.251.8.102, 142.251.8.138, 142.251.8.139, ...\n",
            "Connecting to drive.google.com (drive.google.com)|142.251.8.102|:443... connected.\n",
            "HTTP request sent, awaiting response... 303 See Other\n",
            "Location: https://doc-0s-3c-docs.googleusercontent.com/docs/securesc/ha0ro937gcuc7l7deffksulhg5h7mbp1/0f5fi4t3qlua37jk39r1nqjpqnjl928u/1652893350000/11121686744502963554/*/173tvWt-qPyAqZJc1KoBiUHgoSg6nLUtT?e=download [following]\n",
            "Warning: wildcards not supported in HTTP.\n",
            "--2022-05-18 17:02:40--  https://doc-0s-3c-docs.googleusercontent.com/docs/securesc/ha0ro937gcuc7l7deffksulhg5h7mbp1/0f5fi4t3qlua37jk39r1nqjpqnjl928u/1652893350000/11121686744502963554/*/173tvWt-qPyAqZJc1KoBiUHgoSg6nLUtT?e=download\n",
            "Resolving doc-0s-3c-docs.googleusercontent.com (doc-0s-3c-docs.googleusercontent.com)... 74.125.203.132, 2404:6800:4008:c03::84\n",
            "Connecting to doc-0s-3c-docs.googleusercontent.com (doc-0s-3c-docs.googleusercontent.com)|74.125.203.132|:443... connected.\n",
            "HTTP request sent, awaiting response... 200 OK\n",
            "Length: 1756119 (1.7M) [text/csv]\n",
            "Saving to: ‘soil_and_weather_of_munster’\n",
            "\n",
            "soil_and_weather_of 100%[===================>]   1.67M  --.-KB/s    in 0.02s   \n",
            "\n",
            "2022-05-18 17:02:40 (106 MB/s) - ‘soil_and_weather_of_munster’ saved [1756119/1756119]\n",
            "\n"
          ]
        }
      ],
      "source": [
        "!wget \"https://drive.google.com/uc?export=download&id=173tvWt-qPyAqZJc1KoBiUHgoSg6nLUtT\" -O \"soil_and_weather_of_munster\""
      ]
    },
    {
      "cell_type": "markdown",
      "metadata": {
        "id": "4owc9b3TZGHb"
      },
      "source": [
        "**Importing required libraries**\n"
      ]
    },
    {
      "cell_type": "code",
      "execution_count": null,
      "metadata": {
        "id": "7R50qoOcZQFh"
      },
      "outputs": [],
      "source": [
        "import numpy as np\n",
        "import pandas as pd\n",
        "from matplotlib import pyplot as plt\n",
        "from datetime import datetime\n",
        "import tensorflow as tf"
      ]
    },
    {
      "cell_type": "markdown",
      "metadata": {
        "id": "8OOyydxtYDEq"
      },
      "source": [
        "**Reading the file and having a glimpse of data**\n",
        "\n",
        "Read and save database in a variable for further use. We will read the file using the pandas `pd.read_csv` format. This will help have large amount of data in consise and tabular format. The pandas library will convert tabular data into a dataframe which facilitates usage as we progress.\n",
        "\n",
        "\n",
        "\n",
        "\n",
        "\n"
      ]
    },
    {
      "cell_type": "code",
      "execution_count": null,
      "metadata": {
        "id": "4rsDf0gsYkKH"
      },
      "outputs": [],
      "source": [
        "soil_weather_df = pd.read_csv(\"soil_and_weather_of_munster\")"
      ]
    },
    {
      "cell_type": "markdown",
      "metadata": {
        "id": "prNpxojBOrO7"
      },
      "source": [
        "2. Make a deep copy of this original dataframe and save it as backup(just in case)\n",
        "`df_name = original_df.copy(deep = True)`\n",
        "The copy is made for a just in case use - in case we mess up with original data. A deep copy of the same is made so that we have a new object created which is exactlty the same as original. Also any modifications to the copy will not modify data in the original dataset.\n",
        "\n",
        "df: abbrevation is used to indicate dataframe throughout the project.\n"
      ]
    },
    {
      "cell_type": "code",
      "execution_count": null,
      "metadata": {
        "id": "cKSp1OzFcz5j"
      },
      "outputs": [],
      "source": [
        "soil_weather_df_backup = soil_weather_df.copy(deep = True)"
      ]
    },
    {
      "cell_type": "markdown",
      "metadata": {
        "id": "jIdQiYJMQ5IG"
      },
      "source": [
        "2. Glancing through the data\n",
        "\n",
        "  We need to have a look at the contents of the data. General visibility of data helps in better comprehension of the data, its basic contents such as indexes (row labels) and features (column names). This also gives us a feel on contents of data and is also a pre-requisite for exploratory data analysis (EDA)."
      ]
    },
    {
      "cell_type": "code",
      "execution_count": null,
      "metadata": {
        "colab": {
          "base_uri": "https://localhost:8080/",
          "height": 424
        },
        "id": "Vycdw1RzYB48",
        "outputId": "1a599d17-6b65-4bd0-e283-3e07de6ba291"
      },
      "outputs": [
        {
          "output_type": "execute_result",
          "data": {
            "text/plain": [
              "                     DATUM  STATIONS_ID  QN_4  TT_TER  RF_TER  VGSL  TS05  \\\n",
              "0      1991-01-01 07:00:00         1766    10     3.0    91.0   0.3   2.9   \n",
              "1      1991-01-01 14:00:00         1766    10     4.8    85.0   0.3   2.9   \n",
              "2      1991-01-01 21:00:00         1766    10     3.9    82.0   0.3   2.9   \n",
              "3      1991-01-02 07:00:00         1766    10     5.6    94.0   1.4   6.3   \n",
              "4      1991-01-02 14:00:00         1766    10    11.0    87.0   1.4   6.3   \n",
              "...                    ...          ...   ...     ...     ...   ...   ...   \n",
              "35667  2021-12-30 00:00:00         1766     1    11.6    90.0   0.8   9.4   \n",
              "35668  2021-12-30 06:00:00         1766     1    11.1    98.0   0.8   9.4   \n",
              "35669  2021-12-30 12:00:00         1766     1    14.3    83.0   0.8   9.4   \n",
              "35670  2021-12-30 18:00:00         1766     1    13.5    90.0   0.8   9.4   \n",
              "35671  2021-12-31 00:00:00         1766     1    13.8    83.0   0.8  10.5   \n",
              "\n",
              "       BF10  \n",
              "0       102  \n",
              "1       102  \n",
              "2       102  \n",
              "3       110  \n",
              "4       110  \n",
              "...     ...  \n",
              "35667   104  \n",
              "35668   104  \n",
              "35669   104  \n",
              "35670   104  \n",
              "35671   101  \n",
              "\n",
              "[35672 rows x 8 columns]"
            ],
            "text/html": [
              "\n",
              "  <div id=\"df-27958d2f-1314-4316-ba64-e9784fae37f3\">\n",
              "    <div class=\"colab-df-container\">\n",
              "      <div>\n",
              "<style scoped>\n",
              "    .dataframe tbody tr th:only-of-type {\n",
              "        vertical-align: middle;\n",
              "    }\n",
              "\n",
              "    .dataframe tbody tr th {\n",
              "        vertical-align: top;\n",
              "    }\n",
              "\n",
              "    .dataframe thead th {\n",
              "        text-align: right;\n",
              "    }\n",
              "</style>\n",
              "<table border=\"1\" class=\"dataframe\">\n",
              "  <thead>\n",
              "    <tr style=\"text-align: right;\">\n",
              "      <th></th>\n",
              "      <th>DATUM</th>\n",
              "      <th>STATIONS_ID</th>\n",
              "      <th>QN_4</th>\n",
              "      <th>TT_TER</th>\n",
              "      <th>RF_TER</th>\n",
              "      <th>VGSL</th>\n",
              "      <th>TS05</th>\n",
              "      <th>BF10</th>\n",
              "    </tr>\n",
              "  </thead>\n",
              "  <tbody>\n",
              "    <tr>\n",
              "      <th>0</th>\n",
              "      <td>1991-01-01 07:00:00</td>\n",
              "      <td>1766</td>\n",
              "      <td>10</td>\n",
              "      <td>3.0</td>\n",
              "      <td>91.0</td>\n",
              "      <td>0.3</td>\n",
              "      <td>2.9</td>\n",
              "      <td>102</td>\n",
              "    </tr>\n",
              "    <tr>\n",
              "      <th>1</th>\n",
              "      <td>1991-01-01 14:00:00</td>\n",
              "      <td>1766</td>\n",
              "      <td>10</td>\n",
              "      <td>4.8</td>\n",
              "      <td>85.0</td>\n",
              "      <td>0.3</td>\n",
              "      <td>2.9</td>\n",
              "      <td>102</td>\n",
              "    </tr>\n",
              "    <tr>\n",
              "      <th>2</th>\n",
              "      <td>1991-01-01 21:00:00</td>\n",
              "      <td>1766</td>\n",
              "      <td>10</td>\n",
              "      <td>3.9</td>\n",
              "      <td>82.0</td>\n",
              "      <td>0.3</td>\n",
              "      <td>2.9</td>\n",
              "      <td>102</td>\n",
              "    </tr>\n",
              "    <tr>\n",
              "      <th>3</th>\n",
              "      <td>1991-01-02 07:00:00</td>\n",
              "      <td>1766</td>\n",
              "      <td>10</td>\n",
              "      <td>5.6</td>\n",
              "      <td>94.0</td>\n",
              "      <td>1.4</td>\n",
              "      <td>6.3</td>\n",
              "      <td>110</td>\n",
              "    </tr>\n",
              "    <tr>\n",
              "      <th>4</th>\n",
              "      <td>1991-01-02 14:00:00</td>\n",
              "      <td>1766</td>\n",
              "      <td>10</td>\n",
              "      <td>11.0</td>\n",
              "      <td>87.0</td>\n",
              "      <td>1.4</td>\n",
              "      <td>6.3</td>\n",
              "      <td>110</td>\n",
              "    </tr>\n",
              "    <tr>\n",
              "      <th>...</th>\n",
              "      <td>...</td>\n",
              "      <td>...</td>\n",
              "      <td>...</td>\n",
              "      <td>...</td>\n",
              "      <td>...</td>\n",
              "      <td>...</td>\n",
              "      <td>...</td>\n",
              "      <td>...</td>\n",
              "    </tr>\n",
              "    <tr>\n",
              "      <th>35667</th>\n",
              "      <td>2021-12-30 00:00:00</td>\n",
              "      <td>1766</td>\n",
              "      <td>1</td>\n",
              "      <td>11.6</td>\n",
              "      <td>90.0</td>\n",
              "      <td>0.8</td>\n",
              "      <td>9.4</td>\n",
              "      <td>104</td>\n",
              "    </tr>\n",
              "    <tr>\n",
              "      <th>35668</th>\n",
              "      <td>2021-12-30 06:00:00</td>\n",
              "      <td>1766</td>\n",
              "      <td>1</td>\n",
              "      <td>11.1</td>\n",
              "      <td>98.0</td>\n",
              "      <td>0.8</td>\n",
              "      <td>9.4</td>\n",
              "      <td>104</td>\n",
              "    </tr>\n",
              "    <tr>\n",
              "      <th>35669</th>\n",
              "      <td>2021-12-30 12:00:00</td>\n",
              "      <td>1766</td>\n",
              "      <td>1</td>\n",
              "      <td>14.3</td>\n",
              "      <td>83.0</td>\n",
              "      <td>0.8</td>\n",
              "      <td>9.4</td>\n",
              "      <td>104</td>\n",
              "    </tr>\n",
              "    <tr>\n",
              "      <th>35670</th>\n",
              "      <td>2021-12-30 18:00:00</td>\n",
              "      <td>1766</td>\n",
              "      <td>1</td>\n",
              "      <td>13.5</td>\n",
              "      <td>90.0</td>\n",
              "      <td>0.8</td>\n",
              "      <td>9.4</td>\n",
              "      <td>104</td>\n",
              "    </tr>\n",
              "    <tr>\n",
              "      <th>35671</th>\n",
              "      <td>2021-12-31 00:00:00</td>\n",
              "      <td>1766</td>\n",
              "      <td>1</td>\n",
              "      <td>13.8</td>\n",
              "      <td>83.0</td>\n",
              "      <td>0.8</td>\n",
              "      <td>10.5</td>\n",
              "      <td>101</td>\n",
              "    </tr>\n",
              "  </tbody>\n",
              "</table>\n",
              "<p>35672 rows × 8 columns</p>\n",
              "</div>\n",
              "      <button class=\"colab-df-convert\" onclick=\"convertToInteractive('df-27958d2f-1314-4316-ba64-e9784fae37f3')\"\n",
              "              title=\"Convert this dataframe to an interactive table.\"\n",
              "              style=\"display:none;\">\n",
              "        \n",
              "  <svg xmlns=\"http://www.w3.org/2000/svg\" height=\"24px\"viewBox=\"0 0 24 24\"\n",
              "       width=\"24px\">\n",
              "    <path d=\"M0 0h24v24H0V0z\" fill=\"none\"/>\n",
              "    <path d=\"M18.56 5.44l.94 2.06.94-2.06 2.06-.94-2.06-.94-.94-2.06-.94 2.06-2.06.94zm-11 1L8.5 8.5l.94-2.06 2.06-.94-2.06-.94L8.5 2.5l-.94 2.06-2.06.94zm10 10l.94 2.06.94-2.06 2.06-.94-2.06-.94-.94-2.06-.94 2.06-2.06.94z\"/><path d=\"M17.41 7.96l-1.37-1.37c-.4-.4-.92-.59-1.43-.59-.52 0-1.04.2-1.43.59L10.3 9.45l-7.72 7.72c-.78.78-.78 2.05 0 2.83L4 21.41c.39.39.9.59 1.41.59.51 0 1.02-.2 1.41-.59l7.78-7.78 2.81-2.81c.8-.78.8-2.07 0-2.86zM5.41 20L4 18.59l7.72-7.72 1.47 1.35L5.41 20z\"/>\n",
              "  </svg>\n",
              "      </button>\n",
              "      \n",
              "  <style>\n",
              "    .colab-df-container {\n",
              "      display:flex;\n",
              "      flex-wrap:wrap;\n",
              "      gap: 12px;\n",
              "    }\n",
              "\n",
              "    .colab-df-convert {\n",
              "      background-color: #E8F0FE;\n",
              "      border: none;\n",
              "      border-radius: 50%;\n",
              "      cursor: pointer;\n",
              "      display: none;\n",
              "      fill: #1967D2;\n",
              "      height: 32px;\n",
              "      padding: 0 0 0 0;\n",
              "      width: 32px;\n",
              "    }\n",
              "\n",
              "    .colab-df-convert:hover {\n",
              "      background-color: #E2EBFA;\n",
              "      box-shadow: 0px 1px 2px rgba(60, 64, 67, 0.3), 0px 1px 3px 1px rgba(60, 64, 67, 0.15);\n",
              "      fill: #174EA6;\n",
              "    }\n",
              "\n",
              "    [theme=dark] .colab-df-convert {\n",
              "      background-color: #3B4455;\n",
              "      fill: #D2E3FC;\n",
              "    }\n",
              "\n",
              "    [theme=dark] .colab-df-convert:hover {\n",
              "      background-color: #434B5C;\n",
              "      box-shadow: 0px 1px 3px 1px rgba(0, 0, 0, 0.15);\n",
              "      filter: drop-shadow(0px 1px 2px rgba(0, 0, 0, 0.3));\n",
              "      fill: #FFFFFF;\n",
              "    }\n",
              "  </style>\n",
              "\n",
              "      <script>\n",
              "        const buttonEl =\n",
              "          document.querySelector('#df-27958d2f-1314-4316-ba64-e9784fae37f3 button.colab-df-convert');\n",
              "        buttonEl.style.display =\n",
              "          google.colab.kernel.accessAllowed ? 'block' : 'none';\n",
              "\n",
              "        async function convertToInteractive(key) {\n",
              "          const element = document.querySelector('#df-27958d2f-1314-4316-ba64-e9784fae37f3');\n",
              "          const dataTable =\n",
              "            await google.colab.kernel.invokeFunction('convertToInteractive',\n",
              "                                                     [key], {});\n",
              "          if (!dataTable) return;\n",
              "\n",
              "          const docLinkHtml = 'Like what you see? Visit the ' +\n",
              "            '<a target=\"_blank\" href=https://colab.research.google.com/notebooks/data_table.ipynb>data table notebook</a>'\n",
              "            + ' to learn more about interactive tables.';\n",
              "          element.innerHTML = '';\n",
              "          dataTable['output_type'] = 'display_data';\n",
              "          await google.colab.output.renderOutput(dataTable, element);\n",
              "          const docLink = document.createElement('div');\n",
              "          docLink.innerHTML = docLinkHtml;\n",
              "          element.appendChild(docLink);\n",
              "        }\n",
              "      </script>\n",
              "    </div>\n",
              "  </div>\n",
              "  "
            ]
          },
          "metadata": {},
          "execution_count": 5
        }
      ],
      "source": [
        "soil_weather_df"
      ]
    },
    {
      "cell_type": "markdown",
      "metadata": {
        "id": "H_R2EDh_SR7B"
      },
      "source": [
        "# Exploratory Data Analysis (EDA)\n",
        "\n",
        "###**Exploring data**"
      ]
    },
    {
      "cell_type": "markdown",
      "metadata": {
        "id": "V96XhhMYSX1R"
      },
      "source": [
        "Exploring data facilitates understanding of the structure of the dataset, the variables - its values, indexes, the relationships between the variables and many more revelations of the data.\n",
        "\n",
        "Statistical approach is adopted in most cases to conduct an EDA. This helps in arriving at meaningful conclusions about the data with databack up as proof.\n",
        "\n",
        "As we proceed we shall see some exploratory data analysis (EDA) tools.\n",
        "\n",
        "(Ref:https://www.datacamp.com/community/tutorials/python-data-profiling?utm_source=adwords_ppc&utm_medium=cpc&utm_campaignid=1455363063&utm_adgroupid=65083631748&utm_device=c&utm_keyword=&utm_matchtype=&utm_network=g&utm_adpostion=&utm_creative=278443377095&utm_targetid=aud-299261629574:dsa-429603003980&utm_loc_interest_ms=&utm_loc_physical_ms=1007633&gclid=CjwKCAjwur-SBhB6EiwA5sKtjjI6c4o8kYtFnRM-Mz03cRKDtjNYMuVlP8eQYtF0-WxpIc3DGKFxVhoC1SIQAvD_BwE)"
      ]
    },
    {
      "cell_type": "markdown",
      "metadata": {
        "id": "-cStwSACVSuy"
      },
      "source": [
        "###**1. Data profiling**\n",
        "\n",
        "Here one should try to understand what is the data is related to, for example, students academic records, climate change related issues, recorded temperatures over a time span, etc. One may also inspect the source, in case of legal concerns or declarations or to know the authenticity of the data.\n",
        "\n",
        "To summarise, under data profiling, one gets the feel of what the data is all about. By data profiling we can conclude if the dataset is sufficient to help attain the objective of the business model we are expected to prepare. Any additional information can be obtained and appended if required.\n",
        "\n",
        "Example: In this dataset, a time series data is provided and the objective is also to forcast a value 30 days in advance. **Time-series data : forecast of a value 30 days in advance** seems logical.\n",
        "\n",
        "Also the background information shared provides us certain details in explicit form and enables better comprehension of the dataset."
      ]
    },
    {
      "cell_type": "markdown",
      "metadata": {
        "id": "fpLYVHu8fLmV"
      },
      "source": [
        "###**2. Checking DataTypes**\n",
        "\n",
        "In order to understand the composition of our dataset it is important we inspect the datatypes available in the data. Which of the features are integers, strings/objects, float, datetime, etc.\n",
        "We can do so by using `df.dtypes` or `df.info()`. These in-built function returns the label name and their corresponding datatypes - just as shown below. However, the later function gives a more comprehensive outcome.\n",
        "Viewing this helps us to the next step of data cleaning  and preparation for further progression."
      ]
    },
    {
      "cell_type": "code",
      "execution_count": null,
      "metadata": {
        "colab": {
          "base_uri": "https://localhost:8080/"
        },
        "id": "wT-qL447gqWC",
        "outputId": "83fd2e2d-5411-4c9d-94ec-b4caa9f0d1af"
      },
      "outputs": [
        {
          "output_type": "execute_result",
          "data": {
            "text/plain": [
              "DATUM           object\n",
              "STATIONS_ID      int64\n",
              "QN_4             int64\n",
              "TT_TER         float64\n",
              "RF_TER         float64\n",
              "VGSL           float64\n",
              "TS05           float64\n",
              "BF10             int64\n",
              "dtype: object"
            ]
          },
          "metadata": {},
          "execution_count": 6
        }
      ],
      "source": [
        "soil_weather_df.dtypes"
      ]
    },
    {
      "cell_type": "code",
      "execution_count": null,
      "metadata": {
        "colab": {
          "base_uri": "https://localhost:8080/"
        },
        "id": "JetdWNVoZD9D",
        "outputId": "0b23f08c-cfdb-4318-b666-2206b85c591d"
      },
      "outputs": [
        {
          "output_type": "stream",
          "name": "stdout",
          "text": [
            "<class 'pandas.core.frame.DataFrame'>\n",
            "RangeIndex: 35672 entries, 0 to 35671\n",
            "Data columns (total 8 columns):\n",
            " #   Column       Non-Null Count  Dtype  \n",
            "---  ------       --------------  -----  \n",
            " 0   DATUM        35672 non-null  object \n",
            " 1   STATIONS_ID  35672 non-null  int64  \n",
            " 2   QN_4         35672 non-null  int64  \n",
            " 3   TT_TER       35672 non-null  float64\n",
            " 4   RF_TER       35672 non-null  float64\n",
            " 5   VGSL         35672 non-null  float64\n",
            " 6   TS05         35672 non-null  float64\n",
            " 7   BF10         35672 non-null  int64  \n",
            "dtypes: float64(4), int64(3), object(1)\n",
            "memory usage: 2.2+ MB\n"
          ]
        }
      ],
      "source": [
        "soil_weather_df.info()"
      ]
    },
    {
      "cell_type": "markdown",
      "metadata": {
        "id": "F-8UZ_wfQ66l"
      },
      "source": [
        "###**3.Checking basic descriptives**\n",
        "\n",
        "- **Length** : One needs to check general data descriptives such as length of the samples or observations and that of the features. To know this we can use `.shape` . The first value returned is the length of index and the second is length of variables.\n",
        "\n",
        "- **Count** : One may use `.count` to know the number of non-null or non-NA values in the various variables of the dataset.\n",
        "\n",
        "- **Missing values** : One can call the in-built `df.isnull` which returns Boolean value specifying if data contains a null value or no. But this would be  a broader picture. It is much better to know the number of null or NaN values. This will help us know what impact any action taken will have of the dataset. To know this one may call`df.isnull().sum()`. This will give us feature-wise count of the total null or Nan values in the dataframe.\n",
        "\n"
      ]
    },
    {
      "cell_type": "code",
      "execution_count": null,
      "metadata": {
        "colab": {
          "base_uri": "https://localhost:8080/"
        },
        "id": "0S56U9hvYzha",
        "outputId": "f4fbd5ad-467a-4852-8d94-ccfe7f64b599"
      },
      "outputs": [
        {
          "output_type": "execute_result",
          "data": {
            "text/plain": [
              "(35672, 8)"
            ]
          },
          "metadata": {},
          "execution_count": 8
        }
      ],
      "source": [
        "soil_weather_df.shape"
      ]
    },
    {
      "cell_type": "code",
      "execution_count": null,
      "metadata": {
        "colab": {
          "base_uri": "https://localhost:8080/"
        },
        "id": "Q4VBprIOZht6",
        "outputId": "a7c04492-ca20-48a6-9ebf-f0d1b95132bc"
      },
      "outputs": [
        {
          "output_type": "execute_result",
          "data": {
            "text/plain": [
              "DATUM          35672\n",
              "STATIONS_ID    35672\n",
              "QN_4           35672\n",
              "TT_TER         35672\n",
              "RF_TER         35672\n",
              "VGSL           35672\n",
              "TS05           35672\n",
              "BF10           35672\n",
              "dtype: int64"
            ]
          },
          "metadata": {},
          "execution_count": 9
        }
      ],
      "source": [
        "soil_weather_df.count()"
      ]
    },
    {
      "cell_type": "code",
      "execution_count": null,
      "metadata": {
        "colab": {
          "base_uri": "https://localhost:8080/"
        },
        "id": "LZyua-srZvBy",
        "outputId": "e94b2c8e-540d-4c1e-817a-374ecf4537ff"
      },
      "outputs": [
        {
          "output_type": "execute_result",
          "data": {
            "text/plain": [
              "DATUM          0\n",
              "STATIONS_ID    0\n",
              "QN_4           0\n",
              "TT_TER         0\n",
              "RF_TER         0\n",
              "VGSL           0\n",
              "TS05           0\n",
              "BF10           0\n",
              "dtype: int64"
            ]
          },
          "metadata": {},
          "execution_count": 10
        }
      ],
      "source": [
        "soil_weather_df.isnull().sum()"
      ]
    },
    {
      "cell_type": "markdown",
      "metadata": {
        "id": "NpqrNtxAZ-dY"
      },
      "source": [
        "###**4. Glancing through statistical descriptives**\n",
        "\n",
        "It is extremely important to know the statistical descriptives of a given dataset. On may use `df.describe()` to know the statistical descriptions of the data. This returns basic statistical figures for each variable.\n",
        "\n",
        "- **Min-Max** values help us know the range of the dataset.\n",
        "- **Mean** lets us know the value around which most observations have been recorded.\n",
        "- **Median** states the mid-value as well as the 50th percentile of the dataset.\n",
        "- **Mode** gives us information on the value which has maximum frequency of being occured in the observation\n",
        "- **Standard Deviation (std)** states the deviation of values from the mean value in the respective features.\n",
        "- **Percentiles**. 25th and 75th percentile figures are also specified, which are of immense help in deriving conclusions and decision-making.\n"
      ]
    },
    {
      "cell_type": "code",
      "execution_count": null,
      "metadata": {
        "colab": {
          "base_uri": "https://localhost:8080/",
          "height": 300
        },
        "id": "g1LYedlsbdcq",
        "outputId": "5f996bce-15ec-4909-e9ba-36b07054c47b"
      },
      "outputs": [
        {
          "output_type": "execute_result",
          "data": {
            "text/plain": [
              "       STATIONS_ID          QN_4        TT_TER        RF_TER          VGSL  \\\n",
              "count      35672.0  35672.000000  35672.000000  35672.000000  35672.000000   \n",
              "mean        1766.0      8.641540     10.755136     76.796675      1.236676   \n",
              "std            0.0      2.772131      7.591943     18.688003      0.978120   \n",
              "min         1766.0      1.000000    -21.300000   -999.000000      0.000000   \n",
              "25%         1766.0     10.000000      5.200000     65.000000      0.500000   \n",
              "50%         1766.0     10.000000     10.600000     81.000000      1.000000   \n",
              "75%         1766.0     10.000000     16.100000     91.000000      1.800000   \n",
              "max         1766.0     10.000000     37.700000    100.000000      6.300000   \n",
              "\n",
              "               TS05          BF10  \n",
              "count  35672.000000  35672.000000  \n",
              "mean      11.096577     70.367739  \n",
              "std        7.684733     37.325784  \n",
              "min       -8.000000      0.000000  \n",
              "25%        4.600000     40.000000  \n",
              "50%       10.900000     87.000000  \n",
              "75%       17.500000    102.000000  \n",
              "max       29.200000    111.000000  "
            ],
            "text/html": [
              "\n",
              "  <div id=\"df-98a6052b-83f9-4037-8f7b-909ed33b623e\">\n",
              "    <div class=\"colab-df-container\">\n",
              "      <div>\n",
              "<style scoped>\n",
              "    .dataframe tbody tr th:only-of-type {\n",
              "        vertical-align: middle;\n",
              "    }\n",
              "\n",
              "    .dataframe tbody tr th {\n",
              "        vertical-align: top;\n",
              "    }\n",
              "\n",
              "    .dataframe thead th {\n",
              "        text-align: right;\n",
              "    }\n",
              "</style>\n",
              "<table border=\"1\" class=\"dataframe\">\n",
              "  <thead>\n",
              "    <tr style=\"text-align: right;\">\n",
              "      <th></th>\n",
              "      <th>STATIONS_ID</th>\n",
              "      <th>QN_4</th>\n",
              "      <th>TT_TER</th>\n",
              "      <th>RF_TER</th>\n",
              "      <th>VGSL</th>\n",
              "      <th>TS05</th>\n",
              "      <th>BF10</th>\n",
              "    </tr>\n",
              "  </thead>\n",
              "  <tbody>\n",
              "    <tr>\n",
              "      <th>count</th>\n",
              "      <td>35672.0</td>\n",
              "      <td>35672.000000</td>\n",
              "      <td>35672.000000</td>\n",
              "      <td>35672.000000</td>\n",
              "      <td>35672.000000</td>\n",
              "      <td>35672.000000</td>\n",
              "      <td>35672.000000</td>\n",
              "    </tr>\n",
              "    <tr>\n",
              "      <th>mean</th>\n",
              "      <td>1766.0</td>\n",
              "      <td>8.641540</td>\n",
              "      <td>10.755136</td>\n",
              "      <td>76.796675</td>\n",
              "      <td>1.236676</td>\n",
              "      <td>11.096577</td>\n",
              "      <td>70.367739</td>\n",
              "    </tr>\n",
              "    <tr>\n",
              "      <th>std</th>\n",
              "      <td>0.0</td>\n",
              "      <td>2.772131</td>\n",
              "      <td>7.591943</td>\n",
              "      <td>18.688003</td>\n",
              "      <td>0.978120</td>\n",
              "      <td>7.684733</td>\n",
              "      <td>37.325784</td>\n",
              "    </tr>\n",
              "    <tr>\n",
              "      <th>min</th>\n",
              "      <td>1766.0</td>\n",
              "      <td>1.000000</td>\n",
              "      <td>-21.300000</td>\n",
              "      <td>-999.000000</td>\n",
              "      <td>0.000000</td>\n",
              "      <td>-8.000000</td>\n",
              "      <td>0.000000</td>\n",
              "    </tr>\n",
              "    <tr>\n",
              "      <th>25%</th>\n",
              "      <td>1766.0</td>\n",
              "      <td>10.000000</td>\n",
              "      <td>5.200000</td>\n",
              "      <td>65.000000</td>\n",
              "      <td>0.500000</td>\n",
              "      <td>4.600000</td>\n",
              "      <td>40.000000</td>\n",
              "    </tr>\n",
              "    <tr>\n",
              "      <th>50%</th>\n",
              "      <td>1766.0</td>\n",
              "      <td>10.000000</td>\n",
              "      <td>10.600000</td>\n",
              "      <td>81.000000</td>\n",
              "      <td>1.000000</td>\n",
              "      <td>10.900000</td>\n",
              "      <td>87.000000</td>\n",
              "    </tr>\n",
              "    <tr>\n",
              "      <th>75%</th>\n",
              "      <td>1766.0</td>\n",
              "      <td>10.000000</td>\n",
              "      <td>16.100000</td>\n",
              "      <td>91.000000</td>\n",
              "      <td>1.800000</td>\n",
              "      <td>17.500000</td>\n",
              "      <td>102.000000</td>\n",
              "    </tr>\n",
              "    <tr>\n",
              "      <th>max</th>\n",
              "      <td>1766.0</td>\n",
              "      <td>10.000000</td>\n",
              "      <td>37.700000</td>\n",
              "      <td>100.000000</td>\n",
              "      <td>6.300000</td>\n",
              "      <td>29.200000</td>\n",
              "      <td>111.000000</td>\n",
              "    </tr>\n",
              "  </tbody>\n",
              "</table>\n",
              "</div>\n",
              "      <button class=\"colab-df-convert\" onclick=\"convertToInteractive('df-98a6052b-83f9-4037-8f7b-909ed33b623e')\"\n",
              "              title=\"Convert this dataframe to an interactive table.\"\n",
              "              style=\"display:none;\">\n",
              "        \n",
              "  <svg xmlns=\"http://www.w3.org/2000/svg\" height=\"24px\"viewBox=\"0 0 24 24\"\n",
              "       width=\"24px\">\n",
              "    <path d=\"M0 0h24v24H0V0z\" fill=\"none\"/>\n",
              "    <path d=\"M18.56 5.44l.94 2.06.94-2.06 2.06-.94-2.06-.94-.94-2.06-.94 2.06-2.06.94zm-11 1L8.5 8.5l.94-2.06 2.06-.94-2.06-.94L8.5 2.5l-.94 2.06-2.06.94zm10 10l.94 2.06.94-2.06 2.06-.94-2.06-.94-.94-2.06-.94 2.06-2.06.94z\"/><path d=\"M17.41 7.96l-1.37-1.37c-.4-.4-.92-.59-1.43-.59-.52 0-1.04.2-1.43.59L10.3 9.45l-7.72 7.72c-.78.78-.78 2.05 0 2.83L4 21.41c.39.39.9.59 1.41.59.51 0 1.02-.2 1.41-.59l7.78-7.78 2.81-2.81c.8-.78.8-2.07 0-2.86zM5.41 20L4 18.59l7.72-7.72 1.47 1.35L5.41 20z\"/>\n",
              "  </svg>\n",
              "      </button>\n",
              "      \n",
              "  <style>\n",
              "    .colab-df-container {\n",
              "      display:flex;\n",
              "      flex-wrap:wrap;\n",
              "      gap: 12px;\n",
              "    }\n",
              "\n",
              "    .colab-df-convert {\n",
              "      background-color: #E8F0FE;\n",
              "      border: none;\n",
              "      border-radius: 50%;\n",
              "      cursor: pointer;\n",
              "      display: none;\n",
              "      fill: #1967D2;\n",
              "      height: 32px;\n",
              "      padding: 0 0 0 0;\n",
              "      width: 32px;\n",
              "    }\n",
              "\n",
              "    .colab-df-convert:hover {\n",
              "      background-color: #E2EBFA;\n",
              "      box-shadow: 0px 1px 2px rgba(60, 64, 67, 0.3), 0px 1px 3px 1px rgba(60, 64, 67, 0.15);\n",
              "      fill: #174EA6;\n",
              "    }\n",
              "\n",
              "    [theme=dark] .colab-df-convert {\n",
              "      background-color: #3B4455;\n",
              "      fill: #D2E3FC;\n",
              "    }\n",
              "\n",
              "    [theme=dark] .colab-df-convert:hover {\n",
              "      background-color: #434B5C;\n",
              "      box-shadow: 0px 1px 3px 1px rgba(0, 0, 0, 0.15);\n",
              "      filter: drop-shadow(0px 1px 2px rgba(0, 0, 0, 0.3));\n",
              "      fill: #FFFFFF;\n",
              "    }\n",
              "  </style>\n",
              "\n",
              "      <script>\n",
              "        const buttonEl =\n",
              "          document.querySelector('#df-98a6052b-83f9-4037-8f7b-909ed33b623e button.colab-df-convert');\n",
              "        buttonEl.style.display =\n",
              "          google.colab.kernel.accessAllowed ? 'block' : 'none';\n",
              "\n",
              "        async function convertToInteractive(key) {\n",
              "          const element = document.querySelector('#df-98a6052b-83f9-4037-8f7b-909ed33b623e');\n",
              "          const dataTable =\n",
              "            await google.colab.kernel.invokeFunction('convertToInteractive',\n",
              "                                                     [key], {});\n",
              "          if (!dataTable) return;\n",
              "\n",
              "          const docLinkHtml = 'Like what you see? Visit the ' +\n",
              "            '<a target=\"_blank\" href=https://colab.research.google.com/notebooks/data_table.ipynb>data table notebook</a>'\n",
              "            + ' to learn more about interactive tables.';\n",
              "          element.innerHTML = '';\n",
              "          dataTable['output_type'] = 'display_data';\n",
              "          await google.colab.output.renderOutput(dataTable, element);\n",
              "          const docLink = document.createElement('div');\n",
              "          docLink.innerHTML = docLinkHtml;\n",
              "          element.appendChild(docLink);\n",
              "        }\n",
              "      </script>\n",
              "    </div>\n",
              "  </div>\n",
              "  "
            ]
          },
          "metadata": {},
          "execution_count": 11
        }
      ],
      "source": [
        "soil_weather_df.describe()"
      ]
    },
    {
      "cell_type": "markdown",
      "metadata": {
        "id": "mmrtAOaeyC86"
      },
      "source": [
        "# Data Cleaning\n",
        "\n",
        "Basic changes in dataset would be required to suit the objective of our model building. This does not mean altering data entries or observations, but reseting certain basic settings. These could include, changing datatypes, marking a particular feature as index, etc."
      ]
    },
    {
      "cell_type": "markdown",
      "metadata": {
        "id": "wn7Z8Q4ALgB3"
      },
      "source": [
        "###**1. Managing column \"DATUM\"**\n",
        "\n",
        " As this is a time-series data, it is better to convert the column \"DATUM\" to a datetime datatype.\n"
      ]
    },
    {
      "cell_type": "code",
      "execution_count": null,
      "metadata": {
        "id": "iFieOd9WyWVu"
      },
      "outputs": [],
      "source": [
        "soil_weather_df[\"DATUM\"] = pd.to_datetime(soil_weather_df[\"DATUM\"])"
      ]
    },
    {
      "cell_type": "code",
      "execution_count": null,
      "metadata": {
        "colab": {
          "base_uri": "https://localhost:8080/"
        },
        "id": "XIlPqjy31MoD",
        "outputId": "aa4660d2-b903-4a8c-e53e-1661329d2596"
      },
      "outputs": [
        {
          "output_type": "stream",
          "name": "stdout",
          "text": [
            "<class 'pandas.core.frame.DataFrame'>\n",
            "RangeIndex: 35672 entries, 0 to 35671\n",
            "Data columns (total 8 columns):\n",
            " #   Column       Non-Null Count  Dtype         \n",
            "---  ------       --------------  -----         \n",
            " 0   DATUM        35672 non-null  datetime64[ns]\n",
            " 1   STATIONS_ID  35672 non-null  int64         \n",
            " 2   QN_4         35672 non-null  int64         \n",
            " 3   TT_TER       35672 non-null  float64       \n",
            " 4   RF_TER       35672 non-null  float64       \n",
            " 5   VGSL         35672 non-null  float64       \n",
            " 6   TS05         35672 non-null  float64       \n",
            " 7   BF10         35672 non-null  int64         \n",
            "dtypes: datetime64[ns](1), float64(4), int64(3)\n",
            "memory usage: 2.2 MB\n"
          ]
        }
      ],
      "source": [
        "soil_weather_df.info()"
      ]
    },
    {
      "cell_type": "markdown",
      "metadata": {
        "id": "Hcwoq7xxyOfX"
      },
      "source": [
        "###**2. Changing label names**\n",
        "\n",
        "Label names are not descriptive of the data they contain. Thus, it is advisable to rename them to names more relevant and descriptive of the data they posses.\n",
        "\n",
        "Prior to doing this we shall make a deep copy(a deep copy ensures the original dataframe to remain unaffected by changes in the new dataframe.)\n",
        "\n",
        "*Note: Once we have a copy, we will proceed working on the copy.*"
      ]
    },
    {
      "cell_type": "code",
      "execution_count": null,
      "metadata": {
        "id": "8M1Ry-yl2Ll1"
      },
      "outputs": [],
      "source": [
        "soil_df1 = soil_weather_df.copy(deep =  True)"
      ]
    },
    {
      "cell_type": "code",
      "execution_count": null,
      "metadata": {
        "id": "KMMOypEL8Y0G"
      },
      "outputs": [],
      "source": [
        "new_label_names = {\"DATUM\":\"Date\", \"QN_4\":\"Temp_and_Humidity\",  \"TT_TER\": \"Air_temperature\", \"RF_TER\":\"Relative_humidity\", \"VGSL\":\"Evapotranspiration\", \"TS05\":\"Daily_mean_temp\",\"BF10\":\"Moisture_level\"}"
      ]
    },
    {
      "cell_type": "code",
      "execution_count": null,
      "metadata": {
        "id": "r4qvXWOw23ZZ"
      },
      "outputs": [],
      "source": [
        "soil_df1.rename(columns= new_label_names, inplace= True)"
      ]
    },
    {
      "cell_type": "markdown",
      "metadata": {
        "id": "wiSHrtJ1JNq9"
      },
      "source": [
        "Checking for change in label names"
      ]
    },
    {
      "cell_type": "code",
      "execution_count": null,
      "metadata": {
        "colab": {
          "base_uri": "https://localhost:8080/",
          "height": 626
        },
        "id": "LMw8rgD985iX",
        "outputId": "6485f266-0ecc-420c-cb5b-8bf81d84c5c5"
      },
      "outputs": [
        {
          "output_type": "display_data",
          "data": {
            "text/plain": [
              "'original df:'"
            ],
            "application/vnd.google.colaboratory.intrinsic+json": {
              "type": "string"
            }
          },
          "metadata": {}
        },
        {
          "output_type": "display_data",
          "data": {
            "text/plain": [
              "                DATUM  STATIONS_ID  QN_4  TT_TER  RF_TER  VGSL  TS05  BF10\n",
              "0 1991-01-01 07:00:00         1766    10     3.0    91.0   0.3   2.9   102\n",
              "1 1991-01-01 14:00:00         1766    10     4.8    85.0   0.3   2.9   102\n",
              "2 1991-01-01 21:00:00         1766    10     3.9    82.0   0.3   2.9   102\n",
              "3 1991-01-02 07:00:00         1766    10     5.6    94.0   1.4   6.3   110\n",
              "4 1991-01-02 14:00:00         1766    10    11.0    87.0   1.4   6.3   110"
            ],
            "text/html": [
              "\n",
              "  <div id=\"df-6b5d8032-b986-483c-8546-15d8cf6deca6\">\n",
              "    <div class=\"colab-df-container\">\n",
              "      <div>\n",
              "<style scoped>\n",
              "    .dataframe tbody tr th:only-of-type {\n",
              "        vertical-align: middle;\n",
              "    }\n",
              "\n",
              "    .dataframe tbody tr th {\n",
              "        vertical-align: top;\n",
              "    }\n",
              "\n",
              "    .dataframe thead th {\n",
              "        text-align: right;\n",
              "    }\n",
              "</style>\n",
              "<table border=\"1\" class=\"dataframe\">\n",
              "  <thead>\n",
              "    <tr style=\"text-align: right;\">\n",
              "      <th></th>\n",
              "      <th>DATUM</th>\n",
              "      <th>STATIONS_ID</th>\n",
              "      <th>QN_4</th>\n",
              "      <th>TT_TER</th>\n",
              "      <th>RF_TER</th>\n",
              "      <th>VGSL</th>\n",
              "      <th>TS05</th>\n",
              "      <th>BF10</th>\n",
              "    </tr>\n",
              "  </thead>\n",
              "  <tbody>\n",
              "    <tr>\n",
              "      <th>0</th>\n",
              "      <td>1991-01-01 07:00:00</td>\n",
              "      <td>1766</td>\n",
              "      <td>10</td>\n",
              "      <td>3.0</td>\n",
              "      <td>91.0</td>\n",
              "      <td>0.3</td>\n",
              "      <td>2.9</td>\n",
              "      <td>102</td>\n",
              "    </tr>\n",
              "    <tr>\n",
              "      <th>1</th>\n",
              "      <td>1991-01-01 14:00:00</td>\n",
              "      <td>1766</td>\n",
              "      <td>10</td>\n",
              "      <td>4.8</td>\n",
              "      <td>85.0</td>\n",
              "      <td>0.3</td>\n",
              "      <td>2.9</td>\n",
              "      <td>102</td>\n",
              "    </tr>\n",
              "    <tr>\n",
              "      <th>2</th>\n",
              "      <td>1991-01-01 21:00:00</td>\n",
              "      <td>1766</td>\n",
              "      <td>10</td>\n",
              "      <td>3.9</td>\n",
              "      <td>82.0</td>\n",
              "      <td>0.3</td>\n",
              "      <td>2.9</td>\n",
              "      <td>102</td>\n",
              "    </tr>\n",
              "    <tr>\n",
              "      <th>3</th>\n",
              "      <td>1991-01-02 07:00:00</td>\n",
              "      <td>1766</td>\n",
              "      <td>10</td>\n",
              "      <td>5.6</td>\n",
              "      <td>94.0</td>\n",
              "      <td>1.4</td>\n",
              "      <td>6.3</td>\n",
              "      <td>110</td>\n",
              "    </tr>\n",
              "    <tr>\n",
              "      <th>4</th>\n",
              "      <td>1991-01-02 14:00:00</td>\n",
              "      <td>1766</td>\n",
              "      <td>10</td>\n",
              "      <td>11.0</td>\n",
              "      <td>87.0</td>\n",
              "      <td>1.4</td>\n",
              "      <td>6.3</td>\n",
              "      <td>110</td>\n",
              "    </tr>\n",
              "  </tbody>\n",
              "</table>\n",
              "</div>\n",
              "      <button class=\"colab-df-convert\" onclick=\"convertToInteractive('df-6b5d8032-b986-483c-8546-15d8cf6deca6')\"\n",
              "              title=\"Convert this dataframe to an interactive table.\"\n",
              "              style=\"display:none;\">\n",
              "        \n",
              "  <svg xmlns=\"http://www.w3.org/2000/svg\" height=\"24px\"viewBox=\"0 0 24 24\"\n",
              "       width=\"24px\">\n",
              "    <path d=\"M0 0h24v24H0V0z\" fill=\"none\"/>\n",
              "    <path d=\"M18.56 5.44l.94 2.06.94-2.06 2.06-.94-2.06-.94-.94-2.06-.94 2.06-2.06.94zm-11 1L8.5 8.5l.94-2.06 2.06-.94-2.06-.94L8.5 2.5l-.94 2.06-2.06.94zm10 10l.94 2.06.94-2.06 2.06-.94-2.06-.94-.94-2.06-.94 2.06-2.06.94z\"/><path d=\"M17.41 7.96l-1.37-1.37c-.4-.4-.92-.59-1.43-.59-.52 0-1.04.2-1.43.59L10.3 9.45l-7.72 7.72c-.78.78-.78 2.05 0 2.83L4 21.41c.39.39.9.59 1.41.59.51 0 1.02-.2 1.41-.59l7.78-7.78 2.81-2.81c.8-.78.8-2.07 0-2.86zM5.41 20L4 18.59l7.72-7.72 1.47 1.35L5.41 20z\"/>\n",
              "  </svg>\n",
              "      </button>\n",
              "      \n",
              "  <style>\n",
              "    .colab-df-container {\n",
              "      display:flex;\n",
              "      flex-wrap:wrap;\n",
              "      gap: 12px;\n",
              "    }\n",
              "\n",
              "    .colab-df-convert {\n",
              "      background-color: #E8F0FE;\n",
              "      border: none;\n",
              "      border-radius: 50%;\n",
              "      cursor: pointer;\n",
              "      display: none;\n",
              "      fill: #1967D2;\n",
              "      height: 32px;\n",
              "      padding: 0 0 0 0;\n",
              "      width: 32px;\n",
              "    }\n",
              "\n",
              "    .colab-df-convert:hover {\n",
              "      background-color: #E2EBFA;\n",
              "      box-shadow: 0px 1px 2px rgba(60, 64, 67, 0.3), 0px 1px 3px 1px rgba(60, 64, 67, 0.15);\n",
              "      fill: #174EA6;\n",
              "    }\n",
              "\n",
              "    [theme=dark] .colab-df-convert {\n",
              "      background-color: #3B4455;\n",
              "      fill: #D2E3FC;\n",
              "    }\n",
              "\n",
              "    [theme=dark] .colab-df-convert:hover {\n",
              "      background-color: #434B5C;\n",
              "      box-shadow: 0px 1px 3px 1px rgba(0, 0, 0, 0.15);\n",
              "      filter: drop-shadow(0px 1px 2px rgba(0, 0, 0, 0.3));\n",
              "      fill: #FFFFFF;\n",
              "    }\n",
              "  </style>\n",
              "\n",
              "      <script>\n",
              "        const buttonEl =\n",
              "          document.querySelector('#df-6b5d8032-b986-483c-8546-15d8cf6deca6 button.colab-df-convert');\n",
              "        buttonEl.style.display =\n",
              "          google.colab.kernel.accessAllowed ? 'block' : 'none';\n",
              "\n",
              "        async function convertToInteractive(key) {\n",
              "          const element = document.querySelector('#df-6b5d8032-b986-483c-8546-15d8cf6deca6');\n",
              "          const dataTable =\n",
              "            await google.colab.kernel.invokeFunction('convertToInteractive',\n",
              "                                                     [key], {});\n",
              "          if (!dataTable) return;\n",
              "\n",
              "          const docLinkHtml = 'Like what you see? Visit the ' +\n",
              "            '<a target=\"_blank\" href=https://colab.research.google.com/notebooks/data_table.ipynb>data table notebook</a>'\n",
              "            + ' to learn more about interactive tables.';\n",
              "          element.innerHTML = '';\n",
              "          dataTable['output_type'] = 'display_data';\n",
              "          await google.colab.output.renderOutput(dataTable, element);\n",
              "          const docLink = document.createElement('div');\n",
              "          docLink.innerHTML = docLinkHtml;\n",
              "          element.appendChild(docLink);\n",
              "        }\n",
              "      </script>\n",
              "    </div>\n",
              "  </div>\n",
              "  "
            ]
          },
          "metadata": {}
        },
        {
          "output_type": "display_data",
          "data": {
            "text/plain": [
              "'Renamed columns_df:'"
            ],
            "application/vnd.google.colaboratory.intrinsic+json": {
              "type": "string"
            }
          },
          "metadata": {}
        },
        {
          "output_type": "display_data",
          "data": {
            "text/plain": [
              "                 Date  STATIONS_ID  Temp_and_Humidity  Air_temperature  \\\n",
              "0 1991-01-01 07:00:00         1766                 10              3.0   \n",
              "1 1991-01-01 14:00:00         1766                 10              4.8   \n",
              "2 1991-01-01 21:00:00         1766                 10              3.9   \n",
              "3 1991-01-02 07:00:00         1766                 10              5.6   \n",
              "4 1991-01-02 14:00:00         1766                 10             11.0   \n",
              "\n",
              "   Relative_humidity  Evapotranspiration  Daily_mean_temp  Moisture_level  \n",
              "0               91.0                 0.3              2.9             102  \n",
              "1               85.0                 0.3              2.9             102  \n",
              "2               82.0                 0.3              2.9             102  \n",
              "3               94.0                 1.4              6.3             110  \n",
              "4               87.0                 1.4              6.3             110  "
            ],
            "text/html": [
              "\n",
              "  <div id=\"df-1175b2d3-e0cc-493e-a148-a3282c142258\">\n",
              "    <div class=\"colab-df-container\">\n",
              "      <div>\n",
              "<style scoped>\n",
              "    .dataframe tbody tr th:only-of-type {\n",
              "        vertical-align: middle;\n",
              "    }\n",
              "\n",
              "    .dataframe tbody tr th {\n",
              "        vertical-align: top;\n",
              "    }\n",
              "\n",
              "    .dataframe thead th {\n",
              "        text-align: right;\n",
              "    }\n",
              "</style>\n",
              "<table border=\"1\" class=\"dataframe\">\n",
              "  <thead>\n",
              "    <tr style=\"text-align: right;\">\n",
              "      <th></th>\n",
              "      <th>Date</th>\n",
              "      <th>STATIONS_ID</th>\n",
              "      <th>Temp_and_Humidity</th>\n",
              "      <th>Air_temperature</th>\n",
              "      <th>Relative_humidity</th>\n",
              "      <th>Evapotranspiration</th>\n",
              "      <th>Daily_mean_temp</th>\n",
              "      <th>Moisture_level</th>\n",
              "    </tr>\n",
              "  </thead>\n",
              "  <tbody>\n",
              "    <tr>\n",
              "      <th>0</th>\n",
              "      <td>1991-01-01 07:00:00</td>\n",
              "      <td>1766</td>\n",
              "      <td>10</td>\n",
              "      <td>3.0</td>\n",
              "      <td>91.0</td>\n",
              "      <td>0.3</td>\n",
              "      <td>2.9</td>\n",
              "      <td>102</td>\n",
              "    </tr>\n",
              "    <tr>\n",
              "      <th>1</th>\n",
              "      <td>1991-01-01 14:00:00</td>\n",
              "      <td>1766</td>\n",
              "      <td>10</td>\n",
              "      <td>4.8</td>\n",
              "      <td>85.0</td>\n",
              "      <td>0.3</td>\n",
              "      <td>2.9</td>\n",
              "      <td>102</td>\n",
              "    </tr>\n",
              "    <tr>\n",
              "      <th>2</th>\n",
              "      <td>1991-01-01 21:00:00</td>\n",
              "      <td>1766</td>\n",
              "      <td>10</td>\n",
              "      <td>3.9</td>\n",
              "      <td>82.0</td>\n",
              "      <td>0.3</td>\n",
              "      <td>2.9</td>\n",
              "      <td>102</td>\n",
              "    </tr>\n",
              "    <tr>\n",
              "      <th>3</th>\n",
              "      <td>1991-01-02 07:00:00</td>\n",
              "      <td>1766</td>\n",
              "      <td>10</td>\n",
              "      <td>5.6</td>\n",
              "      <td>94.0</td>\n",
              "      <td>1.4</td>\n",
              "      <td>6.3</td>\n",
              "      <td>110</td>\n",
              "    </tr>\n",
              "    <tr>\n",
              "      <th>4</th>\n",
              "      <td>1991-01-02 14:00:00</td>\n",
              "      <td>1766</td>\n",
              "      <td>10</td>\n",
              "      <td>11.0</td>\n",
              "      <td>87.0</td>\n",
              "      <td>1.4</td>\n",
              "      <td>6.3</td>\n",
              "      <td>110</td>\n",
              "    </tr>\n",
              "  </tbody>\n",
              "</table>\n",
              "</div>\n",
              "      <button class=\"colab-df-convert\" onclick=\"convertToInteractive('df-1175b2d3-e0cc-493e-a148-a3282c142258')\"\n",
              "              title=\"Convert this dataframe to an interactive table.\"\n",
              "              style=\"display:none;\">\n",
              "        \n",
              "  <svg xmlns=\"http://www.w3.org/2000/svg\" height=\"24px\"viewBox=\"0 0 24 24\"\n",
              "       width=\"24px\">\n",
              "    <path d=\"M0 0h24v24H0V0z\" fill=\"none\"/>\n",
              "    <path d=\"M18.56 5.44l.94 2.06.94-2.06 2.06-.94-2.06-.94-.94-2.06-.94 2.06-2.06.94zm-11 1L8.5 8.5l.94-2.06 2.06-.94-2.06-.94L8.5 2.5l-.94 2.06-2.06.94zm10 10l.94 2.06.94-2.06 2.06-.94-2.06-.94-.94-2.06-.94 2.06-2.06.94z\"/><path d=\"M17.41 7.96l-1.37-1.37c-.4-.4-.92-.59-1.43-.59-.52 0-1.04.2-1.43.59L10.3 9.45l-7.72 7.72c-.78.78-.78 2.05 0 2.83L4 21.41c.39.39.9.59 1.41.59.51 0 1.02-.2 1.41-.59l7.78-7.78 2.81-2.81c.8-.78.8-2.07 0-2.86zM5.41 20L4 18.59l7.72-7.72 1.47 1.35L5.41 20z\"/>\n",
              "  </svg>\n",
              "      </button>\n",
              "      \n",
              "  <style>\n",
              "    .colab-df-container {\n",
              "      display:flex;\n",
              "      flex-wrap:wrap;\n",
              "      gap: 12px;\n",
              "    }\n",
              "\n",
              "    .colab-df-convert {\n",
              "      background-color: #E8F0FE;\n",
              "      border: none;\n",
              "      border-radius: 50%;\n",
              "      cursor: pointer;\n",
              "      display: none;\n",
              "      fill: #1967D2;\n",
              "      height: 32px;\n",
              "      padding: 0 0 0 0;\n",
              "      width: 32px;\n",
              "    }\n",
              "\n",
              "    .colab-df-convert:hover {\n",
              "      background-color: #E2EBFA;\n",
              "      box-shadow: 0px 1px 2px rgba(60, 64, 67, 0.3), 0px 1px 3px 1px rgba(60, 64, 67, 0.15);\n",
              "      fill: #174EA6;\n",
              "    }\n",
              "\n",
              "    [theme=dark] .colab-df-convert {\n",
              "      background-color: #3B4455;\n",
              "      fill: #D2E3FC;\n",
              "    }\n",
              "\n",
              "    [theme=dark] .colab-df-convert:hover {\n",
              "      background-color: #434B5C;\n",
              "      box-shadow: 0px 1px 3px 1px rgba(0, 0, 0, 0.15);\n",
              "      filter: drop-shadow(0px 1px 2px rgba(0, 0, 0, 0.3));\n",
              "      fill: #FFFFFF;\n",
              "    }\n",
              "  </style>\n",
              "\n",
              "      <script>\n",
              "        const buttonEl =\n",
              "          document.querySelector('#df-1175b2d3-e0cc-493e-a148-a3282c142258 button.colab-df-convert');\n",
              "        buttonEl.style.display =\n",
              "          google.colab.kernel.accessAllowed ? 'block' : 'none';\n",
              "\n",
              "        async function convertToInteractive(key) {\n",
              "          const element = document.querySelector('#df-1175b2d3-e0cc-493e-a148-a3282c142258');\n",
              "          const dataTable =\n",
              "            await google.colab.kernel.invokeFunction('convertToInteractive',\n",
              "                                                     [key], {});\n",
              "          if (!dataTable) return;\n",
              "\n",
              "          const docLinkHtml = 'Like what you see? Visit the ' +\n",
              "            '<a target=\"_blank\" href=https://colab.research.google.com/notebooks/data_table.ipynb>data table notebook</a>'\n",
              "            + ' to learn more about interactive tables.';\n",
              "          element.innerHTML = '';\n",
              "          dataTable['output_type'] = 'display_data';\n",
              "          await google.colab.output.renderOutput(dataTable, element);\n",
              "          const docLink = document.createElement('div');\n",
              "          docLink.innerHTML = docLinkHtml;\n",
              "          element.appendChild(docLink);\n",
              "        }\n",
              "      </script>\n",
              "    </div>\n",
              "  </div>\n",
              "  "
            ]
          },
          "metadata": {}
        }
      ],
      "source": [
        "display(\"original df:\", soil_weather_df.head())\n",
        "display(\"Renamed columns_df:\", soil_df1.head())"
      ]
    },
    {
      "cell_type": "markdown",
      "metadata": {
        "id": "WDO0Vwn9hY-N"
      },
      "source": [
        "Below are some notes that were shared pertaining to data. This was taken from the background information handbook shared along with data.\n",
        "\n",
        "**Notes**\n",
        "1. **Temperature_and_Humidity** is a categorical data whose descriptive is in the succeeding cell\n",
        "2. Unit of measurement for **temperature** is  **degrees Celcius**\n",
        "3. **Evapotranspiration** values  are recorded for uncovered soil.\n",
        "4. **Daily_mean_temp** is recorded for uncovered soil at a depth of 5 centimeters.\n",
        "5. **Moisture_level** is reading taken of covered soil at 10cms deep with a percentage of plant usability."
      ]
    },
    {
      "cell_type": "markdown",
      "metadata": {
        "id": "XYxZV9ReLq_f"
      },
      "source": [
        "###**3.Setting \"Date\" column as index**\n",
        "\n",
        "It is advisable to make date column, the index of the dataset. The timestamp of the observation will help us give unique identification to each observation. Also As this is a time-series forecast project we need to set the date / time as index.\n",
        ""
      ]
    },
    {
      "cell_type": "code",
      "execution_count": null,
      "metadata": {
        "id": "uPfq7yVCL74C"
      },
      "outputs": [],
      "source": [
        "soil_df1.set_index(\"Date\", inplace = True)"
      ]
    },
    {
      "cell_type": "code",
      "execution_count": null,
      "metadata": {
        "colab": {
          "base_uri": "https://localhost:8080/",
          "height": 475
        },
        "id": "or9qQLAIMPIn",
        "outputId": "ed50edd6-672d-4113-ee23-66d5cb7ace08"
      },
      "outputs": [
        {
          "output_type": "execute_result",
          "data": {
            "text/plain": [
              "                     STATIONS_ID  Temp_and_Humidity  Air_temperature  \\\n",
              "Date                                                                   \n",
              "1991-01-01 07:00:00         1766                 10              3.0   \n",
              "1991-01-01 14:00:00         1766                 10              4.8   \n",
              "1991-01-01 21:00:00         1766                 10              3.9   \n",
              "1991-01-02 07:00:00         1766                 10              5.6   \n",
              "1991-01-02 14:00:00         1766                 10             11.0   \n",
              "\n",
              "                     Relative_humidity  Evapotranspiration  Daily_mean_temp  \\\n",
              "Date                                                                          \n",
              "1991-01-01 07:00:00               91.0                 0.3              2.9   \n",
              "1991-01-01 14:00:00               85.0                 0.3              2.9   \n",
              "1991-01-01 21:00:00               82.0                 0.3              2.9   \n",
              "1991-01-02 07:00:00               94.0                 1.4              6.3   \n",
              "1991-01-02 14:00:00               87.0                 1.4              6.3   \n",
              "\n",
              "                     Moisture_level  \n",
              "Date                                 \n",
              "1991-01-01 07:00:00             102  \n",
              "1991-01-01 14:00:00             102  \n",
              "1991-01-01 21:00:00             102  \n",
              "1991-01-02 07:00:00             110  \n",
              "1991-01-02 14:00:00             110  "
            ],
            "text/html": [
              "\n",
              "  <div id=\"df-aa5817c1-74cb-4065-a22b-4815bf937ed1\">\n",
              "    <div class=\"colab-df-container\">\n",
              "      <div>\n",
              "<style scoped>\n",
              "    .dataframe tbody tr th:only-of-type {\n",
              "        vertical-align: middle;\n",
              "    }\n",
              "\n",
              "    .dataframe tbody tr th {\n",
              "        vertical-align: top;\n",
              "    }\n",
              "\n",
              "    .dataframe thead th {\n",
              "        text-align: right;\n",
              "    }\n",
              "</style>\n",
              "<table border=\"1\" class=\"dataframe\">\n",
              "  <thead>\n",
              "    <tr style=\"text-align: right;\">\n",
              "      <th></th>\n",
              "      <th>STATIONS_ID</th>\n",
              "      <th>Temp_and_Humidity</th>\n",
              "      <th>Air_temperature</th>\n",
              "      <th>Relative_humidity</th>\n",
              "      <th>Evapotranspiration</th>\n",
              "      <th>Daily_mean_temp</th>\n",
              "      <th>Moisture_level</th>\n",
              "    </tr>\n",
              "    <tr>\n",
              "      <th>Date</th>\n",
              "      <th></th>\n",
              "      <th></th>\n",
              "      <th></th>\n",
              "      <th></th>\n",
              "      <th></th>\n",
              "      <th></th>\n",
              "      <th></th>\n",
              "    </tr>\n",
              "  </thead>\n",
              "  <tbody>\n",
              "    <tr>\n",
              "      <th>1991-01-01 07:00:00</th>\n",
              "      <td>1766</td>\n",
              "      <td>10</td>\n",
              "      <td>3.0</td>\n",
              "      <td>91.0</td>\n",
              "      <td>0.3</td>\n",
              "      <td>2.9</td>\n",
              "      <td>102</td>\n",
              "    </tr>\n",
              "    <tr>\n",
              "      <th>1991-01-01 14:00:00</th>\n",
              "      <td>1766</td>\n",
              "      <td>10</td>\n",
              "      <td>4.8</td>\n",
              "      <td>85.0</td>\n",
              "      <td>0.3</td>\n",
              "      <td>2.9</td>\n",
              "      <td>102</td>\n",
              "    </tr>\n",
              "    <tr>\n",
              "      <th>1991-01-01 21:00:00</th>\n",
              "      <td>1766</td>\n",
              "      <td>10</td>\n",
              "      <td>3.9</td>\n",
              "      <td>82.0</td>\n",
              "      <td>0.3</td>\n",
              "      <td>2.9</td>\n",
              "      <td>102</td>\n",
              "    </tr>\n",
              "    <tr>\n",
              "      <th>1991-01-02 07:00:00</th>\n",
              "      <td>1766</td>\n",
              "      <td>10</td>\n",
              "      <td>5.6</td>\n",
              "      <td>94.0</td>\n",
              "      <td>1.4</td>\n",
              "      <td>6.3</td>\n",
              "      <td>110</td>\n",
              "    </tr>\n",
              "    <tr>\n",
              "      <th>1991-01-02 14:00:00</th>\n",
              "      <td>1766</td>\n",
              "      <td>10</td>\n",
              "      <td>11.0</td>\n",
              "      <td>87.0</td>\n",
              "      <td>1.4</td>\n",
              "      <td>6.3</td>\n",
              "      <td>110</td>\n",
              "    </tr>\n",
              "  </tbody>\n",
              "</table>\n",
              "</div>\n",
              "      <button class=\"colab-df-convert\" onclick=\"convertToInteractive('df-aa5817c1-74cb-4065-a22b-4815bf937ed1')\"\n",
              "              title=\"Convert this dataframe to an interactive table.\"\n",
              "              style=\"display:none;\">\n",
              "        \n",
              "  <svg xmlns=\"http://www.w3.org/2000/svg\" height=\"24px\"viewBox=\"0 0 24 24\"\n",
              "       width=\"24px\">\n",
              "    <path d=\"M0 0h24v24H0V0z\" fill=\"none\"/>\n",
              "    <path d=\"M18.56 5.44l.94 2.06.94-2.06 2.06-.94-2.06-.94-.94-2.06-.94 2.06-2.06.94zm-11 1L8.5 8.5l.94-2.06 2.06-.94-2.06-.94L8.5 2.5l-.94 2.06-2.06.94zm10 10l.94 2.06.94-2.06 2.06-.94-2.06-.94-.94-2.06-.94 2.06-2.06.94z\"/><path d=\"M17.41 7.96l-1.37-1.37c-.4-.4-.92-.59-1.43-.59-.52 0-1.04.2-1.43.59L10.3 9.45l-7.72 7.72c-.78.78-.78 2.05 0 2.83L4 21.41c.39.39.9.59 1.41.59.51 0 1.02-.2 1.41-.59l7.78-7.78 2.81-2.81c.8-.78.8-2.07 0-2.86zM5.41 20L4 18.59l7.72-7.72 1.47 1.35L5.41 20z\"/>\n",
              "  </svg>\n",
              "      </button>\n",
              "      \n",
              "  <style>\n",
              "    .colab-df-container {\n",
              "      display:flex;\n",
              "      flex-wrap:wrap;\n",
              "      gap: 12px;\n",
              "    }\n",
              "\n",
              "    .colab-df-convert {\n",
              "      background-color: #E8F0FE;\n",
              "      border: none;\n",
              "      border-radius: 50%;\n",
              "      cursor: pointer;\n",
              "      display: none;\n",
              "      fill: #1967D2;\n",
              "      height: 32px;\n",
              "      padding: 0 0 0 0;\n",
              "      width: 32px;\n",
              "    }\n",
              "\n",
              "    .colab-df-convert:hover {\n",
              "      background-color: #E2EBFA;\n",
              "      box-shadow: 0px 1px 2px rgba(60, 64, 67, 0.3), 0px 1px 3px 1px rgba(60, 64, 67, 0.15);\n",
              "      fill: #174EA6;\n",
              "    }\n",
              "\n",
              "    [theme=dark] .colab-df-convert {\n",
              "      background-color: #3B4455;\n",
              "      fill: #D2E3FC;\n",
              "    }\n",
              "\n",
              "    [theme=dark] .colab-df-convert:hover {\n",
              "      background-color: #434B5C;\n",
              "      box-shadow: 0px 1px 3px 1px rgba(0, 0, 0, 0.15);\n",
              "      filter: drop-shadow(0px 1px 2px rgba(0, 0, 0, 0.3));\n",
              "      fill: #FFFFFF;\n",
              "    }\n",
              "  </style>\n",
              "\n",
              "      <script>\n",
              "        const buttonEl =\n",
              "          document.querySelector('#df-aa5817c1-74cb-4065-a22b-4815bf937ed1 button.colab-df-convert');\n",
              "        buttonEl.style.display =\n",
              "          google.colab.kernel.accessAllowed ? 'block' : 'none';\n",
              "\n",
              "        async function convertToInteractive(key) {\n",
              "          const element = document.querySelector('#df-aa5817c1-74cb-4065-a22b-4815bf937ed1');\n",
              "          const dataTable =\n",
              "            await google.colab.kernel.invokeFunction('convertToInteractive',\n",
              "                                                     [key], {});\n",
              "          if (!dataTable) return;\n",
              "\n",
              "          const docLinkHtml = 'Like what you see? Visit the ' +\n",
              "            '<a target=\"_blank\" href=https://colab.research.google.com/notebooks/data_table.ipynb>data table notebook</a>'\n",
              "            + ' to learn more about interactive tables.';\n",
              "          element.innerHTML = '';\n",
              "          dataTable['output_type'] = 'display_data';\n",
              "          await google.colab.output.renderOutput(dataTable, element);\n",
              "          const docLink = document.createElement('div');\n",
              "          docLink.innerHTML = docLinkHtml;\n",
              "          element.appendChild(docLink);\n",
              "        }\n",
              "      </script>\n",
              "    </div>\n",
              "  </div>\n",
              "  "
            ]
          },
          "metadata": {},
          "execution_count": 19
        }
      ],
      "source": [
        "soil_df1.head()"
      ]
    },
    {
      "cell_type": "markdown",
      "metadata": {
        "id": "C43STCNLpN3_"
      },
      "source": [
        "###**4.Dropping irrelevant columns**\n",
        "\n",
        "Column **\"STATIONS_ID\"** makes meaning only to the population who are employed in this department as it is a specific reference.\n",
        "\n",
        " In order to keep this detail generally comprehensible,  we can specify in the title of the project, the name of the place as **\"in the German city of Munster\"**. Thus, It is advisable to drop this column which also helps in eliminating such reference variables and also in reducing the dimensionality of the data."
      ]
    },
    {
      "cell_type": "code",
      "execution_count": null,
      "metadata": {
        "id": "pQGdWIxXqu11"
      },
      "outputs": [],
      "source": [
        "soil_df1.drop(\"STATIONS_ID\", axis=1, inplace = True)"
      ]
    },
    {
      "cell_type": "code",
      "execution_count": null,
      "metadata": {
        "colab": {
          "base_uri": "https://localhost:8080/"
        },
        "id": "weoPp41pgOMF",
        "outputId": "32d4091f-073c-48bd-874f-08f48bcd3b67"
      },
      "outputs": [
        {
          "output_type": "execute_result",
          "data": {
            "text/plain": [
              "(35672, 6)"
            ]
          },
          "metadata": {},
          "execution_count": 21
        }
      ],
      "source": [
        "soil_df1.shape"
      ]
    },
    {
      "cell_type": "code",
      "execution_count": null,
      "metadata": {
        "colab": {
          "base_uri": "https://localhost:8080/"
        },
        "id": "6SIB25FrrcJ5",
        "outputId": "769daa01-6ad2-4a17-d046-6c42c38a6d5f"
      },
      "outputs": [
        {
          "output_type": "stream",
          "name": "stdout",
          "text": [
            "<class 'pandas.core.frame.DataFrame'>\n",
            "DatetimeIndex: 35672 entries, 1991-01-01 07:00:00 to 2021-12-31 00:00:00\n",
            "Data columns (total 6 columns):\n",
            " #   Column              Non-Null Count  Dtype  \n",
            "---  ------              --------------  -----  \n",
            " 0   Temp_and_Humidity   35672 non-null  int64  \n",
            " 1   Air_temperature     35672 non-null  float64\n",
            " 2   Relative_humidity   35672 non-null  float64\n",
            " 3   Evapotranspiration  35672 non-null  float64\n",
            " 4   Daily_mean_temp     35672 non-null  float64\n",
            " 5   Moisture_level      35672 non-null  int64  \n",
            "dtypes: float64(4), int64(2)\n",
            "memory usage: 1.9 MB\n"
          ]
        }
      ],
      "source": [
        "soil_df1.info()"
      ]
    },
    {
      "cell_type": "markdown",
      "metadata": {
        "id": "W_He4P05jceU"
      },
      "source": [
        "**Background to column Temp_and_Humidity**\n",
        "\n",
        "The numbers in this column are mere categorical data and not values. These are categories based on recordings of temperature and humidity post certain quality control measures. Details of the same are as follows:\n",
        "\n",
        "- 1- only formal control during decoding and import\n",
        "- 2- controlled with individually defined criteria\n",
        "- 3- ROUTINE control with QUALIMET and QCSY\n",
        "- 5- historic, subjective procedures\n",
        "- 7- ROUTINE control, not yet corrected\n",
        "- 8- quality control outside ROUTINE\n",
        "- 9- ROUTINE control, not all parameters corrected\n",
        "- 10- ROUTINE control finished, respective corrections finished\n",
        "\n",
        "It is possible that these values are based on the records of the succeeding two columns of \"Air_temperature\" and \"Relative_humidity\"\n",
        "\n",
        "We shall inspect / explore the observations in these  three columns to understand their correlation. EDA on \"Temp_and_Humidity\" is required to know what has / can impact and the extent of its impact on the other features/variables, if any."
      ]
    },
    {
      "cell_type": "code",
      "execution_count": null,
      "metadata": {
        "colab": {
          "base_uri": "https://localhost:8080/",
          "height": 88
        },
        "id": "AhaZTYsJMe9V",
        "outputId": "86ec0e66-629a-4ca2-f147-01198401de74"
      },
      "outputs": [
        {
          "output_type": "display_data",
          "data": {
            "text/plain": [
              "'Number of unique values: '"
            ],
            "application/vnd.google.colaboratory.intrinsic+json": {
              "type": "string"
            }
          },
          "metadata": {}
        },
        {
          "output_type": "display_data",
          "data": {
            "text/plain": [
              "3"
            ]
          },
          "metadata": {}
        },
        {
          "output_type": "display_data",
          "data": {
            "text/plain": [
              "'The unique values are: '"
            ],
            "application/vnd.google.colaboratory.intrinsic+json": {
              "type": "string"
            }
          },
          "metadata": {}
        },
        {
          "output_type": "display_data",
          "data": {
            "text/plain": [
              "array([10,  3,  1])"
            ]
          },
          "metadata": {}
        }
      ],
      "source": [
        "display(\"Number of unique values: \", soil_df1[\"Temp_and_Humidity\"].nunique())\n",
        "display(\"The unique values are: \", soil_df1[\"Temp_and_Humidity\"].unique())"
      ]
    },
    {
      "cell_type": "code",
      "execution_count": null,
      "metadata": {
        "colab": {
          "base_uri": "https://localhost:8080/",
          "height": 105
        },
        "id": "Yf_hgMj5nv_P",
        "outputId": "59988bce-d137-4f82-d04b-43b222522fbf"
      },
      "outputs": [
        {
          "output_type": "display_data",
          "data": {
            "text/plain": [
              "'Count of unique values: '"
            ],
            "application/vnd.google.colaboratory.intrinsic+json": {
              "type": "string"
            }
          },
          "metadata": {}
        },
        {
          "output_type": "execute_result",
          "data": {
            "text/plain": [
              "10    28761\n",
              "3      6870\n",
              "1        41\n",
              "Name: Temp_and_Humidity, dtype: int64"
            ]
          },
          "metadata": {},
          "execution_count": 24
        }
      ],
      "source": [
        "display(\"Count of unique values: \")\n",
        "soil_df1[\"Temp_and_Humidity\"].value_counts()"
      ]
    },
    {
      "cell_type": "markdown",
      "metadata": {
        "id": "vWR82HKYpjfV"
      },
      "source": [
        "The above codes tell us that there are only three unique values of 10, 3 and 1 assigned to observations pertaining to \"Temp_and_Humidity\". From the question it is clear that observations marked 10 represents those records which are recorded post all corrections to be considered.\n",
        "\n",
        "While observations marked 1 are those which were recorded after a formal control at the time of decoding and importing the values which have an extremely minimal impact.\n",
        "\n",
        "Like wise, observations on rows marked 3 signify those values that were recorded post routine control measures but passed through some quality checks such as QUALIMET and QCSY, though not all.\n",
        "\n",
        " The observations marked 10 has major impact on the dependent variable observation while analysing data. This is because majority of the records belong to this category. The best part of this is, majority of observations are recorded post rectifications and corrections which is extremely essential for accuracy in analysis."
      ]
    },
    {
      "cell_type": "markdown",
      "metadata": {
        "id": "riYhpNpujy_K"
      },
      "source": [
        "###**5.Checking missing values**"
      ]
    },
    {
      "cell_type": "code",
      "execution_count": null,
      "metadata": {
        "colab": {
          "base_uri": "https://localhost:8080/",
          "height": 866
        },
        "id": "m1TmtuOWk3-I",
        "outputId": "ec7d957f-c1ff-42da-cd82-435aea599451"
      },
      "outputs": [
        {
          "output_type": "execute_result",
          "data": {
            "text/plain": [
              "                     Temp_and_Humidity  Air_temperature  Relative_humidity  \\\n",
              "Date                                                                         \n",
              "1991-01-01 07:00:00              False            False              False   \n",
              "1991-01-01 14:00:00              False            False              False   \n",
              "1991-01-01 21:00:00              False            False              False   \n",
              "1991-01-02 07:00:00              False            False              False   \n",
              "1991-01-02 14:00:00              False            False              False   \n",
              "...                                ...              ...                ...   \n",
              "2021-12-30 00:00:00              False            False              False   \n",
              "2021-12-30 06:00:00              False            False              False   \n",
              "2021-12-30 12:00:00              False            False              False   \n",
              "2021-12-30 18:00:00              False            False              False   \n",
              "2021-12-31 00:00:00              False            False              False   \n",
              "\n",
              "                     Evapotranspiration  Daily_mean_temp  Moisture_level  \n",
              "Date                                                                      \n",
              "1991-01-01 07:00:00               False            False           False  \n",
              "1991-01-01 14:00:00               False            False           False  \n",
              "1991-01-01 21:00:00               False            False           False  \n",
              "1991-01-02 07:00:00               False            False           False  \n",
              "1991-01-02 14:00:00               False            False           False  \n",
              "...                                 ...              ...             ...  \n",
              "2021-12-30 00:00:00               False            False           False  \n",
              "2021-12-30 06:00:00               False            False           False  \n",
              "2021-12-30 12:00:00               False            False           False  \n",
              "2021-12-30 18:00:00               False            False           False  \n",
              "2021-12-31 00:00:00               False            False           False  \n",
              "\n",
              "[35672 rows x 6 columns]"
            ],
            "text/html": [
              "\n",
              "  <div id=\"df-315ccb46-cfc4-4a1d-b234-218ec40498c8\">\n",
              "    <div class=\"colab-df-container\">\n",
              "      <div>\n",
              "<style scoped>\n",
              "    .dataframe tbody tr th:only-of-type {\n",
              "        vertical-align: middle;\n",
              "    }\n",
              "\n",
              "    .dataframe tbody tr th {\n",
              "        vertical-align: top;\n",
              "    }\n",
              "\n",
              "    .dataframe thead th {\n",
              "        text-align: right;\n",
              "    }\n",
              "</style>\n",
              "<table border=\"1\" class=\"dataframe\">\n",
              "  <thead>\n",
              "    <tr style=\"text-align: right;\">\n",
              "      <th></th>\n",
              "      <th>Temp_and_Humidity</th>\n",
              "      <th>Air_temperature</th>\n",
              "      <th>Relative_humidity</th>\n",
              "      <th>Evapotranspiration</th>\n",
              "      <th>Daily_mean_temp</th>\n",
              "      <th>Moisture_level</th>\n",
              "    </tr>\n",
              "    <tr>\n",
              "      <th>Date</th>\n",
              "      <th></th>\n",
              "      <th></th>\n",
              "      <th></th>\n",
              "      <th></th>\n",
              "      <th></th>\n",
              "      <th></th>\n",
              "    </tr>\n",
              "  </thead>\n",
              "  <tbody>\n",
              "    <tr>\n",
              "      <th>1991-01-01 07:00:00</th>\n",
              "      <td>False</td>\n",
              "      <td>False</td>\n",
              "      <td>False</td>\n",
              "      <td>False</td>\n",
              "      <td>False</td>\n",
              "      <td>False</td>\n",
              "    </tr>\n",
              "    <tr>\n",
              "      <th>1991-01-01 14:00:00</th>\n",
              "      <td>False</td>\n",
              "      <td>False</td>\n",
              "      <td>False</td>\n",
              "      <td>False</td>\n",
              "      <td>False</td>\n",
              "      <td>False</td>\n",
              "    </tr>\n",
              "    <tr>\n",
              "      <th>1991-01-01 21:00:00</th>\n",
              "      <td>False</td>\n",
              "      <td>False</td>\n",
              "      <td>False</td>\n",
              "      <td>False</td>\n",
              "      <td>False</td>\n",
              "      <td>False</td>\n",
              "    </tr>\n",
              "    <tr>\n",
              "      <th>1991-01-02 07:00:00</th>\n",
              "      <td>False</td>\n",
              "      <td>False</td>\n",
              "      <td>False</td>\n",
              "      <td>False</td>\n",
              "      <td>False</td>\n",
              "      <td>False</td>\n",
              "    </tr>\n",
              "    <tr>\n",
              "      <th>1991-01-02 14:00:00</th>\n",
              "      <td>False</td>\n",
              "      <td>False</td>\n",
              "      <td>False</td>\n",
              "      <td>False</td>\n",
              "      <td>False</td>\n",
              "      <td>False</td>\n",
              "    </tr>\n",
              "    <tr>\n",
              "      <th>...</th>\n",
              "      <td>...</td>\n",
              "      <td>...</td>\n",
              "      <td>...</td>\n",
              "      <td>...</td>\n",
              "      <td>...</td>\n",
              "      <td>...</td>\n",
              "    </tr>\n",
              "    <tr>\n",
              "      <th>2021-12-30 00:00:00</th>\n",
              "      <td>False</td>\n",
              "      <td>False</td>\n",
              "      <td>False</td>\n",
              "      <td>False</td>\n",
              "      <td>False</td>\n",
              "      <td>False</td>\n",
              "    </tr>\n",
              "    <tr>\n",
              "      <th>2021-12-30 06:00:00</th>\n",
              "      <td>False</td>\n",
              "      <td>False</td>\n",
              "      <td>False</td>\n",
              "      <td>False</td>\n",
              "      <td>False</td>\n",
              "      <td>False</td>\n",
              "    </tr>\n",
              "    <tr>\n",
              "      <th>2021-12-30 12:00:00</th>\n",
              "      <td>False</td>\n",
              "      <td>False</td>\n",
              "      <td>False</td>\n",
              "      <td>False</td>\n",
              "      <td>False</td>\n",
              "      <td>False</td>\n",
              "    </tr>\n",
              "    <tr>\n",
              "      <th>2021-12-30 18:00:00</th>\n",
              "      <td>False</td>\n",
              "      <td>False</td>\n",
              "      <td>False</td>\n",
              "      <td>False</td>\n",
              "      <td>False</td>\n",
              "      <td>False</td>\n",
              "    </tr>\n",
              "    <tr>\n",
              "      <th>2021-12-31 00:00:00</th>\n",
              "      <td>False</td>\n",
              "      <td>False</td>\n",
              "      <td>False</td>\n",
              "      <td>False</td>\n",
              "      <td>False</td>\n",
              "      <td>False</td>\n",
              "    </tr>\n",
              "  </tbody>\n",
              "</table>\n",
              "<p>35672 rows × 6 columns</p>\n",
              "</div>\n",
              "      <button class=\"colab-df-convert\" onclick=\"convertToInteractive('df-315ccb46-cfc4-4a1d-b234-218ec40498c8')\"\n",
              "              title=\"Convert this dataframe to an interactive table.\"\n",
              "              style=\"display:none;\">\n",
              "        \n",
              "  <svg xmlns=\"http://www.w3.org/2000/svg\" height=\"24px\"viewBox=\"0 0 24 24\"\n",
              "       width=\"24px\">\n",
              "    <path d=\"M0 0h24v24H0V0z\" fill=\"none\"/>\n",
              "    <path d=\"M18.56 5.44l.94 2.06.94-2.06 2.06-.94-2.06-.94-.94-2.06-.94 2.06-2.06.94zm-11 1L8.5 8.5l.94-2.06 2.06-.94-2.06-.94L8.5 2.5l-.94 2.06-2.06.94zm10 10l.94 2.06.94-2.06 2.06-.94-2.06-.94-.94-2.06-.94 2.06-2.06.94z\"/><path d=\"M17.41 7.96l-1.37-1.37c-.4-.4-.92-.59-1.43-.59-.52 0-1.04.2-1.43.59L10.3 9.45l-7.72 7.72c-.78.78-.78 2.05 0 2.83L4 21.41c.39.39.9.59 1.41.59.51 0 1.02-.2 1.41-.59l7.78-7.78 2.81-2.81c.8-.78.8-2.07 0-2.86zM5.41 20L4 18.59l7.72-7.72 1.47 1.35L5.41 20z\"/>\n",
              "  </svg>\n",
              "      </button>\n",
              "      \n",
              "  <style>\n",
              "    .colab-df-container {\n",
              "      display:flex;\n",
              "      flex-wrap:wrap;\n",
              "      gap: 12px;\n",
              "    }\n",
              "\n",
              "    .colab-df-convert {\n",
              "      background-color: #E8F0FE;\n",
              "      border: none;\n",
              "      border-radius: 50%;\n",
              "      cursor: pointer;\n",
              "      display: none;\n",
              "      fill: #1967D2;\n",
              "      height: 32px;\n",
              "      padding: 0 0 0 0;\n",
              "      width: 32px;\n",
              "    }\n",
              "\n",
              "    .colab-df-convert:hover {\n",
              "      background-color: #E2EBFA;\n",
              "      box-shadow: 0px 1px 2px rgba(60, 64, 67, 0.3), 0px 1px 3px 1px rgba(60, 64, 67, 0.15);\n",
              "      fill: #174EA6;\n",
              "    }\n",
              "\n",
              "    [theme=dark] .colab-df-convert {\n",
              "      background-color: #3B4455;\n",
              "      fill: #D2E3FC;\n",
              "    }\n",
              "\n",
              "    [theme=dark] .colab-df-convert:hover {\n",
              "      background-color: #434B5C;\n",
              "      box-shadow: 0px 1px 3px 1px rgba(0, 0, 0, 0.15);\n",
              "      filter: drop-shadow(0px 1px 2px rgba(0, 0, 0, 0.3));\n",
              "      fill: #FFFFFF;\n",
              "    }\n",
              "  </style>\n",
              "\n",
              "      <script>\n",
              "        const buttonEl =\n",
              "          document.querySelector('#df-315ccb46-cfc4-4a1d-b234-218ec40498c8 button.colab-df-convert');\n",
              "        buttonEl.style.display =\n",
              "          google.colab.kernel.accessAllowed ? 'block' : 'none';\n",
              "\n",
              "        async function convertToInteractive(key) {\n",
              "          const element = document.querySelector('#df-315ccb46-cfc4-4a1d-b234-218ec40498c8');\n",
              "          const dataTable =\n",
              "            await google.colab.kernel.invokeFunction('convertToInteractive',\n",
              "                                                     [key], {});\n",
              "          if (!dataTable) return;\n",
              "\n",
              "          const docLinkHtml = 'Like what you see? Visit the ' +\n",
              "            '<a target=\"_blank\" href=https://colab.research.google.com/notebooks/data_table.ipynb>data table notebook</a>'\n",
              "            + ' to learn more about interactive tables.';\n",
              "          element.innerHTML = '';\n",
              "          dataTable['output_type'] = 'display_data';\n",
              "          await google.colab.output.renderOutput(dataTable, element);\n",
              "          const docLink = document.createElement('div');\n",
              "          docLink.innerHTML = docLinkHtml;\n",
              "          element.appendChild(docLink);\n",
              "        }\n",
              "      </script>\n",
              "    </div>\n",
              "  </div>\n",
              "  "
            ]
          },
          "metadata": {},
          "execution_count": 25
        }
      ],
      "source": [
        "soil_df1.isnull()"
      ]
    },
    {
      "cell_type": "code",
      "execution_count": null,
      "metadata": {
        "colab": {
          "base_uri": "https://localhost:8080/"
        },
        "id": "7p8jaj0Bj7C8",
        "outputId": "4f738765-09e6-42c0-cbea-27c684046d46"
      },
      "outputs": [
        {
          "output_type": "execute_result",
          "data": {
            "text/plain": [
              "Temp_and_Humidity     0\n",
              "Air_temperature       0\n",
              "Relative_humidity     0\n",
              "Evapotranspiration    0\n",
              "Daily_mean_temp       0\n",
              "Moisture_level        0\n",
              "dtype: int64"
            ]
          },
          "metadata": {},
          "execution_count": 26
        }
      ],
      "source": [
        "soil_df1.isnull().sum()"
      ]
    },
    {
      "cell_type": "markdown",
      "metadata": {
        "id": "mRtkBd0xJtW2"
      },
      "source": [
        "From the details in the above cell on null values, it is clear that we do not have to deal with missing values as they do not exist."
      ]
    },
    {
      "cell_type": "code",
      "execution_count": null,
      "metadata": {
        "colab": {
          "base_uri": "https://localhost:8080/"
        },
        "id": "ucL1BWFMgJrG",
        "outputId": "1c3bec3d-8a5e-41ce-c4c8-3b915f5048cc"
      },
      "outputs": [
        {
          "output_type": "execute_result",
          "data": {
            "text/plain": [
              "(35672, 6)"
            ]
          },
          "metadata": {},
          "execution_count": 27
        }
      ],
      "source": [
        "soil_df1.shape"
      ]
    },
    {
      "cell_type": "code",
      "execution_count": null,
      "metadata": {
        "colab": {
          "base_uri": "https://localhost:8080/",
          "height": 866
        },
        "id": "wLDeF5nkUihQ",
        "outputId": "ae4f800c-c057-42a5-addb-06e2a3999e05"
      },
      "outputs": [
        {
          "output_type": "execute_result",
          "data": {
            "text/plain": [
              "                     Temp_and_Humidity  Air_temperature  Relative_humidity  \\\n",
              "Date                                                                         \n",
              "1991-01-01 07:00:00                 10              3.0               91.0   \n",
              "1991-01-01 14:00:00                 10              4.8               85.0   \n",
              "1991-01-01 21:00:00                 10              3.9               82.0   \n",
              "1991-01-02 07:00:00                 10              5.6               94.0   \n",
              "1991-01-02 14:00:00                 10             11.0               87.0   \n",
              "...                                ...              ...                ...   \n",
              "2021-12-30 00:00:00                  1             11.6               90.0   \n",
              "2021-12-30 06:00:00                  1             11.1               98.0   \n",
              "2021-12-30 12:00:00                  1             14.3               83.0   \n",
              "2021-12-30 18:00:00                  1             13.5               90.0   \n",
              "2021-12-31 00:00:00                  1             13.8               83.0   \n",
              "\n",
              "                     Evapotranspiration  Daily_mean_temp  Moisture_level  \n",
              "Date                                                                      \n",
              "1991-01-01 07:00:00                 0.3              2.9             102  \n",
              "1991-01-01 14:00:00                 0.3              2.9             102  \n",
              "1991-01-01 21:00:00                 0.3              2.9             102  \n",
              "1991-01-02 07:00:00                 1.4              6.3             110  \n",
              "1991-01-02 14:00:00                 1.4              6.3             110  \n",
              "...                                 ...              ...             ...  \n",
              "2021-12-30 00:00:00                 0.8              9.4             104  \n",
              "2021-12-30 06:00:00                 0.8              9.4             104  \n",
              "2021-12-30 12:00:00                 0.8              9.4             104  \n",
              "2021-12-30 18:00:00                 0.8              9.4             104  \n",
              "2021-12-31 00:00:00                 0.8             10.5             101  \n",
              "\n",
              "[35672 rows x 6 columns]"
            ],
            "text/html": [
              "\n",
              "  <div id=\"df-1f0de3ff-13ab-44bb-b1e8-6f21d68ffed4\">\n",
              "    <div class=\"colab-df-container\">\n",
              "      <div>\n",
              "<style scoped>\n",
              "    .dataframe tbody tr th:only-of-type {\n",
              "        vertical-align: middle;\n",
              "    }\n",
              "\n",
              "    .dataframe tbody tr th {\n",
              "        vertical-align: top;\n",
              "    }\n",
              "\n",
              "    .dataframe thead th {\n",
              "        text-align: right;\n",
              "    }\n",
              "</style>\n",
              "<table border=\"1\" class=\"dataframe\">\n",
              "  <thead>\n",
              "    <tr style=\"text-align: right;\">\n",
              "      <th></th>\n",
              "      <th>Temp_and_Humidity</th>\n",
              "      <th>Air_temperature</th>\n",
              "      <th>Relative_humidity</th>\n",
              "      <th>Evapotranspiration</th>\n",
              "      <th>Daily_mean_temp</th>\n",
              "      <th>Moisture_level</th>\n",
              "    </tr>\n",
              "    <tr>\n",
              "      <th>Date</th>\n",
              "      <th></th>\n",
              "      <th></th>\n",
              "      <th></th>\n",
              "      <th></th>\n",
              "      <th></th>\n",
              "      <th></th>\n",
              "    </tr>\n",
              "  </thead>\n",
              "  <tbody>\n",
              "    <tr>\n",
              "      <th>1991-01-01 07:00:00</th>\n",
              "      <td>10</td>\n",
              "      <td>3.0</td>\n",
              "      <td>91.0</td>\n",
              "      <td>0.3</td>\n",
              "      <td>2.9</td>\n",
              "      <td>102</td>\n",
              "    </tr>\n",
              "    <tr>\n",
              "      <th>1991-01-01 14:00:00</th>\n",
              "      <td>10</td>\n",
              "      <td>4.8</td>\n",
              "      <td>85.0</td>\n",
              "      <td>0.3</td>\n",
              "      <td>2.9</td>\n",
              "      <td>102</td>\n",
              "    </tr>\n",
              "    <tr>\n",
              "      <th>1991-01-01 21:00:00</th>\n",
              "      <td>10</td>\n",
              "      <td>3.9</td>\n",
              "      <td>82.0</td>\n",
              "      <td>0.3</td>\n",
              "      <td>2.9</td>\n",
              "      <td>102</td>\n",
              "    </tr>\n",
              "    <tr>\n",
              "      <th>1991-01-02 07:00:00</th>\n",
              "      <td>10</td>\n",
              "      <td>5.6</td>\n",
              "      <td>94.0</td>\n",
              "      <td>1.4</td>\n",
              "      <td>6.3</td>\n",
              "      <td>110</td>\n",
              "    </tr>\n",
              "    <tr>\n",
              "      <th>1991-01-02 14:00:00</th>\n",
              "      <td>10</td>\n",
              "      <td>11.0</td>\n",
              "      <td>87.0</td>\n",
              "      <td>1.4</td>\n",
              "      <td>6.3</td>\n",
              "      <td>110</td>\n",
              "    </tr>\n",
              "    <tr>\n",
              "      <th>...</th>\n",
              "      <td>...</td>\n",
              "      <td>...</td>\n",
              "      <td>...</td>\n",
              "      <td>...</td>\n",
              "      <td>...</td>\n",
              "      <td>...</td>\n",
              "    </tr>\n",
              "    <tr>\n",
              "      <th>2021-12-30 00:00:00</th>\n",
              "      <td>1</td>\n",
              "      <td>11.6</td>\n",
              "      <td>90.0</td>\n",
              "      <td>0.8</td>\n",
              "      <td>9.4</td>\n",
              "      <td>104</td>\n",
              "    </tr>\n",
              "    <tr>\n",
              "      <th>2021-12-30 06:00:00</th>\n",
              "      <td>1</td>\n",
              "      <td>11.1</td>\n",
              "      <td>98.0</td>\n",
              "      <td>0.8</td>\n",
              "      <td>9.4</td>\n",
              "      <td>104</td>\n",
              "    </tr>\n",
              "    <tr>\n",
              "      <th>2021-12-30 12:00:00</th>\n",
              "      <td>1</td>\n",
              "      <td>14.3</td>\n",
              "      <td>83.0</td>\n",
              "      <td>0.8</td>\n",
              "      <td>9.4</td>\n",
              "      <td>104</td>\n",
              "    </tr>\n",
              "    <tr>\n",
              "      <th>2021-12-30 18:00:00</th>\n",
              "      <td>1</td>\n",
              "      <td>13.5</td>\n",
              "      <td>90.0</td>\n",
              "      <td>0.8</td>\n",
              "      <td>9.4</td>\n",
              "      <td>104</td>\n",
              "    </tr>\n",
              "    <tr>\n",
              "      <th>2021-12-31 00:00:00</th>\n",
              "      <td>1</td>\n",
              "      <td>13.8</td>\n",
              "      <td>83.0</td>\n",
              "      <td>0.8</td>\n",
              "      <td>10.5</td>\n",
              "      <td>101</td>\n",
              "    </tr>\n",
              "  </tbody>\n",
              "</table>\n",
              "<p>35672 rows × 6 columns</p>\n",
              "</div>\n",
              "      <button class=\"colab-df-convert\" onclick=\"convertToInteractive('df-1f0de3ff-13ab-44bb-b1e8-6f21d68ffed4')\"\n",
              "              title=\"Convert this dataframe to an interactive table.\"\n",
              "              style=\"display:none;\">\n",
              "        \n",
              "  <svg xmlns=\"http://www.w3.org/2000/svg\" height=\"24px\"viewBox=\"0 0 24 24\"\n",
              "       width=\"24px\">\n",
              "    <path d=\"M0 0h24v24H0V0z\" fill=\"none\"/>\n",
              "    <path d=\"M18.56 5.44l.94 2.06.94-2.06 2.06-.94-2.06-.94-.94-2.06-.94 2.06-2.06.94zm-11 1L8.5 8.5l.94-2.06 2.06-.94-2.06-.94L8.5 2.5l-.94 2.06-2.06.94zm10 10l.94 2.06.94-2.06 2.06-.94-2.06-.94-.94-2.06-.94 2.06-2.06.94z\"/><path d=\"M17.41 7.96l-1.37-1.37c-.4-.4-.92-.59-1.43-.59-.52 0-1.04.2-1.43.59L10.3 9.45l-7.72 7.72c-.78.78-.78 2.05 0 2.83L4 21.41c.39.39.9.59 1.41.59.51 0 1.02-.2 1.41-.59l7.78-7.78 2.81-2.81c.8-.78.8-2.07 0-2.86zM5.41 20L4 18.59l7.72-7.72 1.47 1.35L5.41 20z\"/>\n",
              "  </svg>\n",
              "      </button>\n",
              "      \n",
              "  <style>\n",
              "    .colab-df-container {\n",
              "      display:flex;\n",
              "      flex-wrap:wrap;\n",
              "      gap: 12px;\n",
              "    }\n",
              "\n",
              "    .colab-df-convert {\n",
              "      background-color: #E8F0FE;\n",
              "      border: none;\n",
              "      border-radius: 50%;\n",
              "      cursor: pointer;\n",
              "      display: none;\n",
              "      fill: #1967D2;\n",
              "      height: 32px;\n",
              "      padding: 0 0 0 0;\n",
              "      width: 32px;\n",
              "    }\n",
              "\n",
              "    .colab-df-convert:hover {\n",
              "      background-color: #E2EBFA;\n",
              "      box-shadow: 0px 1px 2px rgba(60, 64, 67, 0.3), 0px 1px 3px 1px rgba(60, 64, 67, 0.15);\n",
              "      fill: #174EA6;\n",
              "    }\n",
              "\n",
              "    [theme=dark] .colab-df-convert {\n",
              "      background-color: #3B4455;\n",
              "      fill: #D2E3FC;\n",
              "    }\n",
              "\n",
              "    [theme=dark] .colab-df-convert:hover {\n",
              "      background-color: #434B5C;\n",
              "      box-shadow: 0px 1px 3px 1px rgba(0, 0, 0, 0.15);\n",
              "      filter: drop-shadow(0px 1px 2px rgba(0, 0, 0, 0.3));\n",
              "      fill: #FFFFFF;\n",
              "    }\n",
              "  </style>\n",
              "\n",
              "      <script>\n",
              "        const buttonEl =\n",
              "          document.querySelector('#df-1f0de3ff-13ab-44bb-b1e8-6f21d68ffed4 button.colab-df-convert');\n",
              "        buttonEl.style.display =\n",
              "          google.colab.kernel.accessAllowed ? 'block' : 'none';\n",
              "\n",
              "        async function convertToInteractive(key) {\n",
              "          const element = document.querySelector('#df-1f0de3ff-13ab-44bb-b1e8-6f21d68ffed4');\n",
              "          const dataTable =\n",
              "            await google.colab.kernel.invokeFunction('convertToInteractive',\n",
              "                                                     [key], {});\n",
              "          if (!dataTable) return;\n",
              "\n",
              "          const docLinkHtml = 'Like what you see? Visit the ' +\n",
              "            '<a target=\"_blank\" href=https://colab.research.google.com/notebooks/data_table.ipynb>data table notebook</a>'\n",
              "            + ' to learn more about interactive tables.';\n",
              "          element.innerHTML = '';\n",
              "          dataTable['output_type'] = 'display_data';\n",
              "          await google.colab.output.renderOutput(dataTable, element);\n",
              "          const docLink = document.createElement('div');\n",
              "          docLink.innerHTML = docLinkHtml;\n",
              "          element.appendChild(docLink);\n",
              "        }\n",
              "      </script>\n",
              "    </div>\n",
              "  </div>\n",
              "  "
            ]
          },
          "metadata": {},
          "execution_count": 28
        }
      ],
      "source": [
        "soil_df1"
      ]
    },
    {
      "cell_type": "markdown",
      "metadata": {
        "id": "aJUkluBtSzok"
      },
      "source": [
        "###**6.Checking correlations among the columns**\n",
        "\n",
        "We need to check the relatedness of the columns so that we can gauge their impact on one another. This will lead us in concluding which are the columns relevant for our objective of the study and those that are not. This will further help in deciding which columns are essential and which are the ones we could drop."
      ]
    },
    {
      "cell_type": "code",
      "execution_count": null,
      "metadata": {
        "colab": {
          "base_uri": "https://localhost:8080/",
          "height": 302
        },
        "id": "fcgXso7xWKnd",
        "outputId": "62ecc4cc-ebca-4d30-a893-6a6f15a75830"
      },
      "outputs": [
        {
          "output_type": "execute_result",
          "data": {
            "text/plain": [
              "                    Temp_and_Humidity  Air_temperature  Relative_humidity  \\\n",
              "Temp_and_Humidity            1.000000        -0.042026           0.014233   \n",
              "Air_temperature             -0.042026         1.000000          -0.537144   \n",
              "Relative_humidity            0.014233        -0.537144           1.000000   \n",
              "Evapotranspiration           0.043550         0.596037          -0.377856   \n",
              "Daily_mean_temp             -0.065803         0.901996          -0.371164   \n",
              "Moisture_level               0.171918        -0.612414           0.423559   \n",
              "\n",
              "                    Evapotranspiration  Daily_mean_temp  Moisture_level  \n",
              "Temp_and_Humidity             0.043550        -0.065803        0.171918  \n",
              "Air_temperature               0.596037         0.901996       -0.612414  \n",
              "Relative_humidity            -0.377856        -0.371164        0.423559  \n",
              "Evapotranspiration            1.000000         0.657737       -0.351247  \n",
              "Daily_mean_temp               0.657737         1.000000       -0.721312  \n",
              "Moisture_level               -0.351247        -0.721312        1.000000  "
            ],
            "text/html": [
              "\n",
              "  <div id=\"df-be1260e8-3519-41fc-abd4-331c7d43bb79\">\n",
              "    <div class=\"colab-df-container\">\n",
              "      <div>\n",
              "<style scoped>\n",
              "    .dataframe tbody tr th:only-of-type {\n",
              "        vertical-align: middle;\n",
              "    }\n",
              "\n",
              "    .dataframe tbody tr th {\n",
              "        vertical-align: top;\n",
              "    }\n",
              "\n",
              "    .dataframe thead th {\n",
              "        text-align: right;\n",
              "    }\n",
              "</style>\n",
              "<table border=\"1\" class=\"dataframe\">\n",
              "  <thead>\n",
              "    <tr style=\"text-align: right;\">\n",
              "      <th></th>\n",
              "      <th>Temp_and_Humidity</th>\n",
              "      <th>Air_temperature</th>\n",
              "      <th>Relative_humidity</th>\n",
              "      <th>Evapotranspiration</th>\n",
              "      <th>Daily_mean_temp</th>\n",
              "      <th>Moisture_level</th>\n",
              "    </tr>\n",
              "  </thead>\n",
              "  <tbody>\n",
              "    <tr>\n",
              "      <th>Temp_and_Humidity</th>\n",
              "      <td>1.000000</td>\n",
              "      <td>-0.042026</td>\n",
              "      <td>0.014233</td>\n",
              "      <td>0.043550</td>\n",
              "      <td>-0.065803</td>\n",
              "      <td>0.171918</td>\n",
              "    </tr>\n",
              "    <tr>\n",
              "      <th>Air_temperature</th>\n",
              "      <td>-0.042026</td>\n",
              "      <td>1.000000</td>\n",
              "      <td>-0.537144</td>\n",
              "      <td>0.596037</td>\n",
              "      <td>0.901996</td>\n",
              "      <td>-0.612414</td>\n",
              "    </tr>\n",
              "    <tr>\n",
              "      <th>Relative_humidity</th>\n",
              "      <td>0.014233</td>\n",
              "      <td>-0.537144</td>\n",
              "      <td>1.000000</td>\n",
              "      <td>-0.377856</td>\n",
              "      <td>-0.371164</td>\n",
              "      <td>0.423559</td>\n",
              "    </tr>\n",
              "    <tr>\n",
              "      <th>Evapotranspiration</th>\n",
              "      <td>0.043550</td>\n",
              "      <td>0.596037</td>\n",
              "      <td>-0.377856</td>\n",
              "      <td>1.000000</td>\n",
              "      <td>0.657737</td>\n",
              "      <td>-0.351247</td>\n",
              "    </tr>\n",
              "    <tr>\n",
              "      <th>Daily_mean_temp</th>\n",
              "      <td>-0.065803</td>\n",
              "      <td>0.901996</td>\n",
              "      <td>-0.371164</td>\n",
              "      <td>0.657737</td>\n",
              "      <td>1.000000</td>\n",
              "      <td>-0.721312</td>\n",
              "    </tr>\n",
              "    <tr>\n",
              "      <th>Moisture_level</th>\n",
              "      <td>0.171918</td>\n",
              "      <td>-0.612414</td>\n",
              "      <td>0.423559</td>\n",
              "      <td>-0.351247</td>\n",
              "      <td>-0.721312</td>\n",
              "      <td>1.000000</td>\n",
              "    </tr>\n",
              "  </tbody>\n",
              "</table>\n",
              "</div>\n",
              "      <button class=\"colab-df-convert\" onclick=\"convertToInteractive('df-be1260e8-3519-41fc-abd4-331c7d43bb79')\"\n",
              "              title=\"Convert this dataframe to an interactive table.\"\n",
              "              style=\"display:none;\">\n",
              "        \n",
              "  <svg xmlns=\"http://www.w3.org/2000/svg\" height=\"24px\"viewBox=\"0 0 24 24\"\n",
              "       width=\"24px\">\n",
              "    <path d=\"M0 0h24v24H0V0z\" fill=\"none\"/>\n",
              "    <path d=\"M18.56 5.44l.94 2.06.94-2.06 2.06-.94-2.06-.94-.94-2.06-.94 2.06-2.06.94zm-11 1L8.5 8.5l.94-2.06 2.06-.94-2.06-.94L8.5 2.5l-.94 2.06-2.06.94zm10 10l.94 2.06.94-2.06 2.06-.94-2.06-.94-.94-2.06-.94 2.06-2.06.94z\"/><path d=\"M17.41 7.96l-1.37-1.37c-.4-.4-.92-.59-1.43-.59-.52 0-1.04.2-1.43.59L10.3 9.45l-7.72 7.72c-.78.78-.78 2.05 0 2.83L4 21.41c.39.39.9.59 1.41.59.51 0 1.02-.2 1.41-.59l7.78-7.78 2.81-2.81c.8-.78.8-2.07 0-2.86zM5.41 20L4 18.59l7.72-7.72 1.47 1.35L5.41 20z\"/>\n",
              "  </svg>\n",
              "      </button>\n",
              "      \n",
              "  <style>\n",
              "    .colab-df-container {\n",
              "      display:flex;\n",
              "      flex-wrap:wrap;\n",
              "      gap: 12px;\n",
              "    }\n",
              "\n",
              "    .colab-df-convert {\n",
              "      background-color: #E8F0FE;\n",
              "      border: none;\n",
              "      border-radius: 50%;\n",
              "      cursor: pointer;\n",
              "      display: none;\n",
              "      fill: #1967D2;\n",
              "      height: 32px;\n",
              "      padding: 0 0 0 0;\n",
              "      width: 32px;\n",
              "    }\n",
              "\n",
              "    .colab-df-convert:hover {\n",
              "      background-color: #E2EBFA;\n",
              "      box-shadow: 0px 1px 2px rgba(60, 64, 67, 0.3), 0px 1px 3px 1px rgba(60, 64, 67, 0.15);\n",
              "      fill: #174EA6;\n",
              "    }\n",
              "\n",
              "    [theme=dark] .colab-df-convert {\n",
              "      background-color: #3B4455;\n",
              "      fill: #D2E3FC;\n",
              "    }\n",
              "\n",
              "    [theme=dark] .colab-df-convert:hover {\n",
              "      background-color: #434B5C;\n",
              "      box-shadow: 0px 1px 3px 1px rgba(0, 0, 0, 0.15);\n",
              "      filter: drop-shadow(0px 1px 2px rgba(0, 0, 0, 0.3));\n",
              "      fill: #FFFFFF;\n",
              "    }\n",
              "  </style>\n",
              "\n",
              "      <script>\n",
              "        const buttonEl =\n",
              "          document.querySelector('#df-be1260e8-3519-41fc-abd4-331c7d43bb79 button.colab-df-convert');\n",
              "        buttonEl.style.display =\n",
              "          google.colab.kernel.accessAllowed ? 'block' : 'none';\n",
              "\n",
              "        async function convertToInteractive(key) {\n",
              "          const element = document.querySelector('#df-be1260e8-3519-41fc-abd4-331c7d43bb79');\n",
              "          const dataTable =\n",
              "            await google.colab.kernel.invokeFunction('convertToInteractive',\n",
              "                                                     [key], {});\n",
              "          if (!dataTable) return;\n",
              "\n",
              "          const docLinkHtml = 'Like what you see? Visit the ' +\n",
              "            '<a target=\"_blank\" href=https://colab.research.google.com/notebooks/data_table.ipynb>data table notebook</a>'\n",
              "            + ' to learn more about interactive tables.';\n",
              "          element.innerHTML = '';\n",
              "          dataTable['output_type'] = 'display_data';\n",
              "          await google.colab.output.renderOutput(dataTable, element);\n",
              "          const docLink = document.createElement('div');\n",
              "          docLink.innerHTML = docLinkHtml;\n",
              "          element.appendChild(docLink);\n",
              "        }\n",
              "      </script>\n",
              "    </div>\n",
              "  </div>\n",
              "  "
            ]
          },
          "metadata": {},
          "execution_count": 29
        }
      ],
      "source": [
        "soil_df1.corr(method = \"pearson\", min_periods= 25)"
      ]
    },
    {
      "cell_type": "markdown",
      "metadata": {
        "id": "cKKfFCmaWZ7x"
      },
      "source": [
        "From the above correlation we see that the columns bear no correlation. The highest relatedness is seen between the columns **Relative_humidity** and **Moisture_level**"
      ]
    },
    {
      "cell_type": "markdown",
      "metadata": {
        "id": "REfPstrplJMK"
      },
      "source": [
        "**Notes based on result of correlations between columns**\n",
        "\n",
        "\n",
        "The important aspect to make note of here is that our objective is to forecast the value of the **\"Moisture_level\"** 30 days in advance. Bearing this in mind, we can arrive at few conclusions.\n",
        "- The highest correlation exists between **Daily_mean_temp** and **Air_temperature**. This is very obivious that the value of former variable is derived from the readings recorded for the latter one. Thus, we will be dropping the column **Air_temperature**.\n",
        "- This is followed by correlation between **Daily_mean_temp** and **Evapotranspiration**.\n",
        "- We also notice that there is positive correlation between **Moisture_level** and **Relative_humidity**. From this we can conclude that higher the level of humidity higher is the moisture_level.\n",
        "- Variable **Temp_and_Humidity** is categorical data based on quality check for records of values for the succeeding two columns of **Air_temperature** and **Relative_Humidity**. This data has no impact on the **Moisture_level** values. Also this column has a meagre relatedness to **Moisture_level**.Hence, we will be eliminating this column from the database.\n",
        "- One can see that values in columns **\"Evapotranspiration\", \"Daily_mean_temp\" and \"Moisture_level\"** are one record per day, irrespective of timestamp. This means that nothing much has to be done in these columns and the values would get reassigned if we proceed with resampling of data according to date.\n",
        "\n",
        "From the above observations we can conclude that the variables: **Temp_and_Humidity**, **Air_temperature** whose derived column \"Daily_mean_temp\" is kept, while the former ones be dropped from the dataframe to reduce dimensionality and thus size of data to be processed. This helps save time in processing data."
      ]
    },
    {
      "cell_type": "markdown",
      "metadata": {
        "id": "AUjMHx9d__3f"
      },
      "source": [
        "###**7.Dropping columns that are not relevant**"
      ]
    },
    {
      "cell_type": "code",
      "execution_count": null,
      "metadata": {
        "id": "UNGkocy1AHd6"
      },
      "outputs": [],
      "source": [
        "soil_df1.drop(\"Temp_and_Humidity\", axis = 1, inplace = True)\n",
        "soil_df1.drop(\"Air_temperature\", axis = 1, inplace = True)\n"
      ]
    },
    {
      "cell_type": "code",
      "execution_count": null,
      "metadata": {
        "colab": {
          "base_uri": "https://localhost:8080/",
          "height": 238
        },
        "id": "IoirjjLFBbmz",
        "outputId": "96f45d0b-61f8-41ab-866e-535a3361a646"
      },
      "outputs": [
        {
          "output_type": "execute_result",
          "data": {
            "text/plain": [
              "                     Relative_humidity  Evapotranspiration  Daily_mean_temp  \\\n",
              "Date                                                                          \n",
              "1991-01-01 07:00:00               91.0                 0.3              2.9   \n",
              "1991-01-01 14:00:00               85.0                 0.3              2.9   \n",
              "1991-01-01 21:00:00               82.0                 0.3              2.9   \n",
              "1991-01-02 07:00:00               94.0                 1.4              6.3   \n",
              "1991-01-02 14:00:00               87.0                 1.4              6.3   \n",
              "\n",
              "                     Moisture_level  \n",
              "Date                                 \n",
              "1991-01-01 07:00:00             102  \n",
              "1991-01-01 14:00:00             102  \n",
              "1991-01-01 21:00:00             102  \n",
              "1991-01-02 07:00:00             110  \n",
              "1991-01-02 14:00:00             110  "
            ],
            "text/html": [
              "\n",
              "  <div id=\"df-540cca17-abca-45a3-8bb0-b3a997ae725e\">\n",
              "    <div class=\"colab-df-container\">\n",
              "      <div>\n",
              "<style scoped>\n",
              "    .dataframe tbody tr th:only-of-type {\n",
              "        vertical-align: middle;\n",
              "    }\n",
              "\n",
              "    .dataframe tbody tr th {\n",
              "        vertical-align: top;\n",
              "    }\n",
              "\n",
              "    .dataframe thead th {\n",
              "        text-align: right;\n",
              "    }\n",
              "</style>\n",
              "<table border=\"1\" class=\"dataframe\">\n",
              "  <thead>\n",
              "    <tr style=\"text-align: right;\">\n",
              "      <th></th>\n",
              "      <th>Relative_humidity</th>\n",
              "      <th>Evapotranspiration</th>\n",
              "      <th>Daily_mean_temp</th>\n",
              "      <th>Moisture_level</th>\n",
              "    </tr>\n",
              "    <tr>\n",
              "      <th>Date</th>\n",
              "      <th></th>\n",
              "      <th></th>\n",
              "      <th></th>\n",
              "      <th></th>\n",
              "    </tr>\n",
              "  </thead>\n",
              "  <tbody>\n",
              "    <tr>\n",
              "      <th>1991-01-01 07:00:00</th>\n",
              "      <td>91.0</td>\n",
              "      <td>0.3</td>\n",
              "      <td>2.9</td>\n",
              "      <td>102</td>\n",
              "    </tr>\n",
              "    <tr>\n",
              "      <th>1991-01-01 14:00:00</th>\n",
              "      <td>85.0</td>\n",
              "      <td>0.3</td>\n",
              "      <td>2.9</td>\n",
              "      <td>102</td>\n",
              "    </tr>\n",
              "    <tr>\n",
              "      <th>1991-01-01 21:00:00</th>\n",
              "      <td>82.0</td>\n",
              "      <td>0.3</td>\n",
              "      <td>2.9</td>\n",
              "      <td>102</td>\n",
              "    </tr>\n",
              "    <tr>\n",
              "      <th>1991-01-02 07:00:00</th>\n",
              "      <td>94.0</td>\n",
              "      <td>1.4</td>\n",
              "      <td>6.3</td>\n",
              "      <td>110</td>\n",
              "    </tr>\n",
              "    <tr>\n",
              "      <th>1991-01-02 14:00:00</th>\n",
              "      <td>87.0</td>\n",
              "      <td>1.4</td>\n",
              "      <td>6.3</td>\n",
              "      <td>110</td>\n",
              "    </tr>\n",
              "  </tbody>\n",
              "</table>\n",
              "</div>\n",
              "      <button class=\"colab-df-convert\" onclick=\"convertToInteractive('df-540cca17-abca-45a3-8bb0-b3a997ae725e')\"\n",
              "              title=\"Convert this dataframe to an interactive table.\"\n",
              "              style=\"display:none;\">\n",
              "        \n",
              "  <svg xmlns=\"http://www.w3.org/2000/svg\" height=\"24px\"viewBox=\"0 0 24 24\"\n",
              "       width=\"24px\">\n",
              "    <path d=\"M0 0h24v24H0V0z\" fill=\"none\"/>\n",
              "    <path d=\"M18.56 5.44l.94 2.06.94-2.06 2.06-.94-2.06-.94-.94-2.06-.94 2.06-2.06.94zm-11 1L8.5 8.5l.94-2.06 2.06-.94-2.06-.94L8.5 2.5l-.94 2.06-2.06.94zm10 10l.94 2.06.94-2.06 2.06-.94-2.06-.94-.94-2.06-.94 2.06-2.06.94z\"/><path d=\"M17.41 7.96l-1.37-1.37c-.4-.4-.92-.59-1.43-.59-.52 0-1.04.2-1.43.59L10.3 9.45l-7.72 7.72c-.78.78-.78 2.05 0 2.83L4 21.41c.39.39.9.59 1.41.59.51 0 1.02-.2 1.41-.59l7.78-7.78 2.81-2.81c.8-.78.8-2.07 0-2.86zM5.41 20L4 18.59l7.72-7.72 1.47 1.35L5.41 20z\"/>\n",
              "  </svg>\n",
              "      </button>\n",
              "      \n",
              "  <style>\n",
              "    .colab-df-container {\n",
              "      display:flex;\n",
              "      flex-wrap:wrap;\n",
              "      gap: 12px;\n",
              "    }\n",
              "\n",
              "    .colab-df-convert {\n",
              "      background-color: #E8F0FE;\n",
              "      border: none;\n",
              "      border-radius: 50%;\n",
              "      cursor: pointer;\n",
              "      display: none;\n",
              "      fill: #1967D2;\n",
              "      height: 32px;\n",
              "      padding: 0 0 0 0;\n",
              "      width: 32px;\n",
              "    }\n",
              "\n",
              "    .colab-df-convert:hover {\n",
              "      background-color: #E2EBFA;\n",
              "      box-shadow: 0px 1px 2px rgba(60, 64, 67, 0.3), 0px 1px 3px 1px rgba(60, 64, 67, 0.15);\n",
              "      fill: #174EA6;\n",
              "    }\n",
              "\n",
              "    [theme=dark] .colab-df-convert {\n",
              "      background-color: #3B4455;\n",
              "      fill: #D2E3FC;\n",
              "    }\n",
              "\n",
              "    [theme=dark] .colab-df-convert:hover {\n",
              "      background-color: #434B5C;\n",
              "      box-shadow: 0px 1px 3px 1px rgba(0, 0, 0, 0.15);\n",
              "      filter: drop-shadow(0px 1px 2px rgba(0, 0, 0, 0.3));\n",
              "      fill: #FFFFFF;\n",
              "    }\n",
              "  </style>\n",
              "\n",
              "      <script>\n",
              "        const buttonEl =\n",
              "          document.querySelector('#df-540cca17-abca-45a3-8bb0-b3a997ae725e button.colab-df-convert');\n",
              "        buttonEl.style.display =\n",
              "          google.colab.kernel.accessAllowed ? 'block' : 'none';\n",
              "\n",
              "        async function convertToInteractive(key) {\n",
              "          const element = document.querySelector('#df-540cca17-abca-45a3-8bb0-b3a997ae725e');\n",
              "          const dataTable =\n",
              "            await google.colab.kernel.invokeFunction('convertToInteractive',\n",
              "                                                     [key], {});\n",
              "          if (!dataTable) return;\n",
              "\n",
              "          const docLinkHtml = 'Like what you see? Visit the ' +\n",
              "            '<a target=\"_blank\" href=https://colab.research.google.com/notebooks/data_table.ipynb>data table notebook</a>'\n",
              "            + ' to learn more about interactive tables.';\n",
              "          element.innerHTML = '';\n",
              "          dataTable['output_type'] = 'display_data';\n",
              "          await google.colab.output.renderOutput(dataTable, element);\n",
              "          const docLink = document.createElement('div');\n",
              "          docLink.innerHTML = docLinkHtml;\n",
              "          element.appendChild(docLink);\n",
              "        }\n",
              "      </script>\n",
              "    </div>\n",
              "  </div>\n",
              "  "
            ]
          },
          "metadata": {},
          "execution_count": 31
        }
      ],
      "source": [
        "soil_df1.head()"
      ]
    },
    {
      "cell_type": "code",
      "execution_count": null,
      "metadata": {
        "colab": {
          "base_uri": "https://localhost:8080/"
        },
        "id": "jl64Dy6JBgZt",
        "outputId": "25b13419-c8d8-4654-9f38-8290aa49ecc3"
      },
      "outputs": [
        {
          "output_type": "execute_result",
          "data": {
            "text/plain": [
              "(35672, 4)"
            ]
          },
          "metadata": {},
          "execution_count": 32
        }
      ],
      "source": [
        "soil_df1.shape"
      ]
    },
    {
      "cell_type": "markdown",
      "metadata": {
        "id": "atinMGGfF0u3"
      },
      "source": [
        "###**8.Resample database on \"Daily\" basis**\n",
        "\n",
        "We can see that there are three or four recordings per date with varied timestamps. Resampling will have no effect on columns of *Evapotranspiration, Daily_mean_temp and Moisture_level* as these are one reading per day.\n",
        "The only column whose values are to be worked on is *Relative_humidity*. This is because it has varied values per timestamp of recording. We can resample the values of this column basis their mean value on each day. This has been concluded taking into consideration the keyword used for the column *Daily_mean_temperature* (TS05 of the original dataset) . Thus we assume that values in all the other features are of mean aggregation."
      ]
    },
    {
      "cell_type": "markdown",
      "metadata": {
        "id": "FFv7zpxJrVix"
      },
      "source": [
        "Rounding up values of *Relative_humidity* column to one decimal place.\n",
        "\n",
        "This is done so that there in uniformity in the data along with other columns. This also results in normalisation of data along the same statistical measure.\n",
        "\n",
        "*Note: Yet the scales of measurements for each column are varied and we may have to standardise data in future*"
      ]
    },
    {
      "cell_type": "code",
      "execution_count": null,
      "metadata": {
        "id": "gY46bOsRBJi3"
      },
      "outputs": [],
      "source": [
        "soil_df_resampled = soil_df1.resample(\"D\").mean().round(decimals = 1)"
      ]
    },
    {
      "cell_type": "code",
      "execution_count": null,
      "metadata": {
        "colab": {
          "base_uri": "https://localhost:8080/",
          "height": 238
        },
        "id": "xiByz6KpqZkW",
        "outputId": "0e83ee0b-649a-48d1-ff65-7851424de72b"
      },
      "outputs": [
        {
          "output_type": "execute_result",
          "data": {
            "text/plain": [
              "            Relative_humidity  Evapotranspiration  Daily_mean_temp  \\\n",
              "Date                                                                 \n",
              "1991-01-01               86.0                 0.3              2.9   \n",
              "1991-01-02               90.7                 1.4              6.3   \n",
              "1991-01-03               82.3                 1.0              6.6   \n",
              "1991-01-04               76.7                 1.2              5.5   \n",
              "1991-01-05               78.0                 1.0              3.7   \n",
              "\n",
              "            Moisture_level  \n",
              "Date                        \n",
              "1991-01-01           102.0  \n",
              "1991-01-02           110.0  \n",
              "1991-01-03           110.0  \n",
              "1991-01-04           106.0  \n",
              "1991-01-05           109.0  "
            ],
            "text/html": [
              "\n",
              "  <div id=\"df-417a7d0a-d73e-44ee-be4f-88b27b388945\">\n",
              "    <div class=\"colab-df-container\">\n",
              "      <div>\n",
              "<style scoped>\n",
              "    .dataframe tbody tr th:only-of-type {\n",
              "        vertical-align: middle;\n",
              "    }\n",
              "\n",
              "    .dataframe tbody tr th {\n",
              "        vertical-align: top;\n",
              "    }\n",
              "\n",
              "    .dataframe thead th {\n",
              "        text-align: right;\n",
              "    }\n",
              "</style>\n",
              "<table border=\"1\" class=\"dataframe\">\n",
              "  <thead>\n",
              "    <tr style=\"text-align: right;\">\n",
              "      <th></th>\n",
              "      <th>Relative_humidity</th>\n",
              "      <th>Evapotranspiration</th>\n",
              "      <th>Daily_mean_temp</th>\n",
              "      <th>Moisture_level</th>\n",
              "    </tr>\n",
              "    <tr>\n",
              "      <th>Date</th>\n",
              "      <th></th>\n",
              "      <th></th>\n",
              "      <th></th>\n",
              "      <th></th>\n",
              "    </tr>\n",
              "  </thead>\n",
              "  <tbody>\n",
              "    <tr>\n",
              "      <th>1991-01-01</th>\n",
              "      <td>86.0</td>\n",
              "      <td>0.3</td>\n",
              "      <td>2.9</td>\n",
              "      <td>102.0</td>\n",
              "    </tr>\n",
              "    <tr>\n",
              "      <th>1991-01-02</th>\n",
              "      <td>90.7</td>\n",
              "      <td>1.4</td>\n",
              "      <td>6.3</td>\n",
              "      <td>110.0</td>\n",
              "    </tr>\n",
              "    <tr>\n",
              "      <th>1991-01-03</th>\n",
              "      <td>82.3</td>\n",
              "      <td>1.0</td>\n",
              "      <td>6.6</td>\n",
              "      <td>110.0</td>\n",
              "    </tr>\n",
              "    <tr>\n",
              "      <th>1991-01-04</th>\n",
              "      <td>76.7</td>\n",
              "      <td>1.2</td>\n",
              "      <td>5.5</td>\n",
              "      <td>106.0</td>\n",
              "    </tr>\n",
              "    <tr>\n",
              "      <th>1991-01-05</th>\n",
              "      <td>78.0</td>\n",
              "      <td>1.0</td>\n",
              "      <td>3.7</td>\n",
              "      <td>109.0</td>\n",
              "    </tr>\n",
              "  </tbody>\n",
              "</table>\n",
              "</div>\n",
              "      <button class=\"colab-df-convert\" onclick=\"convertToInteractive('df-417a7d0a-d73e-44ee-be4f-88b27b388945')\"\n",
              "              title=\"Convert this dataframe to an interactive table.\"\n",
              "              style=\"display:none;\">\n",
              "        \n",
              "  <svg xmlns=\"http://www.w3.org/2000/svg\" height=\"24px\"viewBox=\"0 0 24 24\"\n",
              "       width=\"24px\">\n",
              "    <path d=\"M0 0h24v24H0V0z\" fill=\"none\"/>\n",
              "    <path d=\"M18.56 5.44l.94 2.06.94-2.06 2.06-.94-2.06-.94-.94-2.06-.94 2.06-2.06.94zm-11 1L8.5 8.5l.94-2.06 2.06-.94-2.06-.94L8.5 2.5l-.94 2.06-2.06.94zm10 10l.94 2.06.94-2.06 2.06-.94-2.06-.94-.94-2.06-.94 2.06-2.06.94z\"/><path d=\"M17.41 7.96l-1.37-1.37c-.4-.4-.92-.59-1.43-.59-.52 0-1.04.2-1.43.59L10.3 9.45l-7.72 7.72c-.78.78-.78 2.05 0 2.83L4 21.41c.39.39.9.59 1.41.59.51 0 1.02-.2 1.41-.59l7.78-7.78 2.81-2.81c.8-.78.8-2.07 0-2.86zM5.41 20L4 18.59l7.72-7.72 1.47 1.35L5.41 20z\"/>\n",
              "  </svg>\n",
              "      </button>\n",
              "      \n",
              "  <style>\n",
              "    .colab-df-container {\n",
              "      display:flex;\n",
              "      flex-wrap:wrap;\n",
              "      gap: 12px;\n",
              "    }\n",
              "\n",
              "    .colab-df-convert {\n",
              "      background-color: #E8F0FE;\n",
              "      border: none;\n",
              "      border-radius: 50%;\n",
              "      cursor: pointer;\n",
              "      display: none;\n",
              "      fill: #1967D2;\n",
              "      height: 32px;\n",
              "      padding: 0 0 0 0;\n",
              "      width: 32px;\n",
              "    }\n",
              "\n",
              "    .colab-df-convert:hover {\n",
              "      background-color: #E2EBFA;\n",
              "      box-shadow: 0px 1px 2px rgba(60, 64, 67, 0.3), 0px 1px 3px 1px rgba(60, 64, 67, 0.15);\n",
              "      fill: #174EA6;\n",
              "    }\n",
              "\n",
              "    [theme=dark] .colab-df-convert {\n",
              "      background-color: #3B4455;\n",
              "      fill: #D2E3FC;\n",
              "    }\n",
              "\n",
              "    [theme=dark] .colab-df-convert:hover {\n",
              "      background-color: #434B5C;\n",
              "      box-shadow: 0px 1px 3px 1px rgba(0, 0, 0, 0.15);\n",
              "      filter: drop-shadow(0px 1px 2px rgba(0, 0, 0, 0.3));\n",
              "      fill: #FFFFFF;\n",
              "    }\n",
              "  </style>\n",
              "\n",
              "      <script>\n",
              "        const buttonEl =\n",
              "          document.querySelector('#df-417a7d0a-d73e-44ee-be4f-88b27b388945 button.colab-df-convert');\n",
              "        buttonEl.style.display =\n",
              "          google.colab.kernel.accessAllowed ? 'block' : 'none';\n",
              "\n",
              "        async function convertToInteractive(key) {\n",
              "          const element = document.querySelector('#df-417a7d0a-d73e-44ee-be4f-88b27b388945');\n",
              "          const dataTable =\n",
              "            await google.colab.kernel.invokeFunction('convertToInteractive',\n",
              "                                                     [key], {});\n",
              "          if (!dataTable) return;\n",
              "\n",
              "          const docLinkHtml = 'Like what you see? Visit the ' +\n",
              "            '<a target=\"_blank\" href=https://colab.research.google.com/notebooks/data_table.ipynb>data table notebook</a>'\n",
              "            + ' to learn more about interactive tables.';\n",
              "          element.innerHTML = '';\n",
              "          dataTable['output_type'] = 'display_data';\n",
              "          await google.colab.output.renderOutput(dataTable, element);\n",
              "          const docLink = document.createElement('div');\n",
              "          docLink.innerHTML = docLinkHtml;\n",
              "          element.appendChild(docLink);\n",
              "        }\n",
              "      </script>\n",
              "    </div>\n",
              "  </div>\n",
              "  "
            ]
          },
          "metadata": {},
          "execution_count": 34
        }
      ],
      "source": [
        "soil_df_resampled.head()"
      ]
    },
    {
      "cell_type": "code",
      "execution_count": null,
      "metadata": {
        "colab": {
          "base_uri": "https://localhost:8080/",
          "height": 88
        },
        "id": "Vh5NTg1XR44K",
        "outputId": "85e33899-ebe2-4561-a2c8-10b8057fb756"
      },
      "outputs": [
        {
          "output_type": "display_data",
          "data": {
            "text/plain": [
              "'soil_weather_df1:'"
            ],
            "application/vnd.google.colaboratory.intrinsic+json": {
              "type": "string"
            }
          },
          "metadata": {}
        },
        {
          "output_type": "display_data",
          "data": {
            "text/plain": [
              "(35672, 4)"
            ]
          },
          "metadata": {}
        },
        {
          "output_type": "display_data",
          "data": {
            "text/plain": [
              "'soil_df_resampled:'"
            ],
            "application/vnd.google.colaboratory.intrinsic+json": {
              "type": "string"
            }
          },
          "metadata": {}
        },
        {
          "output_type": "display_data",
          "data": {
            "text/plain": [
              "(11323, 4)"
            ]
          },
          "metadata": {}
        }
      ],
      "source": [
        "display(\"soil_weather_df1:\", soil_df1.shape)\n",
        "\n",
        "display(\"soil_df_resampled:\", soil_df_resampled.shape)"
      ]
    },
    {
      "cell_type": "markdown",
      "metadata": {
        "id": "V94xP0OCb4lt"
      },
      "source": [
        "**Understanding the statistics of the data**\n",
        "We can obtain various statistical measures of the data uding the `df.describe()` function.\n",
        "By doing so we get to know certain basics such as the mean, median, count of values, the ranges of values in each variable."
      ]
    },
    {
      "cell_type": "code",
      "execution_count": null,
      "metadata": {
        "colab": {
          "base_uri": "https://localhost:8080/",
          "height": 300
        },
        "id": "5RYQveLibpK6",
        "outputId": "17a4317f-5eb2-423b-e259-d507b3d713ef"
      },
      "outputs": [
        {
          "output_type": "execute_result",
          "data": {
            "text/plain": [
              "       Relative_humidity  Evapotranspiration  Daily_mean_temp  Moisture_level\n",
              "count       11323.000000        11323.000000     11323.000000    11323.000000\n",
              "mean           76.819156            1.241093        11.042303       71.004063\n",
              "std            13.231226            0.980625         7.679070       37.056605\n",
              "min          -176.500000            0.000000        -8.000000        0.000000\n",
              "25%            68.700000            0.500000         4.600000       41.000000\n",
              "50%            78.800000            1.000000        10.800000       88.000000\n",
              "75%            86.700000            1.800000        17.400000      102.000000\n",
              "max           100.000000            6.300000        29.200000      111.000000"
            ],
            "text/html": [
              "\n",
              "  <div id=\"df-e6059818-1bed-45f3-99e0-7dca97535766\">\n",
              "    <div class=\"colab-df-container\">\n",
              "      <div>\n",
              "<style scoped>\n",
              "    .dataframe tbody tr th:only-of-type {\n",
              "        vertical-align: middle;\n",
              "    }\n",
              "\n",
              "    .dataframe tbody tr th {\n",
              "        vertical-align: top;\n",
              "    }\n",
              "\n",
              "    .dataframe thead th {\n",
              "        text-align: right;\n",
              "    }\n",
              "</style>\n",
              "<table border=\"1\" class=\"dataframe\">\n",
              "  <thead>\n",
              "    <tr style=\"text-align: right;\">\n",
              "      <th></th>\n",
              "      <th>Relative_humidity</th>\n",
              "      <th>Evapotranspiration</th>\n",
              "      <th>Daily_mean_temp</th>\n",
              "      <th>Moisture_level</th>\n",
              "    </tr>\n",
              "  </thead>\n",
              "  <tbody>\n",
              "    <tr>\n",
              "      <th>count</th>\n",
              "      <td>11323.000000</td>\n",
              "      <td>11323.000000</td>\n",
              "      <td>11323.000000</td>\n",
              "      <td>11323.000000</td>\n",
              "    </tr>\n",
              "    <tr>\n",
              "      <th>mean</th>\n",
              "      <td>76.819156</td>\n",
              "      <td>1.241093</td>\n",
              "      <td>11.042303</td>\n",
              "      <td>71.004063</td>\n",
              "    </tr>\n",
              "    <tr>\n",
              "      <th>std</th>\n",
              "      <td>13.231226</td>\n",
              "      <td>0.980625</td>\n",
              "      <td>7.679070</td>\n",
              "      <td>37.056605</td>\n",
              "    </tr>\n",
              "    <tr>\n",
              "      <th>min</th>\n",
              "      <td>-176.500000</td>\n",
              "      <td>0.000000</td>\n",
              "      <td>-8.000000</td>\n",
              "      <td>0.000000</td>\n",
              "    </tr>\n",
              "    <tr>\n",
              "      <th>25%</th>\n",
              "      <td>68.700000</td>\n",
              "      <td>0.500000</td>\n",
              "      <td>4.600000</td>\n",
              "      <td>41.000000</td>\n",
              "    </tr>\n",
              "    <tr>\n",
              "      <th>50%</th>\n",
              "      <td>78.800000</td>\n",
              "      <td>1.000000</td>\n",
              "      <td>10.800000</td>\n",
              "      <td>88.000000</td>\n",
              "    </tr>\n",
              "    <tr>\n",
              "      <th>75%</th>\n",
              "      <td>86.700000</td>\n",
              "      <td>1.800000</td>\n",
              "      <td>17.400000</td>\n",
              "      <td>102.000000</td>\n",
              "    </tr>\n",
              "    <tr>\n",
              "      <th>max</th>\n",
              "      <td>100.000000</td>\n",
              "      <td>6.300000</td>\n",
              "      <td>29.200000</td>\n",
              "      <td>111.000000</td>\n",
              "    </tr>\n",
              "  </tbody>\n",
              "</table>\n",
              "</div>\n",
              "      <button class=\"colab-df-convert\" onclick=\"convertToInteractive('df-e6059818-1bed-45f3-99e0-7dca97535766')\"\n",
              "              title=\"Convert this dataframe to an interactive table.\"\n",
              "              style=\"display:none;\">\n",
              "        \n",
              "  <svg xmlns=\"http://www.w3.org/2000/svg\" height=\"24px\"viewBox=\"0 0 24 24\"\n",
              "       width=\"24px\">\n",
              "    <path d=\"M0 0h24v24H0V0z\" fill=\"none\"/>\n",
              "    <path d=\"M18.56 5.44l.94 2.06.94-2.06 2.06-.94-2.06-.94-.94-2.06-.94 2.06-2.06.94zm-11 1L8.5 8.5l.94-2.06 2.06-.94-2.06-.94L8.5 2.5l-.94 2.06-2.06.94zm10 10l.94 2.06.94-2.06 2.06-.94-2.06-.94-.94-2.06-.94 2.06-2.06.94z\"/><path d=\"M17.41 7.96l-1.37-1.37c-.4-.4-.92-.59-1.43-.59-.52 0-1.04.2-1.43.59L10.3 9.45l-7.72 7.72c-.78.78-.78 2.05 0 2.83L4 21.41c.39.39.9.59 1.41.59.51 0 1.02-.2 1.41-.59l7.78-7.78 2.81-2.81c.8-.78.8-2.07 0-2.86zM5.41 20L4 18.59l7.72-7.72 1.47 1.35L5.41 20z\"/>\n",
              "  </svg>\n",
              "      </button>\n",
              "      \n",
              "  <style>\n",
              "    .colab-df-container {\n",
              "      display:flex;\n",
              "      flex-wrap:wrap;\n",
              "      gap: 12px;\n",
              "    }\n",
              "\n",
              "    .colab-df-convert {\n",
              "      background-color: #E8F0FE;\n",
              "      border: none;\n",
              "      border-radius: 50%;\n",
              "      cursor: pointer;\n",
              "      display: none;\n",
              "      fill: #1967D2;\n",
              "      height: 32px;\n",
              "      padding: 0 0 0 0;\n",
              "      width: 32px;\n",
              "    }\n",
              "\n",
              "    .colab-df-convert:hover {\n",
              "      background-color: #E2EBFA;\n",
              "      box-shadow: 0px 1px 2px rgba(60, 64, 67, 0.3), 0px 1px 3px 1px rgba(60, 64, 67, 0.15);\n",
              "      fill: #174EA6;\n",
              "    }\n",
              "\n",
              "    [theme=dark] .colab-df-convert {\n",
              "      background-color: #3B4455;\n",
              "      fill: #D2E3FC;\n",
              "    }\n",
              "\n",
              "    [theme=dark] .colab-df-convert:hover {\n",
              "      background-color: #434B5C;\n",
              "      box-shadow: 0px 1px 3px 1px rgba(0, 0, 0, 0.15);\n",
              "      filter: drop-shadow(0px 1px 2px rgba(0, 0, 0, 0.3));\n",
              "      fill: #FFFFFF;\n",
              "    }\n",
              "  </style>\n",
              "\n",
              "      <script>\n",
              "        const buttonEl =\n",
              "          document.querySelector('#df-e6059818-1bed-45f3-99e0-7dca97535766 button.colab-df-convert');\n",
              "        buttonEl.style.display =\n",
              "          google.colab.kernel.accessAllowed ? 'block' : 'none';\n",
              "\n",
              "        async function convertToInteractive(key) {\n",
              "          const element = document.querySelector('#df-e6059818-1bed-45f3-99e0-7dca97535766');\n",
              "          const dataTable =\n",
              "            await google.colab.kernel.invokeFunction('convertToInteractive',\n",
              "                                                     [key], {});\n",
              "          if (!dataTable) return;\n",
              "\n",
              "          const docLinkHtml = 'Like what you see? Visit the ' +\n",
              "            '<a target=\"_blank\" href=https://colab.research.google.com/notebooks/data_table.ipynb>data table notebook</a>'\n",
              "            + ' to learn more about interactive tables.';\n",
              "          element.innerHTML = '';\n",
              "          dataTable['output_type'] = 'display_data';\n",
              "          await google.colab.output.renderOutput(dataTable, element);\n",
              "          const docLink = document.createElement('div');\n",
              "          docLink.innerHTML = docLinkHtml;\n",
              "          element.appendChild(docLink);\n",
              "        }\n",
              "      </script>\n",
              "    </div>\n",
              "  </div>\n",
              "  "
            ]
          },
          "metadata": {},
          "execution_count": 36
        }
      ],
      "source": [
        "soil_df_resampled.describe()"
      ]
    },
    {
      "cell_type": "markdown",
      "metadata": {
        "id": "p5r8gtU1E1vE"
      },
      "source": [
        "#Data Pre-processing\n",
        "\n",
        "We need to pre-process data prior to building a model. That is prepare the data for building a model. For this we shall follow the following sequence:\n",
        "1. Work on components of data: Here we shall eliminate the trend and seasonality from data.\n",
        "2. Split data : Once the components are removed we shall split the data into training, validation and test datasets.\n",
        "3. Normalise data: As we have a huge range in our observations (refering to statistical details of data)\n",
        "we need to normalise or standardise data. Here we will proceed normalising using MinMaxScalar.\n",
        "\n",
        "*Note: We will proceed with this once we have a glimpse of autocorrelations. This we are doing only for our understanding.*"
      ]
    },
    {
      "cell_type": "markdown",
      "metadata": {
        "id": "s9fIREg3gtDg"
      },
      "source": [
        "###**Feature Engineering**"
      ]
    },
    {
      "cell_type": "markdown",
      "metadata": {
        "id": "6j9wNqmALGPD"
      },
      "source": [
        "#####**Checking correlation among the remaining columns**"
      ]
    },
    {
      "cell_type": "code",
      "execution_count": null,
      "metadata": {
        "colab": {
          "base_uri": "https://localhost:8080/",
          "height": 175
        },
        "id": "VhnFzGld3Xv4",
        "outputId": "8c3a6b25-86fb-46ec-c9a0-1032067ca3d2"
      },
      "outputs": [
        {
          "output_type": "execute_result",
          "data": {
            "text/plain": [
              "                    Relative_humidity  Evapotranspiration  Daily_mean_temp  \\\n",
              "Relative_humidity            1.000000           -0.538706        -0.522605   \n",
              "Evapotranspiration          -0.538706            1.000000         0.664640   \n",
              "Daily_mean_temp             -0.522605            0.664640         1.000000   \n",
              "Moisture_level               0.599618           -0.357922        -0.718124   \n",
              "\n",
              "                    Moisture_level  \n",
              "Relative_humidity         0.599618  \n",
              "Evapotranspiration       -0.357922  \n",
              "Daily_mean_temp          -0.718124  \n",
              "Moisture_level            1.000000  "
            ],
            "text/html": [
              "\n",
              "  <div id=\"df-61818529-4096-48a0-8dc3-c4b8a2670f55\">\n",
              "    <div class=\"colab-df-container\">\n",
              "      <div>\n",
              "<style scoped>\n",
              "    .dataframe tbody tr th:only-of-type {\n",
              "        vertical-align: middle;\n",
              "    }\n",
              "\n",
              "    .dataframe tbody tr th {\n",
              "        vertical-align: top;\n",
              "    }\n",
              "\n",
              "    .dataframe thead th {\n",
              "        text-align: right;\n",
              "    }\n",
              "</style>\n",
              "<table border=\"1\" class=\"dataframe\">\n",
              "  <thead>\n",
              "    <tr style=\"text-align: right;\">\n",
              "      <th></th>\n",
              "      <th>Relative_humidity</th>\n",
              "      <th>Evapotranspiration</th>\n",
              "      <th>Daily_mean_temp</th>\n",
              "      <th>Moisture_level</th>\n",
              "    </tr>\n",
              "  </thead>\n",
              "  <tbody>\n",
              "    <tr>\n",
              "      <th>Relative_humidity</th>\n",
              "      <td>1.000000</td>\n",
              "      <td>-0.538706</td>\n",
              "      <td>-0.522605</td>\n",
              "      <td>0.599618</td>\n",
              "    </tr>\n",
              "    <tr>\n",
              "      <th>Evapotranspiration</th>\n",
              "      <td>-0.538706</td>\n",
              "      <td>1.000000</td>\n",
              "      <td>0.664640</td>\n",
              "      <td>-0.357922</td>\n",
              "    </tr>\n",
              "    <tr>\n",
              "      <th>Daily_mean_temp</th>\n",
              "      <td>-0.522605</td>\n",
              "      <td>0.664640</td>\n",
              "      <td>1.000000</td>\n",
              "      <td>-0.718124</td>\n",
              "    </tr>\n",
              "    <tr>\n",
              "      <th>Moisture_level</th>\n",
              "      <td>0.599618</td>\n",
              "      <td>-0.357922</td>\n",
              "      <td>-0.718124</td>\n",
              "      <td>1.000000</td>\n",
              "    </tr>\n",
              "  </tbody>\n",
              "</table>\n",
              "</div>\n",
              "      <button class=\"colab-df-convert\" onclick=\"convertToInteractive('df-61818529-4096-48a0-8dc3-c4b8a2670f55')\"\n",
              "              title=\"Convert this dataframe to an interactive table.\"\n",
              "              style=\"display:none;\">\n",
              "        \n",
              "  <svg xmlns=\"http://www.w3.org/2000/svg\" height=\"24px\"viewBox=\"0 0 24 24\"\n",
              "       width=\"24px\">\n",
              "    <path d=\"M0 0h24v24H0V0z\" fill=\"none\"/>\n",
              "    <path d=\"M18.56 5.44l.94 2.06.94-2.06 2.06-.94-2.06-.94-.94-2.06-.94 2.06-2.06.94zm-11 1L8.5 8.5l.94-2.06 2.06-.94-2.06-.94L8.5 2.5l-.94 2.06-2.06.94zm10 10l.94 2.06.94-2.06 2.06-.94-2.06-.94-.94-2.06-.94 2.06-2.06.94z\"/><path d=\"M17.41 7.96l-1.37-1.37c-.4-.4-.92-.59-1.43-.59-.52 0-1.04.2-1.43.59L10.3 9.45l-7.72 7.72c-.78.78-.78 2.05 0 2.83L4 21.41c.39.39.9.59 1.41.59.51 0 1.02-.2 1.41-.59l7.78-7.78 2.81-2.81c.8-.78.8-2.07 0-2.86zM5.41 20L4 18.59l7.72-7.72 1.47 1.35L5.41 20z\"/>\n",
              "  </svg>\n",
              "      </button>\n",
              "      \n",
              "  <style>\n",
              "    .colab-df-container {\n",
              "      display:flex;\n",
              "      flex-wrap:wrap;\n",
              "      gap: 12px;\n",
              "    }\n",
              "\n",
              "    .colab-df-convert {\n",
              "      background-color: #E8F0FE;\n",
              "      border: none;\n",
              "      border-radius: 50%;\n",
              "      cursor: pointer;\n",
              "      display: none;\n",
              "      fill: #1967D2;\n",
              "      height: 32px;\n",
              "      padding: 0 0 0 0;\n",
              "      width: 32px;\n",
              "    }\n",
              "\n",
              "    .colab-df-convert:hover {\n",
              "      background-color: #E2EBFA;\n",
              "      box-shadow: 0px 1px 2px rgba(60, 64, 67, 0.3), 0px 1px 3px 1px rgba(60, 64, 67, 0.15);\n",
              "      fill: #174EA6;\n",
              "    }\n",
              "\n",
              "    [theme=dark] .colab-df-convert {\n",
              "      background-color: #3B4455;\n",
              "      fill: #D2E3FC;\n",
              "    }\n",
              "\n",
              "    [theme=dark] .colab-df-convert:hover {\n",
              "      background-color: #434B5C;\n",
              "      box-shadow: 0px 1px 3px 1px rgba(0, 0, 0, 0.15);\n",
              "      filter: drop-shadow(0px 1px 2px rgba(0, 0, 0, 0.3));\n",
              "      fill: #FFFFFF;\n",
              "    }\n",
              "  </style>\n",
              "\n",
              "      <script>\n",
              "        const buttonEl =\n",
              "          document.querySelector('#df-61818529-4096-48a0-8dc3-c4b8a2670f55 button.colab-df-convert');\n",
              "        buttonEl.style.display =\n",
              "          google.colab.kernel.accessAllowed ? 'block' : 'none';\n",
              "\n",
              "        async function convertToInteractive(key) {\n",
              "          const element = document.querySelector('#df-61818529-4096-48a0-8dc3-c4b8a2670f55');\n",
              "          const dataTable =\n",
              "            await google.colab.kernel.invokeFunction('convertToInteractive',\n",
              "                                                     [key], {});\n",
              "          if (!dataTable) return;\n",
              "\n",
              "          const docLinkHtml = 'Like what you see? Visit the ' +\n",
              "            '<a target=\"_blank\" href=https://colab.research.google.com/notebooks/data_table.ipynb>data table notebook</a>'\n",
              "            + ' to learn more about interactive tables.';\n",
              "          element.innerHTML = '';\n",
              "          dataTable['output_type'] = 'display_data';\n",
              "          await google.colab.output.renderOutput(dataTable, element);\n",
              "          const docLink = document.createElement('div');\n",
              "          docLink.innerHTML = docLinkHtml;\n",
              "          element.appendChild(docLink);\n",
              "        }\n",
              "      </script>\n",
              "    </div>\n",
              "  </div>\n",
              "  "
            ]
          },
          "metadata": {},
          "execution_count": 37
        }
      ],
      "source": [
        "soil_df_resampled.corr(method= \"pearson\", min_periods= 25)"
      ]
    },
    {
      "cell_type": "code",
      "execution_count": null,
      "metadata": {
        "colab": {
          "base_uri": "https://localhost:8080/",
          "height": 266
        },
        "id": "89ApOIHAe6BY",
        "outputId": "59bf3b5e-e036-4a2a-b926-ee63a39afe11"
      },
      "outputs": [
        {
          "output_type": "display_data",
          "data": {
            "text/plain": [
              "<Figure size 432x288 with 1 Axes>"
            ],
            "image/png": "[encoded data removed]"
          },
          "metadata": {
            "needs_background": "light"
          }
        }
      ],
      "source": [
        "soil_df_resampled.corr(method= \"pearson\", min_periods= 10).plot();"
      ]
    },
    {
      "cell_type": "markdown",
      "metadata": {
        "id": "_u7LN5oPks_S"
      },
      "source": [
        "From the above correlation we can conclude that Moisture_level and Relative_humidity are postively correlated and likewise is the case with Evapotranspiration and Daily_mean_temp.This means that when the temperature is high the evapotranspiration is high. Similarly, when humidity is high the moisture level is high.\n",
        "\n",
        "Our concern is predicting the moisture_level and if we see the other three variables of Relative_humidity, Evapotranspiration and Daily mean temperature impact the level of moisture. If we observe the last column or the last row we can conclude that increse in relative humidity will lead to increase in moisture level, At the same time increase in temperature will lead to increase in evapotranspiration and reduce moisture level."
      ]
    },
    {
      "cell_type": "markdown",
      "metadata": {
        "id": "rfTxpIXLkV7e"
      },
      "source": [
        "#####**Checking the distribution of variables individually using subplots**"
      ]
    },
    {
      "cell_type": "code",
      "execution_count": null,
      "metadata": {
        "colab": {
          "base_uri": "https://localhost:8080/",
          "height": 335
        },
        "id": "HGmPOIpmfWCd",
        "outputId": "0311dc0c-68df-4fb2-ade8-dcd95fcaf92b"
      },
      "outputs": [
        {
          "output_type": "display_data",
          "data": {
            "text/plain": [
              "<Figure size 720x360 with 4 Axes>"
            ],
            "image/png": "[encoded data removed]"
          },
          "metadata": {
            "needs_background": "light"
          }
        }
      ],
      "source": [
        "soil_df_resampled.plot(figsize = (10,5), subplots = True, cmap = \"Accent\");"
      ]
    },
    {
      "cell_type": "markdown",
      "metadata": {
        "id": "cMAzXcCVZmxT"
      },
      "source": [
        "Viewing distribution of \"moisture_level\" as it is our target variable."
      ]
    },
    {
      "cell_type": "code",
      "execution_count": null,
      "metadata": {
        "colab": {
          "base_uri": "https://localhost:8080/",
          "height": 320
        },
        "id": "Q-cMgHezZv-5",
        "outputId": "9e5daf0a-5557-4343-9d53-132b2c00f682"
      },
      "outputs": [
        {
          "output_type": "display_data",
          "data": {
            "text/plain": [
              "<Figure size 720x360 with 1 Axes>"
            ],
            "image/png": "[encoded data removed]"
          },
          "metadata": {
            "needs_background": "light"
          }
        }
      ],
      "source": [
        "soil_df_resampled.Moisture_level.hist(figsize = (10,5));\n",
        "plt.title = \"Distribution of Moisture level variable\""
      ]
    },
    {
      "cell_type": "markdown",
      "metadata": {
        "id": "oStsw4Bc33RM"
      },
      "source": [
        "**NOTE: Due to time constraints we assume that values for all features are for covered soil as BF10(target variable) is covered soil.**"
      ]
    },
    {
      "cell_type": "markdown",
      "metadata": {
        "id": "lWM76I3IyVX8"
      },
      "source": [
        "#####**Feature selection**\n",
        "\n",
        "After seeing the correlatedness of the features, its time to check if we need all the features or could we eliminate some. In order to do the same we shall try our hands on **regularisation** and **feature engineering**.\n",
        "\n",
        "**Regularisation**\n",
        "The word regularize means to make things regular or acceptable.Regularization refers to techniques that are used to calibrate machine learning models in order to minimize the adjusted loss function and prevent overfitting or underfitting.(Ref:https://towardsdatascience.com/regularization-an-important-concept-in-machine-learning-5891628907ea)\n",
        "In short, regularisation are methods where the values of co-efficients of variables are minimalised with a goal to incure least empirical risk,prevent from overfitting or underfitting of the model on the data and last but not least to measure the generalisation of the model.\n",
        "\n",
        "Regularization eventually may lead to some of the parameters be set equal to zero, that is by imposing zero weight to corresponding features, essentially canceling them out fromthe model. Hence, we can also regard regularization as a feature selection process as well.(Ref:http://file.biolab.si/textbooks/ml1/feature-selection.pdf)\n",
        "In this project we will look as two types of regularisations **L1 and L2**.\n",
        "\n",
        "**Feature Engineering**\n",
        "Feature engineering refers to the process of using domain knowledge to select and transform the most relevant variables from raw data when creating a predictive model using machine learning or statistical modeling.(Ref:https://towardsdatascience.com/what-is-feature-engineering-importance-tools-and-techniques-for-machine-learning-2080b0269f10)\n",
        "\n",
        "Feature engineering helps in augmenting efficiency of the model, develop easier algorithms that fit the data thus enable detect patterns in the data. It also enables greater flexibility of the features.\n",
        "In this project we will try to feture engineer using **Randomforest**.\n",
        "\n",
        "\n"
      ]
    },
    {
      "cell_type": "markdown",
      "metadata": {
        "id": "pG6C0wGWMhTX"
      },
      "source": [
        "#####**1.L1 Regularisation**\n",
        "\n",
        "L1 or LASSO  (Least Absolute Shrinkage and Selection Operator) technique is one where computation is done using the absolute values of co-efficients as penalty term to the loss function (Ref:https://towardsdatascience.com/l1-and-l2-regularization-methods-ce25e7fc831c). If visulaised, this method has sharp edges which may cause hinderance in terms of the learning to take place. It works by adding a penalty term to the error function used by the training algorithm. The additional term penalizes large-magnitude weight values.(Ref:https://visualstudiomagazine.com/articles/2017/12/05/neural-network-regularization.aspx)\n",
        "\n",
        "The L1 technique shrinks the co-efficients of the less important feartures to zero, hus eliminating the feature altogether. This techniques is advisable for feature selection where there ae large number of features in the dataset.(Ref:https://towardsdatascience.com/l1-and-l2-regularization-methods-ce25e7fc831c"
      ]
    },
    {
      "cell_type": "markdown",
      "metadata": {
        "id": "O2-H1D0Beqmn"
      },
      "source": [
        "#####**2.L2 Regularisation**\n",
        "\n",
        "L2 or Ridge Regression technique of regularisation is one where computation is done using the squared values of co-efficients. Unlike L1 here, the squared values are added as a cost term/ penalty term (also can be called as learning rate of this regulariser). This helps in smoothing the learning rocess as sharp edges are eliminated. This method is definetly an improvemnt over L1 as it controls the size of the weights of the co-efficients but not their direction. This method also helps in penalising the correlation bias. Choice of the cost function plays a very important role here as too large a cost function may cause too much a weight leading to under-fitting of the model. The plus here is that L2 can be used as a regulariser to avoid over-fitting."
      ]
    },
    {
      "cell_type": "markdown",
      "metadata": {
        "id": "w-1aKoGvodPH"
      },
      "source": [
        "We can use the classes in sklearn libraries in implementing these regularisation methods. Below will be mentioned the libraries and classes and a few lines of code pertaining to this. However, we will not be implementing the same in this project for two reasons: firstly, the number of features of this data is not very large and finally, prevailing time-constraints."
      ]
    },
    {
      "cell_type": "markdown",
      "metadata": {
        "id": "sbDQYINEqVBw"
      },
      "source": [
        "*Importing libraries and classes*"
      ]
    },
    {
      "cell_type": "code",
      "execution_count": null,
      "metadata": {
        "id": "rW-oU7yfqRiX"
      },
      "outputs": [],
      "source": [
        "#from sklearn.linear_model import Ridge, Lasso"
      ]
    },
    {
      "cell_type": "markdown",
      "metadata": {
        "id": "tDa3ntsfrGYP"
      },
      "source": [
        "*Instantiating the classes*"
      ]
    },
    {
      "cell_type": "code",
      "execution_count": null,
      "metadata": {
        "id": "2uZOtxForFra"
      },
      "outputs": [],
      "source": [
        "#L2 = Ridge(alpha= 0.01)  ## note that this is penalty rate and should always be stated as a float. Here we have assigned a random value.\n",
        "#L1 = Lasso(alpha = 0.025) ##note that this is penalty rate and should always be stated as a float"
      ]
    },
    {
      "cell_type": "markdown",
      "metadata": {
        "id": "Xl5dsdoFtNeJ"
      },
      "source": [
        "Alternatively we can do the same using keras library as well. Here we need to specify the same as a paramenter in the Dense layer of the model (Ref:https://www.analyticsvidhya.com/blog/2018/04/fundamentals-deep-learning-regularization-techniques/)"
      ]
    },
    {
      "cell_type": "code",
      "execution_count": null,
      "metadata": {
        "id": "STxfYdibtecn"
      },
      "outputs": [],
      "source": [
        "# from keras import regularizers\n",
        "# model.add(Dense(64, input_dim=64, kernel_regularizer=regularizers.l2(0.01) ## here it is a Sequential API Dense layer"
      ]
    },
    {
      "cell_type": "markdown",
      "metadata": {
        "id": "2Sxza_PWs02I"
      },
      "source": [
        "#####**3.RandomForest**\n",
        "\n",
        "Random forest is a parallel ensemble or an extension of bootstrap aggregation (bagging) of decision trees algorithms that can be used for classification and regression problems.\n",
        "\n",
        "Bagging is an effective ensemble algorithm as each decision tree is fit on a slightly different training dataset (a few samples may be repeated as this works on the grounds of sampling with replacement), and in turn, has a slightly different performance. Decision tree models used in the ensemble are unpruned, making them slightly overfit to the training dataset. This is desirable as it helps to make each tree more different and have less correlated predictions or prediction errors. Predictions from the trees are averaged across all decision trees resulting in better performance than any single tree in the model.\n",
        "\n",
        "A prediction on a regression problem is the average of the prediction across the trees in the ensemble. A prediction on a classification problem is the majority vote for the class label across the trees in the ensemble.\n",
        "\n",
        "Random forest involves constructing a large number of decision trees from bootstrap samples from the training dataset, like bagging.At the same time it also involves selecting a subset of input features (columns or variables) at each split point in the construction of trees. Constructing a decision tree involves evaluating the value for each input variable in the data in order to select a split point. By reducing the features to a random subset that may be considered at each split point, it forces each decision tree in the ensemble to be more different.\n",
        "(Ref:https://machinelearningmastery.com/random-forest-ensemble-in-python/)\n",
        "\n",
        "**NOTE:** In this project Ramdomforest is used for feature selection method.\n",
        "\n",
        "**Let's see how Randomforest works in feature selection**\n",
        "\n",
        "Feature selection using Random forest comes under the category of Embedded methods. Embedded methods combine the qualities of filter and wrapper methods. They are implemented by algorithms that have their own built-in feature selection methods. High accuracy, better generalisable and interpretable are some of the benefits of embedded methods.\n",
        "\n",
        "How does Random forest select features?\n",
        "\n",
        "Random forests consist of 4 –12 hundred decision trees, each of them built over a random extraction of the observations from the dataset and a random extraction of the features. Not every tree sees all the features or all the observations, and this guarantees that the trees are de-correlated and therefore less prone to over-fitting. Each tree is also a sequence of yes-no questions based on a single or combination of features. At each node (this is at each question), the three divides the dataset into 2 buckets, each of them hosting observations that are more similar among themselves and different from the ones in the other bucket. Therefore, the importance of each feature is derived from how “pure” each of the buckets is.\n",
        "For classification, the measure of impurity is either the Gini impurity or the information gain/entropy and for regression the measure of impurity is variance.\n",
        "\n",
        "Therefore, when training a tree, it is possible to compute how much each feature decreases the impurity. The more a feature decreases the impurity, the more important the feature is. In random forests, the impurity decrease from each feature can be averaged across trees to determine the final importance of the variable.\n",
        "\n",
        "Also note that features that are selected at the top of the trees are in general more important than features that are selected at the end nodes of the trees, as generally the top splits lead to bigger information gains.(Ref:https://towardsdatascience.com/feature-selection-using-random-forest-26d7b747597f)"
      ]
    },
    {
      "cell_type": "markdown",
      "metadata": {
        "id": "KBldSOXNnxeJ"
      },
      "source": [
        "**Reminder to a good practice**\n",
        "\n",
        "A good practice in most steps of model building is to try most trial and error on training dataset. Likewise, a good practice here too is to select the features by examining only the training set. This is to avoid overfitting. Thus we will create a variable to assign and signify the data to be used.\n"
      ]
    },
    {
      "cell_type": "code",
      "execution_count": null,
      "metadata": {
        "id": "C3kMrOR-n_bB"
      },
      "outputs": [],
      "source": [
        "# dataset_in_use = soil_df_validation"
      ]
    },
    {
      "cell_type": "markdown",
      "metadata": {
        "id": "4f5iuNptnkLV"
      },
      "source": [
        "**Importing Randomforest related libraries**\n",
        "\n",
        "(Ref:https://scikit-learn.org/stable/modules/generated/sklearn.ensemble.RandomForestClassifier.html)"
      ]
    },
    {
      "cell_type": "code",
      "execution_count": null,
      "metadata": {
        "id": "bgReO7acnou3"
      },
      "outputs": [],
      "source": [
        "from sklearn.ensemble import RandomForestClassifier\n",
        "from sklearn.feature_selection import SelectFromModel"
      ]
    },
    {
      "cell_type": "markdown",
      "metadata": {
        "id": "M24OEpacqg8P"
      },
      "source": [
        "**Instantiating both classes of RandomForestClassifier and SelectFromModel**\n",
        "\n",
        "From RandomForestClassifier we will be selecting the features, so the code goes as below. `SelectFromModel` will select those features which importance is greater than the mean importance of all the features by default, however, this threshold may be altered.(Ref:https://towardsdatascience.com/feature-selection-using-random-forest-26d7b747597f)"
      ]
    },
    {
      "cell_type": "code",
      "execution_count": null,
      "metadata": {
        "id": "zWsdUet5rDWN"
      },
      "outputs": [],
      "source": [
        "features_selection = SelectFromModel(RandomForestClassifier(n_estimators = 100))"
      ]
    },
    {
      "cell_type": "markdown",
      "metadata": {
        "id": "OMk4JS0artXB"
      },
      "source": [
        "**Fitting train data to the instantiated object**"
      ]
    },
    {
      "cell_type": "code",
      "execution_count": null,
      "metadata": {
        "colab": {
          "base_uri": "https://localhost:8080/"
        },
        "id": "dUamK2LYr1UU",
        "outputId": "dd7cb911-640f-4ae4-f9bc-ec0e537692ce"
      },
      "outputs": [
        {
          "output_type": "execute_result",
          "data": {
            "text/plain": [
              "SelectFromModel(estimator=RandomForestClassifier())"
            ]
          },
          "metadata": {},
          "execution_count": 47
        }
      ],
      "source": [
        "features_selection.fit(soil_df_resampled, soil_df_resampled.Moisture_level)"
      ]
    },
    {
      "cell_type": "markdown",
      "metadata": {
        "id": "V4_y75MftreD"
      },
      "source": [
        "**Viewing the important features**\n",
        "\n",
        "One can see the list of features that are important by using the `get_support()` method on the fitted model. This will return an array of boolean values. True for the features whose importance is greater than the mean importance and False for the rest.\n",
        "\n",
        "But we also need the count and names of the important features. In order to do this we need to make a list of important features and check its length.\n",
        "\n",
        "Let us see the important features of this dataset."
      ]
    },
    {
      "cell_type": "code",
      "execution_count": null,
      "metadata": {
        "colab": {
          "base_uri": "https://localhost:8080/",
          "height": 53
        },
        "id": "d5e85PVmuTzM",
        "outputId": "d899b09e-5973-4b44-8c9b-f68ff7fc4ebd"
      },
      "outputs": [
        {
          "output_type": "display_data",
          "data": {
            "text/plain": [
              "'Important features: '"
            ],
            "application/vnd.google.colaboratory.intrinsic+json": {
              "type": "string"
            }
          },
          "metadata": {}
        },
        {
          "output_type": "display_data",
          "data": {
            "text/plain": [
              "array([False, False, False,  True])"
            ]
          },
          "metadata": {}
        }
      ],
      "source": [
        "display(\"Important features: \", features_selection.get_support())\n"
      ]
    },
    {
      "cell_type": "markdown",
      "metadata": {
        "id": "Lanc4E8Yysm-"
      },
      "source": [
        "**Storing list of important features in a variable**.\n",
        "This is done for further use."
      ]
    },
    {
      "cell_type": "code",
      "execution_count": null,
      "metadata": {
        "id": "KWtnctXsv_Li"
      },
      "outputs": [],
      "source": [
        "list_of_important_features = soil_df_resampled.columns[(features_selection.get_support())]\n"
      ]
    },
    {
      "cell_type": "code",
      "execution_count": null,
      "metadata": {
        "colab": {
          "base_uri": "https://localhost:8080/",
          "height": 107
        },
        "id": "p3Nzo7y5yyLn",
        "outputId": "82ce3df8-e02d-4cc1-ed0d-642ba5f99774"
      },
      "outputs": [
        {
          "output_type": "display_data",
          "data": {
            "text/plain": [
              "'Dataset feature details:'"
            ],
            "application/vnd.google.colaboratory.intrinsic+json": {
              "type": "string"
            }
          },
          "metadata": {}
        },
        {
          "output_type": "display_data",
          "data": {
            "text/plain": [
              "'Names of important features: '"
            ],
            "application/vnd.google.colaboratory.intrinsic+json": {
              "type": "string"
            }
          },
          "metadata": {}
        },
        {
          "output_type": "display_data",
          "data": {
            "text/plain": [
              "Index(['Moisture_level'], dtype='object')"
            ]
          },
          "metadata": {}
        },
        {
          "output_type": "display_data",
          "data": {
            "text/plain": [
              "'Length of important_features_list: '"
            ],
            "application/vnd.google.colaboratory.intrinsic+json": {
              "type": "string"
            }
          },
          "metadata": {}
        },
        {
          "output_type": "display_data",
          "data": {
            "text/plain": [
              "1"
            ]
          },
          "metadata": {}
        }
      ],
      "source": [
        "display(\"Dataset feature details:\")\n",
        "display(\"Names of important features: \", list_of_important_features)\n",
        "display(\"Length of important_features_list: \", len(list_of_important_features))"
      ]
    },
    {
      "cell_type": "markdown",
      "metadata": {
        "id": "TF7JCF-Gy-Zi"
      },
      "source": [
        "**Getting some details of important features**\n",
        "\n",
        "Here we will display important features on train and validation datasets. This is done as a measure to evaluate or cross-check if it is the same for both the datasets. This enables us in taking a better conclusions on the features to be selected for progression in the project.\n",
        "\n",
        "*Note: As a side note, I just tried doing this and moved the train_test_split section below*"
      ]
    },
    {
      "cell_type": "code",
      "execution_count": null,
      "metadata": {
        "id": "ASL04UNOzFX6"
      },
      "outputs": [],
      "source": [
        "# display(\"Train dataset feature details:\")\n",
        "# display(\"Names of important features: \", list_of_important_features)\n",
        "# display(\"Length of important_features_list: \", len(list_of_important_features))"
      ]
    },
    {
      "cell_type": "code",
      "execution_count": null,
      "metadata": {
        "id": "pr9rG7hFp44p"
      },
      "outputs": [],
      "source": [
        "# display(\"Validation dataset feature details:\")\n",
        "# display(\"Names of important features: \", list_of_important_features)\n",
        "# display(\"Length of important_features_list: \", len(list_of_important_features))"
      ]
    },
    {
      "cell_type": "markdown",
      "metadata": {
        "id": "twjmZF6MwVcr"
      },
      "source": [
        "From the above two codes we can conclude that we can proceed building a univariate model as there is only one important feature which will help serve the objective of this project.\n",
        "To make our work simple we will drop the not important columns from the current dataset. However, this will be done after making a deep copy of the existing database."
      ]
    },
    {
      "cell_type": "code",
      "execution_count": null,
      "metadata": {
        "id": "Xq0f-j7nvIjg"
      },
      "outputs": [],
      "source": [
        "soil_df_resampled_backup = soil_df_resampled.copy(deep = True)"
      ]
    },
    {
      "cell_type": "markdown",
      "metadata": {
        "id": "p6oE5PacvXe3"
      },
      "source": [
        "Dropping variables that are not impacting the progression of this project"
      ]
    },
    {
      "cell_type": "code",
      "execution_count": null,
      "metadata": {
        "id": "qRjF_ystvpgI"
      },
      "outputs": [],
      "source": [
        "soil_df_resampled.drop(\"Relative_humidity\", axis = 1, inplace = True)\n",
        "soil_df_resampled.drop(\"Evapotranspiration\", axis = 1, inplace = True)\n",
        "soil_df_resampled.drop(\"Daily_mean_temp\", axis = 1, inplace = True)"
      ]
    },
    {
      "cell_type": "code",
      "execution_count": null,
      "metadata": {
        "colab": {
          "base_uri": "https://localhost:8080/"
        },
        "id": "QtqEcJRMy8nk",
        "outputId": "70b34fe7-b7f1-454d-b8fd-16aceffdc887"
      },
      "outputs": [
        {
          "output_type": "execute_result",
          "data": {
            "text/plain": [
              "(11323, 1)"
            ]
          },
          "metadata": {},
          "execution_count": 55
        }
      ],
      "source": [
        "soil_df_resampled.shape"
      ]
    },
    {
      "cell_type": "code",
      "execution_count": null,
      "metadata": {
        "colab": {
          "base_uri": "https://localhost:8080/",
          "height": 238
        },
        "id": "KdnFcwOXzDj8",
        "outputId": "4bb9d1ea-82f9-4afd-de57-ee2451ad1440"
      },
      "outputs": [
        {
          "output_type": "execute_result",
          "data": {
            "text/plain": [
              "            Moisture_level\n",
              "Date                      \n",
              "1991-01-01           102.0\n",
              "1991-01-02           110.0\n",
              "1991-01-03           110.0\n",
              "1991-01-04           106.0\n",
              "1991-01-05           109.0"
            ],
            "text/html": [
              "\n",
              "  <div id=\"df-fe6fcd61-4fe3-4bdc-ad4b-7f30e20db38a\">\n",
              "    <div class=\"colab-df-container\">\n",
              "      <div>\n",
              "<style scoped>\n",
              "    .dataframe tbody tr th:only-of-type {\n",
              "        vertical-align: middle;\n",
              "    }\n",
              "\n",
              "    .dataframe tbody tr th {\n",
              "        vertical-align: top;\n",
              "    }\n",
              "\n",
              "    .dataframe thead th {\n",
              "        text-align: right;\n",
              "    }\n",
              "</style>\n",
              "<table border=\"1\" class=\"dataframe\">\n",
              "  <thead>\n",
              "    <tr style=\"text-align: right;\">\n",
              "      <th></th>\n",
              "      <th>Moisture_level</th>\n",
              "    </tr>\n",
              "    <tr>\n",
              "      <th>Date</th>\n",
              "      <th></th>\n",
              "    </tr>\n",
              "  </thead>\n",
              "  <tbody>\n",
              "    <tr>\n",
              "      <th>1991-01-01</th>\n",
              "      <td>102.0</td>\n",
              "    </tr>\n",
              "    <tr>\n",
              "      <th>1991-01-02</th>\n",
              "      <td>110.0</td>\n",
              "    </tr>\n",
              "    <tr>\n",
              "      <th>1991-01-03</th>\n",
              "      <td>110.0</td>\n",
              "    </tr>\n",
              "    <tr>\n",
              "      <th>1991-01-04</th>\n",
              "      <td>106.0</td>\n",
              "    </tr>\n",
              "    <tr>\n",
              "      <th>1991-01-05</th>\n",
              "      <td>109.0</td>\n",
              "    </tr>\n",
              "  </tbody>\n",
              "</table>\n",
              "</div>\n",
              "      <button class=\"colab-df-convert\" onclick=\"convertToInteractive('df-fe6fcd61-4fe3-4bdc-ad4b-7f30e20db38a')\"\n",
              "              title=\"Convert this dataframe to an interactive table.\"\n",
              "              style=\"display:none;\">\n",
              "        \n",
              "  <svg xmlns=\"http://www.w3.org/2000/svg\" height=\"24px\"viewBox=\"0 0 24 24\"\n",
              "       width=\"24px\">\n",
              "    <path d=\"M0 0h24v24H0V0z\" fill=\"none\"/>\n",
              "    <path d=\"M18.56 5.44l.94 2.06.94-2.06 2.06-.94-2.06-.94-.94-2.06-.94 2.06-2.06.94zm-11 1L8.5 8.5l.94-2.06 2.06-.94-2.06-.94L8.5 2.5l-.94 2.06-2.06.94zm10 10l.94 2.06.94-2.06 2.06-.94-2.06-.94-.94-2.06-.94 2.06-2.06.94z\"/><path d=\"M17.41 7.96l-1.37-1.37c-.4-.4-.92-.59-1.43-.59-.52 0-1.04.2-1.43.59L10.3 9.45l-7.72 7.72c-.78.78-.78 2.05 0 2.83L4 21.41c.39.39.9.59 1.41.59.51 0 1.02-.2 1.41-.59l7.78-7.78 2.81-2.81c.8-.78.8-2.07 0-2.86zM5.41 20L4 18.59l7.72-7.72 1.47 1.35L5.41 20z\"/>\n",
              "  </svg>\n",
              "      </button>\n",
              "      \n",
              "  <style>\n",
              "    .colab-df-container {\n",
              "      display:flex;\n",
              "      flex-wrap:wrap;\n",
              "      gap: 12px;\n",
              "    }\n",
              "\n",
              "    .colab-df-convert {\n",
              "      background-color: #E8F0FE;\n",
              "      border: none;\n",
              "      border-radius: 50%;\n",
              "      cursor: pointer;\n",
              "      display: none;\n",
              "      fill: #1967D2;\n",
              "      height: 32px;\n",
              "      padding: 0 0 0 0;\n",
              "      width: 32px;\n",
              "    }\n",
              "\n",
              "    .colab-df-convert:hover {\n",
              "      background-color: #E2EBFA;\n",
              "      box-shadow: 0px 1px 2px rgba(60, 64, 67, 0.3), 0px 1px 3px 1px rgba(60, 64, 67, 0.15);\n",
              "      fill: #174EA6;\n",
              "    }\n",
              "\n",
              "    [theme=dark] .colab-df-convert {\n",
              "      background-color: #3B4455;\n",
              "      fill: #D2E3FC;\n",
              "    }\n",
              "\n",
              "    [theme=dark] .colab-df-convert:hover {\n",
              "      background-color: #434B5C;\n",
              "      box-shadow: 0px 1px 3px 1px rgba(0, 0, 0, 0.15);\n",
              "      filter: drop-shadow(0px 1px 2px rgba(0, 0, 0, 0.3));\n",
              "      fill: #FFFFFF;\n",
              "    }\n",
              "  </style>\n",
              "\n",
              "      <script>\n",
              "        const buttonEl =\n",
              "          document.querySelector('#df-fe6fcd61-4fe3-4bdc-ad4b-7f30e20db38a button.colab-df-convert');\n",
              "        buttonEl.style.display =\n",
              "          google.colab.kernel.accessAllowed ? 'block' : 'none';\n",
              "\n",
              "        async function convertToInteractive(key) {\n",
              "          const element = document.querySelector('#df-fe6fcd61-4fe3-4bdc-ad4b-7f30e20db38a');\n",
              "          const dataTable =\n",
              "            await google.colab.kernel.invokeFunction('convertToInteractive',\n",
              "                                                     [key], {});\n",
              "          if (!dataTable) return;\n",
              "\n",
              "          const docLinkHtml = 'Like what you see? Visit the ' +\n",
              "            '<a target=\"_blank\" href=https://colab.research.google.com/notebooks/data_table.ipynb>data table notebook</a>'\n",
              "            + ' to learn more about interactive tables.';\n",
              "          element.innerHTML = '';\n",
              "          dataTable['output_type'] = 'display_data';\n",
              "          await google.colab.output.renderOutput(dataTable, element);\n",
              "          const docLink = document.createElement('div');\n",
              "          docLink.innerHTML = docLinkHtml;\n",
              "          element.appendChild(docLink);\n",
              "        }\n",
              "      </script>\n",
              "    </div>\n",
              "  </div>\n",
              "  "
            ]
          },
          "metadata": {},
          "execution_count": 56
        }
      ],
      "source": [
        "soil_df_resampled.head()"
      ]
    },
    {
      "cell_type": "code",
      "execution_count": null,
      "metadata": {
        "colab": {
          "base_uri": "https://localhost:8080/"
        },
        "id": "ZFRvJD1j8DwJ",
        "outputId": "e10f8b4a-ef61-4c3a-cb7d-07950b57084f"
      },
      "outputs": [
        {
          "output_type": "stream",
          "name": "stdout",
          "text": [
            "<class 'pandas.core.frame.DataFrame'>\n",
            "DatetimeIndex: 11323 entries, 1991-01-01 to 2021-12-31\n",
            "Freq: D\n",
            "Data columns (total 1 columns):\n",
            " #   Column          Non-Null Count  Dtype  \n",
            "---  ------          --------------  -----  \n",
            " 0   Moisture_level  11323 non-null  float64\n",
            "dtypes: float64(1)\n",
            "memory usage: 176.9 KB\n"
          ]
        }
      ],
      "source": [
        "soil_df_resampled.info()"
      ]
    },
    {
      "cell_type": "code",
      "execution_count": null,
      "metadata": {
        "colab": {
          "base_uri": "https://localhost:8080/",
          "height": 300
        },
        "id": "GsIKYYfANccy",
        "outputId": "c05fec3d-8a6a-46c2-9895-29dfa6097f9a"
      },
      "outputs": [
        {
          "output_type": "execute_result",
          "data": {
            "text/plain": [
              "       Moisture_level\n",
              "count    11323.000000\n",
              "mean        71.004063\n",
              "std         37.056605\n",
              "min          0.000000\n",
              "25%         41.000000\n",
              "50%         88.000000\n",
              "75%        102.000000\n",
              "max        111.000000"
            ],
            "text/html": [
              "\n",
              "  <div id=\"df-03b6639a-2a31-49df-b2ee-ec209c19f093\">\n",
              "    <div class=\"colab-df-container\">\n",
              "      <div>\n",
              "<style scoped>\n",
              "    .dataframe tbody tr th:only-of-type {\n",
              "        vertical-align: middle;\n",
              "    }\n",
              "\n",
              "    .dataframe tbody tr th {\n",
              "        vertical-align: top;\n",
              "    }\n",
              "\n",
              "    .dataframe thead th {\n",
              "        text-align: right;\n",
              "    }\n",
              "</style>\n",
              "<table border=\"1\" class=\"dataframe\">\n",
              "  <thead>\n",
              "    <tr style=\"text-align: right;\">\n",
              "      <th></th>\n",
              "      <th>Moisture_level</th>\n",
              "    </tr>\n",
              "  </thead>\n",
              "  <tbody>\n",
              "    <tr>\n",
              "      <th>count</th>\n",
              "      <td>11323.000000</td>\n",
              "    </tr>\n",
              "    <tr>\n",
              "      <th>mean</th>\n",
              "      <td>71.004063</td>\n",
              "    </tr>\n",
              "    <tr>\n",
              "      <th>std</th>\n",
              "      <td>37.056605</td>\n",
              "    </tr>\n",
              "    <tr>\n",
              "      <th>min</th>\n",
              "      <td>0.000000</td>\n",
              "    </tr>\n",
              "    <tr>\n",
              "      <th>25%</th>\n",
              "      <td>41.000000</td>\n",
              "    </tr>\n",
              "    <tr>\n",
              "      <th>50%</th>\n",
              "      <td>88.000000</td>\n",
              "    </tr>\n",
              "    <tr>\n",
              "      <th>75%</th>\n",
              "      <td>102.000000</td>\n",
              "    </tr>\n",
              "    <tr>\n",
              "      <th>max</th>\n",
              "      <td>111.000000</td>\n",
              "    </tr>\n",
              "  </tbody>\n",
              "</table>\n",
              "</div>\n",
              "      <button class=\"colab-df-convert\" onclick=\"convertToInteractive('df-03b6639a-2a31-49df-b2ee-ec209c19f093')\"\n",
              "              title=\"Convert this dataframe to an interactive table.\"\n",
              "              style=\"display:none;\">\n",
              "        \n",
              "  <svg xmlns=\"http://www.w3.org/2000/svg\" height=\"24px\"viewBox=\"0 0 24 24\"\n",
              "       width=\"24px\">\n",
              "    <path d=\"M0 0h24v24H0V0z\" fill=\"none\"/>\n",
              "    <path d=\"M18.56 5.44l.94 2.06.94-2.06 2.06-.94-2.06-.94-.94-2.06-.94 2.06-2.06.94zm-11 1L8.5 8.5l.94-2.06 2.06-.94-2.06-.94L8.5 2.5l-.94 2.06-2.06.94zm10 10l.94 2.06.94-2.06 2.06-.94-2.06-.94-.94-2.06-.94 2.06-2.06.94z\"/><path d=\"M17.41 7.96l-1.37-1.37c-.4-.4-.92-.59-1.43-.59-.52 0-1.04.2-1.43.59L10.3 9.45l-7.72 7.72c-.78.78-.78 2.05 0 2.83L4 21.41c.39.39.9.59 1.41.59.51 0 1.02-.2 1.41-.59l7.78-7.78 2.81-2.81c.8-.78.8-2.07 0-2.86zM5.41 20L4 18.59l7.72-7.72 1.47 1.35L5.41 20z\"/>\n",
              "  </svg>\n",
              "      </button>\n",
              "      \n",
              "  <style>\n",
              "    .colab-df-container {\n",
              "      display:flex;\n",
              "      flex-wrap:wrap;\n",
              "      gap: 12px;\n",
              "    }\n",
              "\n",
              "    .colab-df-convert {\n",
              "      background-color: #E8F0FE;\n",
              "      border: none;\n",
              "      border-radius: 50%;\n",
              "      cursor: pointer;\n",
              "      display: none;\n",
              "      fill: #1967D2;\n",
              "      height: 32px;\n",
              "      padding: 0 0 0 0;\n",
              "      width: 32px;\n",
              "    }\n",
              "\n",
              "    .colab-df-convert:hover {\n",
              "      background-color: #E2EBFA;\n",
              "      box-shadow: 0px 1px 2px rgba(60, 64, 67, 0.3), 0px 1px 3px 1px rgba(60, 64, 67, 0.15);\n",
              "      fill: #174EA6;\n",
              "    }\n",
              "\n",
              "    [theme=dark] .colab-df-convert {\n",
              "      background-color: #3B4455;\n",
              "      fill: #D2E3FC;\n",
              "    }\n",
              "\n",
              "    [theme=dark] .colab-df-convert:hover {\n",
              "      background-color: #434B5C;\n",
              "      box-shadow: 0px 1px 3px 1px rgba(0, 0, 0, 0.15);\n",
              "      filter: drop-shadow(0px 1px 2px rgba(0, 0, 0, 0.3));\n",
              "      fill: #FFFFFF;\n",
              "    }\n",
              "  </style>\n",
              "\n",
              "      <script>\n",
              "        const buttonEl =\n",
              "          document.querySelector('#df-03b6639a-2a31-49df-b2ee-ec209c19f093 button.colab-df-convert');\n",
              "        buttonEl.style.display =\n",
              "          google.colab.kernel.accessAllowed ? 'block' : 'none';\n",
              "\n",
              "        async function convertToInteractive(key) {\n",
              "          const element = document.querySelector('#df-03b6639a-2a31-49df-b2ee-ec209c19f093');\n",
              "          const dataTable =\n",
              "            await google.colab.kernel.invokeFunction('convertToInteractive',\n",
              "                                                     [key], {});\n",
              "          if (!dataTable) return;\n",
              "\n",
              "          const docLinkHtml = 'Like what you see? Visit the ' +\n",
              "            '<a target=\"_blank\" href=https://colab.research.google.com/notebooks/data_table.ipynb>data table notebook</a>'\n",
              "            + ' to learn more about interactive tables.';\n",
              "          element.innerHTML = '';\n",
              "          dataTable['output_type'] = 'display_data';\n",
              "          await google.colab.output.renderOutput(dataTable, element);\n",
              "          const docLink = document.createElement('div');\n",
              "          docLink.innerHTML = docLinkHtml;\n",
              "          element.appendChild(docLink);\n",
              "        }\n",
              "      </script>\n",
              "    </div>\n",
              "  </div>\n",
              "  "
            ]
          },
          "metadata": {},
          "execution_count": 58
        }
      ],
      "source": [
        "soil_df_resampled.describe()"
      ]
    },
    {
      "cell_type": "markdown",
      "metadata": {
        "id": "PPG_oePp29Eg"
      },
      "source": [
        "**Some visualisations**\n",
        "\n"
      ]
    },
    {
      "cell_type": "code",
      "execution_count": null,
      "metadata": {
        "colab": {
          "base_uri": "https://localhost:8080/",
          "height": 350
        },
        "id": "K6o2EAdf4TTN",
        "outputId": "d161929e-68e8-4266-a64a-b684cbcda146"
      },
      "outputs": [
        {
          "output_type": "display_data",
          "data": {
            "text/plain": [
              "<Figure size 720x360 with 1 Axes>"
            ],
            "image/png": "[encoded data removed]"
          },
          "metadata": {
            "needs_background": "light"
          }
        }
      ],
      "source": [
        "soil_df_resampled.plot(figsize = (10,5), title = \"Moisture level of soil over 20 years span\", cmap = \"Accent\" );"
      ]
    },
    {
      "cell_type": "markdown",
      "metadata": {
        "id": "hUT2AoJsWc-0"
      },
      "source": [
        "Now let us plot some Autocorrelations.\n",
        "\n",
        "While ACF (autocorrelation function) observes correlations \"naively\" with some amount of time-points, PACF (partial autocorrelatoin function) tries to control for the fact, that the effect of points in time travel through the series, so if there is a very influential effect in an early point in time, its effect would be influencing all next time points, making them look also influential. In PACF this is controlled for.\n",
        "(Ref:https://colab.research.google.com/drive/16RDjy8_vjZZxS4S3DjTpefAE1YszzQJh#scrollTo=MBFUHYGDZuwQ)"
      ]
    },
    {
      "cell_type": "markdown",
      "metadata": {
        "id": "nCCJ2lNtW2Pw"
      },
      "source": [
        "*Import libraries*\n",
        " We need to import libraries from statsmodels. The libraries are specified below.\n",
        "`from statsmodels.graphics.tsaplots import plot_acf, plot_pacf`\n",
        "(Ref: https://colab.research.google.com/drive/16RDjy8_vjZZxS4S3DjTpefAE1YszzQJh#scrollTo=MBFUHYGDZuwQ)"
      ]
    },
    {
      "cell_type": "code",
      "execution_count": null,
      "metadata": {
        "colab": {
          "base_uri": "https://localhost:8080/"
        },
        "id": "XVxKYCY-W1fw",
        "outputId": "cea6e367-90e9-4f14-a60a-e47c3bd27831"
      },
      "outputs": [
        {
          "output_type": "stream",
          "name": "stderr",
          "text": [
            "/usr/local/lib/python3.7/dist-packages/statsmodels/tools/_testing.py:19: FutureWarning: pandas.util.testing is deprecated. Use the functions in the public API at pandas.testing instead.\n",
            "  import pandas.util.testing as tm\n"
          ]
        }
      ],
      "source": [
        "from statsmodels.graphics.tsaplots import plot_acf, plot_pacf"
      ]
    },
    {
      "cell_type": "code",
      "execution_count": null,
      "metadata": {
        "colab": {
          "base_uri": "https://localhost:8080/",
          "height": 590
        },
        "id": "5bpFXE-uXH-G",
        "outputId": "63dbf82f-7906-480f-a435-acd9a8b1e492"
      },
      "outputs": [
        {
          "output_type": "display_data",
          "data": {
            "text/plain": [
              "<Figure size 432x288 with 1 Axes>"
            ],
            "image/png": "[encoded data removed]"
          },
          "metadata": {
            "needs_background": "light"
          }
        },
        {
          "output_type": "display_data",
          "data": {
            "text/plain": [
              "<Figure size 432x288 with 1 Axes>"
            ],
            "image/png": "[encoded data removed]"
          },
          "metadata": {
            "needs_background": "light"
          }
        },
        {
          "output_type": "stream",
          "name": "stdout",
          "text": [
            "---\n"
          ]
        }
      ],
      "source": [
        "plt.close()\n",
        "plot_acf(soil_df_resampled[\"Moisture_level\"].values, lags=20, zero=False)\n",
        "plt.xlabel(\"Measurement points back in time - relatively\")\n",
        "plt.show()\n",
        "plot_pacf(soil_df_resampled[\"Moisture_level\"].values, lags=20, zero=False)\n",
        "plt.xlabel(\"Measurement points back in time - relatively\")\n",
        "plt.show()\n",
        "print(\"---\")"
      ]
    },
    {
      "cell_type": "markdown",
      "metadata": {
        "id": "Lb4e3q9NrKMa"
      },
      "source": [
        "###**Working on components of time series data**\n",
        "\n",
        "Time series data is a sequence of data points that measure some variable over ordered period of time. It is the fastest-growing category of databases as it is widely used in a variety of industries to understand and forecast data patterns. So while preparing this time series data for modeling it’s important to check for time series components or patterns.\n",
        "\n",
        "**1. Trend is one of the components of time-series data. It is a pattern in data that shows the movement of a series** to relatively higher or lower values over a long period of time. In other words, a trend is observed when there is an increasing or decreasing slope in the time series. Trend usually happens for some time and then disappears, it does not repeat. A trend could be an upward one, a downward one or horizontal (also called stationary trend)\n",
        "(Ref: https://www.geeksforgeeks.org/what-is-a-trend-in-time-series/#:~:text=Trend%20is%20a%20pattern%20in,disappears%2C%20it%20does%20not%20repeat.)\n",
        "\n",
        "Identifying and understanding trend information can aid in improving model performance by quicker modeling, simplify modeling and use trend information, directly or as a summary, to provide additional information to the model. Trends could be:\n",
        "- Deterministic Trends: These are trends that consistently increase or decrease. These are easier to identify and remove\n",
        "- Stochastic Trends: These are trends that increase and decrease inconsistently.\n",
        "\n",
        "Trends could also be:\n",
        "- Global Trends: These are trends that apply to the whole time series.\n",
        "- Local Trends: These are trends that apply to parts or subsequences of a time series.\n",
        "(Ref:https://machinelearningmastery.com/time-series-trends-in-python/)\n",
        "\n",
        "**How to manage this trend while working on a time-series project?**\n",
        "- **Identifying a trend** : We need line plots to identify trends. We can obtain line plots by using `df.plot()` to visualise the trend. We can also add linear and non-linear trend lines to plots to check if there obiviously is a trend. Also bear in mind that identifying a trend in a time series can be a subjective process. As such, extracting or removing it from the time series can be just as subjective.\n",
        "\n",
        "- **Removing a Trend** : A time series with a trend is called non-stationary. An identified trend can be modeled. Once modeled, it can be removed from the time series dataset. This is called detrending the time series. If a dataset does not have a trend or we successfully remove the trend, the dataset is said to be trend stationary.\n",
        "\n",
        "From a machine learning perspective, a trend in data can either remove information (to remove systematic information that distorts the relationship between input and output variables), or add information (to add systematic information to improve the relationship between input and output variables)\n",
        "\n",
        "A good practice is to detrend the data (if there is a trend). Detrending involves removing the effects of trend from a data set to show only the differences in values from the trend; it allows cyclical and other patterns to be identified.Detrending the data will allow you to see any potential subtrends, which can be incredibly useful in various business functions or even is the field of science.(Ref:https://www.investopedia.com/terms/d/detrend.asp)\n",
        "\n",
        "\n",
        "**2. Seasonality** is alo a component of time series data. It is the increase or decrease of values occuring at some regular intervals.\n",
        "\n",
        "**3. Residual** is the third component of time-series data. Once trend and seasonality are removed and data is made stationary, this remaining part is calle dthe residual. It adds noise to the data. A residual value is a measure of how much a regression line vertically misses a data point. Regression lines are the best fit of a set of data. You can think of the lines as averages; a few data points will fit the line and others will miss. A residual plot has the Residual Values on the vertical axis; the horizontal axis displays the independent variable. (Ref: https://www.statisticshowto.com/residual-plot/\n"
      ]
    },
    {
      "cell_type": "markdown",
      "metadata": {
        "id": "0iTXwSyTzs-W"
      },
      "source": [
        "*Looking for data components*\n",
        "\n",
        "Let us look out for trend, seasonality and residual components of data. To do the same we shall use seasonal_decompose from statsmodel. This will give us a better picture.\n",
        "(Ref: https://www.statsmodels.org/dev/generated/statsmodels.tsa.seasonal.seasonal_decompose.html)"
      ]
    },
    {
      "cell_type": "markdown",
      "metadata": {
        "id": "GmyEDA9ulc5I"
      },
      "source": [
        "**Trying to know the presence of various components in the dataset**"
      ]
    },
    {
      "cell_type": "code",
      "execution_count": null,
      "metadata": {
        "colab": {
          "base_uri": "https://localhost:8080/",
          "height": 350
        },
        "id": "FIYvuoS_mwLe",
        "outputId": "5c0cf9fc-2264-42bb-c213-0fe3101cc3eb"
      },
      "outputs": [
        {
          "output_type": "display_data",
          "data": {
            "text/plain": [
              "<Figure size 720x360 with 1 Axes>"
            ],
            "image/png": "[encoded data removed]"
          },
          "metadata": {
            "needs_background": "light"
          }
        }
      ],
      "source": [
        "soil_df_resampled.plot(figsize = (10, 5), title = \"Plot on daily resampled data\", cmap = \"Accent\");"
      ]
    },
    {
      "cell_type": "markdown",
      "metadata": {
        "id": "5BSOke1MAhLQ"
      },
      "source": [
        "*Import libraries*"
      ]
    },
    {
      "cell_type": "code",
      "execution_count": null,
      "metadata": {
        "id": "R5sg-JUiGaRb"
      },
      "outputs": [],
      "source": [
        "from statsmodels.tsa.seasonal import seasonal_decompose"
      ]
    },
    {
      "cell_type": "code",
      "execution_count": null,
      "metadata": {
        "colab": {
          "base_uri": "https://localhost:8080/",
          "height": 298
        },
        "id": "qOhRvRv4F-Zd",
        "outputId": "bce78105-1f56-46e6-eebe-aab4d9d3d44d"
      },
      "outputs": [
        {
          "output_type": "display_data",
          "data": {
            "text/plain": [
              "<Figure size 432x288 with 4 Axes>"
            ],
            "image/png": "[encoded data removed]"
          },
          "metadata": {
            "needs_background": "light"
          }
        }
      ],
      "source": [
        "seasonal_decompose(soil_df_resampled).plot();"
      ]
    },
    {
      "cell_type": "markdown",
      "metadata": {
        "id": "sl-T69glao8Q"
      },
      "source": [
        "The graph is too packed, so let's aggregate/resample the data to a monthly frequency and try again:"
      ]
    },
    {
      "cell_type": "code",
      "execution_count": null,
      "metadata": {
        "colab": {
          "base_uri": "https://localhost:8080/",
          "height": 298
        },
        "id": "weNQG-o7avx8",
        "outputId": "523775c2-d5b9-483c-a1d8-46cb1c69dd37"
      },
      "outputs": [
        {
          "output_type": "display_data",
          "data": {
            "text/plain": [
              "<Figure size 432x288 with 4 Axes>"
            ],
            "image/png": "[encoded data removed]"
          },
          "metadata": {
            "needs_background": "light"
          }
        }
      ],
      "source": [
        "seasonal_decompose(soil_df_resampled.resample(\"M\").mean()).plot();"
      ]
    },
    {
      "cell_type": "markdown",
      "metadata": {
        "id": "-ILg6CaHnPY-"
      },
      "source": [
        "From the above plot we can come to some conclusions:\n",
        "1. **Trend:** the trend of the data seems to be trailing upwards in the last few years. This could be a result of water conservation approach, the pandemic effect (no human interface with natural processes for a considerable length of time), etc.\n",
        "\n",
        "2. **Seasonality:**You can start to see a pattern - moisture_level peaks and troughs seem to be very seasonal and repetitive. This makes sense, considering weather patterns, changes in population, etc.\n",
        "\n",
        "3. **Residual:** We see that most data falls within the regressive range except for some fluctuations which could be due to seasonality. These fluctuations shall be taken care when we normalise data.\n",
        "\n",
        "We now need to move on to actually making our series stationary. Always keep in mind that in order to use time series forecasting models, it is necessary to convert any non-stationary series to a stationary series first.\n",
        "\n",
        "This can be done using simple differencing method or seasonal differencing method. I tried the seasonal differencing method (with 365 days period lag) but it results in loss of data. Keeping time constraints in mind we shall proceed with simple differencing method to convert the data into stationary series.\n",
        "(Ref :https://colab.research.google.com/drive/1yKe1GPDcld3n_ing8mxlclsP00I61Lkf#scrollTo=xEwTQaDFcUnc)\n",
        "\n",
        "**Why do we need to make data stationary?**\n",
        "A Non-Stationary is sometimes known as a 'Random Walk' - which are notoriously difficult to forecast, because the underlying properties keep changing (e.g. like trying to hit a moving target). (Ref:https://ayc-data.com/data_science/2020/04/19/electricity-forecasting-with-data-science.html)\n",
        "\n",
        "**Note:** We need to add back the trend and seasonality once the forecast is made."
      ]
    },
    {
      "cell_type": "markdown",
      "metadata": {
        "id": "7XPS51nYm260"
      },
      "source": [
        "**Detrending data** We will use the `df.diff()` function called on our dataframe to detrend data. (Ref:https://colab.research.google.com/drive/16RDjy8_vjZZxS4S3DjTpefAE1YszzQJh#scrollTo=MBFUHYGDZuwQ). We have one value - the first one, as NaN. We shall fill this using`df.fillna(method = \"backfill\", inplace = True`. We are filling NaN value with backfill so as to maintain the originality of the data and not bring about unnecessary variations.\n",
        "\n",
        "\n",
        "\n",
        "*Note: all these will be done after making a deep copy of our orginal training data, which we may need to add back the trend and seasonality after prediction.*"
      ]
    },
    {
      "cell_type": "code",
      "execution_count": null,
      "metadata": {
        "id": "zGoSk5K_OPZO"
      },
      "outputs": [],
      "source": [
        "soil_df_resampled_backup = soil_df_resampled.copy(deep = True)"
      ]
    },
    {
      "cell_type": "code",
      "execution_count": null,
      "metadata": {
        "id": "Mp8uxrpmpJVa"
      },
      "outputs": [],
      "source": [
        "detrend_diff_period = 1"
      ]
    },
    {
      "cell_type": "markdown",
      "metadata": {
        "id": "C4lyX343RvzY"
      },
      "source": [
        "Let us visualise the original dataframe as well as the detrended one"
      ]
    },
    {
      "cell_type": "code",
      "execution_count": null,
      "metadata": {
        "colab": {
          "base_uri": "https://localhost:8080/",
          "height": 455
        },
        "id": "UHZBaMrSdlJi",
        "outputId": "1905bf34-708f-4103-dc7a-19d4e71f2a67"
      },
      "outputs": [
        {
          "output_type": "execute_result",
          "data": {
            "text/plain": [
              "            Moisture_level\n",
              "Date                      \n",
              "1991-01-01             NaN\n",
              "1991-01-02             8.0\n",
              "1991-01-03             0.0\n",
              "1991-01-04            -4.0\n",
              "1991-01-05             3.0\n",
              "...                    ...\n",
              "2021-12-27            -2.0\n",
              "2021-12-28             7.0\n",
              "2021-12-29             3.0\n",
              "2021-12-30            -3.0\n",
              "2021-12-31            -3.0\n",
              "\n",
              "[11323 rows x 1 columns]"
            ],
            "text/html": [
              "\n",
              "  <div id=\"df-d6139b63-1d9a-4dff-a5ab-2905ee5da496\">\n",
              "    <div class=\"colab-df-container\">\n",
              "      <div>\n",
              "<style scoped>\n",
              "    .dataframe tbody tr th:only-of-type {\n",
              "        vertical-align: middle;\n",
              "    }\n",
              "\n",
              "    .dataframe tbody tr th {\n",
              "        vertical-align: top;\n",
              "    }\n",
              "\n",
              "    .dataframe thead th {\n",
              "        text-align: right;\n",
              "    }\n",
              "</style>\n",
              "<table border=\"1\" class=\"dataframe\">\n",
              "  <thead>\n",
              "    <tr style=\"text-align: right;\">\n",
              "      <th></th>\n",
              "      <th>Moisture_level</th>\n",
              "    </tr>\n",
              "    <tr>\n",
              "      <th>Date</th>\n",
              "      <th></th>\n",
              "    </tr>\n",
              "  </thead>\n",
              "  <tbody>\n",
              "    <tr>\n",
              "      <th>1991-01-01</th>\n",
              "      <td>NaN</td>\n",
              "    </tr>\n",
              "    <tr>\n",
              "      <th>1991-01-02</th>\n",
              "      <td>8.0</td>\n",
              "    </tr>\n",
              "    <tr>\n",
              "      <th>1991-01-03</th>\n",
              "      <td>0.0</td>\n",
              "    </tr>\n",
              "    <tr>\n",
              "      <th>1991-01-04</th>\n",
              "      <td>-4.0</td>\n",
              "    </tr>\n",
              "    <tr>\n",
              "      <th>1991-01-05</th>\n",
              "      <td>3.0</td>\n",
              "    </tr>\n",
              "    <tr>\n",
              "      <th>...</th>\n",
              "      <td>...</td>\n",
              "    </tr>\n",
              "    <tr>\n",
              "      <th>2021-12-27</th>\n",
              "      <td>-2.0</td>\n",
              "    </tr>\n",
              "    <tr>\n",
              "      <th>2021-12-28</th>\n",
              "      <td>7.0</td>\n",
              "    </tr>\n",
              "    <tr>\n",
              "      <th>2021-12-29</th>\n",
              "      <td>3.0</td>\n",
              "    </tr>\n",
              "    <tr>\n",
              "      <th>2021-12-30</th>\n",
              "      <td>-3.0</td>\n",
              "    </tr>\n",
              "    <tr>\n",
              "      <th>2021-12-31</th>\n",
              "      <td>-3.0</td>\n",
              "    </tr>\n",
              "  </tbody>\n",
              "</table>\n",
              "<p>11323 rows × 1 columns</p>\n",
              "</div>\n",
              "      <button class=\"colab-df-convert\" onclick=\"convertToInteractive('df-d6139b63-1d9a-4dff-a5ab-2905ee5da496')\"\n",
              "              title=\"Convert this dataframe to an interactive table.\"\n",
              "              style=\"display:none;\">\n",
              "        \n",
              "  <svg xmlns=\"http://www.w3.org/2000/svg\" height=\"24px\"viewBox=\"0 0 24 24\"\n",
              "       width=\"24px\">\n",
              "    <path d=\"M0 0h24v24H0V0z\" fill=\"none\"/>\n",
              "    <path d=\"M18.56 5.44l.94 2.06.94-2.06 2.06-.94-2.06-.94-.94-2.06-.94 2.06-2.06.94zm-11 1L8.5 8.5l.94-2.06 2.06-.94-2.06-.94L8.5 2.5l-.94 2.06-2.06.94zm10 10l.94 2.06.94-2.06 2.06-.94-2.06-.94-.94-2.06-.94 2.06-2.06.94z\"/><path d=\"M17.41 7.96l-1.37-1.37c-.4-.4-.92-.59-1.43-.59-.52 0-1.04.2-1.43.59L10.3 9.45l-7.72 7.72c-.78.78-.78 2.05 0 2.83L4 21.41c.39.39.9.59 1.41.59.51 0 1.02-.2 1.41-.59l7.78-7.78 2.81-2.81c.8-.78.8-2.07 0-2.86zM5.41 20L4 18.59l7.72-7.72 1.47 1.35L5.41 20z\"/>\n",
              "  </svg>\n",
              "      </button>\n",
              "      \n",
              "  <style>\n",
              "    .colab-df-container {\n",
              "      display:flex;\n",
              "      flex-wrap:wrap;\n",
              "      gap: 12px;\n",
              "    }\n",
              "\n",
              "    .colab-df-convert {\n",
              "      background-color: #E8F0FE;\n",
              "      border: none;\n",
              "      border-radius: 50%;\n",
              "      cursor: pointer;\n",
              "      display: none;\n",
              "      fill: #1967D2;\n",
              "      height: 32px;\n",
              "      padding: 0 0 0 0;\n",
              "      width: 32px;\n",
              "    }\n",
              "\n",
              "    .colab-df-convert:hover {\n",
              "      background-color: #E2EBFA;\n",
              "      box-shadow: 0px 1px 2px rgba(60, 64, 67, 0.3), 0px 1px 3px 1px rgba(60, 64, 67, 0.15);\n",
              "      fill: #174EA6;\n",
              "    }\n",
              "\n",
              "    [theme=dark] .colab-df-convert {\n",
              "      background-color: #3B4455;\n",
              "      fill: #D2E3FC;\n",
              "    }\n",
              "\n",
              "    [theme=dark] .colab-df-convert:hover {\n",
              "      background-color: #434B5C;\n",
              "      box-shadow: 0px 1px 3px 1px rgba(0, 0, 0, 0.15);\n",
              "      filter: drop-shadow(0px 1px 2px rgba(0, 0, 0, 0.3));\n",
              "      fill: #FFFFFF;\n",
              "    }\n",
              "  </style>\n",
              "\n",
              "      <script>\n",
              "        const buttonEl =\n",
              "          document.querySelector('#df-d6139b63-1d9a-4dff-a5ab-2905ee5da496 button.colab-df-convert');\n",
              "        buttonEl.style.display =\n",
              "          google.colab.kernel.accessAllowed ? 'block' : 'none';\n",
              "\n",
              "        async function convertToInteractive(key) {\n",
              "          const element = document.querySelector('#df-d6139b63-1d9a-4dff-a5ab-2905ee5da496');\n",
              "          const dataTable =\n",
              "            await google.colab.kernel.invokeFunction('convertToInteractive',\n",
              "                                                     [key], {});\n",
              "          if (!dataTable) return;\n",
              "\n",
              "          const docLinkHtml = 'Like what you see? Visit the ' +\n",
              "            '<a target=\"_blank\" href=https://colab.research.google.com/notebooks/data_table.ipynb>data table notebook</a>'\n",
              "            + ' to learn more about interactive tables.';\n",
              "          element.innerHTML = '';\n",
              "          dataTable['output_type'] = 'display_data';\n",
              "          await google.colab.output.renderOutput(dataTable, element);\n",
              "          const docLink = document.createElement('div');\n",
              "          docLink.innerHTML = docLinkHtml;\n",
              "          element.appendChild(docLink);\n",
              "        }\n",
              "      </script>\n",
              "    </div>\n",
              "  </div>\n",
              "  "
            ]
          },
          "metadata": {},
          "execution_count": 68
        }
      ],
      "source": [
        "detrended_soil_df_resampled = soil_df_resampled.diff(detrend_diff_period)\n",
        "detrended_soil_df_resampled"
      ]
    },
    {
      "cell_type": "markdown",
      "metadata": {
        "id": "w6eVBwDLdhLr"
      },
      "source": [
        "Let us know if any null values available due to differencing."
      ]
    },
    {
      "cell_type": "code",
      "execution_count": null,
      "metadata": {
        "colab": {
          "base_uri": "https://localhost:8080/"
        },
        "id": "UOUnbzf-d4sd",
        "outputId": "d2d252a3-d0c3-4055-e56c-dd67fbfc6f1d"
      },
      "outputs": [
        {
          "output_type": "execute_result",
          "data": {
            "text/plain": [
              "Moisture_level    1\n",
              "dtype: int64"
            ]
          },
          "metadata": {},
          "execution_count": 69
        }
      ],
      "source": [
        "detrended_soil_df_resampled.isnull().sum()"
      ]
    },
    {
      "cell_type": "markdown",
      "metadata": {
        "id": "WuIAnxFTd86o"
      },
      "source": [
        "Let us fill this value with backfill so that we have no missing values and at the same time trying to maintain data within the similar range as it can be. Also this will help avoid varied fluctuations which could arise if we filled it with a zero."
      ]
    },
    {
      "cell_type": "code",
      "execution_count": null,
      "metadata": {
        "colab": {
          "base_uri": "https://localhost:8080/",
          "height": 455
        },
        "id": "EcAJLX4fed4g",
        "outputId": "f981a15d-df74-49a9-8d44-6e2776d65103"
      },
      "outputs": [
        {
          "output_type": "execute_result",
          "data": {
            "text/plain": [
              "            Moisture_level\n",
              "Date                      \n",
              "1991-01-01             8.0\n",
              "1991-01-02             8.0\n",
              "1991-01-03             0.0\n",
              "1991-01-04            -4.0\n",
              "1991-01-05             3.0\n",
              "...                    ...\n",
              "2021-12-27            -2.0\n",
              "2021-12-28             7.0\n",
              "2021-12-29             3.0\n",
              "2021-12-30            -3.0\n",
              "2021-12-31            -3.0\n",
              "\n",
              "[11323 rows x 1 columns]"
            ],
            "text/html": [
              "\n",
              "  <div id=\"df-bc78bdec-afe8-40ff-bbba-6e7af7d0614f\">\n",
              "    <div class=\"colab-df-container\">\n",
              "      <div>\n",
              "<style scoped>\n",
              "    .dataframe tbody tr th:only-of-type {\n",
              "        vertical-align: middle;\n",
              "    }\n",
              "\n",
              "    .dataframe tbody tr th {\n",
              "        vertical-align: top;\n",
              "    }\n",
              "\n",
              "    .dataframe thead th {\n",
              "        text-align: right;\n",
              "    }\n",
              "</style>\n",
              "<table border=\"1\" class=\"dataframe\">\n",
              "  <thead>\n",
              "    <tr style=\"text-align: right;\">\n",
              "      <th></th>\n",
              "      <th>Moisture_level</th>\n",
              "    </tr>\n",
              "    <tr>\n",
              "      <th>Date</th>\n",
              "      <th></th>\n",
              "    </tr>\n",
              "  </thead>\n",
              "  <tbody>\n",
              "    <tr>\n",
              "      <th>1991-01-01</th>\n",
              "      <td>8.0</td>\n",
              "    </tr>\n",
              "    <tr>\n",
              "      <th>1991-01-02</th>\n",
              "      <td>8.0</td>\n",
              "    </tr>\n",
              "    <tr>\n",
              "      <th>1991-01-03</th>\n",
              "      <td>0.0</td>\n",
              "    </tr>\n",
              "    <tr>\n",
              "      <th>1991-01-04</th>\n",
              "      <td>-4.0</td>\n",
              "    </tr>\n",
              "    <tr>\n",
              "      <th>1991-01-05</th>\n",
              "      <td>3.0</td>\n",
              "    </tr>\n",
              "    <tr>\n",
              "      <th>...</th>\n",
              "      <td>...</td>\n",
              "    </tr>\n",
              "    <tr>\n",
              "      <th>2021-12-27</th>\n",
              "      <td>-2.0</td>\n",
              "    </tr>\n",
              "    <tr>\n",
              "      <th>2021-12-28</th>\n",
              "      <td>7.0</td>\n",
              "    </tr>\n",
              "    <tr>\n",
              "      <th>2021-12-29</th>\n",
              "      <td>3.0</td>\n",
              "    </tr>\n",
              "    <tr>\n",
              "      <th>2021-12-30</th>\n",
              "      <td>-3.0</td>\n",
              "    </tr>\n",
              "    <tr>\n",
              "      <th>2021-12-31</th>\n",
              "      <td>-3.0</td>\n",
              "    </tr>\n",
              "  </tbody>\n",
              "</table>\n",
              "<p>11323 rows × 1 columns</p>\n",
              "</div>\n",
              "      <button class=\"colab-df-convert\" onclick=\"convertToInteractive('df-bc78bdec-afe8-40ff-bbba-6e7af7d0614f')\"\n",
              "              title=\"Convert this dataframe to an interactive table.\"\n",
              "              style=\"display:none;\">\n",
              "        \n",
              "  <svg xmlns=\"http://www.w3.org/2000/svg\" height=\"24px\"viewBox=\"0 0 24 24\"\n",
              "       width=\"24px\">\n",
              "    <path d=\"M0 0h24v24H0V0z\" fill=\"none\"/>\n",
              "    <path d=\"M18.56 5.44l.94 2.06.94-2.06 2.06-.94-2.06-.94-.94-2.06-.94 2.06-2.06.94zm-11 1L8.5 8.5l.94-2.06 2.06-.94-2.06-.94L8.5 2.5l-.94 2.06-2.06.94zm10 10l.94 2.06.94-2.06 2.06-.94-2.06-.94-.94-2.06-.94 2.06-2.06.94z\"/><path d=\"M17.41 7.96l-1.37-1.37c-.4-.4-.92-.59-1.43-.59-.52 0-1.04.2-1.43.59L10.3 9.45l-7.72 7.72c-.78.78-.78 2.05 0 2.83L4 21.41c.39.39.9.59 1.41.59.51 0 1.02-.2 1.41-.59l7.78-7.78 2.81-2.81c.8-.78.8-2.07 0-2.86zM5.41 20L4 18.59l7.72-7.72 1.47 1.35L5.41 20z\"/>\n",
              "  </svg>\n",
              "      </button>\n",
              "      \n",
              "  <style>\n",
              "    .colab-df-container {\n",
              "      display:flex;\n",
              "      flex-wrap:wrap;\n",
              "      gap: 12px;\n",
              "    }\n",
              "\n",
              "    .colab-df-convert {\n",
              "      background-color: #E8F0FE;\n",
              "      border: none;\n",
              "      border-radius: 50%;\n",
              "      cursor: pointer;\n",
              "      display: none;\n",
              "      fill: #1967D2;\n",
              "      height: 32px;\n",
              "      padding: 0 0 0 0;\n",
              "      width: 32px;\n",
              "    }\n",
              "\n",
              "    .colab-df-convert:hover {\n",
              "      background-color: #E2EBFA;\n",
              "      box-shadow: 0px 1px 2px rgba(60, 64, 67, 0.3), 0px 1px 3px 1px rgba(60, 64, 67, 0.15);\n",
              "      fill: #174EA6;\n",
              "    }\n",
              "\n",
              "    [theme=dark] .colab-df-convert {\n",
              "      background-color: #3B4455;\n",
              "      fill: #D2E3FC;\n",
              "    }\n",
              "\n",
              "    [theme=dark] .colab-df-convert:hover {\n",
              "      background-color: #434B5C;\n",
              "      box-shadow: 0px 1px 3px 1px rgba(0, 0, 0, 0.15);\n",
              "      filter: drop-shadow(0px 1px 2px rgba(0, 0, 0, 0.3));\n",
              "      fill: #FFFFFF;\n",
              "    }\n",
              "  </style>\n",
              "\n",
              "      <script>\n",
              "        const buttonEl =\n",
              "          document.querySelector('#df-bc78bdec-afe8-40ff-bbba-6e7af7d0614f button.colab-df-convert');\n",
              "        buttonEl.style.display =\n",
              "          google.colab.kernel.accessAllowed ? 'block' : 'none';\n",
              "\n",
              "        async function convertToInteractive(key) {\n",
              "          const element = document.querySelector('#df-bc78bdec-afe8-40ff-bbba-6e7af7d0614f');\n",
              "          const dataTable =\n",
              "            await google.colab.kernel.invokeFunction('convertToInteractive',\n",
              "                                                     [key], {});\n",
              "          if (!dataTable) return;\n",
              "\n",
              "          const docLinkHtml = 'Like what you see? Visit the ' +\n",
              "            '<a target=\"_blank\" href=https://colab.research.google.com/notebooks/data_table.ipynb>data table notebook</a>'\n",
              "            + ' to learn more about interactive tables.';\n",
              "          element.innerHTML = '';\n",
              "          dataTable['output_type'] = 'display_data';\n",
              "          await google.colab.output.renderOutput(dataTable, element);\n",
              "          const docLink = document.createElement('div');\n",
              "          docLink.innerHTML = docLinkHtml;\n",
              "          element.appendChild(docLink);\n",
              "        }\n",
              "      </script>\n",
              "    </div>\n",
              "  </div>\n",
              "  "
            ]
          },
          "metadata": {},
          "execution_count": 70
        }
      ],
      "source": [
        "detrended_soil_df_resampled.fillna(method= \"backfill\", inplace= True)\n",
        "detrended_soil_df_resampled"
      ]
    },
    {
      "cell_type": "code",
      "execution_count": null,
      "metadata": {
        "colab": {
          "base_uri": "https://localhost:8080/"
        },
        "id": "jwxvk2UuelZU",
        "outputId": "a3d75de3-c8f8-4c86-9f0d-b0bf6e8ede61"
      },
      "outputs": [
        {
          "output_type": "execute_result",
          "data": {
            "text/plain": [
              "Moisture_level    0\n",
              "dtype: int64"
            ]
          },
          "metadata": {},
          "execution_count": 71
        }
      ],
      "source": [
        "detrended_soil_df_resampled.isnull().sum()"
      ]
    },
    {
      "cell_type": "code",
      "execution_count": null,
      "metadata": {
        "colab": {
          "base_uri": "https://localhost:8080/",
          "height": 573
        },
        "id": "B8aeQ3c1ngTU",
        "outputId": "2538230b-fa2c-45a3-e6a0-733c99131b75"
      },
      "outputs": [
        {
          "output_type": "display_data",
          "data": {
            "text/plain": [
              "<Figure size 432x288 with 1 Axes>"
            ],
            "image/png": "[encoded data removed]"
          },
          "metadata": {
            "needs_background": "light"
          }
        },
        {
          "output_type": "display_data",
          "data": {
            "text/plain": [
              "<Figure size 432x288 with 1 Axes>"
            ],
            "image/png": "[encoded data removed]"
          },
          "metadata": {
            "needs_background": "light"
          }
        }
      ],
      "source": [
        "soil_df_resampled.plot(title = \"soil_df_resampled original\", cmap = \"Accent\");\n",
        "detrended_soil_df_resampled.plot(title = \"soil_df_resampled after detrending\", cmap = \"Accent\");"
      ]
    },
    {
      "cell_type": "markdown",
      "metadata": {
        "id": "QK4_aLOPSPya"
      },
      "source": [
        "We can see the difference where trend has been removed. We have also taken care of filling the missing values that arised due to detrending data. Now lets try taking a bigger leap by working on **seasonality**. Here too we can remove seasonality using the `df.diff(deseasonalise_diff_period)`.\n",
        "\n",
        "How do we know the seasonality cycle? This is a big question. Answer to this question will help us choose the correct diff_period. From the seasonal_decompose() we saw that the first graph where data was resampled on daily basis was too packed so we plotted the same seasonal decompose by resampling data on a monthly basis. This second graph showed us the true trend and seasonality. From this graph we know that the seasonality is a yearly cycle. Thus we will choose our diff_period to be 365 days of the year as our data is resampled based on observation per day.\n",
        "\n",
        "*Note: We are ignoring the leap year calculation and assuming that there would not be drastic change in the mean value of the moisture level around the similar span of the year.*\n",
        "\n",
        "(Ref: https://colab.research.google.com/drive/16RDjy8_vjZZxS4S3DjTpefAE1YszzQJh#scrollTo=MBFUHYGDZuwQ)"
      ]
    },
    {
      "cell_type": "code",
      "execution_count": null,
      "metadata": {
        "id": "GkXnQ_1CVcq7"
      },
      "outputs": [],
      "source": [
        "deseasonalise_diff_period = 365"
      ]
    },
    {
      "cell_type": "code",
      "execution_count": null,
      "metadata": {
        "colab": {
          "base_uri": "https://localhost:8080/",
          "height": 455
        },
        "id": "eXs--PnIe5vp",
        "outputId": "2e2bca35-ea3f-4b1e-cb25-20b3ab881f59"
      },
      "outputs": [
        {
          "output_type": "execute_result",
          "data": {
            "text/plain": [
              "            Moisture_level\n",
              "Date                      \n",
              "1991-01-01             NaN\n",
              "1991-01-02             NaN\n",
              "1991-01-03             NaN\n",
              "1991-01-04             NaN\n",
              "1991-01-05             NaN\n",
              "...                    ...\n",
              "2021-12-27            -8.0\n",
              "2021-12-28             6.0\n",
              "2021-12-29             8.0\n",
              "2021-12-30             0.0\n",
              "2021-12-31            -5.0\n",
              "\n",
              "[11323 rows x 1 columns]"
            ],
            "text/html": [
              "\n",
              "  <div id=\"df-366437df-e623-4cc0-8b68-898dd78f2700\">\n",
              "    <div class=\"colab-df-container\">\n",
              "      <div>\n",
              "<style scoped>\n",
              "    .dataframe tbody tr th:only-of-type {\n",
              "        vertical-align: middle;\n",
              "    }\n",
              "\n",
              "    .dataframe tbody tr th {\n",
              "        vertical-align: top;\n",
              "    }\n",
              "\n",
              "    .dataframe thead th {\n",
              "        text-align: right;\n",
              "    }\n",
              "</style>\n",
              "<table border=\"1\" class=\"dataframe\">\n",
              "  <thead>\n",
              "    <tr style=\"text-align: right;\">\n",
              "      <th></th>\n",
              "      <th>Moisture_level</th>\n",
              "    </tr>\n",
              "    <tr>\n",
              "      <th>Date</th>\n",
              "      <th></th>\n",
              "    </tr>\n",
              "  </thead>\n",
              "  <tbody>\n",
              "    <tr>\n",
              "      <th>1991-01-01</th>\n",
              "      <td>NaN</td>\n",
              "    </tr>\n",
              "    <tr>\n",
              "      <th>1991-01-02</th>\n",
              "      <td>NaN</td>\n",
              "    </tr>\n",
              "    <tr>\n",
              "      <th>1991-01-03</th>\n",
              "      <td>NaN</td>\n",
              "    </tr>\n",
              "    <tr>\n",
              "      <th>1991-01-04</th>\n",
              "      <td>NaN</td>\n",
              "    </tr>\n",
              "    <tr>\n",
              "      <th>1991-01-05</th>\n",
              "      <td>NaN</td>\n",
              "    </tr>\n",
              "    <tr>\n",
              "      <th>...</th>\n",
              "      <td>...</td>\n",
              "    </tr>\n",
              "    <tr>\n",
              "      <th>2021-12-27</th>\n",
              "      <td>-8.0</td>\n",
              "    </tr>\n",
              "    <tr>\n",
              "      <th>2021-12-28</th>\n",
              "      <td>6.0</td>\n",
              "    </tr>\n",
              "    <tr>\n",
              "      <th>2021-12-29</th>\n",
              "      <td>8.0</td>\n",
              "    </tr>\n",
              "    <tr>\n",
              "      <th>2021-12-30</th>\n",
              "      <td>0.0</td>\n",
              "    </tr>\n",
              "    <tr>\n",
              "      <th>2021-12-31</th>\n",
              "      <td>-5.0</td>\n",
              "    </tr>\n",
              "  </tbody>\n",
              "</table>\n",
              "<p>11323 rows × 1 columns</p>\n",
              "</div>\n",
              "      <button class=\"colab-df-convert\" onclick=\"convertToInteractive('df-366437df-e623-4cc0-8b68-898dd78f2700')\"\n",
              "              title=\"Convert this dataframe to an interactive table.\"\n",
              "              style=\"display:none;\">\n",
              "        \n",
              "  <svg xmlns=\"http://www.w3.org/2000/svg\" height=\"24px\"viewBox=\"0 0 24 24\"\n",
              "       width=\"24px\">\n",
              "    <path d=\"M0 0h24v24H0V0z\" fill=\"none\"/>\n",
              "    <path d=\"M18.56 5.44l.94 2.06.94-2.06 2.06-.94-2.06-.94-.94-2.06-.94 2.06-2.06.94zm-11 1L8.5 8.5l.94-2.06 2.06-.94-2.06-.94L8.5 2.5l-.94 2.06-2.06.94zm10 10l.94 2.06.94-2.06 2.06-.94-2.06-.94-.94-2.06-.94 2.06-2.06.94z\"/><path d=\"M17.41 7.96l-1.37-1.37c-.4-.4-.92-.59-1.43-.59-.52 0-1.04.2-1.43.59L10.3 9.45l-7.72 7.72c-.78.78-.78 2.05 0 2.83L4 21.41c.39.39.9.59 1.41.59.51 0 1.02-.2 1.41-.59l7.78-7.78 2.81-2.81c.8-.78.8-2.07 0-2.86zM5.41 20L4 18.59l7.72-7.72 1.47 1.35L5.41 20z\"/>\n",
              "  </svg>\n",
              "      </button>\n",
              "      \n",
              "  <style>\n",
              "    .colab-df-container {\n",
              "      display:flex;\n",
              "      flex-wrap:wrap;\n",
              "      gap: 12px;\n",
              "    }\n",
              "\n",
              "    .colab-df-convert {\n",
              "      background-color: #E8F0FE;\n",
              "      border: none;\n",
              "      border-radius: 50%;\n",
              "      cursor: pointer;\n",
              "      display: none;\n",
              "      fill: #1967D2;\n",
              "      height: 32px;\n",
              "      padding: 0 0 0 0;\n",
              "      width: 32px;\n",
              "    }\n",
              "\n",
              "    .colab-df-convert:hover {\n",
              "      background-color: #E2EBFA;\n",
              "      box-shadow: 0px 1px 2px rgba(60, 64, 67, 0.3), 0px 1px 3px 1px rgba(60, 64, 67, 0.15);\n",
              "      fill: #174EA6;\n",
              "    }\n",
              "\n",
              "    [theme=dark] .colab-df-convert {\n",
              "      background-color: #3B4455;\n",
              "      fill: #D2E3FC;\n",
              "    }\n",
              "\n",
              "    [theme=dark] .colab-df-convert:hover {\n",
              "      background-color: #434B5C;\n",
              "      box-shadow: 0px 1px 3px 1px rgba(0, 0, 0, 0.15);\n",
              "      filter: drop-shadow(0px 1px 2px rgba(0, 0, 0, 0.3));\n",
              "      fill: #FFFFFF;\n",
              "    }\n",
              "  </style>\n",
              "\n",
              "      <script>\n",
              "        const buttonEl =\n",
              "          document.querySelector('#df-366437df-e623-4cc0-8b68-898dd78f2700 button.colab-df-convert');\n",
              "        buttonEl.style.display =\n",
              "          google.colab.kernel.accessAllowed ? 'block' : 'none';\n",
              "\n",
              "        async function convertToInteractive(key) {\n",
              "          const element = document.querySelector('#df-366437df-e623-4cc0-8b68-898dd78f2700');\n",
              "          const dataTable =\n",
              "            await google.colab.kernel.invokeFunction('convertToInteractive',\n",
              "                                                     [key], {});\n",
              "          if (!dataTable) return;\n",
              "\n",
              "          const docLinkHtml = 'Like what you see? Visit the ' +\n",
              "            '<a target=\"_blank\" href=https://colab.research.google.com/notebooks/data_table.ipynb>data table notebook</a>'\n",
              "            + ' to learn more about interactive tables.';\n",
              "          element.innerHTML = '';\n",
              "          dataTable['output_type'] = 'display_data';\n",
              "          await google.colab.output.renderOutput(dataTable, element);\n",
              "          const docLink = document.createElement('div');\n",
              "          docLink.innerHTML = docLinkHtml;\n",
              "          element.appendChild(docLink);\n",
              "        }\n",
              "      </script>\n",
              "    </div>\n",
              "  </div>\n",
              "  "
            ]
          },
          "metadata": {},
          "execution_count": 74
        }
      ],
      "source": [
        "deseasonalised_soil_df_resampled = detrended_soil_df_resampled.diff(deseasonalise_diff_period)\n",
        "deseasonalised_soil_df_resampled"
      ]
    },
    {
      "cell_type": "markdown",
      "metadata": {
        "id": "0La88XNTfBE0"
      },
      "source": [
        "Let us check for missing values which are obivious to be because of differencing.\n",
        "\n",
        "We will fill the missing values using `df.interpolate( method= \"linear\", limit_direction= \"backward\", inplace= True)`\n",
        "\n",
        "We use interpolation to fill missing values as it uses various interpolation technique to fill the missing values rather than hard-coding the value. We select linear method as we are working on univariate data and limit_direction backwards as we need to fill the initial values of the sequence.\n",
        "\n",
        "(ref:https://www.geeksforgeeks.org/python-pandas-dataframe-interpolate/)\n"
      ]
    },
    {
      "cell_type": "code",
      "execution_count": null,
      "metadata": {
        "colab": {
          "base_uri": "https://localhost:8080/"
        },
        "id": "58b3gt_ne-sk",
        "outputId": "5fa97e6d-5c21-4d50-cf12-39aeb36f35a8"
      },
      "outputs": [
        {
          "output_type": "execute_result",
          "data": {
            "text/plain": [
              "Moisture_level    365\n",
              "dtype: int64"
            ]
          },
          "metadata": {},
          "execution_count": 75
        }
      ],
      "source": [
        "deseasonalised_soil_df_resampled.isnull().sum()"
      ]
    },
    {
      "cell_type": "code",
      "execution_count": null,
      "metadata": {
        "id": "qV3eVaC7hMxz"
      },
      "outputs": [],
      "source": [
        "deseasonalised_soil_df_resampled.interpolate(method = \"linear\", limit_direction= \"backward\", inplace= True)\n"
      ]
    },
    {
      "cell_type": "markdown",
      "metadata": {
        "id": "HCVqv2rYsu0C"
      },
      "source": [
        "Let us check if any NaN values now."
      ]
    },
    {
      "cell_type": "code",
      "execution_count": null,
      "metadata": {
        "colab": {
          "base_uri": "https://localhost:8080/"
        },
        "id": "0U6a1S0_szoq",
        "outputId": "712bcbb9-86a6-48bd-ecb6-46e8d460699c"
      },
      "outputs": [
        {
          "output_type": "execute_result",
          "data": {
            "text/plain": [
              "Moisture_level    0\n",
              "dtype: int64"
            ]
          },
          "metadata": {},
          "execution_count": 77
        }
      ],
      "source": [
        "deseasonalised_soil_df_resampled.isnull().sum()"
      ]
    },
    {
      "cell_type": "markdown",
      "metadata": {
        "id": "rPq3EMSqs2wa"
      },
      "source": [
        "Things seem fine to proceed."
      ]
    },
    {
      "cell_type": "code",
      "execution_count": null,
      "metadata": {
        "colab": {
          "base_uri": "https://localhost:8080/",
          "height": 455
        },
        "id": "kJvZKXuBp8aE",
        "outputId": "3040bb6c-9043-4208-e092-ec5c91c82c9a"
      },
      "outputs": [
        {
          "output_type": "execute_result",
          "data": {
            "text/plain": [
              "            Moisture_level\n",
              "Date                      \n",
              "1991-01-01            -9.0\n",
              "1991-01-02            -9.0\n",
              "1991-01-03            -9.0\n",
              "1991-01-04            -9.0\n",
              "1991-01-05            -9.0\n",
              "...                    ...\n",
              "2021-12-27            -8.0\n",
              "2021-12-28             6.0\n",
              "2021-12-29             8.0\n",
              "2021-12-30             0.0\n",
              "2021-12-31            -5.0\n",
              "\n",
              "[11323 rows x 1 columns]"
            ],
            "text/html": [
              "\n",
              "  <div id=\"df-d3bdf9c9-ae52-4c3d-bc96-31b80f9a0f9a\">\n",
              "    <div class=\"colab-df-container\">\n",
              "      <div>\n",
              "<style scoped>\n",
              "    .dataframe tbody tr th:only-of-type {\n",
              "        vertical-align: middle;\n",
              "    }\n",
              "\n",
              "    .dataframe tbody tr th {\n",
              "        vertical-align: top;\n",
              "    }\n",
              "\n",
              "    .dataframe thead th {\n",
              "        text-align: right;\n",
              "    }\n",
              "</style>\n",
              "<table border=\"1\" class=\"dataframe\">\n",
              "  <thead>\n",
              "    <tr style=\"text-align: right;\">\n",
              "      <th></th>\n",
              "      <th>Moisture_level</th>\n",
              "    </tr>\n",
              "    <tr>\n",
              "      <th>Date</th>\n",
              "      <th></th>\n",
              "    </tr>\n",
              "  </thead>\n",
              "  <tbody>\n",
              "    <tr>\n",
              "      <th>1991-01-01</th>\n",
              "      <td>-9.0</td>\n",
              "    </tr>\n",
              "    <tr>\n",
              "      <th>1991-01-02</th>\n",
              "      <td>-9.0</td>\n",
              "    </tr>\n",
              "    <tr>\n",
              "      <th>1991-01-03</th>\n",
              "      <td>-9.0</td>\n",
              "    </tr>\n",
              "    <tr>\n",
              "      <th>1991-01-04</th>\n",
              "      <td>-9.0</td>\n",
              "    </tr>\n",
              "    <tr>\n",
              "      <th>1991-01-05</th>\n",
              "      <td>-9.0</td>\n",
              "    </tr>\n",
              "    <tr>\n",
              "      <th>...</th>\n",
              "      <td>...</td>\n",
              "    </tr>\n",
              "    <tr>\n",
              "      <th>2021-12-27</th>\n",
              "      <td>-8.0</td>\n",
              "    </tr>\n",
              "    <tr>\n",
              "      <th>2021-12-28</th>\n",
              "      <td>6.0</td>\n",
              "    </tr>\n",
              "    <tr>\n",
              "      <th>2021-12-29</th>\n",
              "      <td>8.0</td>\n",
              "    </tr>\n",
              "    <tr>\n",
              "      <th>2021-12-30</th>\n",
              "      <td>0.0</td>\n",
              "    </tr>\n",
              "    <tr>\n",
              "      <th>2021-12-31</th>\n",
              "      <td>-5.0</td>\n",
              "    </tr>\n",
              "  </tbody>\n",
              "</table>\n",
              "<p>11323 rows × 1 columns</p>\n",
              "</div>\n",
              "      <button class=\"colab-df-convert\" onclick=\"convertToInteractive('df-d3bdf9c9-ae52-4c3d-bc96-31b80f9a0f9a')\"\n",
              "              title=\"Convert this dataframe to an interactive table.\"\n",
              "              style=\"display:none;\">\n",
              "        \n",
              "  <svg xmlns=\"http://www.w3.org/2000/svg\" height=\"24px\"viewBox=\"0 0 24 24\"\n",
              "       width=\"24px\">\n",
              "    <path d=\"M0 0h24v24H0V0z\" fill=\"none\"/>\n",
              "    <path d=\"M18.56 5.44l.94 2.06.94-2.06 2.06-.94-2.06-.94-.94-2.06-.94 2.06-2.06.94zm-11 1L8.5 8.5l.94-2.06 2.06-.94-2.06-.94L8.5 2.5l-.94 2.06-2.06.94zm10 10l.94 2.06.94-2.06 2.06-.94-2.06-.94-.94-2.06-.94 2.06-2.06.94z\"/><path d=\"M17.41 7.96l-1.37-1.37c-.4-.4-.92-.59-1.43-.59-.52 0-1.04.2-1.43.59L10.3 9.45l-7.72 7.72c-.78.78-.78 2.05 0 2.83L4 21.41c.39.39.9.59 1.41.59.51 0 1.02-.2 1.41-.59l7.78-7.78 2.81-2.81c.8-.78.8-2.07 0-2.86zM5.41 20L4 18.59l7.72-7.72 1.47 1.35L5.41 20z\"/>\n",
              "  </svg>\n",
              "      </button>\n",
              "      \n",
              "  <style>\n",
              "    .colab-df-container {\n",
              "      display:flex;\n",
              "      flex-wrap:wrap;\n",
              "      gap: 12px;\n",
              "    }\n",
              "\n",
              "    .colab-df-convert {\n",
              "      background-color: #E8F0FE;\n",
              "      border: none;\n",
              "      border-radius: 50%;\n",
              "      cursor: pointer;\n",
              "      display: none;\n",
              "      fill: #1967D2;\n",
              "      height: 32px;\n",
              "      padding: 0 0 0 0;\n",
              "      width: 32px;\n",
              "    }\n",
              "\n",
              "    .colab-df-convert:hover {\n",
              "      background-color: #E2EBFA;\n",
              "      box-shadow: 0px 1px 2px rgba(60, 64, 67, 0.3), 0px 1px 3px 1px rgba(60, 64, 67, 0.15);\n",
              "      fill: #174EA6;\n",
              "    }\n",
              "\n",
              "    [theme=dark] .colab-df-convert {\n",
              "      background-color: #3B4455;\n",
              "      fill: #D2E3FC;\n",
              "    }\n",
              "\n",
              "    [theme=dark] .colab-df-convert:hover {\n",
              "      background-color: #434B5C;\n",
              "      box-shadow: 0px 1px 3px 1px rgba(0, 0, 0, 0.15);\n",
              "      filter: drop-shadow(0px 1px 2px rgba(0, 0, 0, 0.3));\n",
              "      fill: #FFFFFF;\n",
              "    }\n",
              "  </style>\n",
              "\n",
              "      <script>\n",
              "        const buttonEl =\n",
              "          document.querySelector('#df-d3bdf9c9-ae52-4c3d-bc96-31b80f9a0f9a button.colab-df-convert');\n",
              "        buttonEl.style.display =\n",
              "          google.colab.kernel.accessAllowed ? 'block' : 'none';\n",
              "\n",
              "        async function convertToInteractive(key) {\n",
              "          const element = document.querySelector('#df-d3bdf9c9-ae52-4c3d-bc96-31b80f9a0f9a');\n",
              "          const dataTable =\n",
              "            await google.colab.kernel.invokeFunction('convertToInteractive',\n",
              "                                                     [key], {});\n",
              "          if (!dataTable) return;\n",
              "\n",
              "          const docLinkHtml = 'Like what you see? Visit the ' +\n",
              "            '<a target=\"_blank\" href=https://colab.research.google.com/notebooks/data_table.ipynb>data table notebook</a>'\n",
              "            + ' to learn more about interactive tables.';\n",
              "          element.innerHTML = '';\n",
              "          dataTable['output_type'] = 'display_data';\n",
              "          await google.colab.output.renderOutput(dataTable, element);\n",
              "          const docLink = document.createElement('div');\n",
              "          docLink.innerHTML = docLinkHtml;\n",
              "          element.appendChild(docLink);\n",
              "        }\n",
              "      </script>\n",
              "    </div>\n",
              "  </div>\n",
              "  "
            ]
          },
          "metadata": {},
          "execution_count": 78
        }
      ],
      "source": [
        "deseasonalised_soil_df_resampled"
      ]
    },
    {
      "cell_type": "code",
      "execution_count": null,
      "metadata": {
        "colab": {
          "base_uri": "https://localhost:8080/",
          "height": 573
        },
        "id": "M0T3gRIuVeaj",
        "outputId": "a3124a4e-1007-4f92-beb5-f76af6d84fc7"
      },
      "outputs": [
        {
          "output_type": "display_data",
          "data": {
            "text/plain": [
              "<Figure size 432x288 with 1 Axes>"
            ],
            "image/png": "[encoded data removed]"
          },
          "metadata": {
            "needs_background": "light"
          }
        },
        {
          "output_type": "display_data",
          "data": {
            "text/plain": [
              "<Figure size 432x288 with 1 Axes>"
            ],
            "image/png": "[encoded data removed]"
          },
          "metadata": {
            "needs_background": "light"
          }
        }
      ],
      "source": [
        "soil_df_resampled.plot(title = \"soil_df_resampled original\", cmap = \"Accent\");\n",
        "deseasonalised_soil_df_resampled.plot(title = \"Resampled soil dataframe after removing trend and seasonality\", cmap = \"Accent\");"
      ]
    },
    {
      "cell_type": "markdown",
      "metadata": {
        "id": "E7wm73YLj1gF"
      },
      "source": [
        "Saving values for the first year from the original resampled data - daily basis. We will use these original values to fill our null values that occured as a result of removing seasonality. This will help us maintain originality and avoid unnecessary fluctuations in data as well."
      ]
    },
    {
      "cell_type": "markdown",
      "metadata": {
        "id": "nFaEKFm3X94V"
      },
      "source": [
        "Let us make a deep copy of this for further use with an appropriate name. Proceeding further we shall use the copied dataframe."
      ]
    },
    {
      "cell_type": "code",
      "execution_count": null,
      "metadata": {
        "id": "I0Hj_eoWYU2X"
      },
      "outputs": [],
      "source": [
        "soil_df = deseasonalised_soil_df_resampled.copy(deep= True)"
      ]
    },
    {
      "cell_type": "code",
      "execution_count": null,
      "metadata": {
        "colab": {
          "base_uri": "https://localhost:8080/"
        },
        "id": "gzZjA9vkxpOQ",
        "outputId": "5420135c-feca-4a33-e853-560e81cfb890"
      },
      "outputs": [
        {
          "output_type": "stream",
          "name": "stdout",
          "text": [
            "<class 'pandas.core.frame.DataFrame'>\n",
            "DatetimeIndex: 11323 entries, 1991-01-01 to 2021-12-31\n",
            "Freq: D\n",
            "Data columns (total 1 columns):\n",
            " #   Column          Non-Null Count  Dtype  \n",
            "---  ------          --------------  -----  \n",
            " 0   Moisture_level  11323 non-null  float64\n",
            "dtypes: float64(1)\n",
            "memory usage: 176.9 KB\n"
          ]
        }
      ],
      "source": [
        "soil_df.info()"
      ]
    },
    {
      "cell_type": "code",
      "execution_count": null,
      "metadata": {
        "colab": {
          "base_uri": "https://localhost:8080/"
        },
        "id": "X5FfJ-QPbQPr",
        "outputId": "ae7d4749-73fc-4169-f142-60ccaa0015fa"
      },
      "outputs": [
        {
          "output_type": "execute_result",
          "data": {
            "text/plain": [
              "Moisture_level    0\n",
              "dtype: int64"
            ]
          },
          "metadata": {},
          "execution_count": 82
        }
      ],
      "source": [
        "soil_df.isnull().sum()"
      ]
    },
    {
      "cell_type": "markdown",
      "metadata": {
        "id": "54-cPG7KkwgY"
      },
      "source": [
        "Now our data seems good to proceed for spliting, normalising and model building."
      ]
    },
    {
      "cell_type": "markdown",
      "metadata": {
        "id": "LGGwhhU7NpO-"
      },
      "source": [
        "\n",
        "###**Splitting Data into training and test data**\n",
        "\n",
        "We need to divide data into train, validation and test data.\n",
        "(Ref:https://colab.research.google.com/drive/1DHimbI87BU-LNS8ee3hPeCn3vLmw5uw2#scrollTo=ok_llRypceo6)\n",
        "\n",
        "We shall build and train the model on the train data. Any hyperparameter tuning should be done here.\n",
        "\n",
        "We shall evaluate the train data prepared model using the validation data. This will show us how good or bad a fit the model is. Any adhoc changes may be done if required.\n",
        "\n",
        "We shall test the final model post any changes after evaluation, on the test data. This will tell us the true outcome of our model, as to how reproducable is the model on a related but unseen dataset.\n",
        "\n",
        "The approach for this is simple sklearn function of `train_test_split(dataframe_name)`. Some reasons to use this method are:\n",
        "1. Time constraint in trying other cross-validation methods such as GridSearchCV, etc.\n",
        "2. K_fold cross validation method is not advisable to use for time-series analysis because a test data may occur before or inbetween training data. This may lead to forecasting data before training the model and/or create gaps in time-series. Both of which are not a good practice.(Ref:https://towardsdatascience.com/dont-use-k-fold-validation-for-time-series-forecasting-30b724aaea64)\n",
        "\n",
        "*Note:For reproducibility, we have to fix the seed for the pseudo-random generator, so in case of repeated testing, we can compare results.*\n",
        "\n",
        "**Note:** Also rmember to set the shuffle parameter while spliting data to \"false\" in a time-series data\n",
        "\n"
      ]
    },
    {
      "cell_type": "markdown",
      "metadata": {
        "id": "KsT8UV9WjyZo"
      },
      "source": [
        "**import library for train_test_split**"
      ]
    },
    {
      "cell_type": "code",
      "execution_count": null,
      "metadata": {
        "id": "p8eDmws7iApC"
      },
      "outputs": [],
      "source": [
        "from sklearn.model_selection import train_test_split"
      ]
    },
    {
      "cell_type": "markdown",
      "metadata": {
        "id": "KsEOABMwj3mc"
      },
      "source": [
        "**Train Test split**\n",
        "\n",
        "Here we are dividing the resampled data into training data and testing data. we take test data to be 25% of the entire data. We need to have a test data to know how well a model works on unobserved data by measuring the models goodness of fit on unobserved data."
      ]
    },
    {
      "cell_type": "code",
      "execution_count": null,
      "metadata": {
        "id": "WuxanwTBitTE"
      },
      "outputs": [],
      "source": [
        "soil_df_to_train, soil_df_test = train_test_split(soil_df, test_size= 0.25, shuffle = False, random_state= 7)"
      ]
    },
    {
      "cell_type": "code",
      "execution_count": null,
      "metadata": {
        "colab": {
          "base_uri": "https://localhost:8080/",
          "height": 455
        },
        "id": "9v3daAuLtMkN",
        "outputId": "4162181d-927c-4312-fdfa-2f35b9b6cd7e"
      },
      "outputs": [
        {
          "output_type": "execute_result",
          "data": {
            "text/plain": [
              "            Moisture_level\n",
              "Date                      \n",
              "1991-01-01            -9.0\n",
              "1991-01-02            -9.0\n",
              "1991-01-03            -9.0\n",
              "1991-01-04            -9.0\n",
              "1991-01-05            -9.0\n",
              "...                    ...\n",
              "2014-03-28            -3.0\n",
              "2014-03-29            -6.0\n",
              "2014-03-30            -2.0\n",
              "2014-03-31            -2.0\n",
              "2014-04-01            -1.0\n",
              "\n",
              "[8492 rows x 1 columns]"
            ],
            "text/html": [
              "\n",
              "  <div id=\"df-6c3f5ee6-4c6b-455d-b1cb-bfca5cb690ff\">\n",
              "    <div class=\"colab-df-container\">\n",
              "      <div>\n",
              "<style scoped>\n",
              "    .dataframe tbody tr th:only-of-type {\n",
              "        vertical-align: middle;\n",
              "    }\n",
              "\n",
              "    .dataframe tbody tr th {\n",
              "        vertical-align: top;\n",
              "    }\n",
              "\n",
              "    .dataframe thead th {\n",
              "        text-align: right;\n",
              "    }\n",
              "</style>\n",
              "<table border=\"1\" class=\"dataframe\">\n",
              "  <thead>\n",
              "    <tr style=\"text-align: right;\">\n",
              "      <th></th>\n",
              "      <th>Moisture_level</th>\n",
              "    </tr>\n",
              "    <tr>\n",
              "      <th>Date</th>\n",
              "      <th></th>\n",
              "    </tr>\n",
              "  </thead>\n",
              "  <tbody>\n",
              "    <tr>\n",
              "      <th>1991-01-01</th>\n",
              "      <td>-9.0</td>\n",
              "    </tr>\n",
              "    <tr>\n",
              "      <th>1991-01-02</th>\n",
              "      <td>-9.0</td>\n",
              "    </tr>\n",
              "    <tr>\n",
              "      <th>1991-01-03</th>\n",
              "      <td>-9.0</td>\n",
              "    </tr>\n",
              "    <tr>\n",
              "      <th>1991-01-04</th>\n",
              "      <td>-9.0</td>\n",
              "    </tr>\n",
              "    <tr>\n",
              "      <th>1991-01-05</th>\n",
              "      <td>-9.0</td>\n",
              "    </tr>\n",
              "    <tr>\n",
              "      <th>...</th>\n",
              "      <td>...</td>\n",
              "    </tr>\n",
              "    <tr>\n",
              "      <th>2014-03-28</th>\n",
              "      <td>-3.0</td>\n",
              "    </tr>\n",
              "    <tr>\n",
              "      <th>2014-03-29</th>\n",
              "      <td>-6.0</td>\n",
              "    </tr>\n",
              "    <tr>\n",
              "      <th>2014-03-30</th>\n",
              "      <td>-2.0</td>\n",
              "    </tr>\n",
              "    <tr>\n",
              "      <th>2014-03-31</th>\n",
              "      <td>-2.0</td>\n",
              "    </tr>\n",
              "    <tr>\n",
              "      <th>2014-04-01</th>\n",
              "      <td>-1.0</td>\n",
              "    </tr>\n",
              "  </tbody>\n",
              "</table>\n",
              "<p>8492 rows × 1 columns</p>\n",
              "</div>\n",
              "      <button class=\"colab-df-convert\" onclick=\"convertToInteractive('df-6c3f5ee6-4c6b-455d-b1cb-bfca5cb690ff')\"\n",
              "              title=\"Convert this dataframe to an interactive table.\"\n",
              "              style=\"display:none;\">\n",
              "        \n",
              "  <svg xmlns=\"http://www.w3.org/2000/svg\" height=\"24px\"viewBox=\"0 0 24 24\"\n",
              "       width=\"24px\">\n",
              "    <path d=\"M0 0h24v24H0V0z\" fill=\"none\"/>\n",
              "    <path d=\"M18.56 5.44l.94 2.06.94-2.06 2.06-.94-2.06-.94-.94-2.06-.94 2.06-2.06.94zm-11 1L8.5 8.5l.94-2.06 2.06-.94-2.06-.94L8.5 2.5l-.94 2.06-2.06.94zm10 10l.94 2.06.94-2.06 2.06-.94-2.06-.94-.94-2.06-.94 2.06-2.06.94z\"/><path d=\"M17.41 7.96l-1.37-1.37c-.4-.4-.92-.59-1.43-.59-.52 0-1.04.2-1.43.59L10.3 9.45l-7.72 7.72c-.78.78-.78 2.05 0 2.83L4 21.41c.39.39.9.59 1.41.59.51 0 1.02-.2 1.41-.59l7.78-7.78 2.81-2.81c.8-.78.8-2.07 0-2.86zM5.41 20L4 18.59l7.72-7.72 1.47 1.35L5.41 20z\"/>\n",
              "  </svg>\n",
              "      </button>\n",
              "      \n",
              "  <style>\n",
              "    .colab-df-container {\n",
              "      display:flex;\n",
              "      flex-wrap:wrap;\n",
              "      gap: 12px;\n",
              "    }\n",
              "\n",
              "    .colab-df-convert {\n",
              "      background-color: #E8F0FE;\n",
              "      border: none;\n",
              "      border-radius: 50%;\n",
              "      cursor: pointer;\n",
              "      display: none;\n",
              "      fill: #1967D2;\n",
              "      height: 32px;\n",
              "      padding: 0 0 0 0;\n",
              "      width: 32px;\n",
              "    }\n",
              "\n",
              "    .colab-df-convert:hover {\n",
              "      background-color: #E2EBFA;\n",
              "      box-shadow: 0px 1px 2px rgba(60, 64, 67, 0.3), 0px 1px 3px 1px rgba(60, 64, 67, 0.15);\n",
              "      fill: #174EA6;\n",
              "    }\n",
              "\n",
              "    [theme=dark] .colab-df-convert {\n",
              "      background-color: #3B4455;\n",
              "      fill: #D2E3FC;\n",
              "    }\n",
              "\n",
              "    [theme=dark] .colab-df-convert:hover {\n",
              "      background-color: #434B5C;\n",
              "      box-shadow: 0px 1px 3px 1px rgba(0, 0, 0, 0.15);\n",
              "      filter: drop-shadow(0px 1px 2px rgba(0, 0, 0, 0.3));\n",
              "      fill: #FFFFFF;\n",
              "    }\n",
              "  </style>\n",
              "\n",
              "      <script>\n",
              "        const buttonEl =\n",
              "          document.querySelector('#df-6c3f5ee6-4c6b-455d-b1cb-bfca5cb690ff button.colab-df-convert');\n",
              "        buttonEl.style.display =\n",
              "          google.colab.kernel.accessAllowed ? 'block' : 'none';\n",
              "\n",
              "        async function convertToInteractive(key) {\n",
              "          const element = document.querySelector('#df-6c3f5ee6-4c6b-455d-b1cb-bfca5cb690ff');\n",
              "          const dataTable =\n",
              "            await google.colab.kernel.invokeFunction('convertToInteractive',\n",
              "                                                     [key], {});\n",
              "          if (!dataTable) return;\n",
              "\n",
              "          const docLinkHtml = 'Like what you see? Visit the ' +\n",
              "            '<a target=\"_blank\" href=https://colab.research.google.com/notebooks/data_table.ipynb>data table notebook</a>'\n",
              "            + ' to learn more about interactive tables.';\n",
              "          element.innerHTML = '';\n",
              "          dataTable['output_type'] = 'display_data';\n",
              "          await google.colab.output.renderOutput(dataTable, element);\n",
              "          const docLink = document.createElement('div');\n",
              "          docLink.innerHTML = docLinkHtml;\n",
              "          element.appendChild(docLink);\n",
              "        }\n",
              "      </script>\n",
              "    </div>\n",
              "  </div>\n",
              "  "
            ]
          },
          "metadata": {},
          "execution_count": 85
        }
      ],
      "source": [
        "soil_df_to_train"
      ]
    },
    {
      "cell_type": "code",
      "execution_count": null,
      "metadata": {
        "colab": {
          "base_uri": "https://localhost:8080/",
          "height": 455
        },
        "id": "QpCJHUZotTNe",
        "outputId": "ebf4a35b-7f5e-468f-b58f-bf0794c8b7ba"
      },
      "outputs": [
        {
          "output_type": "execute_result",
          "data": {
            "text/plain": [
              "            Moisture_level\n",
              "Date                      \n",
              "2014-04-02             0.0\n",
              "2014-04-03            -4.0\n",
              "2014-04-04             1.0\n",
              "2014-04-05             2.0\n",
              "2014-04-06            -1.0\n",
              "...                    ...\n",
              "2021-12-27            -8.0\n",
              "2021-12-28             6.0\n",
              "2021-12-29             8.0\n",
              "2021-12-30             0.0\n",
              "2021-12-31            -5.0\n",
              "\n",
              "[2831 rows x 1 columns]"
            ],
            "text/html": [
              "\n",
              "  <div id=\"df-115346cf-18e8-4aa0-bbf8-326b8104c21e\">\n",
              "    <div class=\"colab-df-container\">\n",
              "      <div>\n",
              "<style scoped>\n",
              "    .dataframe tbody tr th:only-of-type {\n",
              "        vertical-align: middle;\n",
              "    }\n",
              "\n",
              "    .dataframe tbody tr th {\n",
              "        vertical-align: top;\n",
              "    }\n",
              "\n",
              "    .dataframe thead th {\n",
              "        text-align: right;\n",
              "    }\n",
              "</style>\n",
              "<table border=\"1\" class=\"dataframe\">\n",
              "  <thead>\n",
              "    <tr style=\"text-align: right;\">\n",
              "      <th></th>\n",
              "      <th>Moisture_level</th>\n",
              "    </tr>\n",
              "    <tr>\n",
              "      <th>Date</th>\n",
              "      <th></th>\n",
              "    </tr>\n",
              "  </thead>\n",
              "  <tbody>\n",
              "    <tr>\n",
              "      <th>2014-04-02</th>\n",
              "      <td>0.0</td>\n",
              "    </tr>\n",
              "    <tr>\n",
              "      <th>2014-04-03</th>\n",
              "      <td>-4.0</td>\n",
              "    </tr>\n",
              "    <tr>\n",
              "      <th>2014-04-04</th>\n",
              "      <td>1.0</td>\n",
              "    </tr>\n",
              "    <tr>\n",
              "      <th>2014-04-05</th>\n",
              "      <td>2.0</td>\n",
              "    </tr>\n",
              "    <tr>\n",
              "      <th>2014-04-06</th>\n",
              "      <td>-1.0</td>\n",
              "    </tr>\n",
              "    <tr>\n",
              "      <th>...</th>\n",
              "      <td>...</td>\n",
              "    </tr>\n",
              "    <tr>\n",
              "      <th>2021-12-27</th>\n",
              "      <td>-8.0</td>\n",
              "    </tr>\n",
              "    <tr>\n",
              "      <th>2021-12-28</th>\n",
              "      <td>6.0</td>\n",
              "    </tr>\n",
              "    <tr>\n",
              "      <th>2021-12-29</th>\n",
              "      <td>8.0</td>\n",
              "    </tr>\n",
              "    <tr>\n",
              "      <th>2021-12-30</th>\n",
              "      <td>0.0</td>\n",
              "    </tr>\n",
              "    <tr>\n",
              "      <th>2021-12-31</th>\n",
              "      <td>-5.0</td>\n",
              "    </tr>\n",
              "  </tbody>\n",
              "</table>\n",
              "<p>2831 rows × 1 columns</p>\n",
              "</div>\n",
              "      <button class=\"colab-df-convert\" onclick=\"convertToInteractive('df-115346cf-18e8-4aa0-bbf8-326b8104c21e')\"\n",
              "              title=\"Convert this dataframe to an interactive table.\"\n",
              "              style=\"display:none;\">\n",
              "        \n",
              "  <svg xmlns=\"http://www.w3.org/2000/svg\" height=\"24px\"viewBox=\"0 0 24 24\"\n",
              "       width=\"24px\">\n",
              "    <path d=\"M0 0h24v24H0V0z\" fill=\"none\"/>\n",
              "    <path d=\"M18.56 5.44l.94 2.06.94-2.06 2.06-.94-2.06-.94-.94-2.06-.94 2.06-2.06.94zm-11 1L8.5 8.5l.94-2.06 2.06-.94-2.06-.94L8.5 2.5l-.94 2.06-2.06.94zm10 10l.94 2.06.94-2.06 2.06-.94-2.06-.94-.94-2.06-.94 2.06-2.06.94z\"/><path d=\"M17.41 7.96l-1.37-1.37c-.4-.4-.92-.59-1.43-.59-.52 0-1.04.2-1.43.59L10.3 9.45l-7.72 7.72c-.78.78-.78 2.05 0 2.83L4 21.41c.39.39.9.59 1.41.59.51 0 1.02-.2 1.41-.59l7.78-7.78 2.81-2.81c.8-.78.8-2.07 0-2.86zM5.41 20L4 18.59l7.72-7.72 1.47 1.35L5.41 20z\"/>\n",
              "  </svg>\n",
              "      </button>\n",
              "      \n",
              "  <style>\n",
              "    .colab-df-container {\n",
              "      display:flex;\n",
              "      flex-wrap:wrap;\n",
              "      gap: 12px;\n",
              "    }\n",
              "\n",
              "    .colab-df-convert {\n",
              "      background-color: #E8F0FE;\n",
              "      border: none;\n",
              "      border-radius: 50%;\n",
              "      cursor: pointer;\n",
              "      display: none;\n",
              "      fill: #1967D2;\n",
              "      height: 32px;\n",
              "      padding: 0 0 0 0;\n",
              "      width: 32px;\n",
              "    }\n",
              "\n",
              "    .colab-df-convert:hover {\n",
              "      background-color: #E2EBFA;\n",
              "      box-shadow: 0px 1px 2px rgba(60, 64, 67, 0.3), 0px 1px 3px 1px rgba(60, 64, 67, 0.15);\n",
              "      fill: #174EA6;\n",
              "    }\n",
              "\n",
              "    [theme=dark] .colab-df-convert {\n",
              "      background-color: #3B4455;\n",
              "      fill: #D2E3FC;\n",
              "    }\n",
              "\n",
              "    [theme=dark] .colab-df-convert:hover {\n",
              "      background-color: #434B5C;\n",
              "      box-shadow: 0px 1px 3px 1px rgba(0, 0, 0, 0.15);\n",
              "      filter: drop-shadow(0px 1px 2px rgba(0, 0, 0, 0.3));\n",
              "      fill: #FFFFFF;\n",
              "    }\n",
              "  </style>\n",
              "\n",
              "      <script>\n",
              "        const buttonEl =\n",
              "          document.querySelector('#df-115346cf-18e8-4aa0-bbf8-326b8104c21e button.colab-df-convert');\n",
              "        buttonEl.style.display =\n",
              "          google.colab.kernel.accessAllowed ? 'block' : 'none';\n",
              "\n",
              "        async function convertToInteractive(key) {\n",
              "          const element = document.querySelector('#df-115346cf-18e8-4aa0-bbf8-326b8104c21e');\n",
              "          const dataTable =\n",
              "            await google.colab.kernel.invokeFunction('convertToInteractive',\n",
              "                                                     [key], {});\n",
              "          if (!dataTable) return;\n",
              "\n",
              "          const docLinkHtml = 'Like what you see? Visit the ' +\n",
              "            '<a target=\"_blank\" href=https://colab.research.google.com/notebooks/data_table.ipynb>data table notebook</a>'\n",
              "            + ' to learn more about interactive tables.';\n",
              "          element.innerHTML = '';\n",
              "          dataTable['output_type'] = 'display_data';\n",
              "          await google.colab.output.renderOutput(dataTable, element);\n",
              "          const docLink = document.createElement('div');\n",
              "          docLink.innerHTML = docLinkHtml;\n",
              "          element.appendChild(docLink);\n",
              "        }\n",
              "      </script>\n",
              "    </div>\n",
              "  </div>\n",
              "  "
            ]
          },
          "metadata": {},
          "execution_count": 86
        }
      ],
      "source": [
        "soil_df_test"
      ]
    },
    {
      "cell_type": "markdown",
      "metadata": {
        "id": "A8Rvbau2p4yv"
      },
      "source": [
        "From the remaining 75% of the data we will set aside 35% of this 75% data as validation data. We need this set of data, firstly, to be a good representation of test_data (thus we keep aside 35% of data to be trained for this), and finally, to evaluate our model to know how good a fit it has been. Models are always evaluated on validation data prior to testing the same on unobserved data."
      ]
    },
    {
      "cell_type": "code",
      "execution_count": null,
      "metadata": {
        "id": "CSt4DyPEjkgp"
      },
      "outputs": [],
      "source": [
        "soil_df_train, soil_df_validation = train_test_split(soil_df_to_train, test_size= 0.35, shuffle = False, random_state= 7)"
      ]
    },
    {
      "cell_type": "markdown",
      "metadata": {
        "id": "UVpKomhNq9iq"
      },
      "source": [
        "The result of the above two train_test_split codes is that we were able to divide data into train_data, validation_data and test_data with names **soil_df_train, soil_df_validation and soil_df_test** respectively.\n"
      ]
    },
    {
      "cell_type": "code",
      "execution_count": null,
      "metadata": {
        "colab": {
          "base_uri": "https://localhost:8080/",
          "height": 455
        },
        "id": "kmYU_4b6tX6L",
        "outputId": "d08a2ee7-1f8c-47fe-9fba-c7070923482c"
      },
      "outputs": [
        {
          "output_type": "execute_result",
          "data": {
            "text/plain": [
              "            Moisture_level\n",
              "Date                      \n",
              "1991-01-01            -9.0\n",
              "1991-01-02            -9.0\n",
              "1991-01-03            -9.0\n",
              "1991-01-04            -9.0\n",
              "1991-01-05            -9.0\n",
              "...                    ...\n",
              "2006-02-05             3.0\n",
              "2006-02-06             3.0\n",
              "2006-02-07             2.0\n",
              "2006-02-08             6.0\n",
              "2006-02-09             2.0\n",
              "\n",
              "[5519 rows x 1 columns]"
            ],
            "text/html": [
              "\n",
              "  <div id=\"df-d04a6801-2dc3-4ce7-a47d-1ccadd28b329\">\n",
              "    <div class=\"colab-df-container\">\n",
              "      <div>\n",
              "<style scoped>\n",
              "    .dataframe tbody tr th:only-of-type {\n",
              "        vertical-align: middle;\n",
              "    }\n",
              "\n",
              "    .dataframe tbody tr th {\n",
              "        vertical-align: top;\n",
              "    }\n",
              "\n",
              "    .dataframe thead th {\n",
              "        text-align: right;\n",
              "    }\n",
              "</style>\n",
              "<table border=\"1\" class=\"dataframe\">\n",
              "  <thead>\n",
              "    <tr style=\"text-align: right;\">\n",
              "      <th></th>\n",
              "      <th>Moisture_level</th>\n",
              "    </tr>\n",
              "    <tr>\n",
              "      <th>Date</th>\n",
              "      <th></th>\n",
              "    </tr>\n",
              "  </thead>\n",
              "  <tbody>\n",
              "    <tr>\n",
              "      <th>1991-01-01</th>\n",
              "      <td>-9.0</td>\n",
              "    </tr>\n",
              "    <tr>\n",
              "      <th>1991-01-02</th>\n",
              "      <td>-9.0</td>\n",
              "    </tr>\n",
              "    <tr>\n",
              "      <th>1991-01-03</th>\n",
              "      <td>-9.0</td>\n",
              "    </tr>\n",
              "    <tr>\n",
              "      <th>1991-01-04</th>\n",
              "      <td>-9.0</td>\n",
              "    </tr>\n",
              "    <tr>\n",
              "      <th>1991-01-05</th>\n",
              "      <td>-9.0</td>\n",
              "    </tr>\n",
              "    <tr>\n",
              "      <th>...</th>\n",
              "      <td>...</td>\n",
              "    </tr>\n",
              "    <tr>\n",
              "      <th>2006-02-05</th>\n",
              "      <td>3.0</td>\n",
              "    </tr>\n",
              "    <tr>\n",
              "      <th>2006-02-06</th>\n",
              "      <td>3.0</td>\n",
              "    </tr>\n",
              "    <tr>\n",
              "      <th>2006-02-07</th>\n",
              "      <td>2.0</td>\n",
              "    </tr>\n",
              "    <tr>\n",
              "      <th>2006-02-08</th>\n",
              "      <td>6.0</td>\n",
              "    </tr>\n",
              "    <tr>\n",
              "      <th>2006-02-09</th>\n",
              "      <td>2.0</td>\n",
              "    </tr>\n",
              "  </tbody>\n",
              "</table>\n",
              "<p>5519 rows × 1 columns</p>\n",
              "</div>\n",
              "      <button class=\"colab-df-convert\" onclick=\"convertToInteractive('df-d04a6801-2dc3-4ce7-a47d-1ccadd28b329')\"\n",
              "              title=\"Convert this dataframe to an interactive table.\"\n",
              "              style=\"display:none;\">\n",
              "        \n",
              "  <svg xmlns=\"http://www.w3.org/2000/svg\" height=\"24px\"viewBox=\"0 0 24 24\"\n",
              "       width=\"24px\">\n",
              "    <path d=\"M0 0h24v24H0V0z\" fill=\"none\"/>\n",
              "    <path d=\"M18.56 5.44l.94 2.06.94-2.06 2.06-.94-2.06-.94-.94-2.06-.94 2.06-2.06.94zm-11 1L8.5 8.5l.94-2.06 2.06-.94-2.06-.94L8.5 2.5l-.94 2.06-2.06.94zm10 10l.94 2.06.94-2.06 2.06-.94-2.06-.94-.94-2.06-.94 2.06-2.06.94z\"/><path d=\"M17.41 7.96l-1.37-1.37c-.4-.4-.92-.59-1.43-.59-.52 0-1.04.2-1.43.59L10.3 9.45l-7.72 7.72c-.78.78-.78 2.05 0 2.83L4 21.41c.39.39.9.59 1.41.59.51 0 1.02-.2 1.41-.59l7.78-7.78 2.81-2.81c.8-.78.8-2.07 0-2.86zM5.41 20L4 18.59l7.72-7.72 1.47 1.35L5.41 20z\"/>\n",
              "  </svg>\n",
              "      </button>\n",
              "      \n",
              "  <style>\n",
              "    .colab-df-container {\n",
              "      display:flex;\n",
              "      flex-wrap:wrap;\n",
              "      gap: 12px;\n",
              "    }\n",
              "\n",
              "    .colab-df-convert {\n",
              "      background-color: #E8F0FE;\n",
              "      border: none;\n",
              "      border-radius: 50%;\n",
              "      cursor: pointer;\n",
              "      display: none;\n",
              "      fill: #1967D2;\n",
              "      height: 32px;\n",
              "      padding: 0 0 0 0;\n",
              "      width: 32px;\n",
              "    }\n",
              "\n",
              "    .colab-df-convert:hover {\n",
              "      background-color: #E2EBFA;\n",
              "      box-shadow: 0px 1px 2px rgba(60, 64, 67, 0.3), 0px 1px 3px 1px rgba(60, 64, 67, 0.15);\n",
              "      fill: #174EA6;\n",
              "    }\n",
              "\n",
              "    [theme=dark] .colab-df-convert {\n",
              "      background-color: #3B4455;\n",
              "      fill: #D2E3FC;\n",
              "    }\n",
              "\n",
              "    [theme=dark] .colab-df-convert:hover {\n",
              "      background-color: #434B5C;\n",
              "      box-shadow: 0px 1px 3px 1px rgba(0, 0, 0, 0.15);\n",
              "      filter: drop-shadow(0px 1px 2px rgba(0, 0, 0, 0.3));\n",
              "      fill: #FFFFFF;\n",
              "    }\n",
              "  </style>\n",
              "\n",
              "      <script>\n",
              "        const buttonEl =\n",
              "          document.querySelector('#df-d04a6801-2dc3-4ce7-a47d-1ccadd28b329 button.colab-df-convert');\n",
              "        buttonEl.style.display =\n",
              "          google.colab.kernel.accessAllowed ? 'block' : 'none';\n",
              "\n",
              "        async function convertToInteractive(key) {\n",
              "          const element = document.querySelector('#df-d04a6801-2dc3-4ce7-a47d-1ccadd28b329');\n",
              "          const dataTable =\n",
              "            await google.colab.kernel.invokeFunction('convertToInteractive',\n",
              "                                                     [key], {});\n",
              "          if (!dataTable) return;\n",
              "\n",
              "          const docLinkHtml = 'Like what you see? Visit the ' +\n",
              "            '<a target=\"_blank\" href=https://colab.research.google.com/notebooks/data_table.ipynb>data table notebook</a>'\n",
              "            + ' to learn more about interactive tables.';\n",
              "          element.innerHTML = '';\n",
              "          dataTable['output_type'] = 'display_data';\n",
              "          await google.colab.output.renderOutput(dataTable, element);\n",
              "          const docLink = document.createElement('div');\n",
              "          docLink.innerHTML = docLinkHtml;\n",
              "          element.appendChild(docLink);\n",
              "        }\n",
              "      </script>\n",
              "    </div>\n",
              "  </div>\n",
              "  "
            ]
          },
          "metadata": {},
          "execution_count": 88
        }
      ],
      "source": [
        "soil_df_train"
      ]
    },
    {
      "cell_type": "code",
      "execution_count": null,
      "metadata": {
        "colab": {
          "base_uri": "https://localhost:8080/",
          "height": 455
        },
        "id": "ImPhj-NrtepV",
        "outputId": "8fdd7150-9818-4890-8806-8ed692dc223d"
      },
      "outputs": [
        {
          "output_type": "execute_result",
          "data": {
            "text/plain": [
              "            Moisture_level\n",
              "Date                      \n",
              "2006-02-10           -17.0\n",
              "2006-02-11             4.0\n",
              "2006-02-12            -9.0\n",
              "2006-02-13            -2.0\n",
              "2006-02-14             4.0\n",
              "...                    ...\n",
              "2014-03-28            -3.0\n",
              "2014-03-29            -6.0\n",
              "2014-03-30            -2.0\n",
              "2014-03-31            -2.0\n",
              "2014-04-01            -1.0\n",
              "\n",
              "[2973 rows x 1 columns]"
            ],
            "text/html": [
              "\n",
              "  <div id=\"df-d84f7daa-fdd8-499f-afc6-d3c1e829401a\">\n",
              "    <div class=\"colab-df-container\">\n",
              "      <div>\n",
              "<style scoped>\n",
              "    .dataframe tbody tr th:only-of-type {\n",
              "        vertical-align: middle;\n",
              "    }\n",
              "\n",
              "    .dataframe tbody tr th {\n",
              "        vertical-align: top;\n",
              "    }\n",
              "\n",
              "    .dataframe thead th {\n",
              "        text-align: right;\n",
              "    }\n",
              "</style>\n",
              "<table border=\"1\" class=\"dataframe\">\n",
              "  <thead>\n",
              "    <tr style=\"text-align: right;\">\n",
              "      <th></th>\n",
              "      <th>Moisture_level</th>\n",
              "    </tr>\n",
              "    <tr>\n",
              "      <th>Date</th>\n",
              "      <th></th>\n",
              "    </tr>\n",
              "  </thead>\n",
              "  <tbody>\n",
              "    <tr>\n",
              "      <th>2006-02-10</th>\n",
              "      <td>-17.0</td>\n",
              "    </tr>\n",
              "    <tr>\n",
              "      <th>2006-02-11</th>\n",
              "      <td>4.0</td>\n",
              "    </tr>\n",
              "    <tr>\n",
              "      <th>2006-02-12</th>\n",
              "      <td>-9.0</td>\n",
              "    </tr>\n",
              "    <tr>\n",
              "      <th>2006-02-13</th>\n",
              "      <td>-2.0</td>\n",
              "    </tr>\n",
              "    <tr>\n",
              "      <th>2006-02-14</th>\n",
              "      <td>4.0</td>\n",
              "    </tr>\n",
              "    <tr>\n",
              "      <th>...</th>\n",
              "      <td>...</td>\n",
              "    </tr>\n",
              "    <tr>\n",
              "      <th>2014-03-28</th>\n",
              "      <td>-3.0</td>\n",
              "    </tr>\n",
              "    <tr>\n",
              "      <th>2014-03-29</th>\n",
              "      <td>-6.0</td>\n",
              "    </tr>\n",
              "    <tr>\n",
              "      <th>2014-03-30</th>\n",
              "      <td>-2.0</td>\n",
              "    </tr>\n",
              "    <tr>\n",
              "      <th>2014-03-31</th>\n",
              "      <td>-2.0</td>\n",
              "    </tr>\n",
              "    <tr>\n",
              "      <th>2014-04-01</th>\n",
              "      <td>-1.0</td>\n",
              "    </tr>\n",
              "  </tbody>\n",
              "</table>\n",
              "<p>2973 rows × 1 columns</p>\n",
              "</div>\n",
              "      <button class=\"colab-df-convert\" onclick=\"convertToInteractive('df-d84f7daa-fdd8-499f-afc6-d3c1e829401a')\"\n",
              "              title=\"Convert this dataframe to an interactive table.\"\n",
              "              style=\"display:none;\">\n",
              "        \n",
              "  <svg xmlns=\"http://www.w3.org/2000/svg\" height=\"24px\"viewBox=\"0 0 24 24\"\n",
              "       width=\"24px\">\n",
              "    <path d=\"M0 0h24v24H0V0z\" fill=\"none\"/>\n",
              "    <path d=\"M18.56 5.44l.94 2.06.94-2.06 2.06-.94-2.06-.94-.94-2.06-.94 2.06-2.06.94zm-11 1L8.5 8.5l.94-2.06 2.06-.94-2.06-.94L8.5 2.5l-.94 2.06-2.06.94zm10 10l.94 2.06.94-2.06 2.06-.94-2.06-.94-.94-2.06-.94 2.06-2.06.94z\"/><path d=\"M17.41 7.96l-1.37-1.37c-.4-.4-.92-.59-1.43-.59-.52 0-1.04.2-1.43.59L10.3 9.45l-7.72 7.72c-.78.78-.78 2.05 0 2.83L4 21.41c.39.39.9.59 1.41.59.51 0 1.02-.2 1.41-.59l7.78-7.78 2.81-2.81c.8-.78.8-2.07 0-2.86zM5.41 20L4 18.59l7.72-7.72 1.47 1.35L5.41 20z\"/>\n",
              "  </svg>\n",
              "      </button>\n",
              "      \n",
              "  <style>\n",
              "    .colab-df-container {\n",
              "      display:flex;\n",
              "      flex-wrap:wrap;\n",
              "      gap: 12px;\n",
              "    }\n",
              "\n",
              "    .colab-df-convert {\n",
              "      background-color: #E8F0FE;\n",
              "      border: none;\n",
              "      border-radius: 50%;\n",
              "      cursor: pointer;\n",
              "      display: none;\n",
              "      fill: #1967D2;\n",
              "      height: 32px;\n",
              "      padding: 0 0 0 0;\n",
              "      width: 32px;\n",
              "    }\n",
              "\n",
              "    .colab-df-convert:hover {\n",
              "      background-color: #E2EBFA;\n",
              "      box-shadow: 0px 1px 2px rgba(60, 64, 67, 0.3), 0px 1px 3px 1px rgba(60, 64, 67, 0.15);\n",
              "      fill: #174EA6;\n",
              "    }\n",
              "\n",
              "    [theme=dark] .colab-df-convert {\n",
              "      background-color: #3B4455;\n",
              "      fill: #D2E3FC;\n",
              "    }\n",
              "\n",
              "    [theme=dark] .colab-df-convert:hover {\n",
              "      background-color: #434B5C;\n",
              "      box-shadow: 0px 1px 3px 1px rgba(0, 0, 0, 0.15);\n",
              "      filter: drop-shadow(0px 1px 2px rgba(0, 0, 0, 0.3));\n",
              "      fill: #FFFFFF;\n",
              "    }\n",
              "  </style>\n",
              "\n",
              "      <script>\n",
              "        const buttonEl =\n",
              "          document.querySelector('#df-d84f7daa-fdd8-499f-afc6-d3c1e829401a button.colab-df-convert');\n",
              "        buttonEl.style.display =\n",
              "          google.colab.kernel.accessAllowed ? 'block' : 'none';\n",
              "\n",
              "        async function convertToInteractive(key) {\n",
              "          const element = document.querySelector('#df-d84f7daa-fdd8-499f-afc6-d3c1e829401a');\n",
              "          const dataTable =\n",
              "            await google.colab.kernel.invokeFunction('convertToInteractive',\n",
              "                                                     [key], {});\n",
              "          if (!dataTable) return;\n",
              "\n",
              "          const docLinkHtml = 'Like what you see? Visit the ' +\n",
              "            '<a target=\"_blank\" href=https://colab.research.google.com/notebooks/data_table.ipynb>data table notebook</a>'\n",
              "            + ' to learn more about interactive tables.';\n",
              "          element.innerHTML = '';\n",
              "          dataTable['output_type'] = 'display_data';\n",
              "          await google.colab.output.renderOutput(dataTable, element);\n",
              "          const docLink = document.createElement('div');\n",
              "          docLink.innerHTML = docLinkHtml;\n",
              "          element.appendChild(docLink);\n",
              "        }\n",
              "      </script>\n",
              "    </div>\n",
              "  </div>\n",
              "  "
            ]
          },
          "metadata": {},
          "execution_count": 89
        }
      ],
      "source": [
        "soil_df_validation"
      ]
    },
    {
      "cell_type": "markdown",
      "metadata": {
        "id": "tcwnY5GfxruQ"
      },
      "source": [
        "**Basic EDA on train data**"
      ]
    },
    {
      "cell_type": "code",
      "execution_count": null,
      "metadata": {
        "colab": {
          "base_uri": "https://localhost:8080/",
          "height": 455
        },
        "id": "8_bzCxR3yMZO",
        "outputId": "3a60612d-e8cb-4b1b-c52b-e42e2dcb581a"
      },
      "outputs": [
        {
          "output_type": "execute_result",
          "data": {
            "text/plain": [
              "            Moisture_level\n",
              "Date                      \n",
              "1991-01-01            -9.0\n",
              "1991-01-02            -9.0\n",
              "1991-01-03            -9.0\n",
              "1991-01-04            -9.0\n",
              "1991-01-05            -9.0\n",
              "...                    ...\n",
              "2006-02-05             3.0\n",
              "2006-02-06             3.0\n",
              "2006-02-07             2.0\n",
              "2006-02-08             6.0\n",
              "2006-02-09             2.0\n",
              "\n",
              "[5519 rows x 1 columns]"
            ],
            "text/html": [
              "\n",
              "  <div id=\"df-6dfe1a16-647e-40a0-a8ce-64ff3ae09f10\">\n",
              "    <div class=\"colab-df-container\">\n",
              "      <div>\n",
              "<style scoped>\n",
              "    .dataframe tbody tr th:only-of-type {\n",
              "        vertical-align: middle;\n",
              "    }\n",
              "\n",
              "    .dataframe tbody tr th {\n",
              "        vertical-align: top;\n",
              "    }\n",
              "\n",
              "    .dataframe thead th {\n",
              "        text-align: right;\n",
              "    }\n",
              "</style>\n",
              "<table border=\"1\" class=\"dataframe\">\n",
              "  <thead>\n",
              "    <tr style=\"text-align: right;\">\n",
              "      <th></th>\n",
              "      <th>Moisture_level</th>\n",
              "    </tr>\n",
              "    <tr>\n",
              "      <th>Date</th>\n",
              "      <th></th>\n",
              "    </tr>\n",
              "  </thead>\n",
              "  <tbody>\n",
              "    <tr>\n",
              "      <th>1991-01-01</th>\n",
              "      <td>-9.0</td>\n",
              "    </tr>\n",
              "    <tr>\n",
              "      <th>1991-01-02</th>\n",
              "      <td>-9.0</td>\n",
              "    </tr>\n",
              "    <tr>\n",
              "      <th>1991-01-03</th>\n",
              "      <td>-9.0</td>\n",
              "    </tr>\n",
              "    <tr>\n",
              "      <th>1991-01-04</th>\n",
              "      <td>-9.0</td>\n",
              "    </tr>\n",
              "    <tr>\n",
              "      <th>1991-01-05</th>\n",
              "      <td>-9.0</td>\n",
              "    </tr>\n",
              "    <tr>\n",
              "      <th>...</th>\n",
              "      <td>...</td>\n",
              "    </tr>\n",
              "    <tr>\n",
              "      <th>2006-02-05</th>\n",
              "      <td>3.0</td>\n",
              "    </tr>\n",
              "    <tr>\n",
              "      <th>2006-02-06</th>\n",
              "      <td>3.0</td>\n",
              "    </tr>\n",
              "    <tr>\n",
              "      <th>2006-02-07</th>\n",
              "      <td>2.0</td>\n",
              "    </tr>\n",
              "    <tr>\n",
              "      <th>2006-02-08</th>\n",
              "      <td>6.0</td>\n",
              "    </tr>\n",
              "    <tr>\n",
              "      <th>2006-02-09</th>\n",
              "      <td>2.0</td>\n",
              "    </tr>\n",
              "  </tbody>\n",
              "</table>\n",
              "<p>5519 rows × 1 columns</p>\n",
              "</div>\n",
              "      <button class=\"colab-df-convert\" onclick=\"convertToInteractive('df-6dfe1a16-647e-40a0-a8ce-64ff3ae09f10')\"\n",
              "              title=\"Convert this dataframe to an interactive table.\"\n",
              "              style=\"display:none;\">\n",
              "        \n",
              "  <svg xmlns=\"http://www.w3.org/2000/svg\" height=\"24px\"viewBox=\"0 0 24 24\"\n",
              "       width=\"24px\">\n",
              "    <path d=\"M0 0h24v24H0V0z\" fill=\"none\"/>\n",
              "    <path d=\"M18.56 5.44l.94 2.06.94-2.06 2.06-.94-2.06-.94-.94-2.06-.94 2.06-2.06.94zm-11 1L8.5 8.5l.94-2.06 2.06-.94-2.06-.94L8.5 2.5l-.94 2.06-2.06.94zm10 10l.94 2.06.94-2.06 2.06-.94-2.06-.94-.94-2.06-.94 2.06-2.06.94z\"/><path d=\"M17.41 7.96l-1.37-1.37c-.4-.4-.92-.59-1.43-.59-.52 0-1.04.2-1.43.59L10.3 9.45l-7.72 7.72c-.78.78-.78 2.05 0 2.83L4 21.41c.39.39.9.59 1.41.59.51 0 1.02-.2 1.41-.59l7.78-7.78 2.81-2.81c.8-.78.8-2.07 0-2.86zM5.41 20L4 18.59l7.72-7.72 1.47 1.35L5.41 20z\"/>\n",
              "  </svg>\n",
              "      </button>\n",
              "      \n",
              "  <style>\n",
              "    .colab-df-container {\n",
              "      display:flex;\n",
              "      flex-wrap:wrap;\n",
              "      gap: 12px;\n",
              "    }\n",
              "\n",
              "    .colab-df-convert {\n",
              "      background-color: #E8F0FE;\n",
              "      border: none;\n",
              "      border-radius: 50%;\n",
              "      cursor: pointer;\n",
              "      display: none;\n",
              "      fill: #1967D2;\n",
              "      height: 32px;\n",
              "      padding: 0 0 0 0;\n",
              "      width: 32px;\n",
              "    }\n",
              "\n",
              "    .colab-df-convert:hover {\n",
              "      background-color: #E2EBFA;\n",
              "      box-shadow: 0px 1px 2px rgba(60, 64, 67, 0.3), 0px 1px 3px 1px rgba(60, 64, 67, 0.15);\n",
              "      fill: #174EA6;\n",
              "    }\n",
              "\n",
              "    [theme=dark] .colab-df-convert {\n",
              "      background-color: #3B4455;\n",
              "      fill: #D2E3FC;\n",
              "    }\n",
              "\n",
              "    [theme=dark] .colab-df-convert:hover {\n",
              "      background-color: #434B5C;\n",
              "      box-shadow: 0px 1px 3px 1px rgba(0, 0, 0, 0.15);\n",
              "      filter: drop-shadow(0px 1px 2px rgba(0, 0, 0, 0.3));\n",
              "      fill: #FFFFFF;\n",
              "    }\n",
              "  </style>\n",
              "\n",
              "      <script>\n",
              "        const buttonEl =\n",
              "          document.querySelector('#df-6dfe1a16-647e-40a0-a8ce-64ff3ae09f10 button.colab-df-convert');\n",
              "        buttonEl.style.display =\n",
              "          google.colab.kernel.accessAllowed ? 'block' : 'none';\n",
              "\n",
              "        async function convertToInteractive(key) {\n",
              "          const element = document.querySelector('#df-6dfe1a16-647e-40a0-a8ce-64ff3ae09f10');\n",
              "          const dataTable =\n",
              "            await google.colab.kernel.invokeFunction('convertToInteractive',\n",
              "                                                     [key], {});\n",
              "          if (!dataTable) return;\n",
              "\n",
              "          const docLinkHtml = 'Like what you see? Visit the ' +\n",
              "            '<a target=\"_blank\" href=https://colab.research.google.com/notebooks/data_table.ipynb>data table notebook</a>'\n",
              "            + ' to learn more about interactive tables.';\n",
              "          element.innerHTML = '';\n",
              "          dataTable['output_type'] = 'display_data';\n",
              "          await google.colab.output.renderOutput(dataTable, element);\n",
              "          const docLink = document.createElement('div');\n",
              "          docLink.innerHTML = docLinkHtml;\n",
              "          element.appendChild(docLink);\n",
              "        }\n",
              "      </script>\n",
              "    </div>\n",
              "  </div>\n",
              "  "
            ]
          },
          "metadata": {},
          "execution_count": 90
        }
      ],
      "source": [
        "soil_df_train"
      ]
    },
    {
      "cell_type": "code",
      "execution_count": null,
      "metadata": {
        "colab": {
          "base_uri": "https://localhost:8080/",
          "height": 124
        },
        "id": "qgrIJzgI_Cfa",
        "outputId": "9b43c53b-4296-4e11-ec4e-6e3e491c119d"
      },
      "outputs": [
        {
          "output_type": "display_data",
          "data": {
            "text/plain": [
              "'Shape of training data: '"
            ],
            "application/vnd.google.colaboratory.intrinsic+json": {
              "type": "string"
            }
          },
          "metadata": {}
        },
        {
          "output_type": "display_data",
          "data": {
            "text/plain": [
              "(5519, 1)"
            ]
          },
          "metadata": {}
        },
        {
          "output_type": "display_data",
          "data": {
            "text/plain": [
              "'Shape of validation data: '"
            ],
            "application/vnd.google.colaboratory.intrinsic+json": {
              "type": "string"
            }
          },
          "metadata": {}
        },
        {
          "output_type": "display_data",
          "data": {
            "text/plain": [
              "(2973, 1)"
            ]
          },
          "metadata": {}
        },
        {
          "output_type": "display_data",
          "data": {
            "text/plain": [
              "'Shape of test data: '"
            ],
            "application/vnd.google.colaboratory.intrinsic+json": {
              "type": "string"
            }
          },
          "metadata": {}
        },
        {
          "output_type": "display_data",
          "data": {
            "text/plain": [
              "(2831, 1)"
            ]
          },
          "metadata": {}
        }
      ],
      "source": [
        "display(\"Shape of training data: \", soil_df_train.shape)\n",
        "display(\"Shape of validation data: \", soil_df_validation.shape)\n",
        "display(\"Shape of test data: \", soil_df_test.shape)"
      ]
    },
    {
      "cell_type": "markdown",
      "metadata": {
        "id": "H-P6vejbvb1V"
      },
      "source": [
        "The above details seem to give us a feel on spliting of data to be in an appropriate manner.\n",
        "\n"
      ]
    },
    {
      "cell_type": "code",
      "execution_count": null,
      "metadata": {
        "colab": {
          "base_uri": "https://localhost:8080/",
          "height": 176
        },
        "id": "AeWA9cczlBAn",
        "outputId": "f9e3dcac-62cb-48ad-f783-53e7d21825de"
      },
      "outputs": [
        {
          "output_type": "display_data",
          "data": {
            "text/plain": [
              "'Null values in training data: '"
            ],
            "application/vnd.google.colaboratory.intrinsic+json": {
              "type": "string"
            }
          },
          "metadata": {}
        },
        {
          "output_type": "display_data",
          "data": {
            "text/plain": [
              "Moisture_level    0\n",
              "dtype: int64"
            ]
          },
          "metadata": {}
        },
        {
          "output_type": "display_data",
          "data": {
            "text/plain": [
              "'Null values in validation data: '"
            ],
            "application/vnd.google.colaboratory.intrinsic+json": {
              "type": "string"
            }
          },
          "metadata": {}
        },
        {
          "output_type": "display_data",
          "data": {
            "text/plain": [
              "Moisture_level    0\n",
              "dtype: int64"
            ]
          },
          "metadata": {}
        },
        {
          "output_type": "display_data",
          "data": {
            "text/plain": [
              "'Null values in test data: '"
            ],
            "application/vnd.google.colaboratory.intrinsic+json": {
              "type": "string"
            }
          },
          "metadata": {}
        },
        {
          "output_type": "display_data",
          "data": {
            "text/plain": [
              "Moisture_level    0\n",
              "dtype: int64"
            ]
          },
          "metadata": {}
        }
      ],
      "source": [
        "display(\"Null values in training data: \", soil_df_train.isnull().sum())\n",
        "display(\"Null values in validation data: \", soil_df_validation.isnull().sum())\n",
        "display(\"Null values in test data: \", soil_df_test.isnull().sum())"
      ]
    },
    {
      "cell_type": "markdown",
      "metadata": {
        "id": "ZoCtEteLlaWK"
      },
      "source": [
        "Now things seem fine. We shall start working towards model construction. We shall use training data to build and train the model, validation data to evaluate the model and test data to make  the forecast."
      ]
    },
    {
      "cell_type": "markdown",
      "metadata": {
        "id": "3mkw9W0VBp2F"
      },
      "source": [
        "### Normalising data\n",
        "\n",
        " We have to normalise data which can be done using scaling. A normalized data lead to better performance in Neural Networks.For this we will use sklearn's MinMaxScaler.\n",
        "\n",
        "**Why MinMAxScalar?** The two main reasons are:\n",
        "1. It is important to ensure that the scale of the output is in the range -1 to +1 to keep it within the scale of the activation function (tanh - which is -1 to +1) on the output layer of LSTM as our final model is built and trained on LSTM.\n",
        "2.input variables are better to be small values, probably in the above mentioned range.\n",
        "\n",
        "(Ref:https://towardsdatascience.com/predictive-analysis-rnn-lstm-and-gru-to-predict-water-consumption-e6bb3c2b4b02)\n",
        "\n"
      ]
    },
    {
      "cell_type": "markdown",
      "metadata": {
        "id": "uC5Qb-mnYBh4"
      },
      "source": [
        "**Importing library**"
      ]
    },
    {
      "cell_type": "code",
      "execution_count": null,
      "metadata": {
        "id": "ycpSnMwYXuXu"
      },
      "outputs": [],
      "source": [
        "from sklearn.preprocessing import MinMaxScaler"
      ]
    },
    {
      "cell_type": "markdown",
      "metadata": {
        "id": "wNDFbmhwYIgo"
      },
      "source": [
        "**Instantiate the class StandardScaler**"
      ]
    },
    {
      "cell_type": "markdown",
      "metadata": {
        "id": "z9-hNUnRwC-f"
      },
      "source": [
        "We will normalise data within the range of -1 to +1. This will be in accordance with the activation function of LSTM Model, that we desire to build."
      ]
    },
    {
      "cell_type": "code",
      "execution_count": null,
      "metadata": {
        "id": "gRSKHjxwYWov"
      },
      "outputs": [],
      "source": [
        "scaling_soil_df = MinMaxScaler(feature_range = (-1, 1))"
      ]
    },
    {
      "cell_type": "markdown",
      "metadata": {
        "id": "M-oeOZ3UYGGU"
      },
      "source": [
        "**Fit and transform** the dataframes of train, validation and test to normalise their values."
      ]
    },
    {
      "cell_type": "code",
      "execution_count": null,
      "metadata": {
        "id": "kTsd6NmVZxrG"
      },
      "outputs": [],
      "source": [
        "soil_df_train_scaled = scaling_soil_df.fit_transform(soil_df_train)"
      ]
    },
    {
      "cell_type": "code",
      "execution_count": null,
      "metadata": {
        "id": "_rt3Rz8gb2RZ"
      },
      "outputs": [],
      "source": [
        "soil_df_validation_scaled = scaling_soil_df.fit_transform(soil_df_validation)"
      ]
    },
    {
      "cell_type": "code",
      "execution_count": null,
      "metadata": {
        "id": "mI3zDV1Ub4gl"
      },
      "outputs": [],
      "source": [
        "soil_df_test_scaled = scaling_soil_df.fit_transform(soil_df_test)"
      ]
    },
    {
      "cell_type": "code",
      "execution_count": null,
      "metadata": {
        "colab": {
          "base_uri": "https://localhost:8080/"
        },
        "id": "Zd0Wt6saNhVg",
        "outputId": "7c73d7d1-440d-45ca-c1b3-7d84a1989584"
      },
      "outputs": [
        {
          "output_type": "execute_result",
          "data": {
            "text/plain": [
              "array([[-0.08900524],\n",
              "       [-0.08900524],\n",
              "       [-0.08900524],\n",
              "       ...,\n",
              "       [ 0.02617801],\n",
              "       [ 0.06806283],\n",
              "       [ 0.02617801]])"
            ]
          },
          "metadata": {},
          "execution_count": 98
        }
      ],
      "source": [
        "soil_df_train_scaled"
      ]
    },
    {
      "cell_type": "markdown",
      "metadata": {
        "id": "1LS7v2Z74DHz"
      },
      "source": [
        "#Models\n",
        "\n",
        "There are many many predictive anaytical methods in both classical machine learning and neural network methods, which can be used to develop a forecasting business model. Some classical machine learning methods include linear regression, exponential smoothing, ARIMA, SARIMA, etc. The neural network methods that I am aware are RNN and LSTM.\n",
        "\n",
        "As this project is a time series data, we will be looking into:\n",
        "- ARIMA - a classical machine learning model\n",
        "- RNN - a neural network model\n",
        "- LSTM - a neural network model\n",
        "\n",
        "*Note: We will discuss how ARIMA and RNN works along with providing code for reference. But the actual working model would be built using the LSTM method.*"
      ]
    },
    {
      "cell_type": "markdown",
      "metadata": {
        "id": "jGc22y7nzXfD"
      },
      "source": [
        "#ARIMA (AutoRegressive Integrated Moving Average)\n",
        "\n",
        "This is a classical machine learning predictive model building method. is a traditional modeling technique, which - as its name implies - uses autoregression and a moving average component to model the \"present moment\" with respect to prior moments with an autoregressive and some smoothed moving average - these are the AR and MA in the names. The integral part (the I) comes from the fact that ARMA is extended, and is applied to the differenced time series, thus representing \"trend\". I=1 is the first difference, it represents linear trend.\n",
        "\n",
        "AR = autoregressive: forecast the variable using a linear combination of its past values\n",
        "MA = moving average: value to forecast is assumed to be a weighted moving average of the past forecast errors\n",
        "I = integral: the degree of differencing to be used (1 = linear trend, 2 = second-order differencing needed to get to stationarity). It is a statsmodel and is well suited for \"online learning\".(Ref:https://colab.research.google.com/drive/16RDjy8_vjZZxS4S3DjTpefAE1YszzQJh#scrollTo=eWSm9WCSZuwW)\n",
        "\n",
        "Each of these components are explicitly specified in the model as a parameter. A standard notation is used of ARIMA(p,d,q) where the parameters are substituted with integer values to quickly indicate the specific ARIMA model being used. The parameters of the ARIMA model are defined as follows:\n",
        "- p: The number of lag observations included in the model, also called the lag order.\n",
        "- d: The number of times that the raw observations are differenced, also called the degree of differencing.\n",
        "- q: The size of the moving average window, also called the order of moving average.\n",
        "\n",
        "Adopting an ARIMA model for a time series assumes that the underlying process that generated the observations is an ARIMA process. This may seem obvious, but helps to motivate the need to confirm the assumptions of the model in the raw observations and in the residual errors of forecasts from the model.(Ref:https://machinelearningmastery.com/arima-for-time-series-forecasting-with-python/)\n",
        "\n",
        "*Just as a side note - A value of 0 can be used for a parameter, which indicates to not use that element of the model. This way, the ARIMA model can be configured to perform the function of an ARMA model, and even a simple AR, I, or MA model.*\n",
        "\n",
        "The ARIMA model can be used to forecast future time steps. We can use the `.forecast()` function, which performs a one-step forecast using the model.\n",
        "A rolling forecast is required given the dependence on observations in prior time steps for differencing and the AR model. A crude way to perform this rolling forecast is to re-create the ARIMA model after each new observation is received. We manually keep track of all observations in a list called history that is seeded with the training data and to which new observations are appended each iteration. The process is repeated until either a desirable level of fit is achieved on the in-sample or out-of-sample observations (e.g. training or test datasets).(Ref:https://machinelearningmastery.com/arima-for-time-series-forecasting-with-python/)\n",
        "\n",
        "Thus, to avoid manual and repetatitive work, it is advisable to use a neural network to forecast a value in a time-series data.\n",
        "\n",
        "Below is sample model for future reference and is kept as general as possible"
      ]
    },
    {
      "cell_type": "markdown",
      "metadata": {
        "id": "Q4C5M84sEfot"
      },
      "source": [
        "*Importing libraries*"
      ]
    },
    {
      "cell_type": "code",
      "execution_count": null,
      "metadata": {
        "id": "CXXBrCT-FC73"
      },
      "outputs": [],
      "source": [
        "# from statsmodels.tsa.arima.model import ARIMA"
      ]
    },
    {
      "cell_type": "markdown",
      "metadata": {
        "id": "Xh1e9pylFGlx"
      },
      "source": [
        "*Instantiating the class*"
      ]
    },
    {
      "cell_type": "code",
      "execution_count": null,
      "metadata": {
        "id": "q1o_quXiFOEk"
      },
      "outputs": [],
      "source": [
        "# arima_model = ARIMA(df, order=(5,1,0)) ## the p, d, q parameters of ARIMA here are p = 5, d = 1 and q = 0"
      ]
    },
    {
      "cell_type": "markdown",
      "metadata": {
        "id": "pXW14L4LFnmu"
      },
      "source": [
        "*Fitting the model and checking its summary*"
      ]
    },
    {
      "cell_type": "code",
      "execution_count": null,
      "metadata": {
        "id": "_pHyI-fYF8Nx"
      },
      "outputs": [],
      "source": [
        "# arima_model_fit = arima_model.fit() ## fitting the model\n",
        "# arima_model_fit.summary() ## checking the summary of the model"
      ]
    },
    {
      "cell_type": "markdown",
      "metadata": {
        "id": "hvJ-goJ85--A"
      },
      "source": [
        "**A feed forward networks**\n",
        "\n",
        "Feed forward networks are multi-layered network of neurons. By feed forward network we mean to say that output of one layer of the model archietecture is to be given as parameter of input into the next layer of the model.As a result information flows only in forward manner. In short, one neuron would be receiving inputs from multiple independent neurons or from hidden layers  to the output nodes. There are no cycles or loops in the network.\n",
        "\n",
        "Issues in the feed forward neural network : -\n",
        "\n",
        "- Can’t handle sequential data.\n",
        "- Consider only current input.\n",
        "- Can’t memorize the previous input.\n",
        "\n",
        "(Ref:https://medium.com/analytics-vidhya/in-depth-tutorial-of-recurrent-neural-network-rnn-and-long-short-term-memory-lstm-networks-3a782712a09f)\n",
        "\n",
        "Thus, neural networks are designed to manage these issues of feed forward networks. Neural Networks can capture time-series data. One can build a model with an end-to-end solution with least manual work. For example, just like we saw RandomForestClassifier and SelectFromModel libraries of sklearn can be used even to get the relevent features from a large dimensioned dataset.\n"
      ]
    },
    {
      "cell_type": "markdown",
      "metadata": {
        "id": "JITvVOgPGyZU"
      },
      "source": [
        "#Recurrent Neural Network (RNN) Model\n",
        "\n",
        "RNN - Recurrent Neural Network (RNN) is a special type of feed forward network of neural networks that is powerful for modeling sequence data such as time series or natural language. This is the main difference of an RNN architecture as compared to a CNN archietecture.\n",
        "\n",
        "In RNN, the output of one layer is dependent on the current input along with the set of previous inputs. This special feature has an advantage to take help of inputs obtained before to predict outputs at the later stage.\n",
        "Also we have an `Embedding()` class which helps in taking care of dimensionality of  input data.\n",
        "\n",
        "There are four types of RNN archietectures:\n",
        "1. One-to-one : It is also called *vanilla neural network*. It is applicable to resolve basic machine learning problems.\n",
        "2. One-to-many : It has one input and many outputs. This is used widely in image captioning tasks.\n",
        "3. Many-to-one : This has many inputs and one output. It is widely applicable in natural language processing.\n",
        "4. Many-to-many : Has sequence of inputs and generates sequence of outputs. Helps in machine translation such as Google translate. (Ref:https://medium.com/analytics-vidhya/in-depth-tutorial-of-recurrent-neural-network-rnn-and-long-short-term-memory-lstm-networks-3a782712a09f)\n",
        "\n",
        "**Problems being faced while training a RNN**\n",
        "1. **Vanishing Gradient Problem :** As the deep neural network follows the chain rule all gradients (which is the learning parameter) travels in back-propogation to the initial layer. If the weights / gradients are below 1, they keep shrinking exponentially until the time they vanish. This is the problem of vanishing gradients. This eventually results in longer training time and at the same time loss of information.\n",
        "2. **Exploding Gradient Problem :** On the other hand, if gradients whose values are greater than 1, get larger as the chain rule is followed and back-propogation happens. This blows up or increases the weights of gradients to such an extent that it may crash the model. This is the problem of exploding gradient.\n",
        "\n",
        "The effects of the above stated problems is that training a model becomes a time-consuming yet leading to poor performance and not so good accuracy - as some gradients have either vanished while some have blown up.\n",
        "\n",
        "*Note: As in previous case of the ARIMA Model, we will specify the sample code for future reference and keep it general.\n"
      ]
    },
    {
      "cell_type": "markdown",
      "metadata": {
        "id": "_PE0Y8cVd5SU"
      },
      "source": [
        "*Importing libraries*\n",
        "\n",
        "There are three classes of RNN in keras. We shall provide only the importing code for all three just for our knowledge.\n",
        "\n",
        "*Note: This section pertains to SimpleRNN only.*\n",
        "\n",
        "SimpleRNN is a fully-connected RNN where the output from previous timestep is to be fed to next timestep. (Ref:https://www.tensorflow.org/guide/keras/rnn)"
      ]
    },
    {
      "cell_type": "code",
      "execution_count": null,
      "metadata": {
        "id": "g1IZ1Sq0ifCh"
      },
      "outputs": [],
      "source": [
        "# from tensorflow.keras.layers import SimpleRNN, GRU, LSTM\n"
      ]
    },
    {
      "cell_type": "markdown",
      "metadata": {
        "id": "Le_sznfYk1Ui"
      },
      "source": [
        "*Archietecture of the model*\n",
        "\n",
        "Neural networks follow archietecture - compilation - fit sequence of model building.\n",
        "\n",
        "This is the archietctural section where input layers, embeded layers, logit/output layers are built as along with instantiation of some classes as required for this method of predictive model.\n",
        "\n",
        "*Note: Approach for input layers could differ based on Sequential (requires importing of class Sequential() as well) or Functional API method adopted in building the neural network.\n",
        "\n"
      ]
    },
    {
      "cell_type": "code",
      "execution_count": null,
      "metadata": {
        "id": "2faKOpmJLJVs"
      },
      "outputs": [],
      "source": [
        "# from tensorflow.keras import Sequential"
      ]
    },
    {
      "cell_type": "markdown",
      "metadata": {
        "id": "HHEwLIxki75s"
      },
      "source": [
        "*Instantiating the class and specify model layers*\n",
        "\n",
        "(Ref:https://www.tensorflow.org/guide/keras/rnn)"
      ]
    },
    {
      "cell_type": "code",
      "execution_count": null,
      "metadata": {
        "id": "DQEyoFsKKepQ"
      },
      "outputs": [],
      "source": [
        "# model = Sequential() # instantiating the class\n",
        "# model.add(layers.Embedding(input_dim=1000, output_dim=64)) # embedding layer with input and output dimensions, (values randomly stated).\n",
        "\n",
        "# The output of SimpleRNN will be a 2D tensor of shape (batch_size, 128)\n",
        "#model.add(layers.SimpleRNN(128)) # SimpleRNN class instantiated with output dimension as parameter\n",
        "\n",
        "# model.add(layers.Dense(10)) Output layer with number of outputs required which will be 1 in this project\n",
        "# The shape of this output is (batch_size, timesteps, units).\n",
        "\n",
        "# model.summary() # viewing model summary"
      ]
    },
    {
      "cell_type": "markdown",
      "metadata": {
        "id": "KkhREvSYNuWk"
      },
      "source": [
        "Note: in case we have more than one SimpleRNN layers we need to set the parameters `return_sequences=True, return_state=True` in the second layer. The **return_sequences** will  return the last output in the output sequence, or the full sequence which otherwise by default is set to False.\n",
        "The **return_state** will return the last state in addition to the output which otherwise by default is set to False.\n",
        "\n",
        "A RNN layer can also return the entire sequence of outputs for each sample (one vector per timestep per sample)\n",
        "\n",
        "(Ref:https://keras.io/api/layers/recurrent_layers/simple_rnn/)"
      ]
    },
    {
      "cell_type": "markdown",
      "metadata": {
        "id": "j14x2mqEPjJE"
      },
      "source": [
        "*Compilation of the model*\n",
        "\n"
      ]
    },
    {
      "cell_type": "code",
      "execution_count": null,
      "metadata": {
        "id": "kNsiT5mqpfD_"
      },
      "outputs": [],
      "source": [
        "# model.compile(loss = loss_function, optimizer = specify_optimizer, activation = activation_function)\n",
        "# loss function is specified basis input data, optimizer = Adam is preferable, activation = The softmax takes the linear output of the logit/output\n",
        "# neurons and normalises their probabilities which sumup to 1. Thus, it is advisable to choose \"softmax\" activation function.\n",
        "\n"
      ]
    },
    {
      "cell_type": "markdown",
      "metadata": {
        "id": "fJai6aFgjzGp"
      },
      "source": [
        "*Fitting the model*\n",
        "\n",
        "This is the stage where the machine learning algorithm built so far is being fed with training data from which it can learn. For doing this we use .fit() called on the model instantiated. This fits the training data to the algorithm prepared.\n",
        "\n",
        "Note: We may also validate our model on validation data while training the model after target_data. We need to train the model on training data Any tuning of hyperparameters is also to be done only on train dataset."
      ]
    },
    {
      "cell_type": "code",
      "execution_count": null,
      "metadata": {
        "id": "TGpku_UOj9pE"
      },
      "outputs": [],
      "source": [
        "# history_simpleRNN = model.fit(dataframe_to_be_trained, epochs = as_in_hyperparameter, batch_size = as_in_hyperparameter)"
      ]
    },
    {
      "cell_type": "markdown",
      "metadata": {
        "id": "rUC0Cj5qoOWi"
      },
      "source": [
        "*Getting history of the instantiated object*\n",
        "\n",
        "To get an overall view of the model on the instantiated object we can call the `.history.keys()` on the fitted instance"
      ]
    },
    {
      "cell_type": "code",
      "execution_count": null,
      "metadata": {
        "id": "LtQI6_j0ogoN"
      },
      "outputs": [],
      "source": [
        "# history_simpleRNN.history.keys()"
      ]
    },
    {
      "cell_type": "markdown",
      "metadata": {
        "id": "5fBn7gV-pDXE"
      },
      "source": [
        "*Evaluating the model*\n",
        "\n",
        "Models  should always be evaluated on the validation data. This can be done by using the `.evaluate(dataframe)`.\n",
        "\n",
        "Once this is done, we need to plot the training and evaluation of model on graph to get an idea of our model setup.\n",
        "If all seems well we can proceed to predicting the value on test data."
      ]
    },
    {
      "cell_type": "code",
      "execution_count": null,
      "metadata": {
        "id": "4qajOSV3pJPm"
      },
      "outputs": [],
      "source": [
        "# model.evaluate(validation_data)"
      ]
    },
    {
      "cell_type": "markdown",
      "metadata": {
        "id": "ldM_GZB_qI1P"
      },
      "source": [
        "*Predicting*\n",
        "\n",
        "This to be done on test data only using the function `.predict(dataframe)` on the instantiated model."
      ]
    },
    {
      "cell_type": "code",
      "execution_count": null,
      "metadata": {
        "id": "n06SA7LrqRwq"
      },
      "outputs": [],
      "source": [
        "# model_prediction = model.predict(dataframe)"
      ]
    },
    {
      "cell_type": "markdown",
      "metadata": {
        "id": "hIHvxcebJ35s"
      },
      "source": [
        "# Long Short Term Memory (LSTM) Model\n",
        "\n",
        "An **LSTM - Long Short Term Memory** is a special kind of feed-forward recurrent neural network which canhandle sequential data and manage information persistently. The added advantage is that LSTM neural network is also capable of handling the *vanishing gradient* problem which was being faced by other neural networks such as RNN. In short, LSTMs are explicitly designed to avoid long-term dependency problems that arise due to vanishing gradient.\n",
        "(Ref:https://www.analyticsvidhya.com/blog/2021/03/introduction-to-long-short-term-memory-lstm/)\n",
        "\n",
        "**Overcoming the problems of RNN**\n",
        "\n",
        "As seen above there we some major issues with RNN which ought to be fixed. This led to the neural network of ResNet (Residual Network). In this network system, some kind of a highway was set which is directly connected to the output, by by-passing the neurons. These highway points are called **the cell-state**. In addition to this, a gradient clipping technique was appended to the archietecture which artificially limited the gradients during back-propogation. This reduced the problem of exploding gradients.\n",
        "This structure of neural network is called the **Long short term Memory or the LSTM**. One can consider that LSTM is an improvised form of RNN.\n",
        "\n",
        "\n",
        "**How does a LSTM model work?**\n",
        "\n",
        "Firstly, as specified above, LSTMs are capable of **avoiding long-term dependencies**. This model is designed with a highway platform. As data is being trained, at each interval the some internal calculations are done and weights are being stored in these highway points (also called as **cell state**). These weights are stored until the final output is computed.\n",
        "\n",
        "Secondly, LSTMs have **Gates** structure which is a  combination of non-linear activation and point-wise opertion. gates regulate the flow of information. At each neuron a decision is taken on the action to be taken on the weight values (Sigmoid (elimainates / retains values basis 0 and 1 - selects positions that are relevant) and tanh (updates values basis its range of +1 to -1, that is, it normalises the highway vector between -1 and 1)). This is where the problem arising from **vanishing gradient** is taken care.\n",
        "\n",
        "**Process flow of the LSTM-Model:**\n",
        "The memory cell of LSTM has three gates (input, forgot, and output gate). They are used to control the flow from the input to the output of the cell. The input gate will control the new information when it can enter the memory. The forgot gate will check the existance of information in the memory and determines whether or not the cell can remember new data. Finally, the information in the cell is determined to be used in the output cell by the output gate. Each cell contains weights to control each gate. These weights are optimized by a training algorithm based on an error resulting of network output. (Ref:file:///C:/Users/user/Downloads/applsci-11-11820.pdf)"
      ]
    },
    {
      "cell_type": "markdown",
      "metadata": {
        "id": "NbAYF6PJEY7o"
      },
      "source": [
        "### Hyperparameters\n",
        "\n",
        "Hyperparameters are the variables which determines the network structure(for example number of hidden units) and the variables which determine how the network is trained(such as Learning Rate). Hyperparameters are set before training(before optimizing the weights and bias).\n",
        "\n",
        "(Ref:https://towardsdatascience.com/what-are-hyperparameters-and-how-to-tune-the-hyperparameters-in-a-deep-neural-network-d0604917584a#:~:text=Deep%20Neural%20Network%3F-,What%20are%20hyperparameters%3F,optimizing%20the%20weights%20and%20bias).)\n",
        "\n",
        "In this project, hyperparameters are intutively chosen and the reason for choosing their value is specified. However, Hyperparameters can be tuned and better options can be chosen. This can be done using the GridSerach CV. But due to time constraints we are not diving into this for now.\n"
      ]
    },
    {
      "cell_type": "markdown",
      "metadata": {
        "id": "Gi3zQVX-6Zg0"
      },
      "source": [
        "\n",
        "**Note:** Seeding can be done for reproducibility of the model, but that is just a case of hope when it comes to neural networks. In addition to this due to time constraints we are not using the same in this project.\n",
        "\n",
        "Seed is a function of the numpy library, whose value can be set to any random number. This random number is a value from which the function begins to generate the random number.\n",
        "\n",
        "For example: `from numpy.random import seed` - importing the seed function from random library of numpy `seed(14)` - The seed function begins to generate the random number from 14 onwards. `tf.random.set_seed(19)` - sets a global random seed while using tensorflow library."
      ]
    },
    {
      "cell_type": "markdown",
      "metadata": {
        "id": "tkHDe24rCKiH"
      },
      "source": [
        "*Parameter for LSTM units**\n",
        "\n",
        "An LSTM - how ever strange that may sound - can be considered to be a complete layer. The most important parameter of it is the \"number of (memory) units\", which is the length of the hidden state vector, thus, the memory capacity. Warning: this does not have any relationship to input size, thus can be considered a freely chosen parameter.(Ref: https://colab.research.google.com/drive/1wVPdLfo_ue9MYSMnZpuIO6gk_2BWGHzh#scrollTo=R8IYutdnW_SG)\n",
        "\n",
        "There is no one-size-fits-all approach for determining the hidden size as it really depends on the task at hand. We Can Start with a small hidden size, such as 128 or 256. If the model underfits, then we need to expand to 512, 1024, or more. Increasing the model’s capacity will generally help fit the training data. (Ref:https://www.quora.com/How-does-one-determine-the-optimal-number-of-units-and-other-settings-for-an-LSTM-neural-network-layer-other-than-trial-and-error)\n",
        "\n",
        "The more the number of neurons the deeper is the learning. The number of layers and cells required in an LSTM might depend on several aspects of the problem such as the complexity of the dataset, such as the number of features, the number of data points, objective of the project, the accuracy required for the use case, etc.\n",
        "\n",
        "*Note: We willbe taking only 5 neurons here so as to avoid any RAM issues.*\n",
        "\n",
        "We will save this in a variable so that we can abide by the general applicability rule."
      ]
    },
    {
      "cell_type": "code",
      "execution_count": null,
      "metadata": {
        "id": "tYUJrmZdCjXY"
      },
      "outputs": [],
      "source": [
        "lstm_units = 5"
      ]
    },
    {
      "cell_type": "markdown",
      "metadata": {
        "id": "nWZKad_qSmYF"
      },
      "source": [
        "*Parameter for timestep*\n",
        "\n",
        "In this project, we shall have time_steps = 7. It means that the model makes predictions based on the previous 7 days data.\n",
        "This is a totally independent and intutive choice bearing in mind that there would not be any drastic fluctuations in values of moisture level in a week. However, This could be changed as per the objectives set for every individual case.\n",
        "\n",
        "(Ref:https://machinelearningmastery.com/how-to-develop-lstm-models-for-multi-step-time-series-forecasting-of-household-power-consumption/)"
      ]
    },
    {
      "cell_type": "code",
      "execution_count": null,
      "metadata": {
        "id": "akNS6h4_USwC"
      },
      "outputs": [],
      "source": [
        "timesteps = 7"
      ]
    },
    {
      "cell_type": "markdown",
      "metadata": {
        "id": "iLGa5kPgnMrR"
      },
      "source": [
        "*Parameter for number_of_epochs*"
      ]
    },
    {
      "cell_type": "code",
      "execution_count": null,
      "metadata": {
        "id": "9lnx36M5nXCw"
      },
      "outputs": [],
      "source": [
        "epoch_count = 30"
      ]
    },
    {
      "cell_type": "markdown",
      "metadata": {
        "id": "IitXA0QKnhYC"
      },
      "source": [
        "*Parameter for batch_size*\n",
        "\n",
        "Training data in reasonably small batches helps yield efficient results in reasonable time. Small number of samples are faster to train than one huge chunk of data. Also processing data in batches enables us to get closer to the global optimum in terms of loss. Depending on the size of the dataset, an ideal batch_size usually ranges between 32 to 250.\n",
        "\n"
      ]
    },
    {
      "cell_type": "code",
      "execution_count": null,
      "metadata": {
        "id": "sRwk0Knjnl4i"
      },
      "outputs": [],
      "source": [
        "batch_size = 32"
      ]
    },
    {
      "cell_type": "markdown",
      "metadata": {
        "id": "S8zrMUIh58RU"
      },
      "source": [
        "*Number of forecast values*\n",
        "\n",
        "By this we mean the number of output values or forecast values.\n",
        "For the purpose of maintaining the genalisation approach we shall save the value in a variable so that it may be altered in future if required without much hassle."
      ]
    },
    {
      "cell_type": "code",
      "execution_count": null,
      "metadata": {
        "id": "g6AF7Puh6efX"
      },
      "outputs": [],
      "source": [
        "count_of_forecast_values = 1"
      ]
    },
    {
      "cell_type": "markdown",
      "metadata": {
        "id": "sPCWMGQAadkF"
      },
      "source": [
        "*Dropout*\n",
        "\n",
        "As we will have a stacked LSTM layer Model we shall have dropout values. This will help us in bringing about some regularisation in learning. The rates taken fall within the range 0 to 1, as tens of percentages, by default."
      ]
    },
    {
      "cell_type": "code",
      "execution_count": null,
      "metadata": {
        "id": "MUOFD6KqbZnq"
      },
      "outputs": [],
      "source": [
        "dropout_rate = 0.1"
      ]
    },
    {
      "cell_type": "markdown",
      "metadata": {
        "id": "oYabyCVSF4AS"
      },
      "source": [
        "###Data Preparation\n",
        "\n",
        "Before a univariate series can be modeled, it must be prepared.\n",
        "\n",
        "The LSTM model will learn a function that maps a sequence of past observations as input to an output observation. As such, the sequence of observations must be transformed into multiple samples from which the LSTM can learn. (Ref: https://machinelearningmastery.com/how-to-develop-lstm-models-for-time-series-forecasting/)\n",
        "\n",
        "Here we will convert the dataset into independent and dependent variables based on timesteps as set in the hyperparameter.\n",
        "(Ref:https://www.analyticsvidhya.com/blog/2021/06/time-series-analysis-recurrence-neural-network-in-python/)\n",
        "(Ref:https://www.youtube.com/watch?v=UbvkhuqVqUI)\n",
        "(Ref:https://www.youtube.com/watch?v=H6du_pfuznE)"
      ]
    },
    {
      "cell_type": "code",
      "execution_count": null,
      "metadata": {
        "id": "5-B0BHzCdNoa"
      },
      "outputs": [],
      "source": [
        "def prepare_data(dataset, timesteps):\n",
        "  input_series = []\n",
        "  output_list = []\n",
        "  for i in range(len(dataset)-timesteps-1 ):\n",
        "    input_data = dataset[i:(i+timesteps), 0]\n",
        "    input_series.append(input_data)\n",
        "    output_list.append(dataset[i + timesteps, 0])\n",
        "  return np.array(input_series), np.array(output_list)\n",
        "\n"
      ]
    },
    {
      "cell_type": "markdown",
      "source": [
        "*Note: Logic for the above code explained in the appendix section.*"
      ],
      "metadata": {
        "id": "-WloyYDVCKQf"
      }
    },
    {
      "cell_type": "markdown",
      "metadata": {
        "id": "lp_Q5ojUAdHV"
      },
      "source": [
        "*Getting the data from the above function*\n",
        "(Ref: https://colab.research.google.com/drive/1uK9Dp4p3rMDj1cbUfZ9BwEFpGrjB9M5U#scrollTo=WjUxKUkpcw7p) - from my Big Data and Machine Learning home assignment"
      ]
    },
    {
      "cell_type": "code",
      "execution_count": null,
      "metadata": {
        "id": "hF-_tGi1AcUB"
      },
      "outputs": [],
      "source": [
        "input_series, output_list = prepare_data(soil_df_train_scaled, timesteps)\n",
        "input_series = np.array(input_series)\n",
        "output_list = np.array(output_list)"
      ]
    },
    {
      "cell_type": "code",
      "execution_count": null,
      "metadata": {
        "id": "HE0GQ7-wfuyw"
      },
      "outputs": [],
      "source": [
        "validation_input , validation_output = prepare_data(soil_df_validation_scaled, timesteps)\n",
        "validation_input = np.array(validation_input)\n",
        "validation_output = np.array(validation_output)"
      ]
    },
    {
      "cell_type": "markdown",
      "metadata": {
        "id": "10dq4jymLBkt"
      },
      "source": [
        "**Note:** The dataframe name has to be changed in the above  codes based on training, validation or testing stage of model building."
      ]
    },
    {
      "cell_type": "code",
      "execution_count": null,
      "metadata": {
        "colab": {
          "base_uri": "https://localhost:8080/",
          "height": 88
        },
        "id": "9dFoMZUNQ6N1",
        "outputId": "16a506e2-e99c-4e48-ba47-48c81c2f8e17"
      },
      "outputs": [
        {
          "output_type": "display_data",
          "data": {
            "text/plain": [
              "'Shape of input data: '"
            ],
            "application/vnd.google.colaboratory.intrinsic+json": {
              "type": "string"
            }
          },
          "metadata": {}
        },
        {
          "output_type": "display_data",
          "data": {
            "text/plain": [
              "(5511, 7)"
            ]
          },
          "metadata": {}
        },
        {
          "output_type": "display_data",
          "data": {
            "text/plain": [
              "'Shape of output data: '"
            ],
            "application/vnd.google.colaboratory.intrinsic+json": {
              "type": "string"
            }
          },
          "metadata": {}
        },
        {
          "output_type": "display_data",
          "data": {
            "text/plain": [
              "(5511,)"
            ]
          },
          "metadata": {}
        }
      ],
      "source": [
        "display(\"Shape of input data: \", input_series.shape)\n",
        "display(\"Shape of output data: \", output_list.shape)"
      ]
    },
    {
      "cell_type": "markdown",
      "metadata": {
        "id": "rfA_nBNNZ3hD"
      },
      "source": [
        "So we can see that we have same number of samples in input data as well as output data.\n",
        "\n",
        "Let us just glance through input and output data"
      ]
    },
    {
      "cell_type": "code",
      "execution_count": null,
      "metadata": {
        "colab": {
          "base_uri": "https://localhost:8080/",
          "height": 314
        },
        "id": "SvdT3NPcgwDx",
        "outputId": "e88a59c4-0b65-4bdb-9ad0-137cb254134c"
      },
      "outputs": [
        {
          "output_type": "display_data",
          "data": {
            "text/plain": [
              "'input_series: '"
            ],
            "application/vnd.google.colaboratory.intrinsic+json": {
              "type": "string"
            }
          },
          "metadata": {}
        },
        {
          "output_type": "display_data",
          "data": {
            "text/plain": [
              "array([[-0.08900524, -0.08900524, -0.08900524, ..., -0.08900524,\n",
              "        -0.08900524, -0.08900524],\n",
              "       [-0.08900524, -0.08900524, -0.08900524, ..., -0.08900524,\n",
              "        -0.08900524, -0.08900524],\n",
              "       [-0.08900524, -0.08900524, -0.08900524, ..., -0.08900524,\n",
              "        -0.08900524, -0.08900524],\n",
              "       ...,\n",
              "       [-0.01570681, -0.04712042,  0.05759162, ...,  0.01570681,\n",
              "         0.02617801,  0.03664921],\n",
              "       [-0.04712042,  0.05759162, -0.0052356 , ...,  0.02617801,\n",
              "         0.03664921,  0.03664921],\n",
              "       [ 0.05759162, -0.0052356 ,  0.01570681, ...,  0.03664921,\n",
              "         0.03664921,  0.02617801]])"
            ]
          },
          "metadata": {}
        },
        {
          "output_type": "display_data",
          "data": {
            "text/plain": [
              "'output_list: '"
            ],
            "application/vnd.google.colaboratory.intrinsic+json": {
              "type": "string"
            }
          },
          "metadata": {}
        },
        {
          "output_type": "display_data",
          "data": {
            "text/plain": [
              "array([-0.08900524, -0.08900524, -0.08900524, ...,  0.03664921,\n",
              "        0.02617801,  0.06806283])"
            ]
          },
          "metadata": {}
        }
      ],
      "source": [
        "display(\"input_series: \", input_series)\n",
        "display(\"output_list: \", output_list)"
      ]
    },
    {
      "cell_type": "markdown",
      "metadata": {
        "id": "I_gNisu3evjd"
      },
      "source": [
        "**Reshaping input_series**\n",
        "\n",
        "We shall now reshape x_train data as we need the same to be passed as value for input_shape parameter of the first LSTM layer. So we are using randomly 1 and saving the same in a variable called n_features.\n",
        "(Ref:https://www.analyticsvidhya.com/blog/2021/06/time-series-analysis-recurrence-neural-network-in-python/)"
      ]
    },
    {
      "cell_type": "code",
      "execution_count": null,
      "metadata": {
        "id": "d5346NmZiBgp"
      },
      "outputs": [],
      "source": [
        "n_features = 1"
      ]
    },
    {
      "cell_type": "code",
      "execution_count": null,
      "metadata": {
        "id": "0x0Iq26HRVuu"
      },
      "outputs": [],
      "source": [
        "input_series_reshaped = np.reshape(input_series, (input_series.shape[0], input_series.shape[1], n_features))"
      ]
    },
    {
      "cell_type": "code",
      "execution_count": null,
      "metadata": {
        "colab": {
          "base_uri": "https://localhost:8080/"
        },
        "id": "ex3M43PMzuWo",
        "outputId": "4bbde0ff-f204-407d-f317-eac1f1bd13d4"
      },
      "outputs": [
        {
          "output_type": "execute_result",
          "data": {
            "text/plain": [
              "(5511, 7, 1)"
            ]
          },
          "metadata": {},
          "execution_count": 123
        }
      ],
      "source": [
        "input_series_reshaped.shape"
      ]
    },
    {
      "cell_type": "markdown",
      "metadata": {
        "id": "_tZYbZnXiW52"
      },
      "source": [
        "So now our data is of three-dimensional as required for input in the LSTM layer.\n",
        "\n",
        "Now let us start working on creating a network and building a model"
      ]
    },
    {
      "cell_type": "markdown",
      "metadata": {
        "id": "LLrZ6WAzKAz-"
      },
      "source": [
        "### Network\n",
        "\n"
      ]
    },
    {
      "cell_type": "markdown",
      "metadata": {
        "id": "sotUhk-GQvR0"
      },
      "source": [
        "**Importing required libraries**"
      ]
    },
    {
      "cell_type": "code",
      "execution_count": null,
      "metadata": {
        "id": "cVEgF5SwKOMB"
      },
      "outputs": [],
      "source": [
        "\n",
        "from tensorflow.keras.layers import Input, Dense, LSTM, TimeDistributed, Dropout\n",
        "from tensorflow.keras.models import Model, Sequential\n",
        "from tensorflow.keras.backend import clear_session\n",
        "from tensorflow.keras.optimizers import Adam\n",
        "from tensorflow.keras.losses import MeanSquaredError\n",
        "from tensorflow.keras import backend as K\n"
      ]
    },
    {
      "cell_type": "markdown",
      "metadata": {
        "id": "teX1Hj25KYbC"
      },
      "source": [
        "**Historic sessions**\n",
        "\n",
        "It is a good practice to clear previous sessions and reset everything despite using Keras. This will help eliminate chances of errors which may occur due to cached data.\n",
        "\n",
        "First we will clear the stacked graphs and set to global default graph using `tf.compat.v1.reset_default_graph()`.\n",
        "\n",
        "Next we will use `clear_session()`, this helps in clearing and avoiding clutter from old models and layers, especially when memory is limited. This is also called releasing the global state."
      ]
    },
    {
      "cell_type": "code",
      "execution_count": null,
      "metadata": {
        "id": "_fSn74xELQjJ"
      },
      "outputs": [],
      "source": [
        "tf.compat.v1.reset_default_graph()"
      ]
    },
    {
      "cell_type": "code",
      "execution_count": null,
      "metadata": {
        "id": "Atn2Bk83Lo_c"
      },
      "outputs": [],
      "source": [
        "clear_session()"
      ]
    },
    {
      "cell_type": "markdown",
      "metadata": {
        "id": "U_lM-IH6Ls7b"
      },
      "source": [
        "### Model Archietcture\n",
        "\n",
        "**Archietecture of the model**\n",
        "\n",
        "All models in tensorflow and Keras have a similar structure of archietecture, compilation and fitting the data on the model.\n",
        "\n",
        "For this project, we will build the archietecture using the Sequential API approach"
      ]
    },
    {
      "cell_type": "markdown",
      "metadata": {
        "id": "-taSw3ZGMbOI"
      },
      "source": [
        "**Instantiating the class Sequential**\n",
        "\n",
        "As the first step of Sequential API approach of model building, we will first instantiate this class\n"
      ]
    },
    {
      "cell_type": "code",
      "execution_count": null,
      "metadata": {
        "id": "Nhfjh0J9hBx4"
      },
      "outputs": [],
      "source": [
        "forecast_moisture_level = Sequential()"
      ]
    },
    {
      "cell_type": "markdown",
      "metadata": {
        "id": "RWur0dr7unIE"
      },
      "source": [
        "**Embedding layer**\n",
        "Time series embeddings are a representation of time data in the form of vector embeddings that can be used by different models, improving their performance. It also converts words into vectors of numbers and reduces dimensionality."
      ]
    },
    {
      "cell_type": "markdown",
      "metadata": {
        "id": "6NYRFoFvhLxu"
      },
      "source": [
        "**Defining input**\n",
        "\n",
        "The LSTM layer expects input to be in a matrix with the dimensions: [number_of_input_samples, timesteps, n_features].\n",
        "\n",
        "1. Samples: These are independent observations from the domain, typically rows of data. `samples = input_series.shape[0]`. It the first value, the number of observations or rows, when you call the shape of the dataframe\n",
        "2. Timesteps: This this the number of observations the model will take to make a prediction `input_timesteps = input_series.shape[1]`. It is the second value, that number of timesteps the model will take to foretell the future value.\n",
        "3. Features: This is an independent value used to reshape the input data.`n_features = n_features`. It is a random number given to reshape the input_series .\n",
        "\n",
        "(Ref: https://machinelearningmastery.com/time-series-forecasting-long-short-term-memory-network-python/)\n",
        "\n"
      ]
    },
    {
      "cell_type": "markdown",
      "metadata": {
        "id": "BD3dIIZLNgxS"
      },
      "source": [
        "**LSTM layer 1**\n",
        "\n",
        "As we are proceeding with stacked LSTM approach, here we need to set parameter of return_sequences to True so that the result of this layer is saved and used in next stacked LSTM layer so that the next layer operates on full sequences.\n",
        "\n",
        "We need to set return_state to True as we require the previous state in addition to the output.\n",
        "(Ref: https://keras.io/api/layers/recurrent_layers/lstm/),\n"
      ]
    },
    {
      "cell_type": "code",
      "execution_count": null,
      "metadata": {
        "id": "AynLMALH_6Cg"
      },
      "outputs": [],
      "source": [
        "forecast_moisture_level.add(LSTM(lstm_units, return_sequences = True, input_shape = (timesteps, n_features)))"
      ]
    },
    {
      "cell_type": "markdown",
      "metadata": {
        "id": "M2TFQGdG_z-e"
      },
      "source": [
        "**LSTM layer 2**\n",
        "\n",
        "It is quite common to use multiple LSTM layers (\"stacked LSTM layers\") as these layers learn a hierarchy of abstract representations. that we do not only get on top of the LSTM a final prediction for a sequence, but we try to get **output the whole sequence of predictions**. This enables the next layer to operate on full sequences.\n",
        "\n",
        "Just like in lstm_layer_1, here too we shall set return_state to be True so that we not only obtain the output but also the value of the previous state."
      ]
    },
    {
      "cell_type": "code",
      "execution_count": null,
      "metadata": {
        "id": "4XMA1H5H_6kG"
      },
      "outputs": [],
      "source": [
        "forecast_moisture_level.add(LSTM(lstm_units, return_sequences = True))"
      ]
    },
    {
      "cell_type": "markdown",
      "metadata": {
        "id": "laaR9SlWvZiN"
      },
      "source": [
        "**Logit / output layer**\n",
        "\n",
        "Here we are in a forecastiong task and we need one value of forecast\n",
        "\n",
        "1. **Shape of output** is the number of units that we need to have in our forecast, that is always equal to the **count_of_forecast_values**\n",
        "\n",
        "2. What is the **activation function** to be considered?  The softmax takes the linear output of the logit/output of neurons and normalises their probabilities which sumup to 1. Thus, it is advisable to choose **\"softmax\"** activation function.\n",
        "\n",
        "2. Which layer of fully connected **layer** would be the **input**? Always the **latest LSTM layer's output** should be given as input. because learning hass taken place until then as we need this for the accuracy of our outcome.\n",
        "\n",
        "The synatx is as follows:\n",
        "\n",
        "`model_name.add(Dense(units = count_of_forecast_values, activation = \"softmax\"))`\n"
      ]
    },
    {
      "cell_type": "code",
      "execution_count": null,
      "metadata": {
        "id": "SvL5z342wj4r"
      },
      "outputs": [],
      "source": [
        "forecast_moisture_level.add(Dense(units = count_of_forecast_values, activation = \"softmax\" ))"
      ]
    },
    {
      "cell_type": "markdown",
      "metadata": {
        "id": "l5Rd1SwCnzb_"
      },
      "source": [
        "### Model compilation\n",
        "\n",
        "Configuring the model\n",
        "Now as the model is instantiated and ready, we need to configure it. We need to specify the compilation parameters. The parameters which the model should adopt while being trained.\n",
        "\n",
        "The syntax for the same is :\n",
        "\n",
        "`model_name.compile(Loss = \"applicable_loss_function_for_the dataset\", optimiser = \"optimiser_function_to_be_adopted\", metrics = \"metrice_of_measurement_of model_success\")`\n",
        "\n",
        "**loss:** As this is a regression task, the loss function we would use is **Mean Squared Error (MSE)**. The error should decrease as we increase our sample data as the distribution of our data becomes narrower and narrower (referring to normal distribution). The more data we have, the less is the error. But opposite happens if we use sum of squared errors(SSE). Therefore, we take the average or mean of SSE. So more the data, the lesser will be the aggregated error, MSE. The Mean Squared Error is used as a default metric for evaluation of the performance of most regression algorithms (Ref: https://towardsdatascience.com/https-medium-com-chayankathuria-regression-why-mean-square-error-a8cad2a1c96f)\n",
        "\n",
        "**Note: If not for time constraint we could try using the \"rsme\".\n",
        "\n",
        "**Optimizser:** Better to use an adaptive one. Adam optimization is a stochastic gradient descent method that is based on adaptive estimation of first-order (mean) and second-order (variance) moments. **Adam** is used in most applications as default optimiser as it produces better results with leat computation time and fewer parameters for tuning.\n",
        "\n",
        "**Metrics:** This is the function which compares, judges and tracks the performance of the model. We will use accuracy as our metrics. This option seems good as it calculates the frequency of predictions which are equal to label names."
      ]
    },
    {
      "cell_type": "code",
      "execution_count": null,
      "metadata": {
        "id": "r5AMghWJx6KN"
      },
      "outputs": [],
      "source": [
        "from sklearn.metrics import mean_squared_error"
      ]
    },
    {
      "cell_type": "code",
      "execution_count": null,
      "metadata": {
        "id": "IAOkVQB45F37"
      },
      "outputs": [],
      "source": [
        "forecast_moisture_level.compile(loss = \"mean_squared_error\", optimizer = Adam(), metrics = \"accuracy\")"
      ]
    },
    {
      "cell_type": "markdown",
      "metadata": {
        "id": "CKF94IN0M-eN"
      },
      "source": [
        "###**Model Summary**\n",
        "\n",
        "It is always a good practice to know the summary of the model. Infact it gives everything in the model as a synopsis. We can use .summary() called on the model_name."
      ]
    },
    {
      "cell_type": "markdown",
      "metadata": {
        "id": "aS2XgDp6TL8e"
      },
      "source": [
        "*Note: All reference from here until the end of the project is taken from moodle colab notebooks and my machine learning home assignment.*\n",
        "\n",
        "Ref: https://moodle.ibs-b.hu/mod/url/view.php?id=25400\n",
        "\n",
        "Ref: https://colab.research.google.com/drive/1uK9Dp4p3rMDj1cbUfZ9BwEFpGrjB9M5U#scrollTo=Wfe4YRnexJl2"
      ]
    },
    {
      "cell_type": "code",
      "execution_count": null,
      "metadata": {
        "colab": {
          "base_uri": "https://localhost:8080/"
        },
        "id": "-VR67GoTNOGB",
        "outputId": "4c41a110-f85a-47cf-d9ec-85e473ff5684"
      },
      "outputs": [
        {
          "output_type": "stream",
          "name": "stdout",
          "text": [
            "Model: \"sequential\"\n",
            "_________________________________________________________________\n",
            " Layer (type)                Output Shape              Param #   \n",
            "=================================================================\n",
            " lstm (LSTM)                 (None, 7, 5)              140       \n",
            "                                                                 \n",
            " lstm_1 (LSTM)               (None, 7, 5)              220       \n",
            "                                                                 \n",
            " dense (Dense)               (None, 7, 1)              6         \n",
            "                                                                 \n",
            "=================================================================\n",
            "Total params: 366\n",
            "Trainable params: 366\n",
            "Non-trainable params: 0\n",
            "_________________________________________________________________\n"
          ]
        }
      ],
      "source": [
        "forecast_moisture_level.summary()"
      ]
    },
    {
      "cell_type": "markdown",
      "metadata": {
        "id": "gMAs-7MWouJQ"
      },
      "source": [
        "**Callbacks**\n",
        "Training a neural network is very crucial and recording the history at each epoch is always beneficial. This not only saves weights at each epoch, but also, helps us resume training from the epoch we had paused. This enables economies in terms of saving time and load on the system.\n",
        "\n",
        "There is an in-built library called callbacks which may be used for this puropse. It is passed as a parameter in the training of the model when we run the `model.fit()`.There are three types of callbacks which are frequently used:\n",
        "\n",
        "**1.EarlyStopping:** With a goal of minimum loss in training the model, at each epoch of training the model checks the if the loss would no loger decrease and based on its parameter patience, (that is the count of epochs for which there is no change in loss value). The training would stop. If the restore_best_weights have been marked \"True\", the model weights from the epoch with best value is saved. As training increases weights keep ncreasing and results in exotic shapes.\n",
        "\n",
        "`callback = tf.keras.callbacks.EarlyStopping(monitor='loss', patience=3)`\n",
        "\n",
        "This callback will stop the training when there is no improvement in the loss for three consecutive epochs.\n",
        "\n",
        "`model = tf.keras.models.Sequential([tf.keras.layers.Dense(10)])`\n",
        "\n",
        "`model.compile(tf.keras.optimizers.SGD(), loss='mse')`\n",
        "\n",
        "`history = model.fit(np.arange(100).reshape(5, 20), np.zeros(5), epochs=10, batch_size=1, callbacks=[callback], verbose=0)`\n",
        "\n",
        "`len(history.history['loss'])` # Only 4 epochs are run.\n",
        "\n",
        "The drawback of this method of callback is that there is a higher probability of missing on the global optimum.\n",
        "\n",
        "**2.ModelCheckpoint:** This is the class which uses the callback library of keras to save a model or weights at particular intervals, which helps load the weights when we want to resume training at a future time. If save_best_only=True will save the best weight while the model is being trained.\n",
        "\n",
        "We can also use model.load_weights(checkpoint_path) to save the weights to the hard drive so that they are available for use even after the training is being closed.\n",
        "\n",
        "`tf.keras.callbacks.ModelCheckpoint( filepath, monitor='val_loss', verbose=0, save_best_only=False, save_weights_only=False, mode='auto', save_freq='epoch', options=None, initial_value_threshold=None, **kwargs )`\n",
        "\n",
        "Since ModelCheckpoint runs on the entire dataset the probability of missing the global optimum is much lower than that compared to EarlyStopping.\n",
        "\n",
        "**3.LearningRateScheduler:** This is also a callback method where learning occurs at a scheduled interval\n",
        "\n",
        "We can use the Keras callback ReduceLROnPlateau for callbacks.\n",
        "\n",
        "(Ref: https://keras.io/api/callbacks/),\n",
        "(Ref:https://colab.research.google.com/drive/1uK9Dp4p3rMDj1cbUfZ9BwEFpGrjB9M5U#scrollTo=C0U1lp9XcTxg)\n"
      ]
    },
    {
      "cell_type": "markdown",
      "metadata": {
        "id": "xB5ErOERPoEJ"
      },
      "source": [
        "###Training the Model\n",
        "\n",
        "This is the stage where the machine learning algorithm built so far is being fed with training data from which it can learn. For doing this we use `.fit()` called on the model instantiated. This fits the training data to the algorithm prepared.\n",
        "\n",
        "The syntax for the same is:\n",
        "\n",
        "`variable_name = model_name.fit(x = input_data, y = target_data, epochs = hyperparameter_set_earlier, batch_size = hyperparameter_set_earlier, verbose = number_of_lines_you_want_to_print_after_each_epoch)`\n",
        "\n",
        "Note: We may also validate our model on validation data while training the model after target_data. We need to train the model on training data Any tuning of hyperparameters is also to be done only on train dataset.\n",
        "\n",
        "(Ref:https://colab.research.google.com/drive/1diTqTmYP925bK8tmfphYQWkLnjK94Mlm)\n",
        "\n",
        "\n"
      ]
    },
    {
      "cell_type": "code",
      "execution_count": null,
      "metadata": {
        "colab": {
          "base_uri": "https://localhost:8080/"
        },
        "id": "b4JNEh0sQLgO",
        "outputId": "4d6901b4-1a0d-440c-9347-785271b3c4c1"
      },
      "outputs": [
        {
          "output_type": "stream",
          "name": "stdout",
          "text": [
            "Epoch 1/30\n",
            "173/173 [==============================] - 8s 18ms/step - loss: 1.0172 - accuracy: 1.8146e-04 - val_loss: 1.0432 - val_accuracy: 3.3727e-04\n",
            "Epoch 2/30\n",
            "173/173 [==============================] - 2s 11ms/step - loss: 1.0172 - accuracy: 1.8146e-04 - val_loss: 1.0432 - val_accuracy: 3.3727e-04\n",
            "Epoch 3/30\n",
            "173/173 [==============================] - 2s 11ms/step - loss: 1.0172 - accuracy: 1.8146e-04 - val_loss: 1.0432 - val_accuracy: 3.3727e-04\n",
            "Epoch 4/30\n",
            "173/173 [==============================] - 2s 11ms/step - loss: 1.0172 - accuracy: 1.8146e-04 - val_loss: 1.0432 - val_accuracy: 3.3727e-04\n",
            "Epoch 5/30\n",
            "173/173 [==============================] - 2s 12ms/step - loss: 1.0172 - accuracy: 1.8146e-04 - val_loss: 1.0432 - val_accuracy: 3.3727e-04\n",
            "Epoch 6/30\n",
            "173/173 [==============================] - 2s 11ms/step - loss: 1.0172 - accuracy: 1.8146e-04 - val_loss: 1.0432 - val_accuracy: 3.3727e-04\n",
            "Epoch 7/30\n",
            "173/173 [==============================] - 2s 11ms/step - loss: 1.0172 - accuracy: 1.8146e-04 - val_loss: 1.0432 - val_accuracy: 3.3727e-04\n",
            "Epoch 8/30\n",
            "173/173 [==============================] - 2s 11ms/step - loss: 1.0172 - accuracy: 1.8146e-04 - val_loss: 1.0432 - val_accuracy: 3.3727e-04\n",
            "Epoch 9/30\n",
            "173/173 [==============================] - 2s 11ms/step - loss: 1.0172 - accuracy: 1.8146e-04 - val_loss: 1.0432 - val_accuracy: 3.3727e-04\n",
            "Epoch 10/30\n",
            "173/173 [==============================] - 2s 12ms/step - loss: 1.0172 - accuracy: 1.8146e-04 - val_loss: 1.0432 - val_accuracy: 3.3727e-04\n",
            "Epoch 11/30\n",
            "173/173 [==============================] - 2s 12ms/step - loss: 1.0172 - accuracy: 1.8146e-04 - val_loss: 1.0432 - val_accuracy: 3.3727e-04\n",
            "Epoch 12/30\n",
            "173/173 [==============================] - 2s 12ms/step - loss: 1.0172 - accuracy: 1.8146e-04 - val_loss: 1.0432 - val_accuracy: 3.3727e-04\n",
            "Epoch 13/30\n",
            "173/173 [==============================] - 2s 12ms/step - loss: 1.0172 - accuracy: 1.8146e-04 - val_loss: 1.0432 - val_accuracy: 3.3727e-04\n",
            "Epoch 14/30\n",
            "173/173 [==============================] - 2s 12ms/step - loss: 1.0172 - accuracy: 1.8146e-04 - val_loss: 1.0432 - val_accuracy: 3.3727e-04\n",
            "Epoch 15/30\n",
            "173/173 [==============================] - 2s 11ms/step - loss: 1.0172 - accuracy: 1.8146e-04 - val_loss: 1.0432 - val_accuracy: 3.3727e-04\n",
            "Epoch 16/30\n",
            "173/173 [==============================] - 2s 11ms/step - loss: 1.0172 - accuracy: 1.8146e-04 - val_loss: 1.0432 - val_accuracy: 3.3727e-04\n",
            "Epoch 17/30\n",
            "173/173 [==============================] - 2s 12ms/step - loss: 1.0172 - accuracy: 1.8146e-04 - val_loss: 1.0432 - val_accuracy: 3.3727e-04\n",
            "Epoch 18/30\n",
            "173/173 [==============================] - 2s 12ms/step - loss: 1.0172 - accuracy: 1.8146e-04 - val_loss: 1.0432 - val_accuracy: 3.3727e-04\n",
            "Epoch 19/30\n",
            "173/173 [==============================] - 2s 13ms/step - loss: 1.0172 - accuracy: 1.8146e-04 - val_loss: 1.0432 - val_accuracy: 3.3727e-04\n",
            "Epoch 20/30\n",
            " 70/173 [===========>..................] - ETA: 1s - loss: 1.0145 - accuracy: 0.0000e+00"
          ]
        }
      ],
      "source": [
        "history = forecast_moisture_level.fit(x = input_series, y = output_list, validation_data =(validation_input, validation_output), epochs = epoch_count, batch_size = batch_size, verbose = 1)"
      ]
    },
    {
      "cell_type": "markdown",
      "metadata": {
        "id": "XNv87SwQPmBr"
      },
      "source": [
        "**Graph to show the training  of the model  on train_data**\n",
        "\n",
        "This summerises the history of the model for accuracy and loss function of the model on training data.\n",
        "\n",
        "(Ref: https://colab.research.google.com/drive/1diTqTmYP925bK8tmfphYQWkLnjK94Mlm)"
      ]
    },
    {
      "cell_type": "code",
      "execution_count": null,
      "metadata": {
        "colab": {
          "base_uri": "https://localhost:8080/",
          "height": 552
        },
        "id": "DGxNe5dMRuJe",
        "outputId": "4467fc7e-44c5-4ebc-cefb-b60999e0acda"
      },
      "outputs": [
        {
          "output_type": "display_data",
          "data": {
            "text/plain": [
              "<Figure size 432x288 with 1 Axes>"
            ],
            "image/png": "[encoded data removed]"
          },
          "metadata": {
            "needs_background": "light"
          }
        },
        {
          "output_type": "display_data",
          "data": {
            "text/plain": [
              "<Figure size 432x288 with 1 Axes>"
            ],
            "image/png": "[encoded data removed]"
          },
          "metadata": {
            "needs_background": "light"
          }
        }
      ],
      "source": [
        "def display_history(history):\n",
        "    plt.plot(history.history['accuracy'])\n",
        "\n",
        "    plt.ylabel('accuracy')\n",
        "    plt.xlabel('epoch')\n",
        "    plt.legend(['train'], loc='upper left')\n",
        "    plt.show()\n",
        "    plt.plot(history.history['loss'])\n",
        "\n",
        "    plt.ylabel('loss')\n",
        "    plt.xlabel('epoch')\n",
        "    plt.legend(['train'], loc='upper left')\n",
        "    plt.show()\n",
        "\n",
        "display_history(history);"
      ]
    },
    {
      "cell_type": "markdown",
      "metadata": {
        "id": "IK4uVizcRyte"
      },
      "source": [
        "###**Evaluating the Model**\n",
        "\n",
        "It is not just enough to train a model. In order to know how good a fit the model has been for the given problem and corresponding data, we need to evaluate it. It is a good approach to always train the data on the training dataset and evaluate the same on the validation dataset.\n",
        "\n",
        "The syntax for the same is:\n",
        "`model_name.evaluate(validation_dataset)`"
      ]
    },
    {
      "cell_type": "code",
      "execution_count": null,
      "metadata": {
        "id": "F3mPDQyASJGQ",
        "colab": {
          "base_uri": "https://localhost:8080/"
        },
        "outputId": "0c457a5d-c5ae-4125-d22c-79ba5ab8ec65"
      },
      "outputs": [
        {
          "output_type": "stream",
          "name": "stdout",
          "text": [
            "93/93 [==============================] - 1s 8ms/step - loss: 0.0000e+00 - accuracy: 0.0000e+00\n"
          ]
        }
      ],
      "source": [
        "model_evaluation = forecast_moisture_level.evaluate(soil_df_validation)"
      ]
    },
    {
      "cell_type": "markdown",
      "metadata": {
        "id": "U6plTbG4qOS4"
      },
      "source": [
        "###Forecasting the value for the next 30 days\n",
        "\n",
        "It is a good approach to always train the data on the training dataset and evaluate the same on the validation dataset. But the actual forecast should be done on the test dataset.\n",
        "\n",
        "The syntax for the same is: `model_name.predict(test_dataset)`\n",
        "\n",
        "*Note: Test data to be replaced by train data and validation data from the **Data Preparation** stage.*\n",
        "\n",
        "(Ref:https://www.youtube.com/watch?v=UbvkhuqVqUI)\n",
        "\n",
        "Basis the above specified we will write a code to forecast value of moisture level in soil for 30th day from the last day of the input data."
      ]
    },
    {
      "cell_type": "code",
      "execution_count": null,
      "metadata": {
        "id": "apWFhVsrqC8k"
      },
      "outputs": [],
      "source": [
        "forecast_for_number_of_days = 30"
      ]
    },
    {
      "cell_type": "markdown",
      "source": [
        "We need to reshape input data to make it match to the dimensions during iterations. Thus, we will have to reshape the test data here."
      ],
      "metadata": {
        "id": "S1Wuq6Yp1AKc"
      }
    },
    {
      "cell_type": "code",
      "execution_count": null,
      "metadata": {
        "id": "PgCMLoZcpQ1o",
        "colab": {
          "base_uri": "https://localhost:8080/",
          "height": 304
        },
        "outputId": "c78c17f8-67c9-46fd-fc2d-5dbe60efc04e"
      },
      "outputs": [
        {
          "output_type": "error",
          "ename": "ValueError",
          "evalue": "ignored",
          "traceback": [
            "\u001b[0;31m---------------------------------------------------------------------------\u001b[0m",
            "\u001b[0;31mValueError\u001b[0m                                Traceback (most recent call last)",
            "\u001b[0;32m<ipython-input-144-48727cc7df2a>\u001b[0m in \u001b[0;36m<module>\u001b[0;34m()\u001b[0m\n\u001b[1;32m      7\u001b[0m   \u001b[0;32mif\u001b[0m \u001b[0;34m(\u001b[0m\u001b[0mlen\u001b[0m\u001b[0;34m(\u001b[0m\u001b[0minitial_input\u001b[0m\u001b[0;34m)\u001b[0m\u001b[0;34m>\u001b[0m\u001b[0mtimesteps\u001b[0m\u001b[0;34m)\u001b[0m\u001b[0;34m:\u001b[0m \u001b[0;31m# if the number of samples of initial_input is more than timesteps\u001b[0m\u001b[0;34m\u001b[0m\u001b[0;34m\u001b[0m\u001b[0m\n\u001b[1;32m      8\u001b[0m     \u001b[0minput_dataset\u001b[0m \u001b[0;34m=\u001b[0m \u001b[0mnp\u001b[0m\u001b[0;34m.\u001b[0m\u001b[0marray\u001b[0m\u001b[0;34m(\u001b[0m\u001b[0minitial_input\u001b[0m\u001b[0;34m[\u001b[0m\u001b[0;36m1\u001b[0m\u001b[0;34m:\u001b[0m\u001b[0;34m]\u001b[0m\u001b[0;34m)\u001b[0m \u001b[0;31m# convert the input_dataset into a numpy array from the value of second index until the end\u001b[0m\u001b[0;34m\u001b[0m\u001b[0;34m\u001b[0m\u001b[0m\n\u001b[0;32m----> 9\u001b[0;31m     \u001b[0minput_dataset\u001b[0m \u001b[0;34m=\u001b[0m \u001b[0minput_dataset\u001b[0m\u001b[0;34m.\u001b[0m\u001b[0mreshape\u001b[0m\u001b[0;34m(\u001b[0m\u001b[0;36m1\u001b[0m\u001b[0;34m,\u001b[0m \u001b[0mtimesteps\u001b[0m\u001b[0;34m,\u001b[0m \u001b[0mn_features\u001b[0m\u001b[0;34m)\u001b[0m \u001b[0;31m# reshape it. We specify 1 because we have one value in each iteration\u001b[0m\u001b[0;34m\u001b[0m\u001b[0;34m\u001b[0m\u001b[0m\n\u001b[0m\u001b[1;32m     10\u001b[0m     \u001b[0mraw_result\u001b[0m \u001b[0;34m=\u001b[0m \u001b[0mforecast_moisture_level\u001b[0m\u001b[0;34m.\u001b[0m\u001b[0mpredict\u001b[0m\u001b[0;34m(\u001b[0m\u001b[0minput_dataset\u001b[0m\u001b[0;34m,\u001b[0m \u001b[0mverbose\u001b[0m\u001b[0;34m=\u001b[0m \u001b[0;36m0\u001b[0m\u001b[0;34m)\u001b[0m \u001b[0;31m# we proceed with predicting calling the .predict on test dataset\u001b[0m\u001b[0;34m\u001b[0m\u001b[0;34m\u001b[0m\u001b[0m\n\u001b[1;32m     11\u001b[0m     \u001b[0minitial_input\u001b[0m\u001b[0;34m.\u001b[0m\u001b[0mappend\u001b[0m\u001b[0;34m(\u001b[0m\u001b[0mraw_result\u001b[0m\u001b[0;34m[\u001b[0m\u001b[0;36m0\u001b[0m\u001b[0;34m]\u001b[0m\u001b[0;34m[\u001b[0m\u001b[0;36m0\u001b[0m\u001b[0;34m]\u001b[0m\u001b[0;34m)\u001b[0m\u001b[0;31m# appending the initial input list with the result of prediction at every iteration\u001b[0m\u001b[0;34m\u001b[0m\u001b[0;34m\u001b[0m\u001b[0m\n",
            "\u001b[0;31mValueError\u001b[0m: cannot reshape array of size 2830 into shape (1,7,1)"
          ]
        }
      ],
      "source": [
        "input_dataset = soil_df_test_scaled\n",
        "initial_input = list(soil_df_test_scaled)\n",
        "raw_output = []\n",
        "i = 0\n",
        "while i < forecast_for_number_of_days:\n",
        "\n",
        "  if (len(initial_input)>timesteps):\n",
        "    input_dataset = np.array(initial_input[1:])\n",
        "    input_dataset = input_dataset.reshape(1, timesteps, n_features)\n",
        "    raw_result = forecast_moisture_level.predict(input_dataset, verbose= 0)\n",
        "    initial_input.append(raw_result[0][0])\n",
        "    initial_input = initial_input[1:]\n",
        "    raw_output.append(raw_result[0][0])\n",
        "    i = i + 1\n",
        "  else:\n",
        "    input_dataset = input_dataset.reshape(1, timesteps, n_features)\n",
        "    raw_result = forecast_moisture_level.predict(initial_input, verbose=0)\n",
        "    initial_input.append(raw_result[0][0])\n",
        "    raw_output.append(raw_result[0][0])\n",
        "    i = i + 1\n",
        "\n",
        "print(raw_output)\n"
      ]
    },
    {
      "cell_type": "markdown",
      "source": [
        "*Note: Logic for the above code explained in the appendix section.*"
      ],
      "metadata": {
        "id": "ykw7CgIMCXWe"
      }
    },
    {
      "cell_type": "markdown",
      "source": [
        "We can also proceed with plotting the forecasted level of moisture to give a visual sense to the prediction."
      ],
      "metadata": {
        "id": "XC0-qAAVxaOt"
      }
    },
    {
      "cell_type": "markdown",
      "metadata": {
        "id": "vjGeyyGEsTxR"
      },
      "source": [
        "We need to inverse the normalised value to get back the actual one. To this value we are required to add back trend and seasonality to our forecasted value to get the actual figure.\n",
        "\n",
        "*Remember we had earlier removed both and then normalised the values. To get back the trure value we will proceed exactly in the opposite manner.*"
      ]
    },
    {
      "cell_type": "markdown",
      "source": [
        "*Inversing normalised value*"
      ],
      "metadata": {
        "id": "usHPRh7bwqRQ"
      }
    },
    {
      "cell_type": "code",
      "execution_count": null,
      "metadata": {
        "id": "L-QzObMG4B2P"
      },
      "outputs": [],
      "source": [
        "\n",
        "normalised_raw_result = soil_df_test_scaled.inverse_transform(raw_output)\n"
      ]
    },
    {
      "cell_type": "markdown",
      "source": [
        "*Adding back seasonality*\n",
        "\n",
        "We take the last value as that is the value we had to predict according to the objective of this project and we will add 365th value from back to this estimated value. We are doing this because we had differenced it with 365 considering yearly seasonality."
      ],
      "metadata": {
        "id": "pYo0x4R-w0Qw"
      }
    },
    {
      "cell_type": "code",
      "execution_count": null,
      "metadata": {
        "id": "JKW6BwppzXfF"
      },
      "outputs": [],
      "source": [
        "\n",
        "forecast_with_seasonality = normalised_raw_result[-1] + soil_df_test[-365]\n"
      ]
    },
    {
      "cell_type": "markdown",
      "source": [
        "*Adding back the trend*\n",
        "\n",
        "The estimated value with seasonality added, is then added with the second last estimated value of. This is done to reverse the differencing approach we had done while removing trend from the dataset."
      ],
      "metadata": {
        "id": "FSoCtafUw-cP"
      }
    },
    {
      "cell_type": "code",
      "execution_count": null,
      "metadata": {
        "id": "jHy_dCDXx615"
      },
      "outputs": [],
      "source": [
        "\n",
        "forecast_with_trend_and_seasonality = forecast_with_seasonality + normalised_raw_result[-2]\n"
      ]
    },
    {
      "cell_type": "markdown",
      "metadata": {
        "id": "g4eDiGBS0REm"
      },
      "source": [
        "**Final prediction** would be the one with trend and seasonality.\n",
        "\n",
        "*Note:This computation holds good only for this case. But possible to generalise it further. Though I have tried but will not proceeding with this due to time constraints.*"
      ]
    },
    {
      "cell_type": "code",
      "execution_count": null,
      "metadata": {
        "id": "HX6BbyObxtuQ"
      },
      "outputs": [],
      "source": [
        "display(\"forecast of moisture level in German city of Munster as on \", soil_df_test.iloc[-1,-1], \"is expected to be \", forecast_with_trend_and_seasonality, \".\" )"
      ]
    },
    {
      "cell_type": "markdown",
      "metadata": {
        "id": "bK3I8v1Wee-E"
      },
      "source": [
        "###**Saving the model**\n",
        "\n",
        "Save the model for future reference.\n",
        "\n",
        "`model_name.save(file_name.h5)`\n",
        "\n",
        "A .h5 file is the format to store a machine learning model. This format stores structured data. Keras saves models in this format as it can easily store the weights and model configuration in a single file."
      ]
    },
    {
      "cell_type": "code",
      "execution_count": null,
      "metadata": {
        "id": "5neaAvt9ep0l"
      },
      "outputs": [],
      "source": [
        "forecast_moisture_level.save(\"Munster_moisture_level_forecast\".h5)"
      ]
    },
    {
      "cell_type": "markdown",
      "metadata": {
        "id": "iKOxCU9CPmjm"
      },
      "source": [
        "#Reflections\n",
        "\n",
        "I would like to share few major insights that I was able to get as I worked on this project. I shall divide them section wise as it will facilitate a pointer to the section I speak about.\n",
        "\n",
        "As I commenced writing the **introduction** I just had this in mind that, portable water is a natural resource which is getting scarce with time and that estimating the moisture level of soil will contribute to the global focus on water conservation.\n",
        "\n",
        "Once I **glanced at the data**, it was obivious that observations were recoded at various timestamps each day. Resample on daily basis is what I had to do, but when and on what grounds? Needed some basics thus proceeded with EDA.\n",
        "\n",
        "At the **EDA** stage, the background information helped a long way in understanding the data structure and contents. After checking datatypes, datashape and some basic statistical descriptives, I realised that data requires cleaning and refining to be prepared for use.\n",
        "\n",
        "I started **cleaning the data** by changing the datatype of the \"DATUM\" column to datetime. Labels which are descriptive of their content are much convenient to work so I changed the label names and set the date column as index of the dataframe. This was essential as this is a time-series data model to be constructed. Based on background information certain columns were dropped, missing values and correlations checked. This is when I realised that there was a column on station_ID, a categorical values column. Maximum details were given about the dropped columns in theory. If I resampled data weekly - then my code had to follow 4 week calculation, yet not totalling to 30 days each time. Likewise, monthly resample would give me 30 / 31 day data and for the month of February 28 / 29. Things would be complicated.Finally, the data was resampled on daily basis (as we have to predict data for 30 days) with a mean aggregation (key word of \"daily mean temeperature\" being mentioned in background information threw light on the statisctical aggregation to be considered for resampling. Similar statistical aggregations accross features, dimension reduction yet with minimal / no loss of data impacting the objective of this project was the aim at this stage.\n",
        "\n",
        "Though the data was cleaned but was not suitable for model building. So The next step was to **pre-process data** to make it good for our use. An analysis of the contribution of each feature to the target feature was to be done. Firstly, I checked the *correlations*. The highest positive correlation (around 67%) existed between, relative humidity and moisture level where as the othe features were negatively correlated. As an analytical tool, I proceeded with *feature selection* process. Initially, thought of using L1 and L2 regularisation techniques but finally settled with **RandomForest** for feature selection. The output obtained here showed that only one feature had an impact on the target variable, which was the target variable of \"Moisture_level\" itself. Based on this I decided to progress with univariate time-series forecast model.\n",
        "\n",
        "Another thing which I had observed during data exploration was the data range. This showed that there could be **seasonal compositions** that are required to be considered. I used the **statsmodel's `seasonal_decompose()`**. The decomposed graphs for daily resampled data were too packed so I plotted a graph on monthly sample which gave me a clear picture. The **trend** showed a positive slope. In my opinion the two main factors for this could be, primarily, the dataset ends as on 31 Dec 2021 - which is winter in Munster and moisture level is high then. The other reason could be the outcome of pandemic lockdown which reduced human interface with nature for a longer period, thus, restoring ecological balance. There was also **yearly seasonality** where moisture level depleted during summer months and was at peak during winter. It is very important to make the data stationary in time-series analysis to get a more appropriate forecast value. For this, I used a `.diff(1)` to remove the trend and `.diff(365)` to remove seasonality. The NaN values were filled using \"backfill\" for trend and `.interpolate()` for seasonality, respectively. Though there we no significant outliers, we left them untouched - some noise in data is good. Once this was done the data was divided into ** training, validation and test data**. Care was taken to ensure that data was not shuffled so that order of time-series is maintained and that validation data replicated test data, in terms of datashape. Though this stage was attained, the statistical values showed a huge range. Keeping in mind the LSTM model's default activation to be **tanh**, the data was normalised between the range -1 to +1 but to each of the section of data seperately to avoid contamination through scaling. Now the data seemed good enough to proceed for model construction.\n",
        "\n",
        "Now was the decision on which were the **models** that could be most apt. Initially, classical machine learning approach was on my mind so I proceeded with ARIMA. But it had too many repetative tasks so i moved on to Neural network setup.  **SimpleRNN** was studied, the pro was it was a recurrent neural network but the problem of vanishing gradient or blowing up of weights made me decline the same. Here, **LSTM** was the best approach as it had this highway to store output at each unit and also minimalising the cons of SimpleRNN. A little bit of data preparation had to be done prior to building a model and hyperparameters were also set. Also I did try the Functional API but as keras was consistently adding a default parameter \"None\" from the input and / embedding layer to LSTM layer, continues error made me change my mind on using **Sequential API** archietecture. Model was compiled usingmean_squared_error as loss function and softmax for activation. The training of model was done on train dataset, evaluated on validation dataset and `.predict(test_dataset)` was done using test dataset. A python code was written to forecast value of moisture level for 30 days from the last input date, the output was `.inverse_transform()` to get back the original value to which seasonality was added by using the last 365th value. Then trend was also added back by adding the previous value than that of the forecasted value.\n",
        "\n",
        "Once the prediction was done we proceed **saving the model** for future reference or use.\n",
        "\n",
        "\n",
        "\n",
        "\n"
      ]
    },
    {
      "cell_type": "markdown",
      "metadata": {
        "id": "-a3hjdrHPY1y"
      },
      "source": [
        "#Conclusions and Recommendations\n",
        "\n",
        "Portable water, an essential natural resource is becoming increasingly scarce with time. Topics such as resource (here water) management are difficult areas with implications for sustainability, maintaining ecological balance and climate change. In addition, managing this resource is costly requiring the use of numerous hardware tools and creating and encouraging public awareness for water conservation. At the same time we are experiencing cropland continuously expanding due to growth in population and simultaneously affecting nature and acquisition of forest land. I bring this into picture as trees are a medium of soil conservation and moisture maintenance in soil and atmosphere.\n",
        "\n",
        "A little to add from personal experience is that working on this project helped build my cognitive and logical skills apart from developing interest in me to improve on statistical knowledge. Being an Indian - where we are an agrarian economy country, and having an agri-based business experience I would say the aim of the project to forecast moisture level of soil has been of great interest. If I can say, back in India appropriate irrigation methods such as sprinkle irrigation and drip irrigation and the importance of scheduled irrgation has been brought to the knowledge of farmers as a measure to help them improve crop yield - in terms of both quantity and quality, yet resulting in more sustainable water consumption. This project has given me an insight into how I could leverage the machine learning and neural network knowledge in the area of agriculture and geography. LSTMs have been a great neural networking method for time series and predictive analysis.\n",
        "\n",
        "My recommendation to my own work would be to improve the same using a multi-variate approach. As we have studied in our schooling, the subject of Geography, we are aware that many factors do influnece the moisture level in soil. These may include, temperature, humidity, moisture retention rate of soil, the soil quality itself, the geographic location and climatic conditions of the loaction, pollution in atmosphere, etc. I am sure methods like Exponential smoothing, ARIMA, RandomForest, etc   neural networks like RNN or LSTM can be used in anaylsing and forecasting values for most of the above mentioned influencers. Thus enabling in the contribution of reducing the impact of global warming, maintaining ecological balance, etc. In short preserving our planet for future generations.\n",
        "\n",
        "\n"
      ]
    },
    {
      "cell_type": "markdown",
      "metadata": {
        "id": "glqWHbBJO-x6"
      },
      "source": [
        "#References\n",
        "\n",
        "- Introduction\n",
        "1. https://www.indiaagronet.com/indiaagronet/water_management/water_3.htm\n",
        "\n",
        "\n",
        "- Exploratory Data Analysis (EDA)\n",
        "1. https://www.datacamp.com/community/tutorials/python-data-profiling?utm_source=adwords_ppc&utm_medium=cpc&utm_campaignid=1455363063&utm_adgroupid=65083631748&utm_device=c&utm_keyword=&utm_matchtype=&utm_network=g&utm_adpostion=&utm_creative=278443377095&utm_targetid=aud-299261629574:dsa-429603003980&utm_loc_interest_ms=&utm_loc_physical_ms=1007633&gclid=CjwKCAjwur-SBhB6EiwA5sKtjjI6c4o8kYtFnRM-Mz03cRKDtjNYMuVlP8eQYtF0-WxpIc3DGKFxVhoC1SIQAvD_BwE\n",
        "\n",
        "- Data Pre-processing\n",
        "1. https://pandas.pydata.org/docs/reference/api/pandas.DataFrame (used multiple sub sections available on this page)\n",
        "\n",
        "\n",
        "- Feature engineering and feature selection\n",
        "1.\thttps://towardsdatascience.com/regularization-an-important-concept-in-machine-learning-5891628907ea\n",
        "2.\thttp://file.biolab.si/textbooks/ml1/feature-selection.pdf\n",
        "3.\thttps://towardsdatascience.com/what-is-feature-engineering-importance-tools-and-techniques-for-machine-learning-2080b0269f10\n",
        "4.\thttps://towardsdatascience.com/l1-and-l2-regularization-methods-ce25e7fc831c\n",
        "5.\thttps://visualstudiomagazine.com/articles/2017/12/05/neural-network-regularization.aspx\n",
        "6.\thttps://towardsdatascience.com/l1-and-l2-regularization-methods-ce25e7fc831c\n",
        "7.\thttps://www.analyticsvidhya.com/blog/2018/04/fundamentals-deep-learning-regularization-techniques/\n",
        "8.\thttps://machinelearningmastery.com/random-forest-ensemble-in-python/\n",
        "9.\thttps://towardsdatascience.com/feature-selection-using-random-forest-26d7b747597f\n",
        "10.\thttps://scikit-learn.org/stable/modules/generated/sklearn.ensemble.RandomForestClassifier.html\n",
        "11.\thttps://towardsdatascience.com/feature-selection-using-random-forest-26d7b747597f\n",
        "-\tData Pre-processing\n",
        "1.\thttps://colab.research.google.com/drive/16RDjy8_vjZZxS4S3DjTpefAE1YszzQJh#scrollTo=MBFUHYGDZuwQ\n",
        "2.\thttps://colab.research.google.com/drive/16RDjy8_vjZZxS4S3DjTpefAE1YszzQJh#scrollTo=MBFUHYGDZuwQ\n",
        "3.\thttps://www.geeksforgeeks.org/what-is-a-trend-in-time-series/#:~:text=Trend%20is%20a%20pattern%20in,disappears%2C%20it%20does%20not%20repeat\n",
        "4.\thttps://machinelearningmastery.com/time-series-trends-in-python/\n",
        "5.\thttps://www.investopedia.com/terms/d/detrend.asp\n",
        "6.\thttps://www.statisticshowto.com/residual-plot/\n",
        "7.\thttps://www.statsmodels.org/dev/generated/statsmodels.tsa.seasonal.seasonal_decompose.html\n",
        "8.\thttps://colab.research.google.com/drive/1yKe1GPDcld3n_ing8mxlclsP00I61Lkf#scrollTo=xEwTQaDFcUnc\n",
        "9.\thttps://ayc-data.com/data_science/2020/04/19/electricity-forecasting-with-data-science.html\n",
        "10.\thttps://colab.research.google.com/drive/16RDjy8_vjZZxS4S3DjTpefAE1YszzQJh#scrollTo=MBFUHYGDZuwQ\n",
        "11.\thttps://colab.research.google.com/drive/16RDjy8_vjZZxS4S3DjTpefAE1YszzQJh#scrollTo=MBFUHYGDZuwQ\n",
        "12.\thttps://colab.research.google.com/drive/1DHimbI87BU-LNS8ee3hPeCn3vLmw5uw2#scrollTo=ok_llRypceo6\n",
        "13.\thttps://towardsdatascience.com/dont-use-k-fold-validation-for-time-series-forecasting-30b724aaea64\n",
        "14.\thttps://towardsdatascience.com/predictive-analysis-rnn-lstm-and-gru-to-predict-water-consumption-e6bb3c2b4b02\n",
        "15. https://www.geeksforgeeks.org/python-pandas-dataframe-interpolate/\n",
        "16. https://www.youtube.com/watch?v=H6du_pfuznE\n",
        "\n",
        "\n",
        "-\tModels\n",
        "-\tARIMA\n",
        "1.\thttps://colab.research.google.com/drive/16RDjy8_vjZZxS4S3DjTpefAE1YszzQJh#scrollTo=eWSm9WCSZuwW\n",
        "2.\thttps://machinelearningmastery.com/arima-for-time-series-forecasting-with-python/\n",
        "3.\thttps://machinelearningmastery.com/arima-for-time-series-forecasting-with-python/\n",
        "4.\thttps://medium.com/analytics-vidhya/in-depth-tutorial-of-recurrent-neural-network-rnn-and-long-short-term-memory-lstm-networks-3a782712a09f\n",
        "-\tRecurrent Neural Network (RNN) Model\n",
        "1.\thttps://medium.com/analytics-vidhya/in-depth-tutorial-of-recurrent-neural-network-rnn-and-long-short-term-memory-lstm-networks-3a782712a09f\n",
        "2.\thttps://www.tensorflow.org/guide/keras/rnn\n",
        "3.\thttps://keras.io/api/layers/recurrent_layers/simple_rnn/\n",
        "-\tLong Short Term Memory (LSTM) Model\n",
        "1.\thttps://www.analyticsvidhya.com/blog/2021/03/introduction-to-long-short-term-memory-lstm/\n",
        "2.\thttps://towardsdatascience.com/what-are-hyperparameters-and-how-to-tune-the-hyperparameters-in-a-deep-neural-network-d0604917584a#:~:text=Deep%20Neural%20Network%3F-,What%20are%20hyperparameters%3F,optimizing%20the%20weights%20and%20bias\n",
        "3.\thttps://colab.research.google.com/drive/1wVPdLfo_ue9MYSMnZpuIO6gk_2BWGHzh#scrollTo=R8IYutdnW_SG\n",
        "4.\thttps://www.quora.com/How-does-one-determine-the-optimal-number-of-units-and-other-settings-for-an-LSTM-neural-network-layer-other-than-trial-and-error\n",
        "5.\thttps://machinelearningmastery.com/how-to-develop-lstm-models-for-multi-step-time-series-forecasting-of-household-power-consumption/\n",
        "6.\thttps://machinelearningmastery.com/how-to-develop-lstm-models-for-time-series-forecasting/\n",
        "7.\thttps://www.analyticsvidhya.com/blog/2021/06/time-series-analysis-recurrence-neural-network-in-python/\n",
        "8.\thttps://www.youtube.com/watch?v=UbvkhuqVqUI\n",
        "9.\thttps://colab.research.google.com/drive/1uK9Dp4p3rMDj1cbUfZ9BwEFpGrjB9M5U#scrollTo=WjUxKUkpcw7p\n",
        "10.\thttps://www.analyticsvidhya.com/blog/2021/06/time-series-analysis-recurrence-neural-network-in-python/\n",
        "11.\thttps://machinelearningmastery.com/time-series-forecasting-long-short-term-memory-network-python/\n",
        "12.\thttps://keras.io/api/layers/recurrent_layers/lstm/\n",
        "13.\thttps://towardsdatascience.com/https-medium-com-chayankathuria-regression-why-mean-square-error-a8cad2a1c96f\n",
        "14.\thttps://moodle.ibs-b.hu/mod/url/view.php?id=25400\n",
        "15.\thttps://colab.research.google.com/drive/1uK9Dp4p3rMDj1cbUfZ9BwEFpGrjB9M5U#scrollTo=Wfe4YRnexJl2\n",
        "16.\thttps://keras.io/api/callbacks/\n",
        "17.\thttps://colab.research.google.com/drive/1uK9Dp4p3rMDj1cbUfZ9BwEFpGrjB9M5U#scrollTo=C0U1lp9XcTxg\n",
        "18.\thttps://www.youtube.com/watch?v=UbvkhuqVqUI\n",
        "19. https://www.youtube.com/watch?v=H6du_pfuznE\n",
        "\n"
      ]
    },
    {
      "cell_type": "markdown",
      "source": [
        "#Appendix\n",
        "**1. Logic to division of data into dependent and independent variable for the purpose of forecasting.** (Ref: Data Preparation under LSTM Model)\n",
        "\n",
        "def prepare_data(dataset, timesteps):\n",
        "\n",
        "  input_series = [] - creating input list to be filled\n",
        "\n",
        "  output_list = [] - creating output list to be filled\n",
        "\n",
        "  for i in range(len(dataset)-timesteps-1 ): - iteration through the len of dataset minus (timesteps-1) as if no next value it will through error\n",
        "\n",
        "  input_data = dataset[i:(i+timesteps), 0] - this is done to have the value of the iteration index element as first element\n",
        "\n",
        "  - from the above line we are gathering input and output into their respective variables\n",
        "\n",
        "  input_series.append(input_data) - appending list with their respective data\n",
        "\n",
        "  output_list.append(dataset[i + timesteps, 0]) - appending list with starting from element which indexes from iteration element + timesteps\n",
        "\n",
        "  return np.array(input_series), np.array(output_list)\n",
        "\n",
        "\n",
        "**2. Logic to the code to get the forecast value.** (Ref: Forecasting the value for the next 30 days - LSTM Model)\n",
        "\n",
        "input_dataset = soil_df_test_scaled - we will use normalised test_data for actual prediction\n",
        "\n",
        "initial_input = list(soil_df_test_scaled) - we convert the test_data into a list\n",
        "\n",
        "raw_output = [] - an empty list created to be filled with forecasted values\n",
        "\n",
        "i = 0 - first iteration for while loop should begin from 0\n",
        "\n",
        "while i < forecast_for_number_of_days: - iteration goes on until this this threshold is reached, here target of 30 day forecast\n",
        "\n",
        "  if (len(initial_input)>timesteps): - if the number of samples of initial_input is more than timesteps\n",
        "\n",
        "  input_dataset = np.array(initial_input[1:]) - convert the input_dataset into a numpy array from the value of second index until the end\n",
        "\n",
        "  input_dataset = input_dataset.reshape(1, timesteps, n_features) - reshape it. We specify 1 because we have one value in each iteration\n",
        "\n",
        "  raw_result = forecast_moisture_level.predict(input_dataset, verbose= 0) - we proceed with predicting calling the .predict on test dataset\n",
        "\n",
        "  initial_input.append(raw_result[0][0]) - appending the initial input list with the result of prediction at every iteration\n",
        "\n",
        "  initial_input = initial_input[1:] - this is done to skip the previous value\n",
        "\n",
        "  raw_output.append(raw_result[0][0]) - appending output_list with prediction at every iteration\n",
        "\n",
        "  i = i + 1 - increase the value of i to go on to the next iteration\n",
        "\n",
        "  else:\n",
        "\n",
        "  input_dataset = input_dataset.reshape(1, timesteps, n_features) - reshape input_dataset. We specify 1 because we have one value in each iteration\n",
        "\n",
        "  raw_result = forecast_moisture_level.predict(initial_input, verbose=0) - we proceed with predicting calling the .predict on test dataset\n",
        "\n",
        "  initial_input.append(raw_result[0][0]) - appending the initial input list with the result of prediction at every iteration\n",
        "\n",
        "  raw_output.append(raw_result[0][0]) - appending output_list with prediction at every iteration\n",
        "\n",
        "  i = i + 1 - increase the value of i to go on to the next iteration\n",
        "\n",
        "print(raw_output) - printing the output list\n",
        "\n",
        "\n"
      ],
      "metadata": {
        "id": "WSINl668sEVh"
      }
    }
  ],
  "metadata": {
    "colab": {
      "toc_visible": true,
      "provenance": [],
      "authorship_tag": "ABX9TyNIbD2JoBmOtQ64Fc9g6Spn",
      "include_colab_link": true
    },
    "kernelspec": {
      "display_name": "Python 3",
      "name": "python3"
    },
    "language_info": {
      "name": "python"
    }
  },
  "nbformat": 4,
  "nbformat_minor": 0
}