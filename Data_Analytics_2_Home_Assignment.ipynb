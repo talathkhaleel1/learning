{
  "nbformat": 4,
  "nbformat_minor": 0,
  "metadata": {
    "colab": {
      "provenance": [],
      "authorship_tag": "ABX9TyNItQz28f24QrElZyOzryZq",
      "include_colab_link": true
    },
    "kernelspec": {
      "name": "python3",
      "display_name": "Python 3"
    },
    "language_info": {
      "name": "python"
    }
  },
  "cells": [
    {
      "cell_type": "markdown",
      "metadata": {
        "id": "view-in-github",
        "colab_type": "text"
      },
      "source": [
        "<a href=\"https://colab.research.google.com/github/talathkhaleel1/learning/blob/main/Data_Analytics_2_Home_Assignment.ipynb\" target=\"_parent\"><img src=\"https://colab.research.google.com/assets/colab-badge.svg\" alt=\"Open In Colab\"/></a>"
      ]
    },
    {
      "cell_type": "markdown",
      "source": [
        "# Question 1\n",
        " What are the steps if the dataset were \"big data\"?\n",
        "○\tTheoretical question!\n",
        "○\tPlease create a code in a markdown cell, which represents a basic big data pipeline (with explicative steps).\n",
        "○\tIf you want use pseudo-code.\n"
      ],
      "metadata": {
        "id": "un5ZRZ84NRZ_"
      }
    },
    {
      "cell_type": "markdown",
      "source": [
        "# Introduction - Handling \"Big Data\"\n",
        "\n",
        "- What is Big Data?\n",
        "\n",
        "  Analysing data or processing problems which cannot be solved using tradional software tools **in reasonable time** because of **volume** and **velocity** of data is called Big Data.\n",
        "\n",
        "  Big data works on **ETL** framework. That is to *extract, transform and load* data.\n",
        "\n",
        "- Where to store \"Big Data\"?\n",
        "\n",
        "  It is always recommended to store big data on cloud computing platforms with encryption / security settings. There are variou cloud platform providers such as AWS, Microsoft Azure, Google cloud, etc. If premise servers are available, then private cloud platform with built in facilities may be used to store data.\n",
        "\n",
        "- Some **Big Data Tools**\n",
        "\n",
        "  There are multiple big data tools rendering various services, such as *Hive for data warehousing, Cassandra for nosequel database, Apache spark for real-time processing of data, etc.* There are multiple such data-related software tools that are integrated with Apache spark\n",
        "\n",
        "  Note:  Here we will be using **Apache Spark** and its **DataBricks** platform to answer our question 1\n",
        "\n"
      ],
      "metadata": {
        "id": "ytGLkQLdhZUa"
      }
    },
    {
      "cell_type": "markdown",
      "source": [
        "What is **Apache Spark**?\n",
        "\n",
        "Spark is an open-source, unified engine for real-time processing of large-scale data and its analysis. It was created with a vision of ease of use, increased speed and sophisticated analysis of big data sets. Spark rums programms much faster than other competing platforms. Spark is has a multi-lingual approach, that means it provides high-level APIs in languages of Java, Scala, Python, SQL and R.\n",
        "\n",
        "- Some **features of Spark module**:\n",
        "1. Enables processing of **data using clusters** (multiple machines)\n",
        "2. Facilitates **batch-wise data processing** (multiple .csv files or even multiple file_types can be processed at a single time)\n",
        "3. Facilitates **live-streaming data processing** (processing data whose source of input is via the data fluctuations on websites)\n",
        "4. Enables **SQL analytics** (interactive query handling)\n",
        "5. Supports **machine learning** (train machine learning algorithms and leverage the same code to scale to fault-tolerent clusters of large number of machines)\n",
        "6. Helps to perform **data science activities at scale** (conduct EDA - exploratory data analysis on large data without resorting to downsampling of data)\n",
        "7. **Graph-x** is a feature of Apache Spark for data visulaisation (processing graphs and enabling better data visualisation)\n",
        "\n"
      ],
      "metadata": {
        "id": "E0Ntc8yfJxDX"
      }
    },
    {
      "cell_type": "markdown",
      "source": [
        "## Understanding DataBricks platform\n",
        "\n",
        "The *Python API* for Spark is called *PySpark*.\n",
        "\n",
        "**Note**: We are using the community version of Spark. The paid version will have many more added features.\n",
        "\n",
        "Once we register and login, we can navigate through the menu bar.\n",
        "Let ustake  alook at various menu options that are of concern to us:\n",
        "\n",
        "1. Workspace: It follows a notebook based system (just like jupyter notebook) of programming. Under workspace we can create and store notebooks.\n",
        "2. Data: Here we can create and store data-tables and databases\n",
        "3. Compute: This is the most important tab of the menu bar. No notebook can work without computation powers. It is here that a cluster is created and launched.\n",
        "\n",
        "What happens at the back-end when you create a cluster?\n",
        "\n",
        "A cluster is basically a set of machines that are created and operated on the cloud platform. Among these machines is one driver machine which is visible to users on the browser and there are 'n-number' of worker nodes(machines) as requested by the user. All worker nodes are connected to the driver node from where the tasks get divided among the worker nodes.\n",
        "\n",
        "###Creating a cluster\n",
        " Menu bar -> Compute -> Give a name to your cluster -> click on **Create cluster**\n",
        "\n",
        "### Importing and working files and notebooks\n",
        "Menu bar -> Workspace -> Users -> an empty directory is visible with your login ID -> click on \"drop-down arrow\" -> select **Import** -> Drag and drop the file you desire to import -> Click on your account -> The files will be listed  -> Click on the file to open and work on.\n",
        "\n",
        "So let's get started:\n"
      ],
      "metadata": {
        "id": "HmZh3ssumeKT"
      }
    },
    {
      "cell_type": "markdown",
      "source": [
        "# Working with datafiles"
      ],
      "metadata": {
        "id": "1A1vjOt1EoCo"
      }
    },
    {
      "cell_type": "markdown",
      "source": [
        "### Reading datafiles\n",
        "\n",
        "1. **Append the file to the cluster** : This can be done by clicking on the dropdown for *Detached* option available below the file name. This will display your cluster names. Select the cluster in which you would want to append and run the notebook in.\n",
        "\n",
        "**Note:** Here we will be explaining steps for batch-wise processing of data."
      ],
      "metadata": {
        "id": "_mwW9_t43_fB"
      }
    },
    {
      "cell_type": "markdown",
      "source": [
        "### Code to get data\n",
        "\n",
        "**\"%run\"** enables running of another notebook from the current notebook\n",
        "\n",
        "\n",
        "`%run ../Includes/prepare_data_1 (../Includes/prepare_data_1 -  is the notebook path)`"
      ],
      "metadata": {
        "id": "5zK0poKOUaSW"
      }
    },
    {
      "cell_type": "markdown",
      "source": [
        "### Import relevant libraries\n",
        "\n",
        "First things first, we need to import relevant libraries.\n",
        "\n",
        "`from datetime import datetime, date`\n",
        "\n",
        "`import pandas as pd`\n",
        "\n",
        "`from pyspark.sql import Row`"
      ],
      "metadata": {
        "id": "IgtcT1zI6H9G"
      }
    },
    {
      "cell_type": "markdown",
      "source": [
        "###Create dataframe\n",
        "\n",
        "We can create dataframe explicitly or using any of the in-built libraries such as pandas or RDD\n",
        "\n",
        "*Creating dataframe explicitly:* `df_name = spark.createDataFrame[data to be keyed-in]`\n",
        "\n",
        "*Creating dataframe using libraries such as pandas:* `df_name = pd.Dataframe(input of the numpy array which has to be converted to dataframe)`\n",
        "\n"
      ],
      "metadata": {
        "id": "bBKVt55y54wx"
      }
    },
    {
      "cell_type": "markdown",
      "source": [
        "###Code to load and read data\n",
        "\n",
        "`df_name = spark.read.format(\"file_type\").option(\"column_names\", \"true\").load(\"file_path\")`\n",
        "\n",
        "*file_type:* One may specify any file type to read uch as .xls or .csv\n",
        "\n",
        "*column_names:* One may specify those column_names one may want to see. But this is an optional parameter.\n",
        "\n",
        "*file_path:* Here we need to specify the path where the file is stored. In case the file is accessed through this notebook and a name given, we can specify the name of the file.\n"
      ],
      "metadata": {
        "id": "QOozlzpgUx02"
      }
    },
    {
      "cell_type": "markdown",
      "source": [
        "###Inspect or viewing dataframe**\n",
        "\n",
        "To view the dataframe we can use either `df_name.show()` or\n",
        "`df_name.printSchema()`.\n",
        "\n",
        "for  `df_name.show(n, vertical = True)` n represents the number of rows we desire to view. Vertical = True states the command that data in each column is required to be displayed or shown on a new line.\n",
        "\n",
        "We can also use `display(df_name)`, but this will by default print 1000 rows of the dataframe.\n",
        "\n",
        "**Note:** It is a default behaviour of spark to say that data types of all the columns and values is string."
      ],
      "metadata": {
        "id": "RtoLAXtWHdQ3"
      }
    },
    {
      "cell_type": "markdown",
      "source": [
        "### Quickfixing a data column with spark\n",
        "\n",
        "\n",
        "`df = df.withColumn(\"desired_column_name\", [\"column_name\"] + value_to_be_added)`\n",
        "\n",
        "This code returns a new dataframe by adding a column or replacing the existing column that has the same name.\n",
        "\n",
        "\n",
        "\n"
      ],
      "metadata": {
        "id": "xRI8YHhfHYXa"
      }
    },
    {
      "cell_type": "markdown",
      "source": [
        "### Selecting multiple columns of a dataframe\n",
        "\n",
        "We can also view multiple columns of a columnar file format, by using the `.select()` function.\n",
        "\n",
        "`df.select(\"column_name_1\", \"column_name_2\").show(number_of_rows_desired_to_see)`\n",
        "\n",
        "**Note:** In Spark the original dataframe is immutable and thus remains original and is not saved on RAM. It exits only as a variable and the variable is the name or recipie on how to access that particular dataframe.\n"
      ],
      "metadata": {
        "id": "LH2qUuqx85iA"
      }
    },
    {
      "cell_type": "markdown",
      "source": [
        "### Changing data_type of a column\n",
        "\n",
        "In Spark all columns are shown of DataType string. This is Spark's default behaviour.  We can change the DataType of a column using the code below:\n",
        "`df = df.withColumn(\"desired_column_name\", df[\"column_name_whose_dataType_is_to_be_changed\"].cast(desired_DataType()))`\n",
        "\n",
        "As an example, we can try casting the \"Date\" column of a dataframe to DataType - timestamp\n",
        "\n",
        "`df = df.withColumn(\"date\", df[\"date].cast(timpestamp))`"
      ],
      "metadata": {
        "id": "OOsUmvHm6RWn"
      }
    },
    {
      "cell_type": "markdown",
      "source": [
        "### Writing or saving a dataframe\n",
        "\n",
        "To save a new_file one may use **parquet or ORC** format. The code to save a new_file is as below:\n",
        "\n",
        "`df.write.parquet(file_store_path + \"file_name\")`\n",
        "\n",
        "To overwrite an existing file we can use the code:\n",
        "\n",
        "`df.write.mode(\"overwrite\").parquet(file_store_path + \"file_name\")`\n",
        "\n",
        "What is **parquet format** of a file?\n",
        "\n",
        "Apache Parquet is an open source, column-oriented data file format designed for efficient data storage and retrieval. It is free of language bias. It provides efficient data compression and encoding schemes with enhanced performance to handle complex data types and advanced nested data structures of large volumes.\n"
      ],
      "metadata": {
        "id": "19kaq90J9iN4"
      }
    },
    {
      "cell_type": "markdown",
      "source": [
        "## Working on a .json file using Spark environment\n",
        "\n",
        "As earlier shared follow steps to append data to the cluster."
      ],
      "metadata": {
        "id": "pYGICyww9A3R"
      }
    },
    {
      "cell_type": "markdown",
      "source": [
        "### To save a dataframe on RAM\n",
        "\n",
        "`.cache()` is the in-built function used to store a dataframe on RAM. But the dataframe will not be saved in case the `.cache()` is not being followed by another function. This means one cannot simply save a dataframe but one can save it only and only if you are actioning or working on the dataframe. Therefore, in order to save the dataframe, the `.cache()` function has to be succedded by an actionable function.\n",
        "*For example:*\n",
        "`df.cache().count()` Here dataframe gets saved and the actionable function on dataframe is count, which counts the number of rows in the dataframe.\n",
        "\n",
        "**Note:** The dataframe will remain in the RAM until some other data requires that space."
      ],
      "metadata": {
        "id": "7fiAk2Phocyr"
      }
    },
    {
      "cell_type": "markdown",
      "source": [
        "### Library to import\n",
        "\n",
        "One can import some great libraries in spark which enables speeding up the operational work. One such library and its code is as below:\n",
        "\n",
        "`from pyspark.sql.functions import col`\n",
        "\n",
        "This enables efficiency in working on columnar databases. *For example:*\n",
        "\n",
        "`df.describe()` counts and helps by stating all non-null values\n",
        "\n",
        "One may add a filter to a particular column as well:\n",
        "`df.filter(col(\"column_name\").isnull).show()` or `df.filter(df[\"column_name\"].isnull).show()`\n",
        "\n",
        "`.filter()` is an alias function of `.where()`. This helps get is all those values in boolean form where the value is null.\n",
        "\n",
        "\n",
        "\n"
      ],
      "metadata": {
        "id": "7Y6BLSfEqSmN"
      }
    },
    {
      "cell_type": "markdown",
      "source": [
        "### Managing missing values\n",
        "\n",
        "1.**Removing rows with missing values:**\n",
        "\n",
        "- Here we drop rows with NaN or Null values.\n",
        "\n",
        "`new_df = df.na().drop()` or `new_df = df.dropna()`\n",
        "\n",
        "- Dropping a column from a dataset\n",
        "\n",
        "`df.drop(\"column_name\")`\n",
        "\n",
        "2**Identify unique or distinct values:** It is highly possible that a number of observations could have repeated values. It is important to view the various distinct values in a dataset.\n",
        "\n",
        "`df.select(\"column_name\").distnct().show()`\n",
        "\n",
        "*Note:* `.distinct()` performs the same function as `.unique()` of pandas.\n",
        "\n",
        "3.**Filling missing values:** Here we replace NAN or null values with a pre-defined value\n",
        "\n",
        "`df.filled = df.fillna(\"value_to_fill\")`\n"
      ],
      "metadata": {
        "id": "NbTHqb0Otk5Z"
      }
    },
    {
      "cell_type": "markdown",
      "source": [
        "### Joining two dataframes\n",
        "\n",
        "To join two data frames we use the function `.join()`\n",
        "\n",
        "`df = df_1.join(df_2[\"column_name\"], how = \"inner/outer\")`\n",
        "The above code states to form a new dataframe by joining df_2 basis a particular column on df_1. By default it will be an inner join but in case we need outer join we will have to specify that explicitly.\n",
        "\n",
        "*Inner join: Selects rows that have matching values in both dataframes and creates a new dataframe.*\n",
        "\n",
        "*Outer join: Adds all the data available in both dataframes.*"
      ],
      "metadata": {
        "id": "AQu2uyPG2dgl"
      }
    },
    {
      "cell_type": "markdown",
      "source": [
        "### Sample function\n",
        "\n",
        "`.sample` is the function used to sample and run code on small amount of data. When the code runs here well, the same code can be implemented on the entire dataset.\n",
        "\n",
        "`df.sample` is the syntax to sample run a code.\n",
        "\n",
        "*Note:* Running a sample does not guarante to provide exactly the fraction of the entire dataset. It is used to test run a code.\n",
        "\n",
        "*Note:* A Spark dataframe can be converted to pandas dataframe, but it has to be done in small subsets and saved on drive."
      ],
      "metadata": {
        "id": "2elDV4k6CuB0"
      }
    },
    {
      "cell_type": "markdown",
      "source": [
        "### Sorting of values\n",
        "\n",
        "Data may be sorted based on a column_name in ascending or desecnding order. `df.sort()` or `SORT BY` may be used.\n",
        "\n",
        "The syntax for the same is\n",
        "\n",
        "`df.select(\"column_name_1\",\"column_name_2\") SORT BY column_name1`\n"
      ],
      "metadata": {
        "id": "6SW5tCznD9-b"
      }
    },
    {
      "cell_type": "markdown",
      "source": [
        "### User-defined Functions (UDF)\n",
        "\n",
        "\n",
        "For the ease of use, there are many built-in functions that make Spark easier to use.\n",
        "In case one wants to do something special, a custom function needs to be developed and distributed to worker nodes.\n",
        "\n",
        "Spark will initiate a Python interpreter where data gets converted into Java, runs the code and passes through the interpreter and returns as Python output. This uses some RAM space and is time-consuming.\n",
        "\n",
        "*For example:*\n",
        "\n",
        "- UDF function for column creation\n",
        "\n",
        "`variable_name = udf(function_name)\n",
        "df = df.withColumn(variable_name(col(\"column_name\")))`"
      ],
      "metadata": {
        "id": "fh-KopNBGgPg"
      }
    },
    {
      "cell_type": "markdown",
      "source": [
        "### Under-the-hood working of Spark\n",
        "\n",
        "Pure python code works only on driver node. The moment we use `.spark` the workload on big data gets distributed among worker nodes.\n",
        "\n",
        "Spark is a scala based software. But any code runs on Java Virtual Machine(JVM). Any Python input is converted to Java by Spark, via an interpreter and workload gets alloted to worker nodes. In the same manner the output passes from worker node in Java to Python interpreter and then displayed."
      ],
      "metadata": {
        "id": "U7DG4U3OTOjN"
      }
    },
    {
      "cell_type": "markdown",
      "source": [
        "# Question 2\n",
        "\n",
        "●\tDownload the Election dataset from Github\n",
        "○\tPractical steps\n",
        "!wget \"https://drive.google.com/uc?export=download&id=1aw0kM5a4Q-bhbHyqK4Hl-tHrvxVpxpWm\" -O 'election.csv'\n",
        "\n"
      ],
      "metadata": {
        "id": "G-o7FD0Al178"
      }
    },
    {
      "cell_type": "markdown",
      "source": [
        "#Getting and reading data"
      ],
      "metadata": {
        "id": "b03GVImvqBak"
      }
    },
    {
      "cell_type": "code",
      "source": [
        "!wget \"https://drive.google.com/uc?export=download&id=1aw0kM5a4Q-bhbHyqK4Hl-tHrvxVpxpWm\" -O 'election.csv'"
      ],
      "metadata": {
        "colab": {
          "base_uri": "https://localhost:8080/"
        },
        "id": "ZAkZulr3l_U0",
        "outputId": "1f09f5bc-0ee5-442d-fabc-0cc8ff0b49cc"
      },
      "execution_count": null,
      "outputs": [
        {
          "output_type": "stream",
          "name": "stdout",
          "text": [
            "--2022-04-18 13:21:23--  https://drive.google.com/uc?export=download&id=1aw0kM5a4Q-bhbHyqK4Hl-tHrvxVpxpWm\n",
            "Resolving drive.google.com (drive.google.com)... 173.194.216.113, 173.194.216.100, 173.194.216.138, ...\n",
            "Connecting to drive.google.com (drive.google.com)|173.194.216.113|:443... connected.\n",
            "HTTP request sent, awaiting response... 303 See Other\n",
            "Location: https://doc-04-3c-docs.googleusercontent.com/docs/securesc/ha0ro937gcuc7l7deffksulhg5h7mbp1/vq4260qokjnht189r7450j6o34beve7s/1650288075000/11121686744502963554/*/1aw0kM5a4Q-bhbHyqK4Hl-tHrvxVpxpWm?e=download [following]\n",
            "Warning: wildcards not supported in HTTP.\n",
            "--2022-04-18 13:21:24--  https://doc-04-3c-docs.googleusercontent.com/docs/securesc/ha0ro937gcuc7l7deffksulhg5h7mbp1/vq4260qokjnht189r7450j6o34beve7s/1650288075000/11121686744502963554/*/1aw0kM5a4Q-bhbHyqK4Hl-tHrvxVpxpWm?e=download\n",
            "Resolving doc-04-3c-docs.googleusercontent.com (doc-04-3c-docs.googleusercontent.com)... 172.217.193.132, 2607:f8b0:400c:c03::84\n",
            "Connecting to doc-04-3c-docs.googleusercontent.com (doc-04-3c-docs.googleusercontent.com)|172.217.193.132|:443... connected.\n",
            "HTTP request sent, awaiting response... 200 OK\n",
            "Length: 514153 (502K) [text/csv]\n",
            "Saving to: ‘election.csv’\n",
            "\n",
            "election.csv        100%[===================>] 502.10K  --.-KB/s    in 0.005s  \n",
            "\n",
            "2022-04-18 13:21:24 (100 MB/s) - ‘election.csv’ saved [514153/514153]\n",
            "\n"
          ]
        }
      ]
    },
    {
      "cell_type": "markdown",
      "source": [
        "**Importing libraries**"
      ],
      "metadata": {
        "id": "rcyMLs12qYdc"
      }
    },
    {
      "cell_type": "code",
      "source": [
        "import numpy as np\n",
        "import pandas as pd\n",
        "from matplotlib import pyplot as plt\n",
        "from datetime import datetime"
      ],
      "metadata": {
        "id": "wy4yy2dQqX_k"
      },
      "execution_count": null,
      "outputs": []
    },
    {
      "cell_type": "markdown",
      "source": [
        "**Reading the dataset**"
      ],
      "metadata": {
        "id": "WLvwd9iVqz3u"
      }
    },
    {
      "cell_type": "code",
      "source": [
        "election_df = pd.read_csv(\"election.csv\")"
      ],
      "metadata": {
        "id": "3D8bmEcwqH4P"
      },
      "execution_count": null,
      "outputs": []
    },
    {
      "cell_type": "code",
      "source": [
        "election_df.head()\n"
      ],
      "metadata": {
        "colab": {
          "base_uri": "https://localhost:8080/",
          "height": 392
        },
        "id": "VB7cRzjIrBm-",
        "outputId": "dc321f96-8b40-4a2a-8f4a-44415febbd3f"
      },
      "execution_count": null,
      "outputs": [
        {
          "output_type": "execute_result",
          "data": {
            "text/plain": [
              "   year    state state_po  state_fips  state_cen  state_ic        office  \\\n",
              "0  1976  ALABAMA       AL           1         63        41  US PRESIDENT   \n",
              "1  1976  ALABAMA       AL           1         63        41  US PRESIDENT   \n",
              "2  1976  ALABAMA       AL           1         63        41  US PRESIDENT   \n",
              "3  1976  ALABAMA       AL           1         63        41  US PRESIDENT   \n",
              "4  1976  ALABAMA       AL           1         63        41  US PRESIDENT   \n",
              "\n",
              "                 candidate              party_detailed writein  \\\n",
              "0            CARTER, JIMMY                    DEMOCRAT   False   \n",
              "1             FORD, GERALD                  REPUBLICAN   False   \n",
              "2           MADDOX, LESTER  AMERICAN INDEPENDENT PARTY   False   \n",
              "3  BUBAR, BENJAMIN \"\"BEN\"\"                 PROHIBITION   False   \n",
              "4                HALL, GUS         COMMUNIST PARTY USE   False   \n",
              "\n",
              "   candidatevotes  totalvotes   version  notes party_simplified  \n",
              "0          659170     1182850  20210113    NaN         DEMOCRAT  \n",
              "1          504070     1182850  20210113    NaN       REPUBLICAN  \n",
              "2            9198     1182850  20210113    NaN            OTHER  \n",
              "3            6669     1182850  20210113    NaN            OTHER  \n",
              "4            1954     1182850  20210113    NaN            OTHER  "
            ],
            "text/html": [
              "\n",
              "  <div id=\"df-1acacab0-f653-4ebc-983e-584f9c1af01d\">\n",
              "    <div class=\"colab-df-container\">\n",
              "      <div>\n",
              "<style scoped>\n",
              "    .dataframe tbody tr th:only-of-type {\n",
              "        vertical-align: middle;\n",
              "    }\n",
              "\n",
              "    .dataframe tbody tr th {\n",
              "        vertical-align: top;\n",
              "    }\n",
              "\n",
              "    .dataframe thead th {\n",
              "        text-align: right;\n",
              "    }\n",
              "</style>\n",
              "<table border=\"1\" class=\"dataframe\">\n",
              "  <thead>\n",
              "    <tr style=\"text-align: right;\">\n",
              "      <th></th>\n",
              "      <th>year</th>\n",
              "      <th>state</th>\n",
              "      <th>state_po</th>\n",
              "      <th>state_fips</th>\n",
              "      <th>state_cen</th>\n",
              "      <th>state_ic</th>\n",
              "      <th>office</th>\n",
              "      <th>candidate</th>\n",
              "      <th>party_detailed</th>\n",
              "      <th>writein</th>\n",
              "      <th>candidatevotes</th>\n",
              "      <th>totalvotes</th>\n",
              "      <th>version</th>\n",
              "      <th>notes</th>\n",
              "      <th>party_simplified</th>\n",
              "    </tr>\n",
              "  </thead>\n",
              "  <tbody>\n",
              "    <tr>\n",
              "      <th>0</th>\n",
              "      <td>1976</td>\n",
              "      <td>ALABAMA</td>\n",
              "      <td>AL</td>\n",
              "      <td>1</td>\n",
              "      <td>63</td>\n",
              "      <td>41</td>\n",
              "      <td>US PRESIDENT</td>\n",
              "      <td>CARTER, JIMMY</td>\n",
              "      <td>DEMOCRAT</td>\n",
              "      <td>False</td>\n",
              "      <td>659170</td>\n",
              "      <td>1182850</td>\n",
              "      <td>20210113</td>\n",
              "      <td>NaN</td>\n",
              "      <td>DEMOCRAT</td>\n",
              "    </tr>\n",
              "    <tr>\n",
              "      <th>1</th>\n",
              "      <td>1976</td>\n",
              "      <td>ALABAMA</td>\n",
              "      <td>AL</td>\n",
              "      <td>1</td>\n",
              "      <td>63</td>\n",
              "      <td>41</td>\n",
              "      <td>US PRESIDENT</td>\n",
              "      <td>FORD, GERALD</td>\n",
              "      <td>REPUBLICAN</td>\n",
              "      <td>False</td>\n",
              "      <td>504070</td>\n",
              "      <td>1182850</td>\n",
              "      <td>20210113</td>\n",
              "      <td>NaN</td>\n",
              "      <td>REPUBLICAN</td>\n",
              "    </tr>\n",
              "    <tr>\n",
              "      <th>2</th>\n",
              "      <td>1976</td>\n",
              "      <td>ALABAMA</td>\n",
              "      <td>AL</td>\n",
              "      <td>1</td>\n",
              "      <td>63</td>\n",
              "      <td>41</td>\n",
              "      <td>US PRESIDENT</td>\n",
              "      <td>MADDOX, LESTER</td>\n",
              "      <td>AMERICAN INDEPENDENT PARTY</td>\n",
              "      <td>False</td>\n",
              "      <td>9198</td>\n",
              "      <td>1182850</td>\n",
              "      <td>20210113</td>\n",
              "      <td>NaN</td>\n",
              "      <td>OTHER</td>\n",
              "    </tr>\n",
              "    <tr>\n",
              "      <th>3</th>\n",
              "      <td>1976</td>\n",
              "      <td>ALABAMA</td>\n",
              "      <td>AL</td>\n",
              "      <td>1</td>\n",
              "      <td>63</td>\n",
              "      <td>41</td>\n",
              "      <td>US PRESIDENT</td>\n",
              "      <td>BUBAR, BENJAMIN \"\"BEN\"\"</td>\n",
              "      <td>PROHIBITION</td>\n",
              "      <td>False</td>\n",
              "      <td>6669</td>\n",
              "      <td>1182850</td>\n",
              "      <td>20210113</td>\n",
              "      <td>NaN</td>\n",
              "      <td>OTHER</td>\n",
              "    </tr>\n",
              "    <tr>\n",
              "      <th>4</th>\n",
              "      <td>1976</td>\n",
              "      <td>ALABAMA</td>\n",
              "      <td>AL</td>\n",
              "      <td>1</td>\n",
              "      <td>63</td>\n",
              "      <td>41</td>\n",
              "      <td>US PRESIDENT</td>\n",
              "      <td>HALL, GUS</td>\n",
              "      <td>COMMUNIST PARTY USE</td>\n",
              "      <td>False</td>\n",
              "      <td>1954</td>\n",
              "      <td>1182850</td>\n",
              "      <td>20210113</td>\n",
              "      <td>NaN</td>\n",
              "      <td>OTHER</td>\n",
              "    </tr>\n",
              "  </tbody>\n",
              "</table>\n",
              "</div>\n",
              "      <button class=\"colab-df-convert\" onclick=\"convertToInteractive('df-1acacab0-f653-4ebc-983e-584f9c1af01d')\"\n",
              "              title=\"Convert this dataframe to an interactive table.\"\n",
              "              style=\"display:none;\">\n",
              "        \n",
              "  <svg xmlns=\"http://www.w3.org/2000/svg\" height=\"24px\"viewBox=\"0 0 24 24\"\n",
              "       width=\"24px\">\n",
              "    <path d=\"M0 0h24v24H0V0z\" fill=\"none\"/>\n",
              "    <path d=\"M18.56 5.44l.94 2.06.94-2.06 2.06-.94-2.06-.94-.94-2.06-.94 2.06-2.06.94zm-11 1L8.5 8.5l.94-2.06 2.06-.94-2.06-.94L8.5 2.5l-.94 2.06-2.06.94zm10 10l.94 2.06.94-2.06 2.06-.94-2.06-.94-.94-2.06-.94 2.06-2.06.94z\"/><path d=\"M17.41 7.96l-1.37-1.37c-.4-.4-.92-.59-1.43-.59-.52 0-1.04.2-1.43.59L10.3 9.45l-7.72 7.72c-.78.78-.78 2.05 0 2.83L4 21.41c.39.39.9.59 1.41.59.51 0 1.02-.2 1.41-.59l7.78-7.78 2.81-2.81c.8-.78.8-2.07 0-2.86zM5.41 20L4 18.59l7.72-7.72 1.47 1.35L5.41 20z\"/>\n",
              "  </svg>\n",
              "      </button>\n",
              "      \n",
              "  <style>\n",
              "    .colab-df-container {\n",
              "      display:flex;\n",
              "      flex-wrap:wrap;\n",
              "      gap: 12px;\n",
              "    }\n",
              "\n",
              "    .colab-df-convert {\n",
              "      background-color: #E8F0FE;\n",
              "      border: none;\n",
              "      border-radius: 50%;\n",
              "      cursor: pointer;\n",
              "      display: none;\n",
              "      fill: #1967D2;\n",
              "      height: 32px;\n",
              "      padding: 0 0 0 0;\n",
              "      width: 32px;\n",
              "    }\n",
              "\n",
              "    .colab-df-convert:hover {\n",
              "      background-color: #E2EBFA;\n",
              "      box-shadow: 0px 1px 2px rgba(60, 64, 67, 0.3), 0px 1px 3px 1px rgba(60, 64, 67, 0.15);\n",
              "      fill: #174EA6;\n",
              "    }\n",
              "\n",
              "    [theme=dark] .colab-df-convert {\n",
              "      background-color: #3B4455;\n",
              "      fill: #D2E3FC;\n",
              "    }\n",
              "\n",
              "    [theme=dark] .colab-df-convert:hover {\n",
              "      background-color: #434B5C;\n",
              "      box-shadow: 0px 1px 3px 1px rgba(0, 0, 0, 0.15);\n",
              "      filter: drop-shadow(0px 1px 2px rgba(0, 0, 0, 0.3));\n",
              "      fill: #FFFFFF;\n",
              "    }\n",
              "  </style>\n",
              "\n",
              "      <script>\n",
              "        const buttonEl =\n",
              "          document.querySelector('#df-1acacab0-f653-4ebc-983e-584f9c1af01d button.colab-df-convert');\n",
              "        buttonEl.style.display =\n",
              "          google.colab.kernel.accessAllowed ? 'block' : 'none';\n",
              "\n",
              "        async function convertToInteractive(key) {\n",
              "          const element = document.querySelector('#df-1acacab0-f653-4ebc-983e-584f9c1af01d');\n",
              "          const dataTable =\n",
              "            await google.colab.kernel.invokeFunction('convertToInteractive',\n",
              "                                                     [key], {});\n",
              "          if (!dataTable) return;\n",
              "\n",
              "          const docLinkHtml = 'Like what you see? Visit the ' +\n",
              "            '<a target=\"_blank\" href=https://colab.research.google.com/notebooks/data_table.ipynb>data table notebook</a>'\n",
              "            + ' to learn more about interactive tables.';\n",
              "          element.innerHTML = '';\n",
              "          dataTable['output_type'] = 'display_data';\n",
              "          await google.colab.output.renderOutput(dataTable, element);\n",
              "          const docLink = document.createElement('div');\n",
              "          docLink.innerHTML = docLinkHtml;\n",
              "          element.appendChild(docLink);\n",
              "        }\n",
              "      </script>\n",
              "    </div>\n",
              "  </div>\n",
              "  "
            ]
          },
          "metadata": {},
          "execution_count": 54
        }
      ]
    },
    {
      "cell_type": "code",
      "source": [
        "election_df.info()"
      ],
      "metadata": {
        "colab": {
          "base_uri": "https://localhost:8080/"
        },
        "id": "nUWzET3shqfy",
        "outputId": "9cfa9a71-0943-4b23-9d97-18f637e300ed"
      },
      "execution_count": null,
      "outputs": [
        {
          "output_type": "stream",
          "name": "stdout",
          "text": [
            "<class 'pandas.core.frame.DataFrame'>\n",
            "RangeIndex: 4287 entries, 0 to 4286\n",
            "Data columns (total 15 columns):\n",
            " #   Column            Non-Null Count  Dtype  \n",
            "---  ------            --------------  -----  \n",
            " 0   year              4287 non-null   int64  \n",
            " 1   state             4287 non-null   object \n",
            " 2   state_po          4287 non-null   object \n",
            " 3   state_fips        4287 non-null   int64  \n",
            " 4   state_cen         4287 non-null   int64  \n",
            " 5   state_ic          4287 non-null   int64  \n",
            " 6   office            4287 non-null   object \n",
            " 7   candidate         4000 non-null   object \n",
            " 8   party_detailed    3831 non-null   object \n",
            " 9   writein           4284 non-null   object \n",
            " 10  candidatevotes    4287 non-null   int64  \n",
            " 11  totalvotes        4287 non-null   int64  \n",
            " 12  version           4287 non-null   int64  \n",
            " 13  notes             0 non-null      float64\n",
            " 14  party_simplified  4287 non-null   object \n",
            "dtypes: float64(1), int64(7), object(7)\n",
            "memory usage: 502.5+ KB\n"
          ]
        }
      ]
    },
    {
      "cell_type": "markdown",
      "source": [
        "**Changing some datatypes\"**"
      ],
      "metadata": {
        "id": "6o-_EWkr4QFg"
      }
    },
    {
      "cell_type": "code",
      "source": [
        "election_df"
      ],
      "metadata": {
        "colab": {
          "base_uri": "https://localhost:8080/",
          "height": 696
        },
        "id": "0nsDaBBmOT4n",
        "outputId": "cce2a24a-eb09-46de-be2a-ccf65074b5f6"
      },
      "execution_count": null,
      "outputs": [
        {
          "output_type": "execute_result",
          "data": {
            "text/plain": [
              "      year    state state_po  state_fips  state_cen  state_ic        office  \\\n",
              "0     1976  ALABAMA       AL           1         63        41  US PRESIDENT   \n",
              "1     1976  ALABAMA       AL           1         63        41  US PRESIDENT   \n",
              "2     1976  ALABAMA       AL           1         63        41  US PRESIDENT   \n",
              "3     1976  ALABAMA       AL           1         63        41  US PRESIDENT   \n",
              "4     1976  ALABAMA       AL           1         63        41  US PRESIDENT   \n",
              "...    ...      ...      ...         ...        ...       ...           ...   \n",
              "4282  2020  WYOMING       WY          56         83        68  US PRESIDENT   \n",
              "4283  2020  WYOMING       WY          56         83        68  US PRESIDENT   \n",
              "4284  2020  WYOMING       WY          56         83        68  US PRESIDENT   \n",
              "4285  2020  WYOMING       WY          56         83        68  US PRESIDENT   \n",
              "4286  2020  WYOMING       WY          56         83        68  US PRESIDENT   \n",
              "\n",
              "                    candidate              party_detailed writein  \\\n",
              "0               CARTER, JIMMY                    DEMOCRAT   False   \n",
              "1                FORD, GERALD                  REPUBLICAN   False   \n",
              "2              MADDOX, LESTER  AMERICAN INDEPENDENT PARTY   False   \n",
              "3     BUBAR, BENJAMIN \"\"BEN\"\"                 PROHIBITION   False   \n",
              "4                   HALL, GUS         COMMUNIST PARTY USE   False   \n",
              "...                       ...                         ...     ...   \n",
              "4282            JORGENSEN, JO                 LIBERTARIAN   False   \n",
              "4283            PIERCE, BROCK                 INDEPENDENT   False   \n",
              "4284                      NaN                         NaN    True   \n",
              "4285                OVERVOTES                         NaN   False   \n",
              "4286               UNDERVOTES                         NaN   False   \n",
              "\n",
              "      candidatevotes  totalvotes   version  notes party_simplified  \n",
              "0             659170     1182850  20210113    NaN         DEMOCRAT  \n",
              "1             504070     1182850  20210113    NaN       REPUBLICAN  \n",
              "2               9198     1182850  20210113    NaN            OTHER  \n",
              "3               6669     1182850  20210113    NaN            OTHER  \n",
              "4               1954     1182850  20210113    NaN            OTHER  \n",
              "...              ...         ...       ...    ...              ...  \n",
              "4282            5768      278503  20210113    NaN      LIBERTARIAN  \n",
              "4283            2208      278503  20210113    NaN            OTHER  \n",
              "4284            1739      278503  20210113    NaN            OTHER  \n",
              "4285             279      278503  20210113    NaN            OTHER  \n",
              "4286            1459      278503  20210113    NaN            OTHER  \n",
              "\n",
              "[4287 rows x 15 columns]"
            ],
            "text/html": [
              "\n",
              "  <div id=\"df-b30cd4c0-c7cd-4852-b7a8-8dec007135a7\">\n",
              "    <div class=\"colab-df-container\">\n",
              "      <div>\n",
              "<style scoped>\n",
              "    .dataframe tbody tr th:only-of-type {\n",
              "        vertical-align: middle;\n",
              "    }\n",
              "\n",
              "    .dataframe tbody tr th {\n",
              "        vertical-align: top;\n",
              "    }\n",
              "\n",
              "    .dataframe thead th {\n",
              "        text-align: right;\n",
              "    }\n",
              "</style>\n",
              "<table border=\"1\" class=\"dataframe\">\n",
              "  <thead>\n",
              "    <tr style=\"text-align: right;\">\n",
              "      <th></th>\n",
              "      <th>year</th>\n",
              "      <th>state</th>\n",
              "      <th>state_po</th>\n",
              "      <th>state_fips</th>\n",
              "      <th>state_cen</th>\n",
              "      <th>state_ic</th>\n",
              "      <th>office</th>\n",
              "      <th>candidate</th>\n",
              "      <th>party_detailed</th>\n",
              "      <th>writein</th>\n",
              "      <th>candidatevotes</th>\n",
              "      <th>totalvotes</th>\n",
              "      <th>version</th>\n",
              "      <th>notes</th>\n",
              "      <th>party_simplified</th>\n",
              "    </tr>\n",
              "  </thead>\n",
              "  <tbody>\n",
              "    <tr>\n",
              "      <th>0</th>\n",
              "      <td>1976</td>\n",
              "      <td>ALABAMA</td>\n",
              "      <td>AL</td>\n",
              "      <td>1</td>\n",
              "      <td>63</td>\n",
              "      <td>41</td>\n",
              "      <td>US PRESIDENT</td>\n",
              "      <td>CARTER, JIMMY</td>\n",
              "      <td>DEMOCRAT</td>\n",
              "      <td>False</td>\n",
              "      <td>659170</td>\n",
              "      <td>1182850</td>\n",
              "      <td>20210113</td>\n",
              "      <td>NaN</td>\n",
              "      <td>DEMOCRAT</td>\n",
              "    </tr>\n",
              "    <tr>\n",
              "      <th>1</th>\n",
              "      <td>1976</td>\n",
              "      <td>ALABAMA</td>\n",
              "      <td>AL</td>\n",
              "      <td>1</td>\n",
              "      <td>63</td>\n",
              "      <td>41</td>\n",
              "      <td>US PRESIDENT</td>\n",
              "      <td>FORD, GERALD</td>\n",
              "      <td>REPUBLICAN</td>\n",
              "      <td>False</td>\n",
              "      <td>504070</td>\n",
              "      <td>1182850</td>\n",
              "      <td>20210113</td>\n",
              "      <td>NaN</td>\n",
              "      <td>REPUBLICAN</td>\n",
              "    </tr>\n",
              "    <tr>\n",
              "      <th>2</th>\n",
              "      <td>1976</td>\n",
              "      <td>ALABAMA</td>\n",
              "      <td>AL</td>\n",
              "      <td>1</td>\n",
              "      <td>63</td>\n",
              "      <td>41</td>\n",
              "      <td>US PRESIDENT</td>\n",
              "      <td>MADDOX, LESTER</td>\n",
              "      <td>AMERICAN INDEPENDENT PARTY</td>\n",
              "      <td>False</td>\n",
              "      <td>9198</td>\n",
              "      <td>1182850</td>\n",
              "      <td>20210113</td>\n",
              "      <td>NaN</td>\n",
              "      <td>OTHER</td>\n",
              "    </tr>\n",
              "    <tr>\n",
              "      <th>3</th>\n",
              "      <td>1976</td>\n",
              "      <td>ALABAMA</td>\n",
              "      <td>AL</td>\n",
              "      <td>1</td>\n",
              "      <td>63</td>\n",
              "      <td>41</td>\n",
              "      <td>US PRESIDENT</td>\n",
              "      <td>BUBAR, BENJAMIN \"\"BEN\"\"</td>\n",
              "      <td>PROHIBITION</td>\n",
              "      <td>False</td>\n",
              "      <td>6669</td>\n",
              "      <td>1182850</td>\n",
              "      <td>20210113</td>\n",
              "      <td>NaN</td>\n",
              "      <td>OTHER</td>\n",
              "    </tr>\n",
              "    <tr>\n",
              "      <th>4</th>\n",
              "      <td>1976</td>\n",
              "      <td>ALABAMA</td>\n",
              "      <td>AL</td>\n",
              "      <td>1</td>\n",
              "      <td>63</td>\n",
              "      <td>41</td>\n",
              "      <td>US PRESIDENT</td>\n",
              "      <td>HALL, GUS</td>\n",
              "      <td>COMMUNIST PARTY USE</td>\n",
              "      <td>False</td>\n",
              "      <td>1954</td>\n",
              "      <td>1182850</td>\n",
              "      <td>20210113</td>\n",
              "      <td>NaN</td>\n",
              "      <td>OTHER</td>\n",
              "    </tr>\n",
              "    <tr>\n",
              "      <th>...</th>\n",
              "      <td>...</td>\n",
              "      <td>...</td>\n",
              "      <td>...</td>\n",
              "      <td>...</td>\n",
              "      <td>...</td>\n",
              "      <td>...</td>\n",
              "      <td>...</td>\n",
              "      <td>...</td>\n",
              "      <td>...</td>\n",
              "      <td>...</td>\n",
              "      <td>...</td>\n",
              "      <td>...</td>\n",
              "      <td>...</td>\n",
              "      <td>...</td>\n",
              "      <td>...</td>\n",
              "    </tr>\n",
              "    <tr>\n",
              "      <th>4282</th>\n",
              "      <td>2020</td>\n",
              "      <td>WYOMING</td>\n",
              "      <td>WY</td>\n",
              "      <td>56</td>\n",
              "      <td>83</td>\n",
              "      <td>68</td>\n",
              "      <td>US PRESIDENT</td>\n",
              "      <td>JORGENSEN, JO</td>\n",
              "      <td>LIBERTARIAN</td>\n",
              "      <td>False</td>\n",
              "      <td>5768</td>\n",
              "      <td>278503</td>\n",
              "      <td>20210113</td>\n",
              "      <td>NaN</td>\n",
              "      <td>LIBERTARIAN</td>\n",
              "    </tr>\n",
              "    <tr>\n",
              "      <th>4283</th>\n",
              "      <td>2020</td>\n",
              "      <td>WYOMING</td>\n",
              "      <td>WY</td>\n",
              "      <td>56</td>\n",
              "      <td>83</td>\n",
              "      <td>68</td>\n",
              "      <td>US PRESIDENT</td>\n",
              "      <td>PIERCE, BROCK</td>\n",
              "      <td>INDEPENDENT</td>\n",
              "      <td>False</td>\n",
              "      <td>2208</td>\n",
              "      <td>278503</td>\n",
              "      <td>20210113</td>\n",
              "      <td>NaN</td>\n",
              "      <td>OTHER</td>\n",
              "    </tr>\n",
              "    <tr>\n",
              "      <th>4284</th>\n",
              "      <td>2020</td>\n",
              "      <td>WYOMING</td>\n",
              "      <td>WY</td>\n",
              "      <td>56</td>\n",
              "      <td>83</td>\n",
              "      <td>68</td>\n",
              "      <td>US PRESIDENT</td>\n",
              "      <td>NaN</td>\n",
              "      <td>NaN</td>\n",
              "      <td>True</td>\n",
              "      <td>1739</td>\n",
              "      <td>278503</td>\n",
              "      <td>20210113</td>\n",
              "      <td>NaN</td>\n",
              "      <td>OTHER</td>\n",
              "    </tr>\n",
              "    <tr>\n",
              "      <th>4285</th>\n",
              "      <td>2020</td>\n",
              "      <td>WYOMING</td>\n",
              "      <td>WY</td>\n",
              "      <td>56</td>\n",
              "      <td>83</td>\n",
              "      <td>68</td>\n",
              "      <td>US PRESIDENT</td>\n",
              "      <td>OVERVOTES</td>\n",
              "      <td>NaN</td>\n",
              "      <td>False</td>\n",
              "      <td>279</td>\n",
              "      <td>278503</td>\n",
              "      <td>20210113</td>\n",
              "      <td>NaN</td>\n",
              "      <td>OTHER</td>\n",
              "    </tr>\n",
              "    <tr>\n",
              "      <th>4286</th>\n",
              "      <td>2020</td>\n",
              "      <td>WYOMING</td>\n",
              "      <td>WY</td>\n",
              "      <td>56</td>\n",
              "      <td>83</td>\n",
              "      <td>68</td>\n",
              "      <td>US PRESIDENT</td>\n",
              "      <td>UNDERVOTES</td>\n",
              "      <td>NaN</td>\n",
              "      <td>False</td>\n",
              "      <td>1459</td>\n",
              "      <td>278503</td>\n",
              "      <td>20210113</td>\n",
              "      <td>NaN</td>\n",
              "      <td>OTHER</td>\n",
              "    </tr>\n",
              "  </tbody>\n",
              "</table>\n",
              "<p>4287 rows × 15 columns</p>\n",
              "</div>\n",
              "      <button class=\"colab-df-convert\" onclick=\"convertToInteractive('df-b30cd4c0-c7cd-4852-b7a8-8dec007135a7')\"\n",
              "              title=\"Convert this dataframe to an interactive table.\"\n",
              "              style=\"display:none;\">\n",
              "        \n",
              "  <svg xmlns=\"http://www.w3.org/2000/svg\" height=\"24px\"viewBox=\"0 0 24 24\"\n",
              "       width=\"24px\">\n",
              "    <path d=\"M0 0h24v24H0V0z\" fill=\"none\"/>\n",
              "    <path d=\"M18.56 5.44l.94 2.06.94-2.06 2.06-.94-2.06-.94-.94-2.06-.94 2.06-2.06.94zm-11 1L8.5 8.5l.94-2.06 2.06-.94-2.06-.94L8.5 2.5l-.94 2.06-2.06.94zm10 10l.94 2.06.94-2.06 2.06-.94-2.06-.94-.94-2.06-.94 2.06-2.06.94z\"/><path d=\"M17.41 7.96l-1.37-1.37c-.4-.4-.92-.59-1.43-.59-.52 0-1.04.2-1.43.59L10.3 9.45l-7.72 7.72c-.78.78-.78 2.05 0 2.83L4 21.41c.39.39.9.59 1.41.59.51 0 1.02-.2 1.41-.59l7.78-7.78 2.81-2.81c.8-.78.8-2.07 0-2.86zM5.41 20L4 18.59l7.72-7.72 1.47 1.35L5.41 20z\"/>\n",
              "  </svg>\n",
              "      </button>\n",
              "      \n",
              "  <style>\n",
              "    .colab-df-container {\n",
              "      display:flex;\n",
              "      flex-wrap:wrap;\n",
              "      gap: 12px;\n",
              "    }\n",
              "\n",
              "    .colab-df-convert {\n",
              "      background-color: #E8F0FE;\n",
              "      border: none;\n",
              "      border-radius: 50%;\n",
              "      cursor: pointer;\n",
              "      display: none;\n",
              "      fill: #1967D2;\n",
              "      height: 32px;\n",
              "      padding: 0 0 0 0;\n",
              "      width: 32px;\n",
              "    }\n",
              "\n",
              "    .colab-df-convert:hover {\n",
              "      background-color: #E2EBFA;\n",
              "      box-shadow: 0px 1px 2px rgba(60, 64, 67, 0.3), 0px 1px 3px 1px rgba(60, 64, 67, 0.15);\n",
              "      fill: #174EA6;\n",
              "    }\n",
              "\n",
              "    [theme=dark] .colab-df-convert {\n",
              "      background-color: #3B4455;\n",
              "      fill: #D2E3FC;\n",
              "    }\n",
              "\n",
              "    [theme=dark] .colab-df-convert:hover {\n",
              "      background-color: #434B5C;\n",
              "      box-shadow: 0px 1px 3px 1px rgba(0, 0, 0, 0.15);\n",
              "      filter: drop-shadow(0px 1px 2px rgba(0, 0, 0, 0.3));\n",
              "      fill: #FFFFFF;\n",
              "    }\n",
              "  </style>\n",
              "\n",
              "      <script>\n",
              "        const buttonEl =\n",
              "          document.querySelector('#df-b30cd4c0-c7cd-4852-b7a8-8dec007135a7 button.colab-df-convert');\n",
              "        buttonEl.style.display =\n",
              "          google.colab.kernel.accessAllowed ? 'block' : 'none';\n",
              "\n",
              "        async function convertToInteractive(key) {\n",
              "          const element = document.querySelector('#df-b30cd4c0-c7cd-4852-b7a8-8dec007135a7');\n",
              "          const dataTable =\n",
              "            await google.colab.kernel.invokeFunction('convertToInteractive',\n",
              "                                                     [key], {});\n",
              "          if (!dataTable) return;\n",
              "\n",
              "          const docLinkHtml = 'Like what you see? Visit the ' +\n",
              "            '<a target=\"_blank\" href=https://colab.research.google.com/notebooks/data_table.ipynb>data table notebook</a>'\n",
              "            + ' to learn more about interactive tables.';\n",
              "          element.innerHTML = '';\n",
              "          dataTable['output_type'] = 'display_data';\n",
              "          await google.colab.output.renderOutput(dataTable, element);\n",
              "          const docLink = document.createElement('div');\n",
              "          docLink.innerHTML = docLinkHtml;\n",
              "          element.appendChild(docLink);\n",
              "        }\n",
              "      </script>\n",
              "    </div>\n",
              "  </div>\n",
              "  "
            ]
          },
          "metadata": {},
          "execution_count": 56
        }
      ]
    },
    {
      "cell_type": "markdown",
      "source": [
        "**Creating a deep copy of original data as backup**"
      ],
      "metadata": {
        "id": "USW_RUVOmM7n"
      }
    },
    {
      "cell_type": "code",
      "source": [
        "election_df_backup = election_df.copy(deep = True)"
      ],
      "metadata": {
        "id": "Hzy18jGgmVXz"
      },
      "execution_count": null,
      "outputs": []
    },
    {
      "cell_type": "markdown",
      "source": [
        "**Checking missing values**"
      ],
      "metadata": {
        "id": "K6eiDrpm71bG"
      }
    },
    {
      "cell_type": "code",
      "source": [
        "election_df.isnull()"
      ],
      "metadata": {
        "colab": {
          "base_uri": "https://localhost:8080/",
          "height": 488
        },
        "id": "nIrk-xIB8D9b",
        "outputId": "5b3d23fe-49cf-4613-db63-8554b91574c5"
      },
      "execution_count": null,
      "outputs": [
        {
          "output_type": "execute_result",
          "data": {
            "text/plain": [
              "       year  state  state_po  state_fips  state_cen  state_ic  office  \\\n",
              "0     False  False     False       False      False     False   False   \n",
              "1     False  False     False       False      False     False   False   \n",
              "2     False  False     False       False      False     False   False   \n",
              "3     False  False     False       False      False     False   False   \n",
              "4     False  False     False       False      False     False   False   \n",
              "...     ...    ...       ...         ...        ...       ...     ...   \n",
              "4282  False  False     False       False      False     False   False   \n",
              "4283  False  False     False       False      False     False   False   \n",
              "4284  False  False     False       False      False     False   False   \n",
              "4285  False  False     False       False      False     False   False   \n",
              "4286  False  False     False       False      False     False   False   \n",
              "\n",
              "      candidate  party_detailed  writein  candidatevotes  totalvotes  version  \\\n",
              "0         False           False    False           False       False    False   \n",
              "1         False           False    False           False       False    False   \n",
              "2         False           False    False           False       False    False   \n",
              "3         False           False    False           False       False    False   \n",
              "4         False           False    False           False       False    False   \n",
              "...         ...             ...      ...             ...         ...      ...   \n",
              "4282      False           False    False           False       False    False   \n",
              "4283      False           False    False           False       False    False   \n",
              "4284       True            True    False           False       False    False   \n",
              "4285      False            True    False           False       False    False   \n",
              "4286      False            True    False           False       False    False   \n",
              "\n",
              "      notes  party_simplified  \n",
              "0      True             False  \n",
              "1      True             False  \n",
              "2      True             False  \n",
              "3      True             False  \n",
              "4      True             False  \n",
              "...     ...               ...  \n",
              "4282   True             False  \n",
              "4283   True             False  \n",
              "4284   True             False  \n",
              "4285   True             False  \n",
              "4286   True             False  \n",
              "\n",
              "[4287 rows x 15 columns]"
            ],
            "text/html": [
              "\n",
              "  <div id=\"df-a81fd3f2-3c40-4a5d-95f6-f23d0e92d851\">\n",
              "    <div class=\"colab-df-container\">\n",
              "      <div>\n",
              "<style scoped>\n",
              "    .dataframe tbody tr th:only-of-type {\n",
              "        vertical-align: middle;\n",
              "    }\n",
              "\n",
              "    .dataframe tbody tr th {\n",
              "        vertical-align: top;\n",
              "    }\n",
              "\n",
              "    .dataframe thead th {\n",
              "        text-align: right;\n",
              "    }\n",
              "</style>\n",
              "<table border=\"1\" class=\"dataframe\">\n",
              "  <thead>\n",
              "    <tr style=\"text-align: right;\">\n",
              "      <th></th>\n",
              "      <th>year</th>\n",
              "      <th>state</th>\n",
              "      <th>state_po</th>\n",
              "      <th>state_fips</th>\n",
              "      <th>state_cen</th>\n",
              "      <th>state_ic</th>\n",
              "      <th>office</th>\n",
              "      <th>candidate</th>\n",
              "      <th>party_detailed</th>\n",
              "      <th>writein</th>\n",
              "      <th>candidatevotes</th>\n",
              "      <th>totalvotes</th>\n",
              "      <th>version</th>\n",
              "      <th>notes</th>\n",
              "      <th>party_simplified</th>\n",
              "    </tr>\n",
              "  </thead>\n",
              "  <tbody>\n",
              "    <tr>\n",
              "      <th>0</th>\n",
              "      <td>False</td>\n",
              "      <td>False</td>\n",
              "      <td>False</td>\n",
              "      <td>False</td>\n",
              "      <td>False</td>\n",
              "      <td>False</td>\n",
              "      <td>False</td>\n",
              "      <td>False</td>\n",
              "      <td>False</td>\n",
              "      <td>False</td>\n",
              "      <td>False</td>\n",
              "      <td>False</td>\n",
              "      <td>False</td>\n",
              "      <td>True</td>\n",
              "      <td>False</td>\n",
              "    </tr>\n",
              "    <tr>\n",
              "      <th>1</th>\n",
              "      <td>False</td>\n",
              "      <td>False</td>\n",
              "      <td>False</td>\n",
              "      <td>False</td>\n",
              "      <td>False</td>\n",
              "      <td>False</td>\n",
              "      <td>False</td>\n",
              "      <td>False</td>\n",
              "      <td>False</td>\n",
              "      <td>False</td>\n",
              "      <td>False</td>\n",
              "      <td>False</td>\n",
              "      <td>False</td>\n",
              "      <td>True</td>\n",
              "      <td>False</td>\n",
              "    </tr>\n",
              "    <tr>\n",
              "      <th>2</th>\n",
              "      <td>False</td>\n",
              "      <td>False</td>\n",
              "      <td>False</td>\n",
              "      <td>False</td>\n",
              "      <td>False</td>\n",
              "      <td>False</td>\n",
              "      <td>False</td>\n",
              "      <td>False</td>\n",
              "      <td>False</td>\n",
              "      <td>False</td>\n",
              "      <td>False</td>\n",
              "      <td>False</td>\n",
              "      <td>False</td>\n",
              "      <td>True</td>\n",
              "      <td>False</td>\n",
              "    </tr>\n",
              "    <tr>\n",
              "      <th>3</th>\n",
              "      <td>False</td>\n",
              "      <td>False</td>\n",
              "      <td>False</td>\n",
              "      <td>False</td>\n",
              "      <td>False</td>\n",
              "      <td>False</td>\n",
              "      <td>False</td>\n",
              "      <td>False</td>\n",
              "      <td>False</td>\n",
              "      <td>False</td>\n",
              "      <td>False</td>\n",
              "      <td>False</td>\n",
              "      <td>False</td>\n",
              "      <td>True</td>\n",
              "      <td>False</td>\n",
              "    </tr>\n",
              "    <tr>\n",
              "      <th>4</th>\n",
              "      <td>False</td>\n",
              "      <td>False</td>\n",
              "      <td>False</td>\n",
              "      <td>False</td>\n",
              "      <td>False</td>\n",
              "      <td>False</td>\n",
              "      <td>False</td>\n",
              "      <td>False</td>\n",
              "      <td>False</td>\n",
              "      <td>False</td>\n",
              "      <td>False</td>\n",
              "      <td>False</td>\n",
              "      <td>False</td>\n",
              "      <td>True</td>\n",
              "      <td>False</td>\n",
              "    </tr>\n",
              "    <tr>\n",
              "      <th>...</th>\n",
              "      <td>...</td>\n",
              "      <td>...</td>\n",
              "      <td>...</td>\n",
              "      <td>...</td>\n",
              "      <td>...</td>\n",
              "      <td>...</td>\n",
              "      <td>...</td>\n",
              "      <td>...</td>\n",
              "      <td>...</td>\n",
              "      <td>...</td>\n",
              "      <td>...</td>\n",
              "      <td>...</td>\n",
              "      <td>...</td>\n",
              "      <td>...</td>\n",
              "      <td>...</td>\n",
              "    </tr>\n",
              "    <tr>\n",
              "      <th>4282</th>\n",
              "      <td>False</td>\n",
              "      <td>False</td>\n",
              "      <td>False</td>\n",
              "      <td>False</td>\n",
              "      <td>False</td>\n",
              "      <td>False</td>\n",
              "      <td>False</td>\n",
              "      <td>False</td>\n",
              "      <td>False</td>\n",
              "      <td>False</td>\n",
              "      <td>False</td>\n",
              "      <td>False</td>\n",
              "      <td>False</td>\n",
              "      <td>True</td>\n",
              "      <td>False</td>\n",
              "    </tr>\n",
              "    <tr>\n",
              "      <th>4283</th>\n",
              "      <td>False</td>\n",
              "      <td>False</td>\n",
              "      <td>False</td>\n",
              "      <td>False</td>\n",
              "      <td>False</td>\n",
              "      <td>False</td>\n",
              "      <td>False</td>\n",
              "      <td>False</td>\n",
              "      <td>False</td>\n",
              "      <td>False</td>\n",
              "      <td>False</td>\n",
              "      <td>False</td>\n",
              "      <td>False</td>\n",
              "      <td>True</td>\n",
              "      <td>False</td>\n",
              "    </tr>\n",
              "    <tr>\n",
              "      <th>4284</th>\n",
              "      <td>False</td>\n",
              "      <td>False</td>\n",
              "      <td>False</td>\n",
              "      <td>False</td>\n",
              "      <td>False</td>\n",
              "      <td>False</td>\n",
              "      <td>False</td>\n",
              "      <td>True</td>\n",
              "      <td>True</td>\n",
              "      <td>False</td>\n",
              "      <td>False</td>\n",
              "      <td>False</td>\n",
              "      <td>False</td>\n",
              "      <td>True</td>\n",
              "      <td>False</td>\n",
              "    </tr>\n",
              "    <tr>\n",
              "      <th>4285</th>\n",
              "      <td>False</td>\n",
              "      <td>False</td>\n",
              "      <td>False</td>\n",
              "      <td>False</td>\n",
              "      <td>False</td>\n",
              "      <td>False</td>\n",
              "      <td>False</td>\n",
              "      <td>False</td>\n",
              "      <td>True</td>\n",
              "      <td>False</td>\n",
              "      <td>False</td>\n",
              "      <td>False</td>\n",
              "      <td>False</td>\n",
              "      <td>True</td>\n",
              "      <td>False</td>\n",
              "    </tr>\n",
              "    <tr>\n",
              "      <th>4286</th>\n",
              "      <td>False</td>\n",
              "      <td>False</td>\n",
              "      <td>False</td>\n",
              "      <td>False</td>\n",
              "      <td>False</td>\n",
              "      <td>False</td>\n",
              "      <td>False</td>\n",
              "      <td>False</td>\n",
              "      <td>True</td>\n",
              "      <td>False</td>\n",
              "      <td>False</td>\n",
              "      <td>False</td>\n",
              "      <td>False</td>\n",
              "      <td>True</td>\n",
              "      <td>False</td>\n",
              "    </tr>\n",
              "  </tbody>\n",
              "</table>\n",
              "<p>4287 rows × 15 columns</p>\n",
              "</div>\n",
              "      <button class=\"colab-df-convert\" onclick=\"convertToInteractive('df-a81fd3f2-3c40-4a5d-95f6-f23d0e92d851')\"\n",
              "              title=\"Convert this dataframe to an interactive table.\"\n",
              "              style=\"display:none;\">\n",
              "        \n",
              "  <svg xmlns=\"http://www.w3.org/2000/svg\" height=\"24px\"viewBox=\"0 0 24 24\"\n",
              "       width=\"24px\">\n",
              "    <path d=\"M0 0h24v24H0V0z\" fill=\"none\"/>\n",
              "    <path d=\"M18.56 5.44l.94 2.06.94-2.06 2.06-.94-2.06-.94-.94-2.06-.94 2.06-2.06.94zm-11 1L8.5 8.5l.94-2.06 2.06-.94-2.06-.94L8.5 2.5l-.94 2.06-2.06.94zm10 10l.94 2.06.94-2.06 2.06-.94-2.06-.94-.94-2.06-.94 2.06-2.06.94z\"/><path d=\"M17.41 7.96l-1.37-1.37c-.4-.4-.92-.59-1.43-.59-.52 0-1.04.2-1.43.59L10.3 9.45l-7.72 7.72c-.78.78-.78 2.05 0 2.83L4 21.41c.39.39.9.59 1.41.59.51 0 1.02-.2 1.41-.59l7.78-7.78 2.81-2.81c.8-.78.8-2.07 0-2.86zM5.41 20L4 18.59l7.72-7.72 1.47 1.35L5.41 20z\"/>\n",
              "  </svg>\n",
              "      </button>\n",
              "      \n",
              "  <style>\n",
              "    .colab-df-container {\n",
              "      display:flex;\n",
              "      flex-wrap:wrap;\n",
              "      gap: 12px;\n",
              "    }\n",
              "\n",
              "    .colab-df-convert {\n",
              "      background-color: #E8F0FE;\n",
              "      border: none;\n",
              "      border-radius: 50%;\n",
              "      cursor: pointer;\n",
              "      display: none;\n",
              "      fill: #1967D2;\n",
              "      height: 32px;\n",
              "      padding: 0 0 0 0;\n",
              "      width: 32px;\n",
              "    }\n",
              "\n",
              "    .colab-df-convert:hover {\n",
              "      background-color: #E2EBFA;\n",
              "      box-shadow: 0px 1px 2px rgba(60, 64, 67, 0.3), 0px 1px 3px 1px rgba(60, 64, 67, 0.15);\n",
              "      fill: #174EA6;\n",
              "    }\n",
              "\n",
              "    [theme=dark] .colab-df-convert {\n",
              "      background-color: #3B4455;\n",
              "      fill: #D2E3FC;\n",
              "    }\n",
              "\n",
              "    [theme=dark] .colab-df-convert:hover {\n",
              "      background-color: #434B5C;\n",
              "      box-shadow: 0px 1px 3px 1px rgba(0, 0, 0, 0.15);\n",
              "      filter: drop-shadow(0px 1px 2px rgba(0, 0, 0, 0.3));\n",
              "      fill: #FFFFFF;\n",
              "    }\n",
              "  </style>\n",
              "\n",
              "      <script>\n",
              "        const buttonEl =\n",
              "          document.querySelector('#df-a81fd3f2-3c40-4a5d-95f6-f23d0e92d851 button.colab-df-convert');\n",
              "        buttonEl.style.display =\n",
              "          google.colab.kernel.accessAllowed ? 'block' : 'none';\n",
              "\n",
              "        async function convertToInteractive(key) {\n",
              "          const element = document.querySelector('#df-a81fd3f2-3c40-4a5d-95f6-f23d0e92d851');\n",
              "          const dataTable =\n",
              "            await google.colab.kernel.invokeFunction('convertToInteractive',\n",
              "                                                     [key], {});\n",
              "          if (!dataTable) return;\n",
              "\n",
              "          const docLinkHtml = 'Like what you see? Visit the ' +\n",
              "            '<a target=\"_blank\" href=https://colab.research.google.com/notebooks/data_table.ipynb>data table notebook</a>'\n",
              "            + ' to learn more about interactive tables.';\n",
              "          element.innerHTML = '';\n",
              "          dataTable['output_type'] = 'display_data';\n",
              "          await google.colab.output.renderOutput(dataTable, element);\n",
              "          const docLink = document.createElement('div');\n",
              "          docLink.innerHTML = docLinkHtml;\n",
              "          element.appendChild(docLink);\n",
              "        }\n",
              "      </script>\n",
              "    </div>\n",
              "  </div>\n",
              "  "
            ]
          },
          "metadata": {},
          "execution_count": 58
        }
      ]
    },
    {
      "cell_type": "code",
      "source": [
        "election_df.isnull().sum()"
      ],
      "metadata": {
        "colab": {
          "base_uri": "https://localhost:8080/"
        },
        "id": "eEE8fzPnMmlA",
        "outputId": "c452b4c0-4147-4b75-ecb8-6753fc030de1"
      },
      "execution_count": null,
      "outputs": [
        {
          "output_type": "execute_result",
          "data": {
            "text/plain": [
              "year                   0\n",
              "state                  0\n",
              "state_po               0\n",
              "state_fips             0\n",
              "state_cen              0\n",
              "state_ic               0\n",
              "office                 0\n",
              "candidate            287\n",
              "party_detailed       456\n",
              "writein                3\n",
              "candidatevotes         0\n",
              "totalvotes             0\n",
              "version                0\n",
              "notes               4287\n",
              "party_simplified       0\n",
              "dtype: int64"
            ]
          },
          "metadata": {},
          "execution_count": 59
        }
      ]
    },
    {
      "cell_type": "code",
      "source": [
        "election_df.shape"
      ],
      "metadata": {
        "colab": {
          "base_uri": "https://localhost:8080/"
        },
        "id": "KbzJPUZ-PYzu",
        "outputId": "85eb4e4d-716c-46e6-b026-5e45343504b5"
      },
      "execution_count": null,
      "outputs": [
        {
          "output_type": "execute_result",
          "data": {
            "text/plain": [
              "(4287, 15)"
            ]
          },
          "metadata": {},
          "execution_count": 60
        }
      ]
    },
    {
      "cell_type": "markdown",
      "source": [
        "**Checking columns**\n",
        "\n",
        "Here we are checking columns which could not be of much importance to us. For this purpose I will be using `.unique()` on the dataframe but only on certain columns which are suspiciously not of relevence to our objective."
      ],
      "metadata": {
        "id": "ejNJCE9LQWfX"
      }
    },
    {
      "cell_type": "code",
      "source": [
        "display(\"version: \", election_df[\"version\"].nunique())\n",
        "display(\"notes:\" ,election_df[\"notes\"].nunique())\n",
        "display(\"party_detailed:\", election_df[\"party_detailed\"].nunique())\n",
        "display(\"party_simplified:\", election_df[\"party_simplified\"].nunique())\n",
        "display(\"office:\", election_df[\"office\"].nunique())\n"
      ],
      "metadata": {
        "colab": {
          "base_uri": "https://localhost:8080/",
          "height": 196
        },
        "id": "DmXiY-iSPrNP",
        "outputId": "85692954-f82d-4739-ca2e-8d98c7bd4575"
      },
      "execution_count": null,
      "outputs": [
        {
          "output_type": "display_data",
          "data": {
            "text/plain": [
              "'version: '"
            ],
            "application/vnd.google.colaboratory.intrinsic+json": {
              "type": "string"
            }
          },
          "metadata": {}
        },
        {
          "output_type": "display_data",
          "data": {
            "text/plain": [
              "1"
            ]
          },
          "metadata": {}
        },
        {
          "output_type": "display_data",
          "data": {
            "text/plain": [
              "'notes:'"
            ],
            "application/vnd.google.colaboratory.intrinsic+json": {
              "type": "string"
            }
          },
          "metadata": {}
        },
        {
          "output_type": "display_data",
          "data": {
            "text/plain": [
              "0"
            ]
          },
          "metadata": {}
        },
        {
          "output_type": "display_data",
          "data": {
            "text/plain": [
              "'party_detailed:'"
            ],
            "application/vnd.google.colaboratory.intrinsic+json": {
              "type": "string"
            }
          },
          "metadata": {}
        },
        {
          "output_type": "display_data",
          "data": {
            "text/plain": [
              "172"
            ]
          },
          "metadata": {}
        },
        {
          "output_type": "display_data",
          "data": {
            "text/plain": [
              "'party_simplified:'"
            ],
            "application/vnd.google.colaboratory.intrinsic+json": {
              "type": "string"
            }
          },
          "metadata": {}
        },
        {
          "output_type": "display_data",
          "data": {
            "text/plain": [
              "4"
            ]
          },
          "metadata": {}
        },
        {
          "output_type": "display_data",
          "data": {
            "text/plain": [
              "'office:'"
            ],
            "application/vnd.google.colaboratory.intrinsic+json": {
              "type": "string"
            }
          },
          "metadata": {}
        },
        {
          "output_type": "display_data",
          "data": {
            "text/plain": [
              "1"
            ]
          },
          "metadata": {}
        }
      ]
    },
    {
      "cell_type": "code",
      "source": [
        "display(\"party_detailed:\", election_df[\"party_detailed\"].unique())\n",
        "display(\"party_simplified:\", election_df[\"party_simplified\"].unique())"
      ],
      "metadata": {
        "colab": {
          "base_uri": "https://localhost:8080/",
          "height": 1000
        },
        "id": "oRoEjBUm7--g",
        "outputId": "bc4397b3-8f22-41da-9114-d02409e5c350"
      },
      "execution_count": null,
      "outputs": [
        {
          "output_type": "display_data",
          "data": {
            "text/plain": [
              "'party_detailed:'"
            ],
            "application/vnd.google.colaboratory.intrinsic+json": {
              "type": "string"
            }
          },
          "metadata": {}
        },
        {
          "output_type": "display_data",
          "data": {
            "text/plain": [
              "array(['DEMOCRAT', 'REPUBLICAN', 'AMERICAN INDEPENDENT PARTY',\n",
              "       'PROHIBITION', 'COMMUNIST PARTY USE', 'LIBERTARIAN', nan,\n",
              "       'INDEPENDENT', 'SOCIALIST WORKERS', 'AMERICAN', 'PEACE & FREEDOM',\n",
              "       'U.S. LABOR', 'NO PARTY AFFILIATION', 'SOCIALIST LABOR',\n",
              "       'AMERICAN PARTY OF IOWA', 'SOCIALIST U.S.A.', 'CONSERVATIVE',\n",
              "       'HUMAN RIGHTS', \"MCCARTHY '76\", \"PEOPLE'S\",\n",
              "       'INTERNATIONAL DEVELOPMENT BANK', 'INDUSTRIAL GOVERNMENT PARTY',\n",
              "       'SOCIALIST', 'LIBERAL PARTY', 'FREE LIBERTARIAN', 'LABOR',\n",
              "       'CONSTITUTION PARTY', 'CONCERNED CITIZENS', 'STATESMAN',\n",
              "       'CITIZENS', 'WORKERS WORLD', 'NATIONAL UNITY CAMPAIGN',\n",
              "       'ANDERSON COALITION', 'NOMINATED BY PETITION', 'RESPECT FOR LIFE',\n",
              "       'RIGHT-TO-LIFE', 'MIDDLE CLASS CANDIDATE', 'DOWN WITH LAWYERS',\n",
              "       \"NATURAL PEOPLE'S LEAGUE\", 'POPULIST', 'ALLIANCE',\n",
              "       'UNITED SOVEREIGN CITIZENS', 'WORKERS LEAGUE', 'BIG DEAL PARTY',\n",
              "       'NATIONAL UNITY', 'NEW ALLIANCE', 'NATIONAL ECONOMIC RECOVERY',\n",
              "       'THIRD WORLD ASSEMBLY', 'SOLIDARITY', 'PATRIOTIC PARTY', 'OTHER',\n",
              "       'PROGRESSIVE', 'GRASSROOTS', 'CONSUMER', 'WRITE-IN',\n",
              "       'UNITED CITIZENS', 'LIBERTY UNION PARTY', 'AMERICA FIRST',\n",
              "       'INDEPENDENTS FOR ECONOMIC RECOVERY', 'NATURAL LAW',\n",
              "       'TAXPAYERS PARTY', 'DEMOCRAT/REPUBLICAN', 'UNAFFILIATED',\n",
              "       'CAMPAIGN FOR A NEW TOMORROW', 'EQUAL JUSTICE AND OPPORTUNITY',\n",
              "       'MORE PERFECT DEMOCRACY', 'JUSTICE, INDUSTRY, AND AGRICULTURE',\n",
              "       'INDEPENDENT VOTERS', 'LAROUCHE FOR PRESIDENT PARTY',\n",
              "       'SOCIALIST PARTY USA', 'TISCH INDEPENDENT CITIZENS',\n",
              "       'INDEPENDENT AMERICAN', '6 MILLION JOBS',\n",
              "       'RON DANIELS INDEPENDENT', 'AMERICA FIRST POPULIST',\n",
              "       'INDEPENDENTS FOR LAROUCHE', 'FREEDOM FOR LAROUCHE',\n",
              "       'LABOR-FARM-LABORISTA-AGRARIO', 'THIRD PARTY', 'REFORM PARTY',\n",
              "       'GREEN', 'U.S. TAXPAYERS PARTY', 'LOOKING BACK PARTY',\n",
              "       'LIBERTY, ECOLOGY, COMMUNITY', 'SOCIALIST EQUALITY PARTY',\n",
              "       'INDEPENDENT GRASSROOTS', 'INDEPENDENCE', 'FREEDOM',\n",
              "       'INDEPENDENT NOMINATION', 'PATRIOT PARTY', 'UNENROLLED',\n",
              "       'DEMOCRATIC-FARMER-LABOR', 'REFORM PARTY MINNESOTA',\n",
              "       'CITIZENS FIRST', 'WORKING FAMILIES', 'PROGRESSIVE/GREEN',\n",
              "       'VERMONT GRASSROOTS', 'ALASKAN INDEPENDENCE PARTY',\n",
              "       'AMERICAN CONSTITUTION PARTY', 'CONCERNS OF PEOPLE',\n",
              "       'PETITIONING CANDIDATE', 'D.C. STATEHOOD GREEN',\n",
              "       'CONSTITUTION PARTY OF FLORIDA', 'SOCIALIST PARTY OF FLORIDA',\n",
              "       'PROTECTING WORKING FAMILIES', 'GREEN-RAINBOW', 'BETTER LIFE',\n",
              "       'CHRISTIAN FREEDOM PARTY', 'NEBRASKA PARTY', 'PEACE AND JUSTICE',\n",
              "       'PACIFIC GREEN', 'NONPARTISAN', 'PERSONAL CHOICE',\n",
              "       'WISCONSIN GREEN', 'SOCIALISM AND LIBERATION PARTY',\n",
              "       \"AMERICA'S INDEPENDENT PARTY\", 'BOSTON TEA PARTY',\n",
              "       \"HEARTQUAKE '08\", 'OBJECTIVIST PARTY', 'U.S. PACIFIST PARTY',\n",
              "       'ECOLOGY PARTY OF FLORIDA', 'NEW', 'LOUISIANA TAXPAYERS PARTY',\n",
              "       'VOTE HERE', 'PEACE PARTY', 'INDEPENDENT GREEN', 'MOUNTAIN PARTY',\n",
              "       'WE THE PEOPLE', 'JUSTICE', \"AMERICA'S PARTY\",\n",
              "       'AMERICAN THIRD POSITION', 'AMERICAN INDEPENDENT',\n",
              "       'CONSTITUTIONAL GOVERNMENT', 'NSA DID 911',\n",
              "       'NEW MEXICO INDEPENDENT PARTY', 'AMERICAN DELTA PARTY',\n",
              "       'BETTER FOR AMERICA', 'VETERANS PARTY OF AMERICA',\n",
              "       'INDEPENDENT PEOPLE OF COLORADO', 'AMERICAN SOLIDARITY PARTY',\n",
              "       'NUTRITION PARTY', 'KOTLIKOFF FOR PRESIDENT',\n",
              "       'NONVIOLENT RESISTANCE/PACIFIST', 'APPROVAL VOTING PARTY',\n",
              "       'NEW INDEPENDENT PARTY IOWA', 'LEGAL MARIJUANA NOW',\n",
              "       'WORKERS WORLD PARTY', \"WOMEN'S EQUALITY\",\n",
              "       'PARTY FOR SOCIALISM AND LIBERATION', 'LIFE AND LIBERTY PARTY',\n",
              "       'UNITY PARTY', 'PROHIBITION PARTY', 'PROGRESSIVE PARTY',\n",
              "       'SOCIALIST WORKERS PARTY', 'INDEPENDENT AMERICAN PARTY',\n",
              "       'NON-AFFILIATED', 'DC STATEHOOD GREEN', 'AMERICAN SHOPPING PARTY',\n",
              "       'GENEOLOGY KNOW YOUR FAMILY HISTORY PARTY', 'BECOMING ONE NATION',\n",
              "       'C.U.P', 'FREEDOM AND PROSPERITY', 'LIFE , LIBERTY, CONSTITUTION',\n",
              "       'THE BIRTHDAY PARTY', 'BREAD AND ROSES', 'US TAXPAYERS PARTY',\n",
              "       'GRUMPY OLD PATRIOTS', 'AMERICAN SOLIDARITY', 'CONSTITUTION',\n",
              "       'LIBERTY UNION', 'BOILING FROG', 'BULL MOOSE', 'APPROVAL VOTING'],\n",
              "      dtype=object)"
            ]
          },
          "metadata": {}
        },
        {
          "output_type": "display_data",
          "data": {
            "text/plain": [
              "'party_simplified:'"
            ],
            "application/vnd.google.colaboratory.intrinsic+json": {
              "type": "string"
            }
          },
          "metadata": {}
        },
        {
          "output_type": "display_data",
          "data": {
            "text/plain": [
              "array(['DEMOCRAT', 'REPUBLICAN', 'OTHER', 'LIBERTARIAN'], dtype=object)"
            ]
          },
          "metadata": {}
        }
      ]
    },
    {
      "cell_type": "markdown",
      "source": [
        "**Dropping columns**\n",
        "\n",
        "1. The **notes** column has no data. As it it is filled with \"NA\". If we see the above display of null values, we see **notes** column with boolean value **TRUE** which states it has no values. Also if we see the `.describe()` function on this data frame we see values in **notes** column are marked with **NaN**. Thus, we will be dropping this column. Also the sum of the num values is equal to the number of rows. Thus we can conclude that this variable can be dropped from the data set\n",
        "\n",
        "2. The **version** column probably specifies the date on which the data was extracted. It has only one unique feature. It is better to have this detail in the notes of the plot, such as **\"based on data extracted as on 13 Jan 2021\"** for this dataset, rather than having a column. This will help reduce dimensionality of the dataset.\n",
        "\n",
        "3. **\"party_detailed\"** is also the column which may be dropped. Firstly, this data is highly correlated and avaialable in simplified form in the column \"party_simplified\". In fact, seems like the column \"party_simplified\" has been derived from the column \"party_detailed\". This helps eliminate redundancy and reduces dimensionality, without loss of data.\n",
        "\n",
        "4. **office** is yet another column which may be dropped. As we know the database we are reading and trying to analyse. In case if the unique values in this column were more than one, then this approach is not desirable. Also it is prefered to specify this detail in the title of the plot as in **\"for the office of US President\"**. This will help in reducing the dimensionality of the dataset.\n",
        "\n",
        "5. Also I see that the categorical variable **\"candidate\"** has many missing values. More importantly, this variable is not relevant for our scope of study here. Thus this column too would be dropped off - also a measure of dimension reduction.\n",
        "\n",
        "6. Column labelled **state_po** specifies the post code of the state. This column is inessential as the complete name of the state is already specified in the feature named **state**. Thus it is advisable to eliminate this column from the dataframe. Keeping it will unnecesarily increase dimensionality and have redundant and vague data.\n"
      ],
      "metadata": {
        "id": "kTXlR0-HKuaZ"
      }
    },
    {
      "cell_type": "code",
      "source": [
        "election_df.drop(\"notes\", axis=1, inplace = True)\n",
        "election_df.drop(\"version\", axis=1, inplace = True)\n",
        "election_df.drop(\"party_detailed\", axis=1, inplace = True)\n",
        "election_df.drop(\"office\", axis=1, inplace = True)\n",
        "election_df.drop(\"candidate\", axis=1, inplace = True)\n",
        "election_df.drop(\"state_po\", axis=1, inplace = True)"
      ],
      "metadata": {
        "id": "zFWxnfLT8Lf4"
      },
      "execution_count": null,
      "outputs": []
    },
    {
      "cell_type": "code",
      "source": [
        "election_df.info()"
      ],
      "metadata": {
        "colab": {
          "base_uri": "https://localhost:8080/"
        },
        "id": "Iw-XYKO1NCcn",
        "outputId": "4821823d-9129-4055-8cfa-792793ac16a6"
      },
      "execution_count": null,
      "outputs": [
        {
          "output_type": "stream",
          "name": "stdout",
          "text": [
            "<class 'pandas.core.frame.DataFrame'>\n",
            "RangeIndex: 4287 entries, 0 to 4286\n",
            "Data columns (total 9 columns):\n",
            " #   Column            Non-Null Count  Dtype \n",
            "---  ------            --------------  ----- \n",
            " 0   year              4287 non-null   int64 \n",
            " 1   state             4287 non-null   object\n",
            " 2   state_fips        4287 non-null   int64 \n",
            " 3   state_cen         4287 non-null   int64 \n",
            " 4   state_ic          4287 non-null   int64 \n",
            " 5   writein           4284 non-null   object\n",
            " 6   candidatevotes    4287 non-null   int64 \n",
            " 7   totalvotes        4287 non-null   int64 \n",
            " 8   party_simplified  4287 non-null   object\n",
            "dtypes: int64(6), object(3)\n",
            "memory usage: 301.6+ KB\n"
          ]
        }
      ]
    },
    {
      "cell_type": "code",
      "source": [
        "election_df.shape"
      ],
      "metadata": {
        "colab": {
          "base_uri": "https://localhost:8080/"
        },
        "id": "25HkJcGfiyBO",
        "outputId": "3be73e80-d71a-4758-d06f-58770b14d52c"
      },
      "execution_count": null,
      "outputs": [
        {
          "output_type": "execute_result",
          "data": {
            "text/plain": [
              "(4287, 9)"
            ]
          },
          "metadata": {},
          "execution_count": 65
        }
      ]
    },
    {
      "cell_type": "code",
      "source": [
        "election_df.isnull().sum()"
      ],
      "metadata": {
        "colab": {
          "base_uri": "https://localhost:8080/"
        },
        "id": "_rayaCIMpaBv",
        "outputId": "a73c1316-abbf-425f-9599-d25111b1245d"
      },
      "execution_count": null,
      "outputs": [
        {
          "output_type": "execute_result",
          "data": {
            "text/plain": [
              "year                0\n",
              "state               0\n",
              "state_fips          0\n",
              "state_cen           0\n",
              "state_ic            0\n",
              "writein             3\n",
              "candidatevotes      0\n",
              "totalvotes          0\n",
              "party_simplified    0\n",
              "dtype: int64"
            ]
          },
          "metadata": {},
          "execution_count": 66
        }
      ]
    },
    {
      "cell_type": "markdown",
      "source": [
        "**One-hot code for columns \"writein\" and \"party_simplified\"**\n",
        "\n",
        "t-SNE does not work with non-numeric dataset. In order to satisfy our objective we need to convert categorical data into numeric form. **One-hot coding** is the single most best way to represent categorical data in numerical form. This facilitates inclusion of the catogorical feature in analysing process.\n",
        "\n",
        "Both the these columns have more than two unique data. therefore we need to have labelled one-hot code for these columns. Care has to be taken to keep the one hot encoded columns as part of the main dataframe by using `.join()`. We will also use `.drop()` to drop the original column so that we may avoid redundancy of data and reduce dimensionality."
      ],
      "metadata": {
        "id": "KjXwnPOTlgDt"
      }
    },
    {
      "cell_type": "code",
      "source": [
        "display(\"writein:\")\n",
        "display(election_df[\"writein\"].unique())\n",
        "display(election_df[\"writein\"].nunique())\n",
        "display(\"party_simplified:\")\n",
        "display(election_df[\"party_simplified\"].unique())\n",
        "display(election_df[\"party_simplified\"].nunique())"
      ],
      "metadata": {
        "id": "91m8Cheyjj9N",
        "colab": {
          "base_uri": "https://localhost:8080/",
          "height": 123
        },
        "outputId": "40808a49-bc56-482e-990f-314c5faf0ea2"
      },
      "execution_count": null,
      "outputs": [
        {
          "output_type": "display_data",
          "data": {
            "text/plain": [
              "'writein:'"
            ],
            "application/vnd.google.colaboratory.intrinsic+json": {
              "type": "string"
            }
          },
          "metadata": {}
        },
        {
          "output_type": "display_data",
          "data": {
            "text/plain": [
              "array([False, True, nan], dtype=object)"
            ]
          },
          "metadata": {}
        },
        {
          "output_type": "display_data",
          "data": {
            "text/plain": [
              "2"
            ]
          },
          "metadata": {}
        },
        {
          "output_type": "display_data",
          "data": {
            "text/plain": [
              "'party_simplified:'"
            ],
            "application/vnd.google.colaboratory.intrinsic+json": {
              "type": "string"
            }
          },
          "metadata": {}
        },
        {
          "output_type": "display_data",
          "data": {
            "text/plain": [
              "array(['DEMOCRAT', 'REPUBLICAN', 'OTHER', 'LIBERTARIAN'], dtype=object)"
            ]
          },
          "metadata": {}
        },
        {
          "output_type": "display_data",
          "data": {
            "text/plain": [
              "4"
            ]
          },
          "metadata": {}
        }
      ]
    },
    {
      "cell_type": "code",
      "source": [
        "election_df_party = pd.get_dummies(election_df[\"party_simplified\"])\n",
        "election_df_party\n"
      ],
      "metadata": {
        "id": "AOirOc4tkuRi",
        "colab": {
          "base_uri": "https://localhost:8080/",
          "height": 424
        },
        "outputId": "e4f89418-3d1d-40b1-f47e-30e106f751cf"
      },
      "execution_count": null,
      "outputs": [
        {
          "output_type": "execute_result",
          "data": {
            "text/plain": [
              "      DEMOCRAT  LIBERTARIAN  OTHER  REPUBLICAN\n",
              "0            1            0      0           0\n",
              "1            0            0      0           1\n",
              "2            0            0      1           0\n",
              "3            0            0      1           0\n",
              "4            0            0      1           0\n",
              "...        ...          ...    ...         ...\n",
              "4282         0            1      0           0\n",
              "4283         0            0      1           0\n",
              "4284         0            0      1           0\n",
              "4285         0            0      1           0\n",
              "4286         0            0      1           0\n",
              "\n",
              "[4287 rows x 4 columns]"
            ],
            "text/html": [
              "\n",
              "  <div id=\"df-b8a535fa-9174-4241-abe1-8ae12ee34fcd\">\n",
              "    <div class=\"colab-df-container\">\n",
              "      <div>\n",
              "<style scoped>\n",
              "    .dataframe tbody tr th:only-of-type {\n",
              "        vertical-align: middle;\n",
              "    }\n",
              "\n",
              "    .dataframe tbody tr th {\n",
              "        vertical-align: top;\n",
              "    }\n",
              "\n",
              "    .dataframe thead th {\n",
              "        text-align: right;\n",
              "    }\n",
              "</style>\n",
              "<table border=\"1\" class=\"dataframe\">\n",
              "  <thead>\n",
              "    <tr style=\"text-align: right;\">\n",
              "      <th></th>\n",
              "      <th>DEMOCRAT</th>\n",
              "      <th>LIBERTARIAN</th>\n",
              "      <th>OTHER</th>\n",
              "      <th>REPUBLICAN</th>\n",
              "    </tr>\n",
              "  </thead>\n",
              "  <tbody>\n",
              "    <tr>\n",
              "      <th>0</th>\n",
              "      <td>1</td>\n",
              "      <td>0</td>\n",
              "      <td>0</td>\n",
              "      <td>0</td>\n",
              "    </tr>\n",
              "    <tr>\n",
              "      <th>1</th>\n",
              "      <td>0</td>\n",
              "      <td>0</td>\n",
              "      <td>0</td>\n",
              "      <td>1</td>\n",
              "    </tr>\n",
              "    <tr>\n",
              "      <th>2</th>\n",
              "      <td>0</td>\n",
              "      <td>0</td>\n",
              "      <td>1</td>\n",
              "      <td>0</td>\n",
              "    </tr>\n",
              "    <tr>\n",
              "      <th>3</th>\n",
              "      <td>0</td>\n",
              "      <td>0</td>\n",
              "      <td>1</td>\n",
              "      <td>0</td>\n",
              "    </tr>\n",
              "    <tr>\n",
              "      <th>4</th>\n",
              "      <td>0</td>\n",
              "      <td>0</td>\n",
              "      <td>1</td>\n",
              "      <td>0</td>\n",
              "    </tr>\n",
              "    <tr>\n",
              "      <th>...</th>\n",
              "      <td>...</td>\n",
              "      <td>...</td>\n",
              "      <td>...</td>\n",
              "      <td>...</td>\n",
              "    </tr>\n",
              "    <tr>\n",
              "      <th>4282</th>\n",
              "      <td>0</td>\n",
              "      <td>1</td>\n",
              "      <td>0</td>\n",
              "      <td>0</td>\n",
              "    </tr>\n",
              "    <tr>\n",
              "      <th>4283</th>\n",
              "      <td>0</td>\n",
              "      <td>0</td>\n",
              "      <td>1</td>\n",
              "      <td>0</td>\n",
              "    </tr>\n",
              "    <tr>\n",
              "      <th>4284</th>\n",
              "      <td>0</td>\n",
              "      <td>0</td>\n",
              "      <td>1</td>\n",
              "      <td>0</td>\n",
              "    </tr>\n",
              "    <tr>\n",
              "      <th>4285</th>\n",
              "      <td>0</td>\n",
              "      <td>0</td>\n",
              "      <td>1</td>\n",
              "      <td>0</td>\n",
              "    </tr>\n",
              "    <tr>\n",
              "      <th>4286</th>\n",
              "      <td>0</td>\n",
              "      <td>0</td>\n",
              "      <td>1</td>\n",
              "      <td>0</td>\n",
              "    </tr>\n",
              "  </tbody>\n",
              "</table>\n",
              "<p>4287 rows × 4 columns</p>\n",
              "</div>\n",
              "      <button class=\"colab-df-convert\" onclick=\"convertToInteractive('df-b8a535fa-9174-4241-abe1-8ae12ee34fcd')\"\n",
              "              title=\"Convert this dataframe to an interactive table.\"\n",
              "              style=\"display:none;\">\n",
              "        \n",
              "  <svg xmlns=\"http://www.w3.org/2000/svg\" height=\"24px\"viewBox=\"0 0 24 24\"\n",
              "       width=\"24px\">\n",
              "    <path d=\"M0 0h24v24H0V0z\" fill=\"none\"/>\n",
              "    <path d=\"M18.56 5.44l.94 2.06.94-2.06 2.06-.94-2.06-.94-.94-2.06-.94 2.06-2.06.94zm-11 1L8.5 8.5l.94-2.06 2.06-.94-2.06-.94L8.5 2.5l-.94 2.06-2.06.94zm10 10l.94 2.06.94-2.06 2.06-.94-2.06-.94-.94-2.06-.94 2.06-2.06.94z\"/><path d=\"M17.41 7.96l-1.37-1.37c-.4-.4-.92-.59-1.43-.59-.52 0-1.04.2-1.43.59L10.3 9.45l-7.72 7.72c-.78.78-.78 2.05 0 2.83L4 21.41c.39.39.9.59 1.41.59.51 0 1.02-.2 1.41-.59l7.78-7.78 2.81-2.81c.8-.78.8-2.07 0-2.86zM5.41 20L4 18.59l7.72-7.72 1.47 1.35L5.41 20z\"/>\n",
              "  </svg>\n",
              "      </button>\n",
              "      \n",
              "  <style>\n",
              "    .colab-df-container {\n",
              "      display:flex;\n",
              "      flex-wrap:wrap;\n",
              "      gap: 12px;\n",
              "    }\n",
              "\n",
              "    .colab-df-convert {\n",
              "      background-color: #E8F0FE;\n",
              "      border: none;\n",
              "      border-radius: 50%;\n",
              "      cursor: pointer;\n",
              "      display: none;\n",
              "      fill: #1967D2;\n",
              "      height: 32px;\n",
              "      padding: 0 0 0 0;\n",
              "      width: 32px;\n",
              "    }\n",
              "\n",
              "    .colab-df-convert:hover {\n",
              "      background-color: #E2EBFA;\n",
              "      box-shadow: 0px 1px 2px rgba(60, 64, 67, 0.3), 0px 1px 3px 1px rgba(60, 64, 67, 0.15);\n",
              "      fill: #174EA6;\n",
              "    }\n",
              "\n",
              "    [theme=dark] .colab-df-convert {\n",
              "      background-color: #3B4455;\n",
              "      fill: #D2E3FC;\n",
              "    }\n",
              "\n",
              "    [theme=dark] .colab-df-convert:hover {\n",
              "      background-color: #434B5C;\n",
              "      box-shadow: 0px 1px 3px 1px rgba(0, 0, 0, 0.15);\n",
              "      filter: drop-shadow(0px 1px 2px rgba(0, 0, 0, 0.3));\n",
              "      fill: #FFFFFF;\n",
              "    }\n",
              "  </style>\n",
              "\n",
              "      <script>\n",
              "        const buttonEl =\n",
              "          document.querySelector('#df-b8a535fa-9174-4241-abe1-8ae12ee34fcd button.colab-df-convert');\n",
              "        buttonEl.style.display =\n",
              "          google.colab.kernel.accessAllowed ? 'block' : 'none';\n",
              "\n",
              "        async function convertToInteractive(key) {\n",
              "          const element = document.querySelector('#df-b8a535fa-9174-4241-abe1-8ae12ee34fcd');\n",
              "          const dataTable =\n",
              "            await google.colab.kernel.invokeFunction('convertToInteractive',\n",
              "                                                     [key], {});\n",
              "          if (!dataTable) return;\n",
              "\n",
              "          const docLinkHtml = 'Like what you see? Visit the ' +\n",
              "            '<a target=\"_blank\" href=https://colab.research.google.com/notebooks/data_table.ipynb>data table notebook</a>'\n",
              "            + ' to learn more about interactive tables.';\n",
              "          element.innerHTML = '';\n",
              "          dataTable['output_type'] = 'display_data';\n",
              "          await google.colab.output.renderOutput(dataTable, element);\n",
              "          const docLink = document.createElement('div');\n",
              "          docLink.innerHTML = docLinkHtml;\n",
              "          element.appendChild(docLink);\n",
              "        }\n",
              "      </script>\n",
              "    </div>\n",
              "  </div>\n",
              "  "
            ]
          },
          "metadata": {},
          "execution_count": 68
        }
      ]
    },
    {
      "cell_type": "markdown",
      "source": [
        "**Concatenating original dataframe with election_df_party**\n",
        "\n",
        "Here we will be concationg nationg the original dataframe with election_df_party dataframe. Also we shall droping the column of **party_simplified** as the latter dataframe is the one-hot encode version of the same.\n",
        "For concatinationg we will use `.concat(axis=1)` so that we can concatenate along the columns, else by default concatetaion will occur via rows."
      ],
      "metadata": {
        "id": "E1FLs3E7Phhf"
      }
    },
    {
      "cell_type": "code",
      "source": [
        "election_df = pd.concat([election_df, election_df_party], axis = 1)"
      ],
      "metadata": {
        "id": "d3r27GDtQwh1"
      },
      "execution_count": null,
      "outputs": []
    },
    {
      "cell_type": "code",
      "source": [
        "election_df.drop(\"party_simplified\", axis = 1, inplace = True)"
      ],
      "metadata": {
        "id": "IdjPip0kREIV"
      },
      "execution_count": null,
      "outputs": []
    },
    {
      "cell_type": "code",
      "source": [
        "election_df"
      ],
      "metadata": {
        "colab": {
          "base_uri": "https://localhost:8080/",
          "height": 424
        },
        "id": "-wCQ2LxAZjVR",
        "outputId": "43c1d078-f89e-428c-9387-7af219c3b6e2"
      },
      "execution_count": null,
      "outputs": [
        {
          "output_type": "execute_result",
          "data": {
            "text/plain": [
              "      year    state  state_fips  state_cen  state_ic writein  candidatevotes  \\\n",
              "0     1976  ALABAMA           1         63        41   False          659170   \n",
              "1     1976  ALABAMA           1         63        41   False          504070   \n",
              "2     1976  ALABAMA           1         63        41   False            9198   \n",
              "3     1976  ALABAMA           1         63        41   False            6669   \n",
              "4     1976  ALABAMA           1         63        41   False            1954   \n",
              "...    ...      ...         ...        ...       ...     ...             ...   \n",
              "4282  2020  WYOMING          56         83        68   False            5768   \n",
              "4283  2020  WYOMING          56         83        68   False            2208   \n",
              "4284  2020  WYOMING          56         83        68    True            1739   \n",
              "4285  2020  WYOMING          56         83        68   False             279   \n",
              "4286  2020  WYOMING          56         83        68   False            1459   \n",
              "\n",
              "      totalvotes  DEMOCRAT  LIBERTARIAN  OTHER  REPUBLICAN  \n",
              "0        1182850         1            0      0           0  \n",
              "1        1182850         0            0      0           1  \n",
              "2        1182850         0            0      1           0  \n",
              "3        1182850         0            0      1           0  \n",
              "4        1182850         0            0      1           0  \n",
              "...          ...       ...          ...    ...         ...  \n",
              "4282      278503         0            1      0           0  \n",
              "4283      278503         0            0      1           0  \n",
              "4284      278503         0            0      1           0  \n",
              "4285      278503         0            0      1           0  \n",
              "4286      278503         0            0      1           0  \n",
              "\n",
              "[4287 rows x 12 columns]"
            ],
            "text/html": [
              "\n",
              "  <div id=\"df-ad05b985-3c97-4322-8422-61cc5905a436\">\n",
              "    <div class=\"colab-df-container\">\n",
              "      <div>\n",
              "<style scoped>\n",
              "    .dataframe tbody tr th:only-of-type {\n",
              "        vertical-align: middle;\n",
              "    }\n",
              "\n",
              "    .dataframe tbody tr th {\n",
              "        vertical-align: top;\n",
              "    }\n",
              "\n",
              "    .dataframe thead th {\n",
              "        text-align: right;\n",
              "    }\n",
              "</style>\n",
              "<table border=\"1\" class=\"dataframe\">\n",
              "  <thead>\n",
              "    <tr style=\"text-align: right;\">\n",
              "      <th></th>\n",
              "      <th>year</th>\n",
              "      <th>state</th>\n",
              "      <th>state_fips</th>\n",
              "      <th>state_cen</th>\n",
              "      <th>state_ic</th>\n",
              "      <th>writein</th>\n",
              "      <th>candidatevotes</th>\n",
              "      <th>totalvotes</th>\n",
              "      <th>DEMOCRAT</th>\n",
              "      <th>LIBERTARIAN</th>\n",
              "      <th>OTHER</th>\n",
              "      <th>REPUBLICAN</th>\n",
              "    </tr>\n",
              "  </thead>\n",
              "  <tbody>\n",
              "    <tr>\n",
              "      <th>0</th>\n",
              "      <td>1976</td>\n",
              "      <td>ALABAMA</td>\n",
              "      <td>1</td>\n",
              "      <td>63</td>\n",
              "      <td>41</td>\n",
              "      <td>False</td>\n",
              "      <td>659170</td>\n",
              "      <td>1182850</td>\n",
              "      <td>1</td>\n",
              "      <td>0</td>\n",
              "      <td>0</td>\n",
              "      <td>0</td>\n",
              "    </tr>\n",
              "    <tr>\n",
              "      <th>1</th>\n",
              "      <td>1976</td>\n",
              "      <td>ALABAMA</td>\n",
              "      <td>1</td>\n",
              "      <td>63</td>\n",
              "      <td>41</td>\n",
              "      <td>False</td>\n",
              "      <td>504070</td>\n",
              "      <td>1182850</td>\n",
              "      <td>0</td>\n",
              "      <td>0</td>\n",
              "      <td>0</td>\n",
              "      <td>1</td>\n",
              "    </tr>\n",
              "    <tr>\n",
              "      <th>2</th>\n",
              "      <td>1976</td>\n",
              "      <td>ALABAMA</td>\n",
              "      <td>1</td>\n",
              "      <td>63</td>\n",
              "      <td>41</td>\n",
              "      <td>False</td>\n",
              "      <td>9198</td>\n",
              "      <td>1182850</td>\n",
              "      <td>0</td>\n",
              "      <td>0</td>\n",
              "      <td>1</td>\n",
              "      <td>0</td>\n",
              "    </tr>\n",
              "    <tr>\n",
              "      <th>3</th>\n",
              "      <td>1976</td>\n",
              "      <td>ALABAMA</td>\n",
              "      <td>1</td>\n",
              "      <td>63</td>\n",
              "      <td>41</td>\n",
              "      <td>False</td>\n",
              "      <td>6669</td>\n",
              "      <td>1182850</td>\n",
              "      <td>0</td>\n",
              "      <td>0</td>\n",
              "      <td>1</td>\n",
              "      <td>0</td>\n",
              "    </tr>\n",
              "    <tr>\n",
              "      <th>4</th>\n",
              "      <td>1976</td>\n",
              "      <td>ALABAMA</td>\n",
              "      <td>1</td>\n",
              "      <td>63</td>\n",
              "      <td>41</td>\n",
              "      <td>False</td>\n",
              "      <td>1954</td>\n",
              "      <td>1182850</td>\n",
              "      <td>0</td>\n",
              "      <td>0</td>\n",
              "      <td>1</td>\n",
              "      <td>0</td>\n",
              "    </tr>\n",
              "    <tr>\n",
              "      <th>...</th>\n",
              "      <td>...</td>\n",
              "      <td>...</td>\n",
              "      <td>...</td>\n",
              "      <td>...</td>\n",
              "      <td>...</td>\n",
              "      <td>...</td>\n",
              "      <td>...</td>\n",
              "      <td>...</td>\n",
              "      <td>...</td>\n",
              "      <td>...</td>\n",
              "      <td>...</td>\n",
              "      <td>...</td>\n",
              "    </tr>\n",
              "    <tr>\n",
              "      <th>4282</th>\n",
              "      <td>2020</td>\n",
              "      <td>WYOMING</td>\n",
              "      <td>56</td>\n",
              "      <td>83</td>\n",
              "      <td>68</td>\n",
              "      <td>False</td>\n",
              "      <td>5768</td>\n",
              "      <td>278503</td>\n",
              "      <td>0</td>\n",
              "      <td>1</td>\n",
              "      <td>0</td>\n",
              "      <td>0</td>\n",
              "    </tr>\n",
              "    <tr>\n",
              "      <th>4283</th>\n",
              "      <td>2020</td>\n",
              "      <td>WYOMING</td>\n",
              "      <td>56</td>\n",
              "      <td>83</td>\n",
              "      <td>68</td>\n",
              "      <td>False</td>\n",
              "      <td>2208</td>\n",
              "      <td>278503</td>\n",
              "      <td>0</td>\n",
              "      <td>0</td>\n",
              "      <td>1</td>\n",
              "      <td>0</td>\n",
              "    </tr>\n",
              "    <tr>\n",
              "      <th>4284</th>\n",
              "      <td>2020</td>\n",
              "      <td>WYOMING</td>\n",
              "      <td>56</td>\n",
              "      <td>83</td>\n",
              "      <td>68</td>\n",
              "      <td>True</td>\n",
              "      <td>1739</td>\n",
              "      <td>278503</td>\n",
              "      <td>0</td>\n",
              "      <td>0</td>\n",
              "      <td>1</td>\n",
              "      <td>0</td>\n",
              "    </tr>\n",
              "    <tr>\n",
              "      <th>4285</th>\n",
              "      <td>2020</td>\n",
              "      <td>WYOMING</td>\n",
              "      <td>56</td>\n",
              "      <td>83</td>\n",
              "      <td>68</td>\n",
              "      <td>False</td>\n",
              "      <td>279</td>\n",
              "      <td>278503</td>\n",
              "      <td>0</td>\n",
              "      <td>0</td>\n",
              "      <td>1</td>\n",
              "      <td>0</td>\n",
              "    </tr>\n",
              "    <tr>\n",
              "      <th>4286</th>\n",
              "      <td>2020</td>\n",
              "      <td>WYOMING</td>\n",
              "      <td>56</td>\n",
              "      <td>83</td>\n",
              "      <td>68</td>\n",
              "      <td>False</td>\n",
              "      <td>1459</td>\n",
              "      <td>278503</td>\n",
              "      <td>0</td>\n",
              "      <td>0</td>\n",
              "      <td>1</td>\n",
              "      <td>0</td>\n",
              "    </tr>\n",
              "  </tbody>\n",
              "</table>\n",
              "<p>4287 rows × 12 columns</p>\n",
              "</div>\n",
              "      <button class=\"colab-df-convert\" onclick=\"convertToInteractive('df-ad05b985-3c97-4322-8422-61cc5905a436')\"\n",
              "              title=\"Convert this dataframe to an interactive table.\"\n",
              "              style=\"display:none;\">\n",
              "        \n",
              "  <svg xmlns=\"http://www.w3.org/2000/svg\" height=\"24px\"viewBox=\"0 0 24 24\"\n",
              "       width=\"24px\">\n",
              "    <path d=\"M0 0h24v24H0V0z\" fill=\"none\"/>\n",
              "    <path d=\"M18.56 5.44l.94 2.06.94-2.06 2.06-.94-2.06-.94-.94-2.06-.94 2.06-2.06.94zm-11 1L8.5 8.5l.94-2.06 2.06-.94-2.06-.94L8.5 2.5l-.94 2.06-2.06.94zm10 10l.94 2.06.94-2.06 2.06-.94-2.06-.94-.94-2.06-.94 2.06-2.06.94z\"/><path d=\"M17.41 7.96l-1.37-1.37c-.4-.4-.92-.59-1.43-.59-.52 0-1.04.2-1.43.59L10.3 9.45l-7.72 7.72c-.78.78-.78 2.05 0 2.83L4 21.41c.39.39.9.59 1.41.59.51 0 1.02-.2 1.41-.59l7.78-7.78 2.81-2.81c.8-.78.8-2.07 0-2.86zM5.41 20L4 18.59l7.72-7.72 1.47 1.35L5.41 20z\"/>\n",
              "  </svg>\n",
              "      </button>\n",
              "      \n",
              "  <style>\n",
              "    .colab-df-container {\n",
              "      display:flex;\n",
              "      flex-wrap:wrap;\n",
              "      gap: 12px;\n",
              "    }\n",
              "\n",
              "    .colab-df-convert {\n",
              "      background-color: #E8F0FE;\n",
              "      border: none;\n",
              "      border-radius: 50%;\n",
              "      cursor: pointer;\n",
              "      display: none;\n",
              "      fill: #1967D2;\n",
              "      height: 32px;\n",
              "      padding: 0 0 0 0;\n",
              "      width: 32px;\n",
              "    }\n",
              "\n",
              "    .colab-df-convert:hover {\n",
              "      background-color: #E2EBFA;\n",
              "      box-shadow: 0px 1px 2px rgba(60, 64, 67, 0.3), 0px 1px 3px 1px rgba(60, 64, 67, 0.15);\n",
              "      fill: #174EA6;\n",
              "    }\n",
              "\n",
              "    [theme=dark] .colab-df-convert {\n",
              "      background-color: #3B4455;\n",
              "      fill: #D2E3FC;\n",
              "    }\n",
              "\n",
              "    [theme=dark] .colab-df-convert:hover {\n",
              "      background-color: #434B5C;\n",
              "      box-shadow: 0px 1px 3px 1px rgba(0, 0, 0, 0.15);\n",
              "      filter: drop-shadow(0px 1px 2px rgba(0, 0, 0, 0.3));\n",
              "      fill: #FFFFFF;\n",
              "    }\n",
              "  </style>\n",
              "\n",
              "      <script>\n",
              "        const buttonEl =\n",
              "          document.querySelector('#df-ad05b985-3c97-4322-8422-61cc5905a436 button.colab-df-convert');\n",
              "        buttonEl.style.display =\n",
              "          google.colab.kernel.accessAllowed ? 'block' : 'none';\n",
              "\n",
              "        async function convertToInteractive(key) {\n",
              "          const element = document.querySelector('#df-ad05b985-3c97-4322-8422-61cc5905a436');\n",
              "          const dataTable =\n",
              "            await google.colab.kernel.invokeFunction('convertToInteractive',\n",
              "                                                     [key], {});\n",
              "          if (!dataTable) return;\n",
              "\n",
              "          const docLinkHtml = 'Like what you see? Visit the ' +\n",
              "            '<a target=\"_blank\" href=https://colab.research.google.com/notebooks/data_table.ipynb>data table notebook</a>'\n",
              "            + ' to learn more about interactive tables.';\n",
              "          element.innerHTML = '';\n",
              "          dataTable['output_type'] = 'display_data';\n",
              "          await google.colab.output.renderOutput(dataTable, element);\n",
              "          const docLink = document.createElement('div');\n",
              "          docLink.innerHTML = docLinkHtml;\n",
              "          element.appendChild(docLink);\n",
              "        }\n",
              "      </script>\n",
              "    </div>\n",
              "  </div>\n",
              "  "
            ]
          },
          "metadata": {},
          "execution_count": 71
        }
      ]
    },
    {
      "cell_type": "markdown",
      "source": [
        "As for the column **\"writein\"** the one-hot encoded values would replace the values in the original dataframe.\n",
        "There are three NaN values in this column which will be replaced with 0 using `.fillna(0)`. This will add to the count of  \"False\", an increament by 3. This will prevent from losing data in other columns for these samples. Also it will not have a significant impact on the final outcome.\n",
        "\n",
        "**Note:** The value **1** signifies **\"True\"** and the value **0** signifies **\"False\"**"
      ],
      "metadata": {
        "id": "v0-pUKspRrsN"
      }
    },
    {
      "cell_type": "code",
      "source": [
        "election_df[\"writein\"].unique()"
      ],
      "metadata": {
        "colab": {
          "base_uri": "https://localhost:8080/"
        },
        "id": "hK3lVZBsvk3L",
        "outputId": "91748397-7567-49af-997f-0d443a9dc3ec"
      },
      "execution_count": null,
      "outputs": [
        {
          "output_type": "execute_result",
          "data": {
            "text/plain": [
              "array([False, True, nan], dtype=object)"
            ]
          },
          "metadata": {},
          "execution_count": 72
        }
      ]
    },
    {
      "cell_type": "code",
      "source": [
        "election_df[\"writein\"].fillna(0, inplace = True)"
      ],
      "metadata": {
        "id": "y1G5hMKo-0rv"
      },
      "execution_count": null,
      "outputs": []
    },
    {
      "cell_type": "code",
      "source": [
        "election_df[\"writein\"].unique()"
      ],
      "metadata": {
        "colab": {
          "base_uri": "https://localhost:8080/"
        },
        "id": "MvG_9gtV_OV8",
        "outputId": "f378e762-c8e3-4a48-b84d-30ce056475a9"
      },
      "execution_count": null,
      "outputs": [
        {
          "output_type": "execute_result",
          "data": {
            "text/plain": [
              "array([False, True], dtype=object)"
            ]
          },
          "metadata": {},
          "execution_count": 74
        }
      ]
    },
    {
      "cell_type": "code",
      "source": [
        "election_df.isnull().sum()"
      ],
      "metadata": {
        "colab": {
          "base_uri": "https://localhost:8080/"
        },
        "id": "ysLcf1UZ__ZW",
        "outputId": "9d8a7d50-f98f-4c71-81d4-2231283ce398"
      },
      "execution_count": null,
      "outputs": [
        {
          "output_type": "execute_result",
          "data": {
            "text/plain": [
              "year              0\n",
              "state             0\n",
              "state_fips        0\n",
              "state_cen         0\n",
              "state_ic          0\n",
              "writein           0\n",
              "candidatevotes    0\n",
              "totalvotes        0\n",
              "DEMOCRAT          0\n",
              "LIBERTARIAN       0\n",
              "OTHER             0\n",
              "REPUBLICAN        0\n",
              "dtype: int64"
            ]
          },
          "metadata": {},
          "execution_count": 75
        }
      ]
    },
    {
      "cell_type": "code",
      "source": [
        "election_df[\"writein\"] = pd.get_dummies(election_df.writein)[True]"
      ],
      "metadata": {
        "id": "bRTfm-FnAQVK"
      },
      "execution_count": null,
      "outputs": []
    },
    {
      "cell_type": "markdown",
      "source": [
        "**Viewing the dataframe**"
      ],
      "metadata": {
        "id": "jwtbJCrN-8q4"
      }
    },
    {
      "cell_type": "code",
      "source": [
        "election_df"
      ],
      "metadata": {
        "colab": {
          "base_uri": "https://localhost:8080/",
          "height": 424
        },
        "id": "pRxAzF399Qdv",
        "outputId": "669ffed3-7da8-4beb-8b6f-3573838ffae9"
      },
      "execution_count": null,
      "outputs": [
        {
          "output_type": "execute_result",
          "data": {
            "text/plain": [
              "      year    state  state_fips  state_cen  state_ic  writein  candidatevotes  \\\n",
              "0     1976  ALABAMA           1         63        41        0          659170   \n",
              "1     1976  ALABAMA           1         63        41        0          504070   \n",
              "2     1976  ALABAMA           1         63        41        0            9198   \n",
              "3     1976  ALABAMA           1         63        41        0            6669   \n",
              "4     1976  ALABAMA           1         63        41        0            1954   \n",
              "...    ...      ...         ...        ...       ...      ...             ...   \n",
              "4282  2020  WYOMING          56         83        68        0            5768   \n",
              "4283  2020  WYOMING          56         83        68        0            2208   \n",
              "4284  2020  WYOMING          56         83        68        1            1739   \n",
              "4285  2020  WYOMING          56         83        68        0             279   \n",
              "4286  2020  WYOMING          56         83        68        0            1459   \n",
              "\n",
              "      totalvotes  DEMOCRAT  LIBERTARIAN  OTHER  REPUBLICAN  \n",
              "0        1182850         1            0      0           0  \n",
              "1        1182850         0            0      0           1  \n",
              "2        1182850         0            0      1           0  \n",
              "3        1182850         0            0      1           0  \n",
              "4        1182850         0            0      1           0  \n",
              "...          ...       ...          ...    ...         ...  \n",
              "4282      278503         0            1      0           0  \n",
              "4283      278503         0            0      1           0  \n",
              "4284      278503         0            0      1           0  \n",
              "4285      278503         0            0      1           0  \n",
              "4286      278503         0            0      1           0  \n",
              "\n",
              "[4287 rows x 12 columns]"
            ],
            "text/html": [
              "\n",
              "  <div id=\"df-3ba8ed60-3bbe-48f6-bcf2-6abae9d3e5fb\">\n",
              "    <div class=\"colab-df-container\">\n",
              "      <div>\n",
              "<style scoped>\n",
              "    .dataframe tbody tr th:only-of-type {\n",
              "        vertical-align: middle;\n",
              "    }\n",
              "\n",
              "    .dataframe tbody tr th {\n",
              "        vertical-align: top;\n",
              "    }\n",
              "\n",
              "    .dataframe thead th {\n",
              "        text-align: right;\n",
              "    }\n",
              "</style>\n",
              "<table border=\"1\" class=\"dataframe\">\n",
              "  <thead>\n",
              "    <tr style=\"text-align: right;\">\n",
              "      <th></th>\n",
              "      <th>year</th>\n",
              "      <th>state</th>\n",
              "      <th>state_fips</th>\n",
              "      <th>state_cen</th>\n",
              "      <th>state_ic</th>\n",
              "      <th>writein</th>\n",
              "      <th>candidatevotes</th>\n",
              "      <th>totalvotes</th>\n",
              "      <th>DEMOCRAT</th>\n",
              "      <th>LIBERTARIAN</th>\n",
              "      <th>OTHER</th>\n",
              "      <th>REPUBLICAN</th>\n",
              "    </tr>\n",
              "  </thead>\n",
              "  <tbody>\n",
              "    <tr>\n",
              "      <th>0</th>\n",
              "      <td>1976</td>\n",
              "      <td>ALABAMA</td>\n",
              "      <td>1</td>\n",
              "      <td>63</td>\n",
              "      <td>41</td>\n",
              "      <td>0</td>\n",
              "      <td>659170</td>\n",
              "      <td>1182850</td>\n",
              "      <td>1</td>\n",
              "      <td>0</td>\n",
              "      <td>0</td>\n",
              "      <td>0</td>\n",
              "    </tr>\n",
              "    <tr>\n",
              "      <th>1</th>\n",
              "      <td>1976</td>\n",
              "      <td>ALABAMA</td>\n",
              "      <td>1</td>\n",
              "      <td>63</td>\n",
              "      <td>41</td>\n",
              "      <td>0</td>\n",
              "      <td>504070</td>\n",
              "      <td>1182850</td>\n",
              "      <td>0</td>\n",
              "      <td>0</td>\n",
              "      <td>0</td>\n",
              "      <td>1</td>\n",
              "    </tr>\n",
              "    <tr>\n",
              "      <th>2</th>\n",
              "      <td>1976</td>\n",
              "      <td>ALABAMA</td>\n",
              "      <td>1</td>\n",
              "      <td>63</td>\n",
              "      <td>41</td>\n",
              "      <td>0</td>\n",
              "      <td>9198</td>\n",
              "      <td>1182850</td>\n",
              "      <td>0</td>\n",
              "      <td>0</td>\n",
              "      <td>1</td>\n",
              "      <td>0</td>\n",
              "    </tr>\n",
              "    <tr>\n",
              "      <th>3</th>\n",
              "      <td>1976</td>\n",
              "      <td>ALABAMA</td>\n",
              "      <td>1</td>\n",
              "      <td>63</td>\n",
              "      <td>41</td>\n",
              "      <td>0</td>\n",
              "      <td>6669</td>\n",
              "      <td>1182850</td>\n",
              "      <td>0</td>\n",
              "      <td>0</td>\n",
              "      <td>1</td>\n",
              "      <td>0</td>\n",
              "    </tr>\n",
              "    <tr>\n",
              "      <th>4</th>\n",
              "      <td>1976</td>\n",
              "      <td>ALABAMA</td>\n",
              "      <td>1</td>\n",
              "      <td>63</td>\n",
              "      <td>41</td>\n",
              "      <td>0</td>\n",
              "      <td>1954</td>\n",
              "      <td>1182850</td>\n",
              "      <td>0</td>\n",
              "      <td>0</td>\n",
              "      <td>1</td>\n",
              "      <td>0</td>\n",
              "    </tr>\n",
              "    <tr>\n",
              "      <th>...</th>\n",
              "      <td>...</td>\n",
              "      <td>...</td>\n",
              "      <td>...</td>\n",
              "      <td>...</td>\n",
              "      <td>...</td>\n",
              "      <td>...</td>\n",
              "      <td>...</td>\n",
              "      <td>...</td>\n",
              "      <td>...</td>\n",
              "      <td>...</td>\n",
              "      <td>...</td>\n",
              "      <td>...</td>\n",
              "    </tr>\n",
              "    <tr>\n",
              "      <th>4282</th>\n",
              "      <td>2020</td>\n",
              "      <td>WYOMING</td>\n",
              "      <td>56</td>\n",
              "      <td>83</td>\n",
              "      <td>68</td>\n",
              "      <td>0</td>\n",
              "      <td>5768</td>\n",
              "      <td>278503</td>\n",
              "      <td>0</td>\n",
              "      <td>1</td>\n",
              "      <td>0</td>\n",
              "      <td>0</td>\n",
              "    </tr>\n",
              "    <tr>\n",
              "      <th>4283</th>\n",
              "      <td>2020</td>\n",
              "      <td>WYOMING</td>\n",
              "      <td>56</td>\n",
              "      <td>83</td>\n",
              "      <td>68</td>\n",
              "      <td>0</td>\n",
              "      <td>2208</td>\n",
              "      <td>278503</td>\n",
              "      <td>0</td>\n",
              "      <td>0</td>\n",
              "      <td>1</td>\n",
              "      <td>0</td>\n",
              "    </tr>\n",
              "    <tr>\n",
              "      <th>4284</th>\n",
              "      <td>2020</td>\n",
              "      <td>WYOMING</td>\n",
              "      <td>56</td>\n",
              "      <td>83</td>\n",
              "      <td>68</td>\n",
              "      <td>1</td>\n",
              "      <td>1739</td>\n",
              "      <td>278503</td>\n",
              "      <td>0</td>\n",
              "      <td>0</td>\n",
              "      <td>1</td>\n",
              "      <td>0</td>\n",
              "    </tr>\n",
              "    <tr>\n",
              "      <th>4285</th>\n",
              "      <td>2020</td>\n",
              "      <td>WYOMING</td>\n",
              "      <td>56</td>\n",
              "      <td>83</td>\n",
              "      <td>68</td>\n",
              "      <td>0</td>\n",
              "      <td>279</td>\n",
              "      <td>278503</td>\n",
              "      <td>0</td>\n",
              "      <td>0</td>\n",
              "      <td>1</td>\n",
              "      <td>0</td>\n",
              "    </tr>\n",
              "    <tr>\n",
              "      <th>4286</th>\n",
              "      <td>2020</td>\n",
              "      <td>WYOMING</td>\n",
              "      <td>56</td>\n",
              "      <td>83</td>\n",
              "      <td>68</td>\n",
              "      <td>0</td>\n",
              "      <td>1459</td>\n",
              "      <td>278503</td>\n",
              "      <td>0</td>\n",
              "      <td>0</td>\n",
              "      <td>1</td>\n",
              "      <td>0</td>\n",
              "    </tr>\n",
              "  </tbody>\n",
              "</table>\n",
              "<p>4287 rows × 12 columns</p>\n",
              "</div>\n",
              "      <button class=\"colab-df-convert\" onclick=\"convertToInteractive('df-3ba8ed60-3bbe-48f6-bcf2-6abae9d3e5fb')\"\n",
              "              title=\"Convert this dataframe to an interactive table.\"\n",
              "              style=\"display:none;\">\n",
              "        \n",
              "  <svg xmlns=\"http://www.w3.org/2000/svg\" height=\"24px\"viewBox=\"0 0 24 24\"\n",
              "       width=\"24px\">\n",
              "    <path d=\"M0 0h24v24H0V0z\" fill=\"none\"/>\n",
              "    <path d=\"M18.56 5.44l.94 2.06.94-2.06 2.06-.94-2.06-.94-.94-2.06-.94 2.06-2.06.94zm-11 1L8.5 8.5l.94-2.06 2.06-.94-2.06-.94L8.5 2.5l-.94 2.06-2.06.94zm10 10l.94 2.06.94-2.06 2.06-.94-2.06-.94-.94-2.06-.94 2.06-2.06.94z\"/><path d=\"M17.41 7.96l-1.37-1.37c-.4-.4-.92-.59-1.43-.59-.52 0-1.04.2-1.43.59L10.3 9.45l-7.72 7.72c-.78.78-.78 2.05 0 2.83L4 21.41c.39.39.9.59 1.41.59.51 0 1.02-.2 1.41-.59l7.78-7.78 2.81-2.81c.8-.78.8-2.07 0-2.86zM5.41 20L4 18.59l7.72-7.72 1.47 1.35L5.41 20z\"/>\n",
              "  </svg>\n",
              "      </button>\n",
              "      \n",
              "  <style>\n",
              "    .colab-df-container {\n",
              "      display:flex;\n",
              "      flex-wrap:wrap;\n",
              "      gap: 12px;\n",
              "    }\n",
              "\n",
              "    .colab-df-convert {\n",
              "      background-color: #E8F0FE;\n",
              "      border: none;\n",
              "      border-radius: 50%;\n",
              "      cursor: pointer;\n",
              "      display: none;\n",
              "      fill: #1967D2;\n",
              "      height: 32px;\n",
              "      padding: 0 0 0 0;\n",
              "      width: 32px;\n",
              "    }\n",
              "\n",
              "    .colab-df-convert:hover {\n",
              "      background-color: #E2EBFA;\n",
              "      box-shadow: 0px 1px 2px rgba(60, 64, 67, 0.3), 0px 1px 3px 1px rgba(60, 64, 67, 0.15);\n",
              "      fill: #174EA6;\n",
              "    }\n",
              "\n",
              "    [theme=dark] .colab-df-convert {\n",
              "      background-color: #3B4455;\n",
              "      fill: #D2E3FC;\n",
              "    }\n",
              "\n",
              "    [theme=dark] .colab-df-convert:hover {\n",
              "      background-color: #434B5C;\n",
              "      box-shadow: 0px 1px 3px 1px rgba(0, 0, 0, 0.15);\n",
              "      filter: drop-shadow(0px 1px 2px rgba(0, 0, 0, 0.3));\n",
              "      fill: #FFFFFF;\n",
              "    }\n",
              "  </style>\n",
              "\n",
              "      <script>\n",
              "        const buttonEl =\n",
              "          document.querySelector('#df-3ba8ed60-3bbe-48f6-bcf2-6abae9d3e5fb button.colab-df-convert');\n",
              "        buttonEl.style.display =\n",
              "          google.colab.kernel.accessAllowed ? 'block' : 'none';\n",
              "\n",
              "        async function convertToInteractive(key) {\n",
              "          const element = document.querySelector('#df-3ba8ed60-3bbe-48f6-bcf2-6abae9d3e5fb');\n",
              "          const dataTable =\n",
              "            await google.colab.kernel.invokeFunction('convertToInteractive',\n",
              "                                                     [key], {});\n",
              "          if (!dataTable) return;\n",
              "\n",
              "          const docLinkHtml = 'Like what you see? Visit the ' +\n",
              "            '<a target=\"_blank\" href=https://colab.research.google.com/notebooks/data_table.ipynb>data table notebook</a>'\n",
              "            + ' to learn more about interactive tables.';\n",
              "          element.innerHTML = '';\n",
              "          dataTable['output_type'] = 'display_data';\n",
              "          await google.colab.output.renderOutput(dataTable, element);\n",
              "          const docLink = document.createElement('div');\n",
              "          docLink.innerHTML = docLinkHtml;\n",
              "          element.appendChild(docLink);\n",
              "        }\n",
              "      </script>\n",
              "    </div>\n",
              "  </div>\n",
              "  "
            ]
          },
          "metadata": {},
          "execution_count": 77
        }
      ]
    },
    {
      "cell_type": "code",
      "source": [
        "election_df.shape"
      ],
      "metadata": {
        "colab": {
          "base_uri": "https://localhost:8080/"
        },
        "id": "3Ng_NP829Wv1",
        "outputId": "6d97cc17-8a2f-47f9-aacd-f9463f34b658"
      },
      "execution_count": null,
      "outputs": [
        {
          "output_type": "execute_result",
          "data": {
            "text/plain": [
              "(4287, 12)"
            ]
          },
          "metadata": {},
          "execution_count": 78
        }
      ]
    },
    {
      "cell_type": "code",
      "source": [
        "election_df.isnull().sum()"
      ],
      "metadata": {
        "colab": {
          "base_uri": "https://localhost:8080/"
        },
        "id": "qMAqXIAQM5zs",
        "outputId": "a9df7643-b14b-4d96-e176-0816cd677641"
      },
      "execution_count": null,
      "outputs": [
        {
          "output_type": "execute_result",
          "data": {
            "text/plain": [
              "year              0\n",
              "state             0\n",
              "state_fips        0\n",
              "state_cen         0\n",
              "state_ic          0\n",
              "writein           0\n",
              "candidatevotes    0\n",
              "totalvotes        0\n",
              "DEMOCRAT          0\n",
              "LIBERTARIAN       0\n",
              "OTHER             0\n",
              "REPUBLICAN        0\n",
              "dtype: int64"
            ]
          },
          "metadata": {},
          "execution_count": 79
        }
      ]
    },
    {
      "cell_type": "code",
      "source": [
        "election_df.info()"
      ],
      "metadata": {
        "colab": {
          "base_uri": "https://localhost:8080/"
        },
        "id": "AKOkQUl4pNG4",
        "outputId": "731cfb12-8fa8-4832-ba72-ab1bfebf9f92"
      },
      "execution_count": null,
      "outputs": [
        {
          "output_type": "stream",
          "name": "stdout",
          "text": [
            "<class 'pandas.core.frame.DataFrame'>\n",
            "RangeIndex: 4287 entries, 0 to 4286\n",
            "Data columns (total 12 columns):\n",
            " #   Column          Non-Null Count  Dtype \n",
            "---  ------          --------------  ----- \n",
            " 0   year            4287 non-null   int64 \n",
            " 1   state           4287 non-null   object\n",
            " 2   state_fips      4287 non-null   int64 \n",
            " 3   state_cen       4287 non-null   int64 \n",
            " 4   state_ic        4287 non-null   int64 \n",
            " 5   writein         4287 non-null   uint8 \n",
            " 6   candidatevotes  4287 non-null   int64 \n",
            " 7   totalvotes      4287 non-null   int64 \n",
            " 8   DEMOCRAT        4287 non-null   uint8 \n",
            " 9   LIBERTARIAN     4287 non-null   uint8 \n",
            " 10  OTHER           4287 non-null   uint8 \n",
            " 11  REPUBLICAN      4287 non-null   uint8 \n",
            "dtypes: int64(6), object(1), uint8(5)\n",
            "memory usage: 255.5+ KB\n"
          ]
        }
      ]
    },
    {
      "cell_type": "code",
      "source": [
        "election_df.head()"
      ],
      "metadata": {
        "colab": {
          "base_uri": "https://localhost:8080/",
          "height": 206
        },
        "id": "zZpjUydvyDqb",
        "outputId": "8962b01a-1c13-46c9-dbfe-5998bffb83bf"
      },
      "execution_count": null,
      "outputs": [
        {
          "output_type": "execute_result",
          "data": {
            "text/plain": [
              "   year    state  state_fips  state_cen  state_ic  writein  candidatevotes  \\\n",
              "0  1976  ALABAMA           1         63        41        0          659170   \n",
              "1  1976  ALABAMA           1         63        41        0          504070   \n",
              "2  1976  ALABAMA           1         63        41        0            9198   \n",
              "3  1976  ALABAMA           1         63        41        0            6669   \n",
              "4  1976  ALABAMA           1         63        41        0            1954   \n",
              "\n",
              "   totalvotes  DEMOCRAT  LIBERTARIAN  OTHER  REPUBLICAN  \n",
              "0     1182850         1            0      0           0  \n",
              "1     1182850         0            0      0           1  \n",
              "2     1182850         0            0      1           0  \n",
              "3     1182850         0            0      1           0  \n",
              "4     1182850         0            0      1           0  "
            ],
            "text/html": [
              "\n",
              "  <div id=\"df-7734c90b-d9d0-4c4d-a6ed-5e590a1b5434\">\n",
              "    <div class=\"colab-df-container\">\n",
              "      <div>\n",
              "<style scoped>\n",
              "    .dataframe tbody tr th:only-of-type {\n",
              "        vertical-align: middle;\n",
              "    }\n",
              "\n",
              "    .dataframe tbody tr th {\n",
              "        vertical-align: top;\n",
              "    }\n",
              "\n",
              "    .dataframe thead th {\n",
              "        text-align: right;\n",
              "    }\n",
              "</style>\n",
              "<table border=\"1\" class=\"dataframe\">\n",
              "  <thead>\n",
              "    <tr style=\"text-align: right;\">\n",
              "      <th></th>\n",
              "      <th>year</th>\n",
              "      <th>state</th>\n",
              "      <th>state_fips</th>\n",
              "      <th>state_cen</th>\n",
              "      <th>state_ic</th>\n",
              "      <th>writein</th>\n",
              "      <th>candidatevotes</th>\n",
              "      <th>totalvotes</th>\n",
              "      <th>DEMOCRAT</th>\n",
              "      <th>LIBERTARIAN</th>\n",
              "      <th>OTHER</th>\n",
              "      <th>REPUBLICAN</th>\n",
              "    </tr>\n",
              "  </thead>\n",
              "  <tbody>\n",
              "    <tr>\n",
              "      <th>0</th>\n",
              "      <td>1976</td>\n",
              "      <td>ALABAMA</td>\n",
              "      <td>1</td>\n",
              "      <td>63</td>\n",
              "      <td>41</td>\n",
              "      <td>0</td>\n",
              "      <td>659170</td>\n",
              "      <td>1182850</td>\n",
              "      <td>1</td>\n",
              "      <td>0</td>\n",
              "      <td>0</td>\n",
              "      <td>0</td>\n",
              "    </tr>\n",
              "    <tr>\n",
              "      <th>1</th>\n",
              "      <td>1976</td>\n",
              "      <td>ALABAMA</td>\n",
              "      <td>1</td>\n",
              "      <td>63</td>\n",
              "      <td>41</td>\n",
              "      <td>0</td>\n",
              "      <td>504070</td>\n",
              "      <td>1182850</td>\n",
              "      <td>0</td>\n",
              "      <td>0</td>\n",
              "      <td>0</td>\n",
              "      <td>1</td>\n",
              "    </tr>\n",
              "    <tr>\n",
              "      <th>2</th>\n",
              "      <td>1976</td>\n",
              "      <td>ALABAMA</td>\n",
              "      <td>1</td>\n",
              "      <td>63</td>\n",
              "      <td>41</td>\n",
              "      <td>0</td>\n",
              "      <td>9198</td>\n",
              "      <td>1182850</td>\n",
              "      <td>0</td>\n",
              "      <td>0</td>\n",
              "      <td>1</td>\n",
              "      <td>0</td>\n",
              "    </tr>\n",
              "    <tr>\n",
              "      <th>3</th>\n",
              "      <td>1976</td>\n",
              "      <td>ALABAMA</td>\n",
              "      <td>1</td>\n",
              "      <td>63</td>\n",
              "      <td>41</td>\n",
              "      <td>0</td>\n",
              "      <td>6669</td>\n",
              "      <td>1182850</td>\n",
              "      <td>0</td>\n",
              "      <td>0</td>\n",
              "      <td>1</td>\n",
              "      <td>0</td>\n",
              "    </tr>\n",
              "    <tr>\n",
              "      <th>4</th>\n",
              "      <td>1976</td>\n",
              "      <td>ALABAMA</td>\n",
              "      <td>1</td>\n",
              "      <td>63</td>\n",
              "      <td>41</td>\n",
              "      <td>0</td>\n",
              "      <td>1954</td>\n",
              "      <td>1182850</td>\n",
              "      <td>0</td>\n",
              "      <td>0</td>\n",
              "      <td>1</td>\n",
              "      <td>0</td>\n",
              "    </tr>\n",
              "  </tbody>\n",
              "</table>\n",
              "</div>\n",
              "      <button class=\"colab-df-convert\" onclick=\"convertToInteractive('df-7734c90b-d9d0-4c4d-a6ed-5e590a1b5434')\"\n",
              "              title=\"Convert this dataframe to an interactive table.\"\n",
              "              style=\"display:none;\">\n",
              "        \n",
              "  <svg xmlns=\"http://www.w3.org/2000/svg\" height=\"24px\"viewBox=\"0 0 24 24\"\n",
              "       width=\"24px\">\n",
              "    <path d=\"M0 0h24v24H0V0z\" fill=\"none\"/>\n",
              "    <path d=\"M18.56 5.44l.94 2.06.94-2.06 2.06-.94-2.06-.94-.94-2.06-.94 2.06-2.06.94zm-11 1L8.5 8.5l.94-2.06 2.06-.94-2.06-.94L8.5 2.5l-.94 2.06-2.06.94zm10 10l.94 2.06.94-2.06 2.06-.94-2.06-.94-.94-2.06-.94 2.06-2.06.94z\"/><path d=\"M17.41 7.96l-1.37-1.37c-.4-.4-.92-.59-1.43-.59-.52 0-1.04.2-1.43.59L10.3 9.45l-7.72 7.72c-.78.78-.78 2.05 0 2.83L4 21.41c.39.39.9.59 1.41.59.51 0 1.02-.2 1.41-.59l7.78-7.78 2.81-2.81c.8-.78.8-2.07 0-2.86zM5.41 20L4 18.59l7.72-7.72 1.47 1.35L5.41 20z\"/>\n",
              "  </svg>\n",
              "      </button>\n",
              "      \n",
              "  <style>\n",
              "    .colab-df-container {\n",
              "      display:flex;\n",
              "      flex-wrap:wrap;\n",
              "      gap: 12px;\n",
              "    }\n",
              "\n",
              "    .colab-df-convert {\n",
              "      background-color: #E8F0FE;\n",
              "      border: none;\n",
              "      border-radius: 50%;\n",
              "      cursor: pointer;\n",
              "      display: none;\n",
              "      fill: #1967D2;\n",
              "      height: 32px;\n",
              "      padding: 0 0 0 0;\n",
              "      width: 32px;\n",
              "    }\n",
              "\n",
              "    .colab-df-convert:hover {\n",
              "      background-color: #E2EBFA;\n",
              "      box-shadow: 0px 1px 2px rgba(60, 64, 67, 0.3), 0px 1px 3px 1px rgba(60, 64, 67, 0.15);\n",
              "      fill: #174EA6;\n",
              "    }\n",
              "\n",
              "    [theme=dark] .colab-df-convert {\n",
              "      background-color: #3B4455;\n",
              "      fill: #D2E3FC;\n",
              "    }\n",
              "\n",
              "    [theme=dark] .colab-df-convert:hover {\n",
              "      background-color: #434B5C;\n",
              "      box-shadow: 0px 1px 3px 1px rgba(0, 0, 0, 0.15);\n",
              "      filter: drop-shadow(0px 1px 2px rgba(0, 0, 0, 0.3));\n",
              "      fill: #FFFFFF;\n",
              "    }\n",
              "  </style>\n",
              "\n",
              "      <script>\n",
              "        const buttonEl =\n",
              "          document.querySelector('#df-7734c90b-d9d0-4c4d-a6ed-5e590a1b5434 button.colab-df-convert');\n",
              "        buttonEl.style.display =\n",
              "          google.colab.kernel.accessAllowed ? 'block' : 'none';\n",
              "\n",
              "        async function convertToInteractive(key) {\n",
              "          const element = document.querySelector('#df-7734c90b-d9d0-4c4d-a6ed-5e590a1b5434');\n",
              "          const dataTable =\n",
              "            await google.colab.kernel.invokeFunction('convertToInteractive',\n",
              "                                                     [key], {});\n",
              "          if (!dataTable) return;\n",
              "\n",
              "          const docLinkHtml = 'Like what you see? Visit the ' +\n",
              "            '<a target=\"_blank\" href=https://colab.research.google.com/notebooks/data_table.ipynb>data table notebook</a>'\n",
              "            + ' to learn more about interactive tables.';\n",
              "          element.innerHTML = '';\n",
              "          dataTable['output_type'] = 'display_data';\n",
              "          await google.colab.output.renderOutput(dataTable, element);\n",
              "          const docLink = document.createElement('div');\n",
              "          docLink.innerHTML = docLinkHtml;\n",
              "          element.appendChild(docLink);\n",
              "        }\n",
              "      </script>\n",
              "    </div>\n",
              "  </div>\n",
              "  "
            ]
          },
          "metadata": {},
          "execution_count": 81
        }
      ]
    },
    {
      "cell_type": "markdown",
      "source": [
        "**Managing with string values - column \"State\"**\n",
        "\n",
        "The column \"state\" has datatype \"object\". These can neither be standardised nor be used in dimension reduction process.\n",
        "\n",
        "This column along with a reference to its categorical variable will be saved in a different variable (in case we need it for future reference.\n",
        "Then column \"state\" shall be removed from election_df using `.drop()`"
      ],
      "metadata": {
        "id": "zcyFxDMH1X6f"
      }
    },
    {
      "cell_type": "code",
      "source": [
        "state_fips_state_name = zip(election_df[\"state_fips\"].unique(),election_df[\"state\"].unique())\n",
        "state_fips_state_name_df = pd.DataFrame(state_fips_state_name)\n",
        "column_names = {0: \"state_fips\", 1: \"state\"}\n",
        "state_fips_state_name_df.rename(columns = column_names, inplace = True )\n",
        "state_fips_state_name_df.head()"
      ],
      "metadata": {
        "colab": {
          "base_uri": "https://localhost:8080/",
          "height": 206
        },
        "id": "hVKZge_V1Prz",
        "outputId": "2b4dc288-514f-4002-c9c8-249b033c414b"
      },
      "execution_count": null,
      "outputs": [
        {
          "output_type": "execute_result",
          "data": {
            "text/plain": [
              "   state_fips       state\n",
              "0           1     ALABAMA\n",
              "1           2      ALASKA\n",
              "2           4     ARIZONA\n",
              "3           5    ARKANSAS\n",
              "4           6  CALIFORNIA"
            ],
            "text/html": [
              "\n",
              "  <div id=\"df-584e98db-85dc-437a-9bdc-7c08a8c70c3b\">\n",
              "    <div class=\"colab-df-container\">\n",
              "      <div>\n",
              "<style scoped>\n",
              "    .dataframe tbody tr th:only-of-type {\n",
              "        vertical-align: middle;\n",
              "    }\n",
              "\n",
              "    .dataframe tbody tr th {\n",
              "        vertical-align: top;\n",
              "    }\n",
              "\n",
              "    .dataframe thead th {\n",
              "        text-align: right;\n",
              "    }\n",
              "</style>\n",
              "<table border=\"1\" class=\"dataframe\">\n",
              "  <thead>\n",
              "    <tr style=\"text-align: right;\">\n",
              "      <th></th>\n",
              "      <th>state_fips</th>\n",
              "      <th>state</th>\n",
              "    </tr>\n",
              "  </thead>\n",
              "  <tbody>\n",
              "    <tr>\n",
              "      <th>0</th>\n",
              "      <td>1</td>\n",
              "      <td>ALABAMA</td>\n",
              "    </tr>\n",
              "    <tr>\n",
              "      <th>1</th>\n",
              "      <td>2</td>\n",
              "      <td>ALASKA</td>\n",
              "    </tr>\n",
              "    <tr>\n",
              "      <th>2</th>\n",
              "      <td>4</td>\n",
              "      <td>ARIZONA</td>\n",
              "    </tr>\n",
              "    <tr>\n",
              "      <th>3</th>\n",
              "      <td>5</td>\n",
              "      <td>ARKANSAS</td>\n",
              "    </tr>\n",
              "    <tr>\n",
              "      <th>4</th>\n",
              "      <td>6</td>\n",
              "      <td>CALIFORNIA</td>\n",
              "    </tr>\n",
              "  </tbody>\n",
              "</table>\n",
              "</div>\n",
              "      <button class=\"colab-df-convert\" onclick=\"convertToInteractive('df-584e98db-85dc-437a-9bdc-7c08a8c70c3b')\"\n",
              "              title=\"Convert this dataframe to an interactive table.\"\n",
              "              style=\"display:none;\">\n",
              "        \n",
              "  <svg xmlns=\"http://www.w3.org/2000/svg\" height=\"24px\"viewBox=\"0 0 24 24\"\n",
              "       width=\"24px\">\n",
              "    <path d=\"M0 0h24v24H0V0z\" fill=\"none\"/>\n",
              "    <path d=\"M18.56 5.44l.94 2.06.94-2.06 2.06-.94-2.06-.94-.94-2.06-.94 2.06-2.06.94zm-11 1L8.5 8.5l.94-2.06 2.06-.94-2.06-.94L8.5 2.5l-.94 2.06-2.06.94zm10 10l.94 2.06.94-2.06 2.06-.94-2.06-.94-.94-2.06-.94 2.06-2.06.94z\"/><path d=\"M17.41 7.96l-1.37-1.37c-.4-.4-.92-.59-1.43-.59-.52 0-1.04.2-1.43.59L10.3 9.45l-7.72 7.72c-.78.78-.78 2.05 0 2.83L4 21.41c.39.39.9.59 1.41.59.51 0 1.02-.2 1.41-.59l7.78-7.78 2.81-2.81c.8-.78.8-2.07 0-2.86zM5.41 20L4 18.59l7.72-7.72 1.47 1.35L5.41 20z\"/>\n",
              "  </svg>\n",
              "      </button>\n",
              "      \n",
              "  <style>\n",
              "    .colab-df-container {\n",
              "      display:flex;\n",
              "      flex-wrap:wrap;\n",
              "      gap: 12px;\n",
              "    }\n",
              "\n",
              "    .colab-df-convert {\n",
              "      background-color: #E8F0FE;\n",
              "      border: none;\n",
              "      border-radius: 50%;\n",
              "      cursor: pointer;\n",
              "      display: none;\n",
              "      fill: #1967D2;\n",
              "      height: 32px;\n",
              "      padding: 0 0 0 0;\n",
              "      width: 32px;\n",
              "    }\n",
              "\n",
              "    .colab-df-convert:hover {\n",
              "      background-color: #E2EBFA;\n",
              "      box-shadow: 0px 1px 2px rgba(60, 64, 67, 0.3), 0px 1px 3px 1px rgba(60, 64, 67, 0.15);\n",
              "      fill: #174EA6;\n",
              "    }\n",
              "\n",
              "    [theme=dark] .colab-df-convert {\n",
              "      background-color: #3B4455;\n",
              "      fill: #D2E3FC;\n",
              "    }\n",
              "\n",
              "    [theme=dark] .colab-df-convert:hover {\n",
              "      background-color: #434B5C;\n",
              "      box-shadow: 0px 1px 3px 1px rgba(0, 0, 0, 0.15);\n",
              "      filter: drop-shadow(0px 1px 2px rgba(0, 0, 0, 0.3));\n",
              "      fill: #FFFFFF;\n",
              "    }\n",
              "  </style>\n",
              "\n",
              "      <script>\n",
              "        const buttonEl =\n",
              "          document.querySelector('#df-584e98db-85dc-437a-9bdc-7c08a8c70c3b button.colab-df-convert');\n",
              "        buttonEl.style.display =\n",
              "          google.colab.kernel.accessAllowed ? 'block' : 'none';\n",
              "\n",
              "        async function convertToInteractive(key) {\n",
              "          const element = document.querySelector('#df-584e98db-85dc-437a-9bdc-7c08a8c70c3b');\n",
              "          const dataTable =\n",
              "            await google.colab.kernel.invokeFunction('convertToInteractive',\n",
              "                                                     [key], {});\n",
              "          if (!dataTable) return;\n",
              "\n",
              "          const docLinkHtml = 'Like what you see? Visit the ' +\n",
              "            '<a target=\"_blank\" href=https://colab.research.google.com/notebooks/data_table.ipynb>data table notebook</a>'\n",
              "            + ' to learn more about interactive tables.';\n",
              "          element.innerHTML = '';\n",
              "          dataTable['output_type'] = 'display_data';\n",
              "          await google.colab.output.renderOutput(dataTable, element);\n",
              "          const docLink = document.createElement('div');\n",
              "          docLink.innerHTML = docLinkHtml;\n",
              "          element.appendChild(docLink);\n",
              "        }\n",
              "      </script>\n",
              "    </div>\n",
              "  </div>\n",
              "  "
            ]
          },
          "metadata": {},
          "execution_count": 82
        }
      ]
    },
    {
      "cell_type": "code",
      "source": [
        "election_df.drop(\"state\", axis = 1, inplace = True)\n"
      ],
      "metadata": {
        "id": "L_s3BqUqNZAz"
      },
      "execution_count": null,
      "outputs": []
    },
    {
      "cell_type": "code",
      "source": [
        "election_df"
      ],
      "metadata": {
        "colab": {
          "base_uri": "https://localhost:8080/",
          "height": 424
        },
        "id": "6hTnAHWwLtbV",
        "outputId": "0fa5eae2-df29-471b-907a-32a2b304b0f6"
      },
      "execution_count": null,
      "outputs": [
        {
          "output_type": "execute_result",
          "data": {
            "text/plain": [
              "      year  state_fips  state_cen  state_ic  writein  candidatevotes  \\\n",
              "0     1976           1         63        41        0          659170   \n",
              "1     1976           1         63        41        0          504070   \n",
              "2     1976           1         63        41        0            9198   \n",
              "3     1976           1         63        41        0            6669   \n",
              "4     1976           1         63        41        0            1954   \n",
              "...    ...         ...        ...       ...      ...             ...   \n",
              "4282  2020          56         83        68        0            5768   \n",
              "4283  2020          56         83        68        0            2208   \n",
              "4284  2020          56         83        68        1            1739   \n",
              "4285  2020          56         83        68        0             279   \n",
              "4286  2020          56         83        68        0            1459   \n",
              "\n",
              "      totalvotes  DEMOCRAT  LIBERTARIAN  OTHER  REPUBLICAN  \n",
              "0        1182850         1            0      0           0  \n",
              "1        1182850         0            0      0           1  \n",
              "2        1182850         0            0      1           0  \n",
              "3        1182850         0            0      1           0  \n",
              "4        1182850         0            0      1           0  \n",
              "...          ...       ...          ...    ...         ...  \n",
              "4282      278503         0            1      0           0  \n",
              "4283      278503         0            0      1           0  \n",
              "4284      278503         0            0      1           0  \n",
              "4285      278503         0            0      1           0  \n",
              "4286      278503         0            0      1           0  \n",
              "\n",
              "[4287 rows x 11 columns]"
            ],
            "text/html": [
              "\n",
              "  <div id=\"df-24878b22-8d16-4ad1-a4b0-fc9335200a3b\">\n",
              "    <div class=\"colab-df-container\">\n",
              "      <div>\n",
              "<style scoped>\n",
              "    .dataframe tbody tr th:only-of-type {\n",
              "        vertical-align: middle;\n",
              "    }\n",
              "\n",
              "    .dataframe tbody tr th {\n",
              "        vertical-align: top;\n",
              "    }\n",
              "\n",
              "    .dataframe thead th {\n",
              "        text-align: right;\n",
              "    }\n",
              "</style>\n",
              "<table border=\"1\" class=\"dataframe\">\n",
              "  <thead>\n",
              "    <tr style=\"text-align: right;\">\n",
              "      <th></th>\n",
              "      <th>year</th>\n",
              "      <th>state_fips</th>\n",
              "      <th>state_cen</th>\n",
              "      <th>state_ic</th>\n",
              "      <th>writein</th>\n",
              "      <th>candidatevotes</th>\n",
              "      <th>totalvotes</th>\n",
              "      <th>DEMOCRAT</th>\n",
              "      <th>LIBERTARIAN</th>\n",
              "      <th>OTHER</th>\n",
              "      <th>REPUBLICAN</th>\n",
              "    </tr>\n",
              "  </thead>\n",
              "  <tbody>\n",
              "    <tr>\n",
              "      <th>0</th>\n",
              "      <td>1976</td>\n",
              "      <td>1</td>\n",
              "      <td>63</td>\n",
              "      <td>41</td>\n",
              "      <td>0</td>\n",
              "      <td>659170</td>\n",
              "      <td>1182850</td>\n",
              "      <td>1</td>\n",
              "      <td>0</td>\n",
              "      <td>0</td>\n",
              "      <td>0</td>\n",
              "    </tr>\n",
              "    <tr>\n",
              "      <th>1</th>\n",
              "      <td>1976</td>\n",
              "      <td>1</td>\n",
              "      <td>63</td>\n",
              "      <td>41</td>\n",
              "      <td>0</td>\n",
              "      <td>504070</td>\n",
              "      <td>1182850</td>\n",
              "      <td>0</td>\n",
              "      <td>0</td>\n",
              "      <td>0</td>\n",
              "      <td>1</td>\n",
              "    </tr>\n",
              "    <tr>\n",
              "      <th>2</th>\n",
              "      <td>1976</td>\n",
              "      <td>1</td>\n",
              "      <td>63</td>\n",
              "      <td>41</td>\n",
              "      <td>0</td>\n",
              "      <td>9198</td>\n",
              "      <td>1182850</td>\n",
              "      <td>0</td>\n",
              "      <td>0</td>\n",
              "      <td>1</td>\n",
              "      <td>0</td>\n",
              "    </tr>\n",
              "    <tr>\n",
              "      <th>3</th>\n",
              "      <td>1976</td>\n",
              "      <td>1</td>\n",
              "      <td>63</td>\n",
              "      <td>41</td>\n",
              "      <td>0</td>\n",
              "      <td>6669</td>\n",
              "      <td>1182850</td>\n",
              "      <td>0</td>\n",
              "      <td>0</td>\n",
              "      <td>1</td>\n",
              "      <td>0</td>\n",
              "    </tr>\n",
              "    <tr>\n",
              "      <th>4</th>\n",
              "      <td>1976</td>\n",
              "      <td>1</td>\n",
              "      <td>63</td>\n",
              "      <td>41</td>\n",
              "      <td>0</td>\n",
              "      <td>1954</td>\n",
              "      <td>1182850</td>\n",
              "      <td>0</td>\n",
              "      <td>0</td>\n",
              "      <td>1</td>\n",
              "      <td>0</td>\n",
              "    </tr>\n",
              "    <tr>\n",
              "      <th>...</th>\n",
              "      <td>...</td>\n",
              "      <td>...</td>\n",
              "      <td>...</td>\n",
              "      <td>...</td>\n",
              "      <td>...</td>\n",
              "      <td>...</td>\n",
              "      <td>...</td>\n",
              "      <td>...</td>\n",
              "      <td>...</td>\n",
              "      <td>...</td>\n",
              "      <td>...</td>\n",
              "    </tr>\n",
              "    <tr>\n",
              "      <th>4282</th>\n",
              "      <td>2020</td>\n",
              "      <td>56</td>\n",
              "      <td>83</td>\n",
              "      <td>68</td>\n",
              "      <td>0</td>\n",
              "      <td>5768</td>\n",
              "      <td>278503</td>\n",
              "      <td>0</td>\n",
              "      <td>1</td>\n",
              "      <td>0</td>\n",
              "      <td>0</td>\n",
              "    </tr>\n",
              "    <tr>\n",
              "      <th>4283</th>\n",
              "      <td>2020</td>\n",
              "      <td>56</td>\n",
              "      <td>83</td>\n",
              "      <td>68</td>\n",
              "      <td>0</td>\n",
              "      <td>2208</td>\n",
              "      <td>278503</td>\n",
              "      <td>0</td>\n",
              "      <td>0</td>\n",
              "      <td>1</td>\n",
              "      <td>0</td>\n",
              "    </tr>\n",
              "    <tr>\n",
              "      <th>4284</th>\n",
              "      <td>2020</td>\n",
              "      <td>56</td>\n",
              "      <td>83</td>\n",
              "      <td>68</td>\n",
              "      <td>1</td>\n",
              "      <td>1739</td>\n",
              "      <td>278503</td>\n",
              "      <td>0</td>\n",
              "      <td>0</td>\n",
              "      <td>1</td>\n",
              "      <td>0</td>\n",
              "    </tr>\n",
              "    <tr>\n",
              "      <th>4285</th>\n",
              "      <td>2020</td>\n",
              "      <td>56</td>\n",
              "      <td>83</td>\n",
              "      <td>68</td>\n",
              "      <td>0</td>\n",
              "      <td>279</td>\n",
              "      <td>278503</td>\n",
              "      <td>0</td>\n",
              "      <td>0</td>\n",
              "      <td>1</td>\n",
              "      <td>0</td>\n",
              "    </tr>\n",
              "    <tr>\n",
              "      <th>4286</th>\n",
              "      <td>2020</td>\n",
              "      <td>56</td>\n",
              "      <td>83</td>\n",
              "      <td>68</td>\n",
              "      <td>0</td>\n",
              "      <td>1459</td>\n",
              "      <td>278503</td>\n",
              "      <td>0</td>\n",
              "      <td>0</td>\n",
              "      <td>1</td>\n",
              "      <td>0</td>\n",
              "    </tr>\n",
              "  </tbody>\n",
              "</table>\n",
              "<p>4287 rows × 11 columns</p>\n",
              "</div>\n",
              "      <button class=\"colab-df-convert\" onclick=\"convertToInteractive('df-24878b22-8d16-4ad1-a4b0-fc9335200a3b')\"\n",
              "              title=\"Convert this dataframe to an interactive table.\"\n",
              "              style=\"display:none;\">\n",
              "        \n",
              "  <svg xmlns=\"http://www.w3.org/2000/svg\" height=\"24px\"viewBox=\"0 0 24 24\"\n",
              "       width=\"24px\">\n",
              "    <path d=\"M0 0h24v24H0V0z\" fill=\"none\"/>\n",
              "    <path d=\"M18.56 5.44l.94 2.06.94-2.06 2.06-.94-2.06-.94-.94-2.06-.94 2.06-2.06.94zm-11 1L8.5 8.5l.94-2.06 2.06-.94-2.06-.94L8.5 2.5l-.94 2.06-2.06.94zm10 10l.94 2.06.94-2.06 2.06-.94-2.06-.94-.94-2.06-.94 2.06-2.06.94z\"/><path d=\"M17.41 7.96l-1.37-1.37c-.4-.4-.92-.59-1.43-.59-.52 0-1.04.2-1.43.59L10.3 9.45l-7.72 7.72c-.78.78-.78 2.05 0 2.83L4 21.41c.39.39.9.59 1.41.59.51 0 1.02-.2 1.41-.59l7.78-7.78 2.81-2.81c.8-.78.8-2.07 0-2.86zM5.41 20L4 18.59l7.72-7.72 1.47 1.35L5.41 20z\"/>\n",
              "  </svg>\n",
              "      </button>\n",
              "      \n",
              "  <style>\n",
              "    .colab-df-container {\n",
              "      display:flex;\n",
              "      flex-wrap:wrap;\n",
              "      gap: 12px;\n",
              "    }\n",
              "\n",
              "    .colab-df-convert {\n",
              "      background-color: #E8F0FE;\n",
              "      border: none;\n",
              "      border-radius: 50%;\n",
              "      cursor: pointer;\n",
              "      display: none;\n",
              "      fill: #1967D2;\n",
              "      height: 32px;\n",
              "      padding: 0 0 0 0;\n",
              "      width: 32px;\n",
              "    }\n",
              "\n",
              "    .colab-df-convert:hover {\n",
              "      background-color: #E2EBFA;\n",
              "      box-shadow: 0px 1px 2px rgba(60, 64, 67, 0.3), 0px 1px 3px 1px rgba(60, 64, 67, 0.15);\n",
              "      fill: #174EA6;\n",
              "    }\n",
              "\n",
              "    [theme=dark] .colab-df-convert {\n",
              "      background-color: #3B4455;\n",
              "      fill: #D2E3FC;\n",
              "    }\n",
              "\n",
              "    [theme=dark] .colab-df-convert:hover {\n",
              "      background-color: #434B5C;\n",
              "      box-shadow: 0px 1px 3px 1px rgba(0, 0, 0, 0.15);\n",
              "      filter: drop-shadow(0px 1px 2px rgba(0, 0, 0, 0.3));\n",
              "      fill: #FFFFFF;\n",
              "    }\n",
              "  </style>\n",
              "\n",
              "      <script>\n",
              "        const buttonEl =\n",
              "          document.querySelector('#df-24878b22-8d16-4ad1-a4b0-fc9335200a3b button.colab-df-convert');\n",
              "        buttonEl.style.display =\n",
              "          google.colab.kernel.accessAllowed ? 'block' : 'none';\n",
              "\n",
              "        async function convertToInteractive(key) {\n",
              "          const element = document.querySelector('#df-24878b22-8d16-4ad1-a4b0-fc9335200a3b');\n",
              "          const dataTable =\n",
              "            await google.colab.kernel.invokeFunction('convertToInteractive',\n",
              "                                                     [key], {});\n",
              "          if (!dataTable) return;\n",
              "\n",
              "          const docLinkHtml = 'Like what you see? Visit the ' +\n",
              "            '<a target=\"_blank\" href=https://colab.research.google.com/notebooks/data_table.ipynb>data table notebook</a>'\n",
              "            + ' to learn more about interactive tables.';\n",
              "          element.innerHTML = '';\n",
              "          dataTable['output_type'] = 'display_data';\n",
              "          await google.colab.output.renderOutput(dataTable, element);\n",
              "          const docLink = document.createElement('div');\n",
              "          docLink.innerHTML = docLinkHtml;\n",
              "          element.appendChild(docLink);\n",
              "        }\n",
              "      </script>\n",
              "    </div>\n",
              "  </div>\n",
              "  "
            ]
          },
          "metadata": {},
          "execution_count": 84
        }
      ]
    },
    {
      "cell_type": "code",
      "source": [
        "election_df.info()"
      ],
      "metadata": {
        "colab": {
          "base_uri": "https://localhost:8080/"
        },
        "id": "CCCqTN3mIBI2",
        "outputId": "73bac9b7-d415-47ea-a84a-22ed8ba131aa"
      },
      "execution_count": null,
      "outputs": [
        {
          "output_type": "stream",
          "name": "stdout",
          "text": [
            "<class 'pandas.core.frame.DataFrame'>\n",
            "RangeIndex: 4287 entries, 0 to 4286\n",
            "Data columns (total 11 columns):\n",
            " #   Column          Non-Null Count  Dtype\n",
            "---  ------          --------------  -----\n",
            " 0   year            4287 non-null   int64\n",
            " 1   state_fips      4287 non-null   int64\n",
            " 2   state_cen       4287 non-null   int64\n",
            " 3   state_ic        4287 non-null   int64\n",
            " 4   writein         4287 non-null   uint8\n",
            " 5   candidatevotes  4287 non-null   int64\n",
            " 6   totalvotes      4287 non-null   int64\n",
            " 7   DEMOCRAT        4287 non-null   uint8\n",
            " 8   LIBERTARIAN     4287 non-null   uint8\n",
            " 9   OTHER           4287 non-null   uint8\n",
            " 10  REPUBLICAN      4287 non-null   uint8\n",
            "dtypes: int64(6), uint8(5)\n",
            "memory usage: 222.0 KB\n"
          ]
        }
      ]
    },
    {
      "cell_type": "code",
      "source": [
        "election_df.shape"
      ],
      "metadata": {
        "colab": {
          "base_uri": "https://localhost:8080/"
        },
        "id": "tErrmXXkIGR6",
        "outputId": "e1f53857-2a9d-4350-d525-e9738197ec12"
      },
      "execution_count": null,
      "outputs": [
        {
          "output_type": "execute_result",
          "data": {
            "text/plain": [
              "(4287, 11)"
            ]
          },
          "metadata": {},
          "execution_count": 86
        }
      ]
    },
    {
      "cell_type": "markdown",
      "source": [
        "### Standardisation of data\n",
        "\n",
        "1. Import StandardScalar class from sklearn\n",
        "2. Instantiate the class\n",
        "3. Fit and transform data using `.fit_transform(dataset)`. This will standardise the data of the dataset.\n",
        "\n",
        "Standardisation of data means bringing the data into a uniform format which helps utilise data in a better manner for research and/or analysis.\n",
        "\n",
        "*Note:* By scaling data before dimension reduction we, not only, specify that all features carry equal weight, but also, eliminate the risk of losing any outlier data."
      ],
      "metadata": {
        "id": "P5HKuzSdx3V7"
      }
    },
    {
      "cell_type": "markdown",
      "source": [
        "**Fitting and transforming the standardised election data**"
      ],
      "metadata": {
        "id": "gNDTuLDSWY8_"
      }
    },
    {
      "cell_type": "code",
      "source": [
        "from sklearn.preprocessing import StandardScaler"
      ],
      "metadata": {
        "id": "g1ZlCTgY0g_3"
      },
      "execution_count": null,
      "outputs": []
    },
    {
      "cell_type": "code",
      "source": [
        "standardised_election_df = StandardScaler()"
      ],
      "metadata": {
        "id": "a9f0Qkyi0_Lz"
      },
      "execution_count": null,
      "outputs": []
    },
    {
      "cell_type": "markdown",
      "source": [
        "**Fitting and transforming data to standardised values**\n",
        "\n",
        "As per the first part of the question we need to visualise data for\n",
        "columns and \"totalvotes\".\n",
        "\n",
        "Using `.fit_transform(data_features)` on the above two features we will fit and transform the values to scale them to a standard unit of measurement."
      ],
      "metadata": {
        "id": "ACvFOLjdAPZP"
      }
    },
    {
      "cell_type": "code",
      "source": [
        "standard_election = standardised_election_df.fit_transform(election_df)"
      ],
      "metadata": {
        "id": "YJ_wJRLO1nv_"
      },
      "execution_count": null,
      "outputs": []
    },
    {
      "cell_type": "code",
      "source": [
        "print(\"standard_election:\" , standard_election)"
      ],
      "metadata": {
        "colab": {
          "base_uri": "https://localhost:8080/"
        },
        "id": "hChTE20m7D7a",
        "outputId": "226284fb-d3fb-4e58-fc1c-afaa43f188cc"
      },
      "execution_count": null,
      "outputs": [
        {
          "output_type": "stream",
          "name": "stdout",
          "text": [
            "standard_election: [[-1.62332012 -1.76865978  0.35867638 ... -0.37761173 -1.19651602\n",
            "  -0.40847047]\n",
            " [-1.62332012 -1.76865978  0.35867638 ... -0.37761173 -1.19651602\n",
            "   2.44815741]\n",
            " [-1.62332012 -1.76865978  0.35867638 ... -0.37761173  0.83575981\n",
            "  -0.40847047]\n",
            " ...\n",
            " [ 1.47127125  1.7536762   1.12713418 ... -0.37761173  0.83575981\n",
            "  -0.40847047]\n",
            " [ 1.47127125  1.7536762   1.12713418 ... -0.37761173  0.83575981\n",
            "  -0.40847047]\n",
            " [ 1.47127125  1.7536762   1.12713418 ... -0.37761173  0.83575981\n",
            "  -0.40847047]]\n"
          ]
        }
      ]
    },
    {
      "cell_type": "markdown",
      "source": [
        "###Dimension Reduction using t-SNE\n",
        "\n",
        "This is a non-linear, visulaisation method where original data is reduced to two or three dimensional data.\n",
        "\n",
        "In simple words, **t-SNE** is an acronymn for **t-distributed Stochastic Neighbor Embedding** which is a dimension reduction machine learning algorithm.\n",
        "1. **t- distributed** : means values are standardised according to the t-table or student's table.\n",
        "2. **Stochastic** : refers to not definite but random probabability.\n",
        "3. **Neighbor** : concerns about retaining the variance neighbor points.\n",
        "4. **Embeddings** : plotting data on to lower dimensions\n",
        "\n",
        "\n",
        "\n",
        "\n",
        "\n"
      ],
      "metadata": {
        "id": "VTlk3y-cZwRh"
      }
    },
    {
      "cell_type": "markdown",
      "source": [
        "### Dimensionality Reduction using t-SNE\n",
        "\n"
      ],
      "metadata": {
        "id": "XOJBbisD5590"
      }
    },
    {
      "cell_type": "markdown",
      "source": [
        "**Importing required libraries and classes**"
      ],
      "metadata": {
        "id": "PJ_UIkQomIrZ"
      }
    },
    {
      "cell_type": "code",
      "source": [
        "from matplotlib import pyplot as plt\n",
        "import seaborn as sns\n",
        "from sklearn.manifold import TSNE"
      ],
      "metadata": {
        "id": "9d_pyBsbmQ8J"
      },
      "execution_count": null,
      "outputs": []
    },
    {
      "cell_type": "markdown",
      "source": [
        "**Instantiating class TSNE**"
      ],
      "metadata": {
        "id": "OIkS4B4MVcZ9"
      }
    },
    {
      "cell_type": "code",
      "source": [
        "election_tsne = TSNE(n_components = 2, perplexity = 20, init=\"pca\", random_state = 7)\n"
      ],
      "metadata": {
        "id": "jVnVP5i5Vg23"
      },
      "execution_count": null,
      "outputs": []
    },
    {
      "cell_type": "code",
      "source": [
        "tsne_election = election_tsne.fit_transform(standard_election)"
      ],
      "metadata": {
        "colab": {
          "base_uri": "https://localhost:8080/"
        },
        "id": "59XdtRvHXKkg",
        "outputId": "6de7bc3e-6b9e-4626-a8bc-9ab8d729ed70"
      },
      "execution_count": null,
      "outputs": [
        {
          "output_type": "stream",
          "name": "stderr",
          "text": [
            "/usr/local/lib/python3.7/dist-packages/sklearn/manifold/_t_sne.py:793: FutureWarning: The default learning rate in TSNE will change from 200.0 to 'auto' in 1.2.\n",
            "  FutureWarning,\n",
            "/usr/local/lib/python3.7/dist-packages/sklearn/manifold/_t_sne.py:986: FutureWarning: The PCA initialization in TSNE will change to have the standard deviation of PC1 equal to 1e-4 in 1.2. This will ensure better convergence.\n",
            "  FutureWarning,\n"
          ]
        }
      ]
    },
    {
      "cell_type": "markdown",
      "source": [
        "**Visualising** the data of the two columns of \"candidatevotes\" and totalvotes of the dataset tsne_election_df\n",
        "\n"
      ],
      "metadata": {
        "id": "JdvKIcrMdA1_"
      }
    },
    {
      "cell_type": "markdown",
      "source": [
        "1. Plot for column \"candidatevotes\"\n",
        "\n",
        "To plot a graph on t-sne transformed data (is in numpy array format), we first need to convert the data into a pandas dataframe.\n",
        "\n",
        "Once we have the dataframe for the transformed data we can use `tsne_df.plot.scatter(x = tsne_df[range of samples, column_index], y = [range of samples, column_index], c = df[\"column_name to coloured\"], cmap = \"colour_chosen\", figsize = (a,b), title = \"title of the chart\")`\n",
        "\n",
        "Figsize is the width and height of the graph in inches.\n",
        "\n",
        "*Note: sharex=False has to be specified because apparently there is a bug which causes the xaxis ticks to disappear when the colormap is shown.*"
      ],
      "metadata": {
        "id": "1dg7iEqoVtg1"
      }
    },
    {
      "cell_type": "code",
      "source": [
        "tsne_election_df = pd.DataFrame(tsne_election)"
      ],
      "metadata": {
        "id": "RtGah_a-KCiD"
      },
      "execution_count": null,
      "outputs": []
    },
    {
      "cell_type": "code",
      "source": [
        "tsne_election_df.plot.scatter(0, 1, c = election_df[\"candidatevotes\"], cmap = \"Accent\", figsize=(10,5), sharex = False, title=\"Plot showing candidate votes data\", colorbar=False, legend= True)\n",
        "plt.show();"
      ],
      "metadata": {
        "colab": {
          "base_uri": "https://localhost:8080/",
          "height": 350
        },
        "id": "32Pc71eceY78",
        "outputId": "fc8e30f0-f97d-450b-94a7-0379b6d750da"
      },
      "execution_count": null,
      "outputs": [
        {
          "output_type": "display_data",
          "data": {
            "text/plain": [
              "<Figure size 720x360 with 1 Axes>"
            ],
            "image/png": "[encoded data removed]"
          },
          "metadata": {
            "needs_background": "light"
          }
        }
      ]
    },
    {
      "cell_type": "markdown",
      "source": [
        "2.Plot for column \"totalvotes\""
      ],
      "metadata": {
        "id": "DKetqzofg7kg"
      }
    },
    {
      "cell_type": "code",
      "source": [
        "tsne_election_df.plot.scatter(0, 1, c = election_df[\"totalvotes\"], cmap = \"Accent\", figsize=(10,5), sharex = False, title=\"Plot showing total votes data\", colorbar=False)\n",
        "plt.show();"
      ],
      "metadata": {
        "colab": {
          "base_uri": "https://localhost:8080/",
          "height": 350
        },
        "id": "2Q4ocAdtc_Za",
        "outputId": "2b732f97-eb20-4e88-8e0c-4a98e9ad0871"
      },
      "execution_count": null,
      "outputs": [
        {
          "output_type": "display_data",
          "data": {
            "text/plain": [
              "<Figure size 720x360 with 1 Axes>"
            ],
            "image/png": "[encoded data removed]"
          },
          "metadata": {
            "needs_background": "light"
          }
        }
      ]
    },
    {
      "cell_type": "markdown",
      "source": [
        "### Using DBSCAN for clustering"
      ],
      "metadata": {
        "id": "nuf5WEacZUh_"
      }
    },
    {
      "cell_type": "markdown",
      "source": [
        "**Importing required libraries and classes**"
      ],
      "metadata": {
        "id": "7AFLIRpke2Yk"
      }
    },
    {
      "cell_type": "code",
      "source": [
        "from sklearn.cluster import DBSCAN"
      ],
      "metadata": {
        "id": "ljXYBVHifa8l"
      },
      "execution_count": null,
      "outputs": []
    },
    {
      "cell_type": "markdown",
      "source": [
        "**Instansiating class DBSCAN**"
      ],
      "metadata": {
        "id": "wmLMKPGCg4R7"
      }
    },
    {
      "cell_type": "code",
      "source": [
        "dbscan_election = DBSCAN(eps = 3.25, min_samples = 2)"
      ],
      "metadata": {
        "id": "UfKYGpJUg-JD"
      },
      "execution_count": null,
      "outputs": []
    },
    {
      "cell_type": "markdown",
      "source": [
        "**Fitting and predicting the data to the instantiated class**\n",
        "\n",
        "We can use `.fit_predict(database)` to fit and predict the dataset. The same has to be stored in a variable for further use.\n",
        "\n",
        "Also we are creating a new column in the 2D dataframe to store values of the probabilities predicted"
      ],
      "metadata": {
        "id": "cOHibVO3hs0F"
      }
    },
    {
      "cell_type": "code",
      "source": [
        "tsne_election_df[\"election_fit_predict\"] = dbscan_election.fit_predict(tsne_election_df)"
      ],
      "metadata": {
        "id": "PMvjbwCciT9y"
      },
      "execution_count": null,
      "outputs": []
    },
    {
      "cell_type": "code",
      "source": [
        "tsne_election_df.head()"
      ],
      "metadata": {
        "colab": {
          "base_uri": "https://localhost:8080/",
          "height": 206
        },
        "id": "e1E6K6rsm7pS",
        "outputId": "01ce3781-efd2-4862-ecf7-88e255a8eb18"
      },
      "execution_count": null,
      "outputs": [
        {
          "output_type": "execute_result",
          "data": {
            "text/plain": [
              "             0              1  election_fit_predict\n",
              "0 -1131031.625  493354.718750                    -1\n",
              "1 -1150524.625  339488.031250                    -1\n",
              "2 -1212734.750 -151465.937500                    -1\n",
              "3 -1213052.750 -153968.203125                    -1\n",
              "4 -1213645.250 -158624.640625                    -1"
            ],
            "text/html": [
              "\n",
              "  <div id=\"df-432d8902-790c-428f-8438-0bf71f4804cd\">\n",
              "    <div class=\"colab-df-container\">\n",
              "      <div>\n",
              "<style scoped>\n",
              "    .dataframe tbody tr th:only-of-type {\n",
              "        vertical-align: middle;\n",
              "    }\n",
              "\n",
              "    .dataframe tbody tr th {\n",
              "        vertical-align: top;\n",
              "    }\n",
              "\n",
              "    .dataframe thead th {\n",
              "        text-align: right;\n",
              "    }\n",
              "</style>\n",
              "<table border=\"1\" class=\"dataframe\">\n",
              "  <thead>\n",
              "    <tr style=\"text-align: right;\">\n",
              "      <th></th>\n",
              "      <th>0</th>\n",
              "      <th>1</th>\n",
              "      <th>election_fit_predict</th>\n",
              "    </tr>\n",
              "  </thead>\n",
              "  <tbody>\n",
              "    <tr>\n",
              "      <th>0</th>\n",
              "      <td>-1131031.625</td>\n",
              "      <td>493354.718750</td>\n",
              "      <td>-1</td>\n",
              "    </tr>\n",
              "    <tr>\n",
              "      <th>1</th>\n",
              "      <td>-1150524.625</td>\n",
              "      <td>339488.031250</td>\n",
              "      <td>-1</td>\n",
              "    </tr>\n",
              "    <tr>\n",
              "      <th>2</th>\n",
              "      <td>-1212734.750</td>\n",
              "      <td>-151465.937500</td>\n",
              "      <td>-1</td>\n",
              "    </tr>\n",
              "    <tr>\n",
              "      <th>3</th>\n",
              "      <td>-1213052.750</td>\n",
              "      <td>-153968.203125</td>\n",
              "      <td>-1</td>\n",
              "    </tr>\n",
              "    <tr>\n",
              "      <th>4</th>\n",
              "      <td>-1213645.250</td>\n",
              "      <td>-158624.640625</td>\n",
              "      <td>-1</td>\n",
              "    </tr>\n",
              "  </tbody>\n",
              "</table>\n",
              "</div>\n",
              "      <button class=\"colab-df-convert\" onclick=\"convertToInteractive('df-432d8902-790c-428f-8438-0bf71f4804cd')\"\n",
              "              title=\"Convert this dataframe to an interactive table.\"\n",
              "              style=\"display:none;\">\n",
              "        \n",
              "  <svg xmlns=\"http://www.w3.org/2000/svg\" height=\"24px\"viewBox=\"0 0 24 24\"\n",
              "       width=\"24px\">\n",
              "    <path d=\"M0 0h24v24H0V0z\" fill=\"none\"/>\n",
              "    <path d=\"M18.56 5.44l.94 2.06.94-2.06 2.06-.94-2.06-.94-.94-2.06-.94 2.06-2.06.94zm-11 1L8.5 8.5l.94-2.06 2.06-.94-2.06-.94L8.5 2.5l-.94 2.06-2.06.94zm10 10l.94 2.06.94-2.06 2.06-.94-2.06-.94-.94-2.06-.94 2.06-2.06.94z\"/><path d=\"M17.41 7.96l-1.37-1.37c-.4-.4-.92-.59-1.43-.59-.52 0-1.04.2-1.43.59L10.3 9.45l-7.72 7.72c-.78.78-.78 2.05 0 2.83L4 21.41c.39.39.9.59 1.41.59.51 0 1.02-.2 1.41-.59l7.78-7.78 2.81-2.81c.8-.78.8-2.07 0-2.86zM5.41 20L4 18.59l7.72-7.72 1.47 1.35L5.41 20z\"/>\n",
              "  </svg>\n",
              "      </button>\n",
              "      \n",
              "  <style>\n",
              "    .colab-df-container {\n",
              "      display:flex;\n",
              "      flex-wrap:wrap;\n",
              "      gap: 12px;\n",
              "    }\n",
              "\n",
              "    .colab-df-convert {\n",
              "      background-color: #E8F0FE;\n",
              "      border: none;\n",
              "      border-radius: 50%;\n",
              "      cursor: pointer;\n",
              "      display: none;\n",
              "      fill: #1967D2;\n",
              "      height: 32px;\n",
              "      padding: 0 0 0 0;\n",
              "      width: 32px;\n",
              "    }\n",
              "\n",
              "    .colab-df-convert:hover {\n",
              "      background-color: #E2EBFA;\n",
              "      box-shadow: 0px 1px 2px rgba(60, 64, 67, 0.3), 0px 1px 3px 1px rgba(60, 64, 67, 0.15);\n",
              "      fill: #174EA6;\n",
              "    }\n",
              "\n",
              "    [theme=dark] .colab-df-convert {\n",
              "      background-color: #3B4455;\n",
              "      fill: #D2E3FC;\n",
              "    }\n",
              "\n",
              "    [theme=dark] .colab-df-convert:hover {\n",
              "      background-color: #434B5C;\n",
              "      box-shadow: 0px 1px 3px 1px rgba(0, 0, 0, 0.15);\n",
              "      filter: drop-shadow(0px 1px 2px rgba(0, 0, 0, 0.3));\n",
              "      fill: #FFFFFF;\n",
              "    }\n",
              "  </style>\n",
              "\n",
              "      <script>\n",
              "        const buttonEl =\n",
              "          document.querySelector('#df-432d8902-790c-428f-8438-0bf71f4804cd button.colab-df-convert');\n",
              "        buttonEl.style.display =\n",
              "          google.colab.kernel.accessAllowed ? 'block' : 'none';\n",
              "\n",
              "        async function convertToInteractive(key) {\n",
              "          const element = document.querySelector('#df-432d8902-790c-428f-8438-0bf71f4804cd');\n",
              "          const dataTable =\n",
              "            await google.colab.kernel.invokeFunction('convertToInteractive',\n",
              "                                                     [key], {});\n",
              "          if (!dataTable) return;\n",
              "\n",
              "          const docLinkHtml = 'Like what you see? Visit the ' +\n",
              "            '<a target=\"_blank\" href=https://colab.research.google.com/notebooks/data_table.ipynb>data table notebook</a>'\n",
              "            + ' to learn more about interactive tables.';\n",
              "          element.innerHTML = '';\n",
              "          dataTable['output_type'] = 'display_data';\n",
              "          await google.colab.output.renderOutput(dataTable, element);\n",
              "          const docLink = document.createElement('div');\n",
              "          docLink.innerHTML = docLinkHtml;\n",
              "          element.appendChild(docLink);\n",
              "        }\n",
              "      </script>\n",
              "    </div>\n",
              "  </div>\n",
              "  "
            ]
          },
          "metadata": {},
          "execution_count": 55
        }
      ]
    },
    {
      "cell_type": "markdown",
      "source": [
        "### Plotting of data\n",
        "\n",
        "Visualising clusters for the dataset of **tsne_election_df**"
      ],
      "metadata": {
        "id": "j_ovKkqxX4sE"
      }
    },
    {
      "cell_type": "code",
      "source": [
        "tsne_election_df.plot.scatter(0, 1, c=\"election_fit_predict\", cmap='Accent',figsize=(10,5), sharex = False)\n",
        "plt.title(\"Election details\");"
      ],
      "metadata": {
        "colab": {
          "base_uri": "https://localhost:8080/",
          "height": 350
        },
        "id": "aZrEsew-YUBr",
        "outputId": "26088b4d-db48-4827-e391-4f882d9b0876"
      },
      "execution_count": null,
      "outputs": [
        {
          "output_type": "display_data",
          "data": {
            "text/plain": [
              "<Figure size 720x360 with 2 Axes>"
            ],
            "image/png": "[encoded data removed]"
          },
          "metadata": {
            "needs_background": "light"
          }
        }
      ]
    },
    {
      "cell_type": "code",
      "source": [
        "sns.relplot(x = 0, y = 1, hue = election_df.columns);"
      ],
      "metadata": {
        "colab": {
          "base_uri": "https://localhost:8080/",
          "height": 369
        },
        "id": "s9PYZWRmMYlB",
        "outputId": "5b1c5559-1422-4f91-b047-d669a2992f3f"
      },
      "execution_count": null,
      "outputs": [
        {
          "output_type": "display_data",
          "data": {
            "text/plain": [
              "<Figure size 472.875x360 with 1 Axes>"
            ],
            "image/png": "[encoded data removed]"
          },
          "metadata": {
            "needs_background": "light"
          }
        }
      ]
    }
  ]
}